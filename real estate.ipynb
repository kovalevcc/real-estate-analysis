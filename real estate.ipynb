{
 "cells": [
  {
   "cell_type": "markdown",
   "metadata": {
    "toc": true
   },
   "source": [
    "<h1>Содержание<span class=\"tocSkip\"></span></h1>\n",
    "<div class=\"toc\"><ul class=\"toc-item\"><li><span><a href=\"#Изучение-данных-из-файла\" data-toc-modified-id=\"Изучение-данных-из-файла-1\"><span class=\"toc-item-num\">1&nbsp;&nbsp;</span>Изучение данных из файла</a></span><ul class=\"toc-item\"><li><span><a href=\"#Вывод\" data-toc-modified-id=\"Вывод-1.1\"><span class=\"toc-item-num\">1.1&nbsp;&nbsp;</span>Вывод</a></span></li></ul></li><li><span><a href=\"#Предобработка-данных\" data-toc-modified-id=\"Предобработка-данных-2\"><span class=\"toc-item-num\">2&nbsp;&nbsp;</span>Предобработка данных</a></span><ul class=\"toc-item\"><li><span><a href=\"#Изменение-типов-данных\" data-toc-modified-id=\"Изменение-типов-данных-2.1\"><span class=\"toc-item-num\">2.1&nbsp;&nbsp;</span>Изменение типов данных</a></span></li><li><span><a href=\"#Вывод\" data-toc-modified-id=\"Вывод-2.2\"><span class=\"toc-item-num\">2.2&nbsp;&nbsp;</span>Вывод</a></span></li></ul></li><li><span><a href=\"#Расчёты-и-добавление-результатов-в-таблицу\" data-toc-modified-id=\"Расчёты-и-добавление-результатов-в-таблицу-3\"><span class=\"toc-item-num\">3&nbsp;&nbsp;</span>Расчёты и добавление результатов в таблицу</a></span><ul class=\"toc-item\"><li><span><a href=\"#Вывод\" data-toc-modified-id=\"Вывод-3.1\"><span class=\"toc-item-num\">3.1&nbsp;&nbsp;</span>Вывод</a></span></li></ul></li><li><span><a href=\"#Исследовательский-анализ-данных\" data-toc-modified-id=\"Исследовательский-анализ-данных-4\"><span class=\"toc-item-num\">4&nbsp;&nbsp;</span>Исследовательский анализ данных</a></span><ul class=\"toc-item\"><li><span><a href=\"#Ознакомление-с-данными\" data-toc-modified-id=\"Ознакомление-с-данными-4.1\"><span class=\"toc-item-num\">4.1&nbsp;&nbsp;</span>Ознакомление с данными</a></span></li><li><span><a href=\"#Вывод\" data-toc-modified-id=\"Вывод-4.2\"><span class=\"toc-item-num\">4.2&nbsp;&nbsp;</span>Вывод</a></span></li><li><span><a href=\"#Время-продажи-квартиры\" data-toc-modified-id=\"Время-продажи-квартиры-4.3\"><span class=\"toc-item-num\">4.3&nbsp;&nbsp;</span>Время продажи квартиры</a></span></li><li><span><a href=\"#Вывод\" data-toc-modified-id=\"Вывод-4.4\"><span class=\"toc-item-num\">4.4&nbsp;&nbsp;</span>Вывод</a></span></li><li><span><a href=\"#Какие-факторы-влияют\" data-toc-modified-id=\"Какие-факторы-влияют-4.5\"><span class=\"toc-item-num\">4.5&nbsp;&nbsp;</span>Какие факторы влияют</a></span></li><li><span><a href=\"#Вывод\" data-toc-modified-id=\"Вывод-4.6\"><span class=\"toc-item-num\">4.6&nbsp;&nbsp;</span>Вывод</a></span></li><li><span><a href=\"#Изучим-предложения-квартир-в-центре-города\" data-toc-modified-id=\"Изучим-предложения-квартир-в-центре-города-4.7\"><span class=\"toc-item-num\">4.7&nbsp;&nbsp;</span>Изучим предложения квартир в центре города</a></span></li><li><span><a href=\"#Вывод\" data-toc-modified-id=\"Вывод-4.8\"><span class=\"toc-item-num\">4.8&nbsp;&nbsp;</span>Вывод</a></span></li><li><span><a href=\"#Фактолы-влияющие-на-стоимость-квартир-в-центре-города\" data-toc-modified-id=\"Фактолы-влияющие-на-стоимость-квартир-в-центре-города-4.9\"><span class=\"toc-item-num\">4.9&nbsp;&nbsp;</span>Фактолы влияющие на стоимость квартир в центре города</a></span></li><li><span><a href=\"#Вывод\" data-toc-modified-id=\"Вывод-4.10\"><span class=\"toc-item-num\">4.10&nbsp;&nbsp;</span>Вывод</a></span></li></ul></li><li><span><a href=\"#Общий-вывод\" data-toc-modified-id=\"Общий-вывод-5\"><span class=\"toc-item-num\">5&nbsp;&nbsp;</span>Общий вывод</a></span></li><li><span><a href=\"#Чек-лист-готовности-проекта\" data-toc-modified-id=\"Чек-лист-готовности-проекта-6\"><span class=\"toc-item-num\">6&nbsp;&nbsp;</span>Чек-лист готовности проекта</a></span></li></ul></div>"
   ]
  },
  {
   "cell_type": "markdown",
   "metadata": {},
   "source": [
    "# Исследование объявлений о продаже квартир\n",
    "\n",
    "В вашем распоряжении данные сервиса Яндекс.Недвижимость — архив объявлений о продаже квартир в Санкт-Петербурге и соседних населённых пунктах за несколько лет. Нужно научиться определять рыночную стоимость объектов недвижимости. Ваша задача — установить параметры. Это позволит построить автоматизированную систему: она отследит аномалии и мошенническую деятельность. \n",
    "\n",
    "По каждой квартире на продажу доступны два вида данных. Первые вписаны пользователем, вторые получены автоматически на основе картографических данных. Например, расстояние до центра, аэропорта, ближайшего парка и водоёма. "
   ]
  },
  {
   "cell_type": "markdown",
   "metadata": {},
   "source": [
    "## Изучение данных из файла"
   ]
  },
  {
   "cell_type": "code",
   "execution_count": 1,
   "metadata": {},
   "outputs": [],
   "source": [
    "#Импортируем необходимые библиотеки\n",
    "import pandas as pd\n",
    "import matplotlib.pyplot as plt\n",
    "import seaborn as sns\n",
    "import numpy as np\n",
    "import warnings\n",
    "warnings.filterwarnings(\"ignore\")"
   ]
  },
  {
   "cell_type": "code",
   "execution_count": 2,
   "metadata": {},
   "outputs": [],
   "source": [
    "pd.options.display.float_format = '{: .2f}'.format # устанавливаем формат отображения чисел в нормальной форме (не экспотенциальной)"
   ]
  },
  {
   "cell_type": "code",
   "execution_count": 3,
   "metadata": {},
   "outputs": [],
   "source": [
    "df = pd.read_csv('/datasets/real_estate_data.csv',sep='\\t') # данные разделены разделителем /t"
   ]
  },
  {
   "cell_type": "markdown",
   "metadata": {},
   "source": [
    "Ознакомимся с данными"
   ]
  },
  {
   "cell_type": "code",
   "execution_count": 4,
   "metadata": {},
   "outputs": [
    {
     "data": {
      "text/html": [
       "<div>\n",
       "<style scoped>\n",
       "    .dataframe tbody tr th:only-of-type {\n",
       "        vertical-align: middle;\n",
       "    }\n",
       "\n",
       "    .dataframe tbody tr th {\n",
       "        vertical-align: top;\n",
       "    }\n",
       "\n",
       "    .dataframe thead th {\n",
       "        text-align: right;\n",
       "    }\n",
       "</style>\n",
       "<table border=\"1\" class=\"dataframe\">\n",
       "  <thead>\n",
       "    <tr style=\"text-align: right;\">\n",
       "      <th></th>\n",
       "      <th>total_images</th>\n",
       "      <th>last_price</th>\n",
       "      <th>total_area</th>\n",
       "      <th>first_day_exposition</th>\n",
       "      <th>rooms</th>\n",
       "      <th>ceiling_height</th>\n",
       "      <th>floors_total</th>\n",
       "      <th>living_area</th>\n",
       "      <th>floor</th>\n",
       "      <th>is_apartment</th>\n",
       "      <th>...</th>\n",
       "      <th>kitchen_area</th>\n",
       "      <th>balcony</th>\n",
       "      <th>locality_name</th>\n",
       "      <th>airports_nearest</th>\n",
       "      <th>cityCenters_nearest</th>\n",
       "      <th>parks_around3000</th>\n",
       "      <th>parks_nearest</th>\n",
       "      <th>ponds_around3000</th>\n",
       "      <th>ponds_nearest</th>\n",
       "      <th>days_exposition</th>\n",
       "    </tr>\n",
       "  </thead>\n",
       "  <tbody>\n",
       "    <tr>\n",
       "      <td>0</td>\n",
       "      <td>20</td>\n",
       "      <td>13000000.00</td>\n",
       "      <td>108.00</td>\n",
       "      <td>2019-03-07T00:00:00</td>\n",
       "      <td>3</td>\n",
       "      <td>2.70</td>\n",
       "      <td>16.00</td>\n",
       "      <td>51.00</td>\n",
       "      <td>8</td>\n",
       "      <td>NaN</td>\n",
       "      <td>...</td>\n",
       "      <td>25.00</td>\n",
       "      <td>nan</td>\n",
       "      <td>Санкт-Петербург</td>\n",
       "      <td>18863.00</td>\n",
       "      <td>16028.00</td>\n",
       "      <td>1.00</td>\n",
       "      <td>482.00</td>\n",
       "      <td>2.00</td>\n",
       "      <td>755.00</td>\n",
       "      <td>nan</td>\n",
       "    </tr>\n",
       "    <tr>\n",
       "      <td>1</td>\n",
       "      <td>7</td>\n",
       "      <td>3350000.00</td>\n",
       "      <td>40.40</td>\n",
       "      <td>2018-12-04T00:00:00</td>\n",
       "      <td>1</td>\n",
       "      <td>nan</td>\n",
       "      <td>11.00</td>\n",
       "      <td>18.60</td>\n",
       "      <td>1</td>\n",
       "      <td>NaN</td>\n",
       "      <td>...</td>\n",
       "      <td>11.00</td>\n",
       "      <td>2.00</td>\n",
       "      <td>посёлок Шушары</td>\n",
       "      <td>12817.00</td>\n",
       "      <td>18603.00</td>\n",
       "      <td>0.00</td>\n",
       "      <td>nan</td>\n",
       "      <td>0.00</td>\n",
       "      <td>nan</td>\n",
       "      <td>81.00</td>\n",
       "    </tr>\n",
       "    <tr>\n",
       "      <td>2</td>\n",
       "      <td>10</td>\n",
       "      <td>5196000.00</td>\n",
       "      <td>56.00</td>\n",
       "      <td>2015-08-20T00:00:00</td>\n",
       "      <td>2</td>\n",
       "      <td>nan</td>\n",
       "      <td>5.00</td>\n",
       "      <td>34.30</td>\n",
       "      <td>4</td>\n",
       "      <td>NaN</td>\n",
       "      <td>...</td>\n",
       "      <td>8.30</td>\n",
       "      <td>0.00</td>\n",
       "      <td>Санкт-Петербург</td>\n",
       "      <td>21741.00</td>\n",
       "      <td>13933.00</td>\n",
       "      <td>1.00</td>\n",
       "      <td>90.00</td>\n",
       "      <td>2.00</td>\n",
       "      <td>574.00</td>\n",
       "      <td>558.00</td>\n",
       "    </tr>\n",
       "    <tr>\n",
       "      <td>3</td>\n",
       "      <td>0</td>\n",
       "      <td>64900000.00</td>\n",
       "      <td>159.00</td>\n",
       "      <td>2015-07-24T00:00:00</td>\n",
       "      <td>3</td>\n",
       "      <td>nan</td>\n",
       "      <td>14.00</td>\n",
       "      <td>nan</td>\n",
       "      <td>9</td>\n",
       "      <td>NaN</td>\n",
       "      <td>...</td>\n",
       "      <td>nan</td>\n",
       "      <td>0.00</td>\n",
       "      <td>Санкт-Петербург</td>\n",
       "      <td>28098.00</td>\n",
       "      <td>6800.00</td>\n",
       "      <td>2.00</td>\n",
       "      <td>84.00</td>\n",
       "      <td>3.00</td>\n",
       "      <td>234.00</td>\n",
       "      <td>424.00</td>\n",
       "    </tr>\n",
       "    <tr>\n",
       "      <td>4</td>\n",
       "      <td>2</td>\n",
       "      <td>10000000.00</td>\n",
       "      <td>100.00</td>\n",
       "      <td>2018-06-19T00:00:00</td>\n",
       "      <td>2</td>\n",
       "      <td>3.03</td>\n",
       "      <td>14.00</td>\n",
       "      <td>32.00</td>\n",
       "      <td>13</td>\n",
       "      <td>NaN</td>\n",
       "      <td>...</td>\n",
       "      <td>41.00</td>\n",
       "      <td>nan</td>\n",
       "      <td>Санкт-Петербург</td>\n",
       "      <td>31856.00</td>\n",
       "      <td>8098.00</td>\n",
       "      <td>2.00</td>\n",
       "      <td>112.00</td>\n",
       "      <td>1.00</td>\n",
       "      <td>48.00</td>\n",
       "      <td>121.00</td>\n",
       "    </tr>\n",
       "  </tbody>\n",
       "</table>\n",
       "<p>5 rows × 22 columns</p>\n",
       "</div>"
      ],
      "text/plain": [
       "   total_images   last_price  total_area first_day_exposition  rooms  \\\n",
       "0            20  13000000.00      108.00  2019-03-07T00:00:00      3   \n",
       "1             7   3350000.00       40.40  2018-12-04T00:00:00      1   \n",
       "2            10   5196000.00       56.00  2015-08-20T00:00:00      2   \n",
       "3             0  64900000.00      159.00  2015-07-24T00:00:00      3   \n",
       "4             2  10000000.00      100.00  2018-06-19T00:00:00      2   \n",
       "\n",
       "   ceiling_height  floors_total  living_area  floor is_apartment  ...  \\\n",
       "0            2.70         16.00        51.00      8          NaN  ...   \n",
       "1             nan         11.00        18.60      1          NaN  ...   \n",
       "2             nan          5.00        34.30      4          NaN  ...   \n",
       "3             nan         14.00          nan      9          NaN  ...   \n",
       "4            3.03         14.00        32.00     13          NaN  ...   \n",
       "\n",
       "   kitchen_area  balcony    locality_name  airports_nearest  \\\n",
       "0         25.00      nan  Санкт-Петербург          18863.00   \n",
       "1         11.00     2.00   посёлок Шушары          12817.00   \n",
       "2          8.30     0.00  Санкт-Петербург          21741.00   \n",
       "3           nan     0.00  Санкт-Петербург          28098.00   \n",
       "4         41.00      nan  Санкт-Петербург          31856.00   \n",
       "\n",
       "  cityCenters_nearest  parks_around3000  parks_nearest  ponds_around3000  \\\n",
       "0            16028.00              1.00         482.00              2.00   \n",
       "1            18603.00              0.00            nan              0.00   \n",
       "2            13933.00              1.00          90.00              2.00   \n",
       "3             6800.00              2.00          84.00              3.00   \n",
       "4             8098.00              2.00         112.00              1.00   \n",
       "\n",
       "   ponds_nearest  days_exposition  \n",
       "0         755.00              nan  \n",
       "1            nan            81.00  \n",
       "2         574.00           558.00  \n",
       "3         234.00           424.00  \n",
       "4          48.00           121.00  \n",
       "\n",
       "[5 rows x 22 columns]"
      ]
     },
     "execution_count": 4,
     "metadata": {},
     "output_type": "execute_result"
    }
   ],
   "source": [
    "df.head(5)"
   ]
  },
  {
   "cell_type": "code",
   "execution_count": 5,
   "metadata": {},
   "outputs": [
    {
     "data": {
      "text/html": [
       "<div>\n",
       "<style scoped>\n",
       "    .dataframe tbody tr th:only-of-type {\n",
       "        vertical-align: middle;\n",
       "    }\n",
       "\n",
       "    .dataframe tbody tr th {\n",
       "        vertical-align: top;\n",
       "    }\n",
       "\n",
       "    .dataframe thead th {\n",
       "        text-align: right;\n",
       "    }\n",
       "</style>\n",
       "<table border=\"1\" class=\"dataframe\">\n",
       "  <thead>\n",
       "    <tr style=\"text-align: right;\">\n",
       "      <th></th>\n",
       "      <th>total_images</th>\n",
       "      <th>last_price</th>\n",
       "      <th>total_area</th>\n",
       "      <th>first_day_exposition</th>\n",
       "      <th>rooms</th>\n",
       "      <th>ceiling_height</th>\n",
       "      <th>floors_total</th>\n",
       "      <th>living_area</th>\n",
       "      <th>floor</th>\n",
       "      <th>is_apartment</th>\n",
       "      <th>...</th>\n",
       "      <th>kitchen_area</th>\n",
       "      <th>balcony</th>\n",
       "      <th>locality_name</th>\n",
       "      <th>airports_nearest</th>\n",
       "      <th>cityCenters_nearest</th>\n",
       "      <th>parks_around3000</th>\n",
       "      <th>parks_nearest</th>\n",
       "      <th>ponds_around3000</th>\n",
       "      <th>ponds_nearest</th>\n",
       "      <th>days_exposition</th>\n",
       "    </tr>\n",
       "  </thead>\n",
       "  <tbody>\n",
       "    <tr>\n",
       "      <td>19294</td>\n",
       "      <td>7</td>\n",
       "      <td>2558000.00</td>\n",
       "      <td>44.11</td>\n",
       "      <td>2017-10-01T00:00:00</td>\n",
       "      <td>1</td>\n",
       "      <td>nan</td>\n",
       "      <td>3.00</td>\n",
       "      <td>25.20</td>\n",
       "      <td>3</td>\n",
       "      <td>NaN</td>\n",
       "      <td>...</td>\n",
       "      <td>6.20</td>\n",
       "      <td>nan</td>\n",
       "      <td>поселок Романовка</td>\n",
       "      <td>nan</td>\n",
       "      <td>nan</td>\n",
       "      <td>nan</td>\n",
       "      <td>nan</td>\n",
       "      <td>nan</td>\n",
       "      <td>nan</td>\n",
       "      <td>103.00</td>\n",
       "    </tr>\n",
       "    <tr>\n",
       "      <td>20087</td>\n",
       "      <td>19</td>\n",
       "      <td>7280000.00</td>\n",
       "      <td>63.00</td>\n",
       "      <td>2016-12-28T00:00:00</td>\n",
       "      <td>3</td>\n",
       "      <td>3.00</td>\n",
       "      <td>5.00</td>\n",
       "      <td>42.90</td>\n",
       "      <td>3</td>\n",
       "      <td>NaN</td>\n",
       "      <td>...</td>\n",
       "      <td>8.00</td>\n",
       "      <td>nan</td>\n",
       "      <td>Санкт-Петербург</td>\n",
       "      <td>27476.00</td>\n",
       "      <td>9364.00</td>\n",
       "      <td>0.00</td>\n",
       "      <td>nan</td>\n",
       "      <td>2.00</td>\n",
       "      <td>284.00</td>\n",
       "      <td>661.00</td>\n",
       "    </tr>\n",
       "    <tr>\n",
       "      <td>17481</td>\n",
       "      <td>9</td>\n",
       "      <td>3900000.00</td>\n",
       "      <td>49.00</td>\n",
       "      <td>2018-10-30T00:00:00</td>\n",
       "      <td>4</td>\n",
       "      <td>2.50</td>\n",
       "      <td>5.00</td>\n",
       "      <td>40.00</td>\n",
       "      <td>1</td>\n",
       "      <td>NaN</td>\n",
       "      <td>...</td>\n",
       "      <td>5.00</td>\n",
       "      <td>nan</td>\n",
       "      <td>Санкт-Петербург</td>\n",
       "      <td>17592.00</td>\n",
       "      <td>12366.00</td>\n",
       "      <td>0.00</td>\n",
       "      <td>nan</td>\n",
       "      <td>0.00</td>\n",
       "      <td>nan</td>\n",
       "      <td>30.00</td>\n",
       "    </tr>\n",
       "    <tr>\n",
       "      <td>18723</td>\n",
       "      <td>18</td>\n",
       "      <td>3600000.00</td>\n",
       "      <td>63.10</td>\n",
       "      <td>2017-09-11T00:00:00</td>\n",
       "      <td>3</td>\n",
       "      <td>nan</td>\n",
       "      <td>12.00</td>\n",
       "      <td>39.10</td>\n",
       "      <td>7</td>\n",
       "      <td>NaN</td>\n",
       "      <td>...</td>\n",
       "      <td>7.90</td>\n",
       "      <td>0.00</td>\n",
       "      <td>Тосно</td>\n",
       "      <td>nan</td>\n",
       "      <td>nan</td>\n",
       "      <td>nan</td>\n",
       "      <td>nan</td>\n",
       "      <td>nan</td>\n",
       "      <td>nan</td>\n",
       "      <td>45.00</td>\n",
       "    </tr>\n",
       "    <tr>\n",
       "      <td>5999</td>\n",
       "      <td>18</td>\n",
       "      <td>5830000.00</td>\n",
       "      <td>60.70</td>\n",
       "      <td>2017-11-10T00:00:00</td>\n",
       "      <td>3</td>\n",
       "      <td>nan</td>\n",
       "      <td>5.00</td>\n",
       "      <td>45.20</td>\n",
       "      <td>3</td>\n",
       "      <td>NaN</td>\n",
       "      <td>...</td>\n",
       "      <td>6.80</td>\n",
       "      <td>nan</td>\n",
       "      <td>Санкт-Петербург</td>\n",
       "      <td>19114.00</td>\n",
       "      <td>10645.00</td>\n",
       "      <td>0.00</td>\n",
       "      <td>nan</td>\n",
       "      <td>1.00</td>\n",
       "      <td>658.00</td>\n",
       "      <td>nan</td>\n",
       "    </tr>\n",
       "  </tbody>\n",
       "</table>\n",
       "<p>5 rows × 22 columns</p>\n",
       "</div>"
      ],
      "text/plain": [
       "       total_images  last_price  total_area first_day_exposition  rooms  \\\n",
       "19294             7  2558000.00       44.11  2017-10-01T00:00:00      1   \n",
       "20087            19  7280000.00       63.00  2016-12-28T00:00:00      3   \n",
       "17481             9  3900000.00       49.00  2018-10-30T00:00:00      4   \n",
       "18723            18  3600000.00       63.10  2017-09-11T00:00:00      3   \n",
       "5999             18  5830000.00       60.70  2017-11-10T00:00:00      3   \n",
       "\n",
       "       ceiling_height  floors_total  living_area  floor is_apartment  ...  \\\n",
       "19294             nan          3.00        25.20      3          NaN  ...   \n",
       "20087            3.00          5.00        42.90      3          NaN  ...   \n",
       "17481            2.50          5.00        40.00      1          NaN  ...   \n",
       "18723             nan         12.00        39.10      7          NaN  ...   \n",
       "5999              nan          5.00        45.20      3          NaN  ...   \n",
       "\n",
       "       kitchen_area  balcony      locality_name  airports_nearest  \\\n",
       "19294          6.20      nan  поселок Романовка               nan   \n",
       "20087          8.00      nan    Санкт-Петербург          27476.00   \n",
       "17481          5.00      nan    Санкт-Петербург          17592.00   \n",
       "18723          7.90     0.00              Тосно               nan   \n",
       "5999           6.80      nan    Санкт-Петербург          19114.00   \n",
       "\n",
       "      cityCenters_nearest  parks_around3000  parks_nearest  ponds_around3000  \\\n",
       "19294                 nan               nan            nan               nan   \n",
       "20087             9364.00              0.00            nan              2.00   \n",
       "17481            12366.00              0.00            nan              0.00   \n",
       "18723                 nan               nan            nan               nan   \n",
       "5999             10645.00              0.00            nan              1.00   \n",
       "\n",
       "       ponds_nearest  days_exposition  \n",
       "19294            nan           103.00  \n",
       "20087         284.00           661.00  \n",
       "17481            nan            30.00  \n",
       "18723            nan            45.00  \n",
       "5999          658.00              nan  \n",
       "\n",
       "[5 rows x 22 columns]"
      ]
     },
     "execution_count": 5,
     "metadata": {},
     "output_type": "execute_result"
    }
   ],
   "source": [
    "df.sample(5)"
   ]
  },
  {
   "cell_type": "code",
   "execution_count": 6,
   "metadata": {
    "scrolled": true
   },
   "outputs": [
    {
     "data": {
      "text/html": [
       "<div>\n",
       "<style scoped>\n",
       "    .dataframe tbody tr th:only-of-type {\n",
       "        vertical-align: middle;\n",
       "    }\n",
       "\n",
       "    .dataframe tbody tr th {\n",
       "        vertical-align: top;\n",
       "    }\n",
       "\n",
       "    .dataframe thead th {\n",
       "        text-align: right;\n",
       "    }\n",
       "</style>\n",
       "<table border=\"1\" class=\"dataframe\">\n",
       "  <thead>\n",
       "    <tr style=\"text-align: right;\">\n",
       "      <th></th>\n",
       "      <th>total_images</th>\n",
       "      <th>last_price</th>\n",
       "      <th>total_area</th>\n",
       "      <th>rooms</th>\n",
       "      <th>ceiling_height</th>\n",
       "      <th>floors_total</th>\n",
       "      <th>living_area</th>\n",
       "      <th>floor</th>\n",
       "      <th>kitchen_area</th>\n",
       "      <th>balcony</th>\n",
       "      <th>airports_nearest</th>\n",
       "      <th>cityCenters_nearest</th>\n",
       "      <th>parks_around3000</th>\n",
       "      <th>parks_nearest</th>\n",
       "      <th>ponds_around3000</th>\n",
       "      <th>ponds_nearest</th>\n",
       "      <th>days_exposition</th>\n",
       "    </tr>\n",
       "  </thead>\n",
       "  <tbody>\n",
       "    <tr>\n",
       "      <td>count</td>\n",
       "      <td>23699.00</td>\n",
       "      <td>23699.00</td>\n",
       "      <td>23699.00</td>\n",
       "      <td>23699.00</td>\n",
       "      <td>14504.00</td>\n",
       "      <td>23613.00</td>\n",
       "      <td>21796.00</td>\n",
       "      <td>23699.00</td>\n",
       "      <td>21421.00</td>\n",
       "      <td>12180.00</td>\n",
       "      <td>18157.00</td>\n",
       "      <td>18180.00</td>\n",
       "      <td>18181.00</td>\n",
       "      <td>8079.00</td>\n",
       "      <td>18181.00</td>\n",
       "      <td>9110.00</td>\n",
       "      <td>20518.00</td>\n",
       "    </tr>\n",
       "    <tr>\n",
       "      <td>mean</td>\n",
       "      <td>9.86</td>\n",
       "      <td>6541548.77</td>\n",
       "      <td>60.35</td>\n",
       "      <td>2.07</td>\n",
       "      <td>2.77</td>\n",
       "      <td>10.67</td>\n",
       "      <td>34.46</td>\n",
       "      <td>5.89</td>\n",
       "      <td>10.57</td>\n",
       "      <td>1.15</td>\n",
       "      <td>28793.67</td>\n",
       "      <td>14191.28</td>\n",
       "      <td>0.61</td>\n",
       "      <td>490.80</td>\n",
       "      <td>0.77</td>\n",
       "      <td>517.98</td>\n",
       "      <td>180.89</td>\n",
       "    </tr>\n",
       "    <tr>\n",
       "      <td>std</td>\n",
       "      <td>5.68</td>\n",
       "      <td>10887013.27</td>\n",
       "      <td>35.65</td>\n",
       "      <td>1.08</td>\n",
       "      <td>1.26</td>\n",
       "      <td>6.60</td>\n",
       "      <td>22.03</td>\n",
       "      <td>4.89</td>\n",
       "      <td>5.91</td>\n",
       "      <td>1.07</td>\n",
       "      <td>12630.88</td>\n",
       "      <td>8608.39</td>\n",
       "      <td>0.80</td>\n",
       "      <td>342.32</td>\n",
       "      <td>0.94</td>\n",
       "      <td>277.72</td>\n",
       "      <td>219.73</td>\n",
       "    </tr>\n",
       "    <tr>\n",
       "      <td>min</td>\n",
       "      <td>0.00</td>\n",
       "      <td>12190.00</td>\n",
       "      <td>12.00</td>\n",
       "      <td>0.00</td>\n",
       "      <td>1.00</td>\n",
       "      <td>1.00</td>\n",
       "      <td>2.00</td>\n",
       "      <td>1.00</td>\n",
       "      <td>1.30</td>\n",
       "      <td>0.00</td>\n",
       "      <td>0.00</td>\n",
       "      <td>181.00</td>\n",
       "      <td>0.00</td>\n",
       "      <td>1.00</td>\n",
       "      <td>0.00</td>\n",
       "      <td>13.00</td>\n",
       "      <td>1.00</td>\n",
       "    </tr>\n",
       "    <tr>\n",
       "      <td>25%</td>\n",
       "      <td>6.00</td>\n",
       "      <td>3400000.00</td>\n",
       "      <td>40.00</td>\n",
       "      <td>1.00</td>\n",
       "      <td>2.52</td>\n",
       "      <td>5.00</td>\n",
       "      <td>18.60</td>\n",
       "      <td>2.00</td>\n",
       "      <td>7.00</td>\n",
       "      <td>0.00</td>\n",
       "      <td>18585.00</td>\n",
       "      <td>9238.00</td>\n",
       "      <td>0.00</td>\n",
       "      <td>288.00</td>\n",
       "      <td>0.00</td>\n",
       "      <td>294.00</td>\n",
       "      <td>45.00</td>\n",
       "    </tr>\n",
       "    <tr>\n",
       "      <td>50%</td>\n",
       "      <td>9.00</td>\n",
       "      <td>4650000.00</td>\n",
       "      <td>52.00</td>\n",
       "      <td>2.00</td>\n",
       "      <td>2.65</td>\n",
       "      <td>9.00</td>\n",
       "      <td>30.00</td>\n",
       "      <td>4.00</td>\n",
       "      <td>9.10</td>\n",
       "      <td>1.00</td>\n",
       "      <td>26726.00</td>\n",
       "      <td>13098.50</td>\n",
       "      <td>0.00</td>\n",
       "      <td>455.00</td>\n",
       "      <td>1.00</td>\n",
       "      <td>502.00</td>\n",
       "      <td>95.00</td>\n",
       "    </tr>\n",
       "    <tr>\n",
       "      <td>75%</td>\n",
       "      <td>14.00</td>\n",
       "      <td>6800000.00</td>\n",
       "      <td>69.90</td>\n",
       "      <td>3.00</td>\n",
       "      <td>2.80</td>\n",
       "      <td>16.00</td>\n",
       "      <td>42.30</td>\n",
       "      <td>8.00</td>\n",
       "      <td>12.00</td>\n",
       "      <td>2.00</td>\n",
       "      <td>37273.00</td>\n",
       "      <td>16293.00</td>\n",
       "      <td>1.00</td>\n",
       "      <td>612.00</td>\n",
       "      <td>1.00</td>\n",
       "      <td>729.00</td>\n",
       "      <td>232.00</td>\n",
       "    </tr>\n",
       "    <tr>\n",
       "      <td>max</td>\n",
       "      <td>50.00</td>\n",
       "      <td>763000000.00</td>\n",
       "      <td>900.00</td>\n",
       "      <td>19.00</td>\n",
       "      <td>100.00</td>\n",
       "      <td>60.00</td>\n",
       "      <td>409.70</td>\n",
       "      <td>33.00</td>\n",
       "      <td>112.00</td>\n",
       "      <td>5.00</td>\n",
       "      <td>84869.00</td>\n",
       "      <td>65968.00</td>\n",
       "      <td>3.00</td>\n",
       "      <td>3190.00</td>\n",
       "      <td>3.00</td>\n",
       "      <td>1344.00</td>\n",
       "      <td>1580.00</td>\n",
       "    </tr>\n",
       "  </tbody>\n",
       "</table>\n",
       "</div>"
      ],
      "text/plain": [
       "       total_images    last_price  total_area     rooms  ceiling_height  \\\n",
       "count      23699.00      23699.00    23699.00  23699.00        14504.00   \n",
       "mean           9.86    6541548.77       60.35      2.07            2.77   \n",
       "std            5.68   10887013.27       35.65      1.08            1.26   \n",
       "min            0.00      12190.00       12.00      0.00            1.00   \n",
       "25%            6.00    3400000.00       40.00      1.00            2.52   \n",
       "50%            9.00    4650000.00       52.00      2.00            2.65   \n",
       "75%           14.00    6800000.00       69.90      3.00            2.80   \n",
       "max           50.00  763000000.00      900.00     19.00          100.00   \n",
       "\n",
       "       floors_total  living_area     floor  kitchen_area   balcony  \\\n",
       "count      23613.00     21796.00  23699.00      21421.00  12180.00   \n",
       "mean          10.67        34.46      5.89         10.57      1.15   \n",
       "std            6.60        22.03      4.89          5.91      1.07   \n",
       "min            1.00         2.00      1.00          1.30      0.00   \n",
       "25%            5.00        18.60      2.00          7.00      0.00   \n",
       "50%            9.00        30.00      4.00          9.10      1.00   \n",
       "75%           16.00        42.30      8.00         12.00      2.00   \n",
       "max           60.00       409.70     33.00        112.00      5.00   \n",
       "\n",
       "       airports_nearest  cityCenters_nearest  parks_around3000  parks_nearest  \\\n",
       "count          18157.00             18180.00          18181.00        8079.00   \n",
       "mean           28793.67             14191.28              0.61         490.80   \n",
       "std            12630.88              8608.39              0.80         342.32   \n",
       "min                0.00               181.00              0.00           1.00   \n",
       "25%            18585.00              9238.00              0.00         288.00   \n",
       "50%            26726.00             13098.50              0.00         455.00   \n",
       "75%            37273.00             16293.00              1.00         612.00   \n",
       "max            84869.00             65968.00              3.00        3190.00   \n",
       "\n",
       "       ponds_around3000  ponds_nearest  days_exposition  \n",
       "count          18181.00        9110.00         20518.00  \n",
       "mean               0.77         517.98           180.89  \n",
       "std                0.94         277.72           219.73  \n",
       "min                0.00          13.00             1.00  \n",
       "25%                0.00         294.00            45.00  \n",
       "50%                1.00         502.00            95.00  \n",
       "75%                1.00         729.00           232.00  \n",
       "max                3.00        1344.00          1580.00  "
      ]
     },
     "execution_count": 6,
     "metadata": {},
     "output_type": "execute_result"
    }
   ],
   "source": [
    "df.describe()"
   ]
  },
  {
   "cell_type": "code",
   "execution_count": 7,
   "metadata": {
    "scrolled": false
   },
   "outputs": [
    {
     "name": "stdout",
     "output_type": "stream",
     "text": [
      "<class 'pandas.core.frame.DataFrame'>\n",
      "RangeIndex: 23699 entries, 0 to 23698\n",
      "Data columns (total 22 columns):\n",
      "total_images            23699 non-null int64\n",
      "last_price              23699 non-null float64\n",
      "total_area              23699 non-null float64\n",
      "first_day_exposition    23699 non-null object\n",
      "rooms                   23699 non-null int64\n",
      "ceiling_height          14504 non-null float64\n",
      "floors_total            23613 non-null float64\n",
      "living_area             21796 non-null float64\n",
      "floor                   23699 non-null int64\n",
      "is_apartment            2775 non-null object\n",
      "studio                  23699 non-null bool\n",
      "open_plan               23699 non-null bool\n",
      "kitchen_area            21421 non-null float64\n",
      "balcony                 12180 non-null float64\n",
      "locality_name           23650 non-null object\n",
      "airports_nearest        18157 non-null float64\n",
      "cityCenters_nearest     18180 non-null float64\n",
      "parks_around3000        18181 non-null float64\n",
      "parks_nearest           8079 non-null float64\n",
      "ponds_around3000        18181 non-null float64\n",
      "ponds_nearest           9110 non-null float64\n",
      "days_exposition         20518 non-null float64\n",
      "dtypes: bool(2), float64(14), int64(3), object(3)\n",
      "memory usage: 3.7+ MB\n"
     ]
    }
   ],
   "source": [
    "df.info()"
   ]
  },
  {
   "cell_type": "markdown",
   "metadata": {},
   "source": [
    "Ознакомимся с уникальными значениями во всех столбцах"
   ]
  },
  {
   "cell_type": "code",
   "execution_count": 8,
   "metadata": {},
   "outputs": [
    {
     "name": "stdout",
     "output_type": "stream",
     "text": [
      "колонка total_images [20  7 10  0  2  6  5 18  9  1 16 11  8 12 13  3 15 17 14 19 32  4 35 39\n",
      " 23 21 27 30 24 25 28 31 22 29 26 50 42 37]\n",
      "колонка last_price [13000000.  3350000.  5196000. ...  6151120. 21400000. 11475000.]\n",
      "колонка total_area [108.    40.4   56.   ...  66.86 133.81  76.75]\n",
      "колонка first_day_exposition ['2019-03-07T00:00:00' '2018-12-04T00:00:00' '2015-08-20T00:00:00' ...\n",
      " '2014-12-29T00:00:00' '2016-09-12T00:00:00' '2015-07-19T00:00:00']\n",
      "колонка rooms [ 3  1  2  4  5  6  0  7 11  8 14 10 15  9 19 16 12]\n",
      "колонка ceiling_height [  2.7     nan   3.03   2.5    2.67   2.56   3.05   2.75   2.6    2.9\n",
      "   2.8    2.55   3.     2.65   3.2    2.61   3.25   3.45   2.77   2.85\n",
      "   2.64   2.57   4.15   3.5    3.3    2.71   4.     2.47   2.73   2.84\n",
      "   3.1    2.34   3.4    3.06   2.72   2.54   2.51   2.78   2.76  25.\n",
      "   2.58   3.7    2.52   5.2    2.87   2.66   2.59   2.     2.45   3.6\n",
      "   2.92   3.11   3.13   3.8    3.15   3.55   3.16   3.62   3.12   2.53\n",
      "   2.74   2.96   2.46   5.3    5.     2.79   2.95   4.06   2.94   3.82\n",
      "   3.54   3.53   2.83   4.7    2.4    3.38   3.01   5.6    3.65   3.9\n",
      "   3.18   3.35   2.3    3.57   2.48   2.62   2.82   3.98   2.63   3.83\n",
      "   3.52   3.95   3.75   2.88   3.67   3.87   3.66   3.85   3.86   4.19\n",
      "   3.24   4.8    4.5    4.2    3.36  32.     3.08   3.68   3.07   3.37\n",
      "   3.09   8.     3.26   3.34   2.81   3.44   2.97   3.14   4.37   2.68\n",
      "   3.22   3.27  27.     4.1    2.93   3.46  24.     3.47   3.33   3.63\n",
      "   3.32  26.     1.2    8.3    2.98   2.86   3.17   4.4    3.28   3.04\n",
      "   4.45   5.5    3.84   3.23   3.02   3.21   3.43   3.78   4.3    3.39\n",
      "   2.69   3.31   4.65   3.56   2.2    3.51   3.93   3.42   2.99   3.49\n",
      "  14.     4.14   2.91   3.88   1.75   4.25   3.29  20.     2.25   3.76\n",
      "   3.69   6.    22.6    2.89   3.58   5.8   27.5    2.49   4.9    3.48\n",
      "  10.3    1.   100.     3.59]\n",
      "колонка floors_total [16. 11.  5. 14. 12. 26. 24. 27.  9.  6. 17. 25.  3. 23. 19. 18.  4. 22.\n",
      "  8.  2. 10.  7. 13. 15. nan 20. 28. 36. 21. 35. 34. 60.  1. 29. 33. 52.\n",
      " 37.]\n",
      "колонка living_area [51.   18.6  34.3  ... 31.65 13.59 42.55]\n",
      "колонка floor [ 8  1  4  9 13  5  6 22 26  7  3  2 11 15 18 10 19 16 20 27 25 17 14 12\n",
      " 21 28 24 23 30 29 32 33 31]\n",
      "колонка is_apartment [nan False True]\n",
      "колонка studio [False  True]\n",
      "колонка open_plan [False  True]\n",
      "колонка kitchen_area [ 25.    11.     8.3     nan  41.     9.1   14.4   18.9    8.81   6.5\n",
      "   8.5    6.     9.     5.2    8.     7.6    5.6   12.     5.7    6.1\n",
      "  19.6   15.     7.     9.2   11.7   13.4   17.     6.3   11.6    8.8\n",
      "  10.    17.6    7.5    9.5   50.    15.5   10.7   11.1   20.    11.9\n",
      "  16.     5.3   11.5    7.2    6.2   10.4    7.1    4.9    7.3   11.95\n",
      "  10.2    6.4    5.5   13.     8.4   23.6   10.8   18.3    5.     8.2\n",
      "  24.    23.8    6.6   26.85  15.4    7.8   33.8    5.4   12.72  12.2\n",
      "  19.    12.4    7.9   10.3    9.8   17.5   14.7   20.91  21.3   10.6\n",
      "  10.9    9.7    7.7   12.5   11.4    8.6   11.24  14.1   15.7   13.29\n",
      "  14.    12.9   12.7   16.5    9.36  21.5   35.    10.5    8.7   19.3\n",
      "  21.4   40.    49.2   11.52   8.9    9.6   30.    14.2    8.1   10.44\n",
      "   4.5   16.3   11.2   18.4    7.4   11.3    9.4   13.1   10.19   7.06\n",
      "  22.    36.     5.1   18.7    9.9   14.3   18.    23.    19.4   11.8\n",
      "  13.3   17.7   23.1   10.63  21.1   11.33  13.5   19.5   13.2   17.2\n",
      "  77.    13.8   12.3    9.3    5.8   26.1   12.88   9.28  16.1   14.5\n",
      "  31.     5.9   10.1   23.4   16.2   19.2   28.6   15.1   26.4    8.98\n",
      "  10.59  17.9   16.8   11.27  16.74   9.57  23.43  15.2    8.07  12.24\n",
      "  13.39  36.6   10.84  15.3   18.5   23.9   19.7   19.9   22.1   10.35\n",
      "  10.69  16.9    5.49  31.2    6.8    8.29   6.7   13.6   16.6   10.75\n",
      "  18.8   17.8    2.     6.77  11.06  12.6    7.71  27.    11.35  13.31\n",
      "  63.    21.    20.6   11.78  20.5   13.79  20.52   5.75  66.    18.78\n",
      "  23.5   24.3    6.9   14.8    8.87  14.9    8.71   9.95  17.53  42.6\n",
      "  25.2    8.31   9.67  16.7   14.61  32.    22.4   16.4    6.36  17.1\n",
      "  13.14  18.2    9.18  13.7   15.61  22.31   9.45  29.    14.49   5.35\n",
      "  29.9   25.1    8.08  13.11   6.25  26.    35.35  12.8   30.2   10.09\n",
      "  46.    32.1   11.29  14.56  11.11  11.49  13.67  16.72  24.5   11.14\n",
      "  20.9   11.05   4.    14.84   8.21  12.18  25.34   9.25   8.65  13.9\n",
      "  13.53  15.09   9.39  18.6   15.9   24.7   12.35  20.8   27.4    7.17\n",
      "   3.     8.23  24.03   9.17  43.    10.45  11.39  19.92  20.2   10.72\n",
      "  20.07  11.81  18.45  10.51  39.    10.91   6.73  11.85  37.8    4.8\n",
      " 100.7   21.6    5.78  12.1   11.28   9.97  10.68  21.2   10.56   9.68\n",
      "   8.25   4.7   17.4   10.02  40.2   11.62  14.6   11.71  13.69  18.1\n",
      "  22.22  17.3    6.35  23.3   10.88   6.76  28.    10.29  11.63  25.6\n",
      "  19.1   15.6   21.87   3.2   12.27  10.39  10.89  60.    11.53   5.68\n",
      "  10.55  33.     3.8   36.2    9.22   5.62  38.    21.9   12.17  19.8\n",
      "  37.     4.2   21.7   12.38  11.46   7.89  31.7   24.4   14.57  30.9\n",
      "  10.15  12.05   9.27  15.33   6.58   9.93  35.05  25.3   28.8   13.05\n",
      "  29.4   36.5    7.92  15.8   15.69  42.     7.85  13.16  12.86  48.\n",
      "  30.5   29.3   45.     9.32  44.     5.74  11.26  13.38  14.31  26.6\n",
      "   6.55  10.52   6.72  13.02  11.17  56.2   12.52  28.2   12.29  11.59\n",
      "   8.38   5.47  10.18  10.64  18.88   9.89  36.3   12.92  23.53  37.7\n",
      "  10.36  14.05   9.04  10.78  14.24  13.42  32.8   20.16  10.12   7.12\n",
      "  17.64  23.25  11.41  11.42  40.4   31.47  13.55  13.28  14.55   9.38\n",
      "   8.32  11.55  13.81  24.1   11.51   7.65   9.91  16.83  11.34 100.\n",
      "  11.16  18.34  34.19   6.02  18.07  20.1   12.08   7.18   8.11   8.05\n",
      "   8.06  12.96  42.4    8.93  44.9   10.62   9.72  22.5   11.18  10.22\n",
      "  51.    21.8   10.94  13.49  31.73  70.    25.7    5.86   7.63  11.47\n",
      "  13.25  22.2   19.35  17.28  14.04  39.9   21.76   4.3   10.06   8.19\n",
      "  28.4   22.7   14.74  11.12  25.11  14.02  13.06   8.01  20.38   5.53\n",
      "  46.8   11.31  17.85  20.7   34.78   9.46   6.31  42.5    9.48  43.4\n",
      "  11.57  12.44  14.46  12.58  12.47   7.95  16.32  15.26  12.23  11.37\n",
      "  27.9    8.58  19.51  12.39   9.65   9.05   6.84  20.3   26.5   63.4\n",
      "  41.9    6.82  11.36  10.08  10.54   9.16  14.95  12.84  22.9    8.76\n",
      "  10.03   9.35  11.13   7.87   2.89  45.5    7.36  24.9    9.59   7.97\n",
      "   9.85  33.9   42.8    7.86   5.25  10.26   5.33  12.85   9.51  58.4\n",
      "  10.34  23.71  19.42   6.83  11.92  13.17  13.27  11.84  12.56  53.1\n",
      "  20.56  41.3    9.01   8.73   5.82   3.7    2.4   31.8   42.7   40.5\n",
      "  12.02   8.57  12.76   8.66  11.04  40.3   15.83  18.59   9.37  23.38\n",
      "  10.42  13.93   7.54  23.42  13.64   5.61  19.45  17.59  29.1    5.65\n",
      "  15.42  11.09  11.73  15.72  25.4   10.25  10.38  13.41   5.23   9.09\n",
      "  11.45  11.74  14.64  12.14   8.84  16.66  10.27   3.5   12.55  32.55\n",
      "  16.26   6.62  10.33  13.26  32.3   23.2   14.14   9.62  34.    10.92\n",
      "  10.58  22.8   15.85   7.78   8.94   9.82  34.7    8.45  15.62  22.3\n",
      "  14.17  15.39  56.     8.43  87.2   12.66   8.35   8.47  22.72   9.52\n",
      "  28.1   14.97   4.6    5.29  10.49  15.07  15.37  20.31  23.28   8.54\n",
      "  30.59  27.57   9.71  28.63   9.98  37.9    6.91  25.9   47.    51.8\n",
      "  14.27  40.7   19.61   9.44  27.76  25.86  36.4   15.78  10.05  26.2\n",
      "  10.32  19.39   9.77  29.5   13.73  10.71  10.73  13.84   6.19  28.5\n",
      "  16.25  13.47   4.4   43.2   27.5   11.67  44.7   12.57  16.27   6.28\n",
      "  12.01  37.6   13.35   3.4    8.61   8.96  34.8   27.3   10.24   8.15\n",
      "  35.5    4.1   10.43  16.46   7.19  62.    34.3   48.5   30.6   17.55\n",
      "  10.74  13.24   5.91   9.43  20.92   8.13  33.1   10.37  16.77   6.27\n",
      "  26.8   12.37  22.6   33.6    9.76  16.92  15.54   6.23  15.35  37.5\n",
      "  21.82   7.94  34.1    6.03  15.55   8.44  43.8   29.09  18.93  12.75\n",
      "   6.33  24.8    5.64  22.43  39.1   27.6    7.48  32.7    5.44   6.22\n",
      "   7.41  27.1   17.06  75.    34.51   6.26  35.6    9.83  54.3   28.7\n",
      "   3.3   13.63  62.5   10.47  11.87  28.3   11.25   5.42  18.25   8.82\n",
      "   9.58   5.04  13.52  11.44   8.48  13.21   8.03  16.89  26.9   35.4\n",
      "  13.95  14.72   9.34  64.    37.78  23.7   29.8    6.95  16.05  11.65\n",
      "  38.1   10.99  10.86   8.85  14.65   9.24  16.45   7.84  93.2    9.79\n",
      "   7.03  17.12   5.28  12.53  14.51   9.31  31.6   72.     6.86  11.07\n",
      "  14.06  93.     6.93  15.15  32.9    8.34  55.7   24.89  35.9   22.78\n",
      "  16.47  38.86  18.16   8.69  25.5   22.46  13.74  54.2   19.21  31.5\n",
      "  12.11  11.98  10.17  35.7   12.71   2.3   16.07   9.42  20.77  28.64\n",
      "  13.86  10.01  24.2   12.45  12.87  14.33  12.15  39.7   65.     5.06\n",
      "  14.29  14.43  25.02   8.52  11.56  12.89   8.63  13.32  16.42   5.31\n",
      "  14.77  27.2    9.26  14.93  31.4    9.06   6.61  20.4    6.65  19.19\n",
      "  20.24  13.77   6.37  53.    14.58   9.19   8.67  21.22 112.    13.58\n",
      "  12.03  10.87  19.28  16.48  32.6    9.08  12.69   8.09   5.21  12.83\n",
      "  54.    11.64 107.     1.3   55.5   48.3    9.11  21.53  29.86  28.52\n",
      "  15.43  15.57  13.43  19.94   8.77  50.2   15.03  16.38  13.33  12.43\n",
      "  17.61   9.66  12.32  58.    24.6    6.47  41.1    8.12  21.25  10.13\n",
      "  41.6   49.4   12.25  28.56  11.69  14.85  15.18   8.02  11.22   8.95\n",
      "  34.6   29.2    9.73  10.46  26.7   29.7   32.4   12.93  12.63  15.24\n",
      "   8.18  22.15  11.43   7.02  11.93   7.09   6.16   7.15  13.65  10.79\n",
      "  14.98  34.4    5.14   9.75   5.59  35.1   13.04  10.95  16.03   9.13\n",
      "  17.44  40.1    5.85   6.24  21.74  31.3   30.8   16.88  21.55  18.55\n",
      "  17.87  13.83]\n",
      "колонка balcony [nan  2.  0.  1.  5.  4.  3.]\n",
      "колонка locality_name ['Санкт-Петербург' 'посёлок Шушары' 'городской посёлок Янино-1'\n",
      " 'посёлок Парголово' 'посёлок Мурино' 'Ломоносов' 'Сертолово' 'Петергоф'\n",
      " 'Пушкин' 'деревня Кудрово' 'Коммунар' 'Колпино'\n",
      " 'поселок городского типа Красный Бор' 'Гатчина' 'поселок Мурино'\n",
      " 'деревня Фёдоровское' 'Выборг' 'Кронштадт' 'Кировск'\n",
      " 'деревня Новое Девяткино' 'посёлок Металлострой'\n",
      " 'посёлок городского типа Лебяжье' 'посёлок городского типа Сиверский'\n",
      " 'поселок Молодцово' 'поселок городского типа Кузьмоловский'\n",
      " 'садовое товарищество Новая Ропша' 'Павловск' 'деревня Пикколово'\n",
      " 'Всеволожск' 'Волхов' 'Кингисепп' 'Приозерск' 'Сестрорецк'\n",
      " 'деревня Куттузи' 'посёлок Аннино' 'поселок городского типа Ефимовский'\n",
      " 'посёлок Плодовое' 'деревня Заклинье' 'поселок Торковичи'\n",
      " 'поселок Первомайское' 'Красное Село' 'посёлок Понтонный' 'Сясьстрой'\n",
      " 'деревня Старая' 'деревня Лесколово' 'посёлок Новый Свет' 'Сланцы'\n",
      " 'село Путилово' 'Ивангород' 'Мурино' 'Шлиссельбург' 'Никольское'\n",
      " 'Зеленогорск' 'Сосновый Бор' 'поселок Новый Свет' 'деревня Оржицы'\n",
      " 'деревня Кальтино' 'Кудрово' 'поселок Романовка' 'посёлок Бугры'\n",
      " 'поселок Бугры' 'поселок городского типа Рощино' 'Кириши' 'Луга'\n",
      " 'Волосово' 'Отрадное' 'село Павлово' 'поселок Оредеж' 'село Копорье'\n",
      " 'посёлок городского типа Красный Бор' 'посёлок Молодёжное' 'Тихвин'\n",
      " 'посёлок Победа' 'деревня Нурма' 'поселок городского типа Синявино'\n",
      " 'Тосно' 'посёлок городского типа Кузьмоловский' 'посёлок Стрельна'\n",
      " 'Бокситогорск' 'посёлок Александровская' 'деревня Лопухинка' 'Пикалёво'\n",
      " 'поселок Терволово' 'поселок городского типа Советский' 'Подпорожье'\n",
      " 'посёлок Петровское' 'посёлок городского типа Токсово' 'поселок Сельцо'\n",
      " 'посёлок городского типа Вырица' 'деревня Кипень' 'деревня Келози'\n",
      " 'деревня Вартемяги' 'посёлок Тельмана' 'поселок Севастьяново'\n",
      " 'городской поселок Большая Ижора' nan 'городской посёлок Павлово'\n",
      " 'деревня Агалатово' 'посёлок Новогорелово'\n",
      " 'городской посёлок Лесогорский' 'деревня Лаголово' 'поселок Цвелодубово'\n",
      " 'поселок городского типа Рахья' 'поселок городского типа Вырица'\n",
      " 'деревня Белогорка' 'поселок Заводской' 'городской посёлок Новоселье'\n",
      " 'деревня Большие Колпаны' 'деревня Горбунки' 'деревня Батово'\n",
      " 'деревня Заневка' 'деревня Иссад' 'Приморск'\n",
      " 'городской посёлок Фёдоровское' 'деревня Мистолово' 'Новая Ладога'\n",
      " 'поселок Зимитицы' 'поселок Барышево' 'деревня Разметелево'\n",
      " 'поселок городского типа имени Свердлова' 'деревня Пеники'\n",
      " 'поселок Рябово' 'деревня Пудомяги' 'поселок станции Корнево'\n",
      " 'деревня Низино' 'деревня Бегуницы' 'посёлок Поляны'\n",
      " 'городской посёлок Мга' 'поселок Елизаветино'\n",
      " 'посёлок городского типа Кузнечное' 'деревня Колтуши'\n",
      " 'поселок Запорожское' 'посёлок городского типа Рощино'\n",
      " 'деревня Гостилицы' 'деревня Малое Карлино' 'посёлок Мичуринское'\n",
      " 'посёлок городского типа имени Морозова' 'посёлок Песочный'\n",
      " 'посёлок Сосново' 'деревня Аро' 'поселок Ильичёво'\n",
      " 'посёлок городского типа Тайцы' 'деревня Малое Верево' 'деревня Извара'\n",
      " 'поселок станции Вещево' 'село Паша' 'деревня Калитино'\n",
      " 'посёлок городского типа Ульяновка' 'деревня Чудской Бор'\n",
      " 'поселок городского типа Дубровка' 'деревня Мины' 'поселок Войсковицы'\n",
      " 'посёлок городского типа имени Свердлова' 'деревня Коркино'\n",
      " 'посёлок Ропша' 'поселок городского типа Приладожский' 'посёлок Щеглово'\n",
      " 'посёлок Гаврилово' 'Лодейное Поле' 'деревня Рабитицы'\n",
      " 'поселок городского типа Никольский' 'деревня Кузьмолово'\n",
      " 'деревня Малые Колпаны' 'поселок Тельмана' 'посёлок Петро-Славянка'\n",
      " 'городской посёлок Назия' 'посёлок Репино' 'посёлок Ильичёво'\n",
      " 'поселок Углово' 'поселок Старая Малукса' 'садовое товарищество Рахья'\n",
      " 'поселок Аннино' 'поселок Победа' 'деревня Меньково'\n",
      " 'деревня Старые Бегуницы' 'посёлок Сапёрный' 'поселок Семрино'\n",
      " 'поселок Гаврилово' 'поселок Глажево' 'поселок Кобринское'\n",
      " 'деревня Гарболово' 'деревня Юкки' 'поселок станции Приветнинское'\n",
      " 'деревня Мануйлово' 'деревня Пчева' 'поселок Поляны' 'поселок Цвылёво'\n",
      " 'поселок Мельниково' 'посёлок Пудость' 'посёлок Усть-Луга' 'Светогорск'\n",
      " 'Любань' 'поселок Селезнёво' 'поселок городского типа Рябово'\n",
      " 'Каменногорск' 'деревня Кривко' 'поселок Глебычево' 'деревня Парицы'\n",
      " 'поселок Жилпосёлок' 'посёлок городского типа Мга'\n",
      " 'городской поселок Янино-1' 'посёлок Войскорово' 'село Никольское'\n",
      " 'посёлок Терволово' 'поселок Стеклянный' 'посёлок городского типа Важины'\n",
      " 'посёлок Мыза-Ивановка' 'село Русско-Высоцкое'\n",
      " 'поселок городского типа Лебяжье' 'поселок городского типа Форносово'\n",
      " 'село Старая Ладога' 'поселок Житково' 'городской посёлок Виллози'\n",
      " 'деревня Лампово' 'деревня Шпаньково' 'деревня Лаврики' 'посёлок Сумино'\n",
      " 'посёлок Возрождение' 'деревня Старосиверская' 'посёлок Кикерино'\n",
      " 'поселок Возрождение' 'деревня Старое Хинколово' 'посёлок Пригородный'\n",
      " 'посёлок Торфяное' 'городской посёлок Будогощь' 'поселок Суходолье'\n",
      " 'поселок Красная Долина' 'деревня Хапо-Ое'\n",
      " 'поселок городского типа Дружная Горка' 'поселок Лисий Нос'\n",
      " 'деревня Яльгелево' 'посёлок Стеклянный' 'село Рождествено'\n",
      " 'деревня Старополье' 'посёлок Левашово' 'деревня Сяськелево'\n",
      " 'деревня Камышовка'\n",
      " 'садоводческое некоммерческое товарищество Лесная Поляна'\n",
      " 'деревня Хязельки' 'поселок Жилгородок' 'посёлок городского типа Павлово'\n",
      " 'деревня Ялгино' 'поселок Новый Учхоз' 'городской посёлок Рощино'\n",
      " 'поселок Гончарово' 'поселок Почап' 'посёлок Сапёрное'\n",
      " 'посёлок Платформа 69-й километр' 'поселок Каложицы' 'деревня Фалилеево'\n",
      " 'деревня Пельгора' 'поселок городского типа Лесогорский'\n",
      " 'деревня Торошковичи' 'посёлок Белоостров' 'посёлок Алексеевка'\n",
      " 'поселок Серебрянский' 'поселок Лукаши' 'поселок Петровское'\n",
      " 'деревня Щеглово' 'поселок Мичуринское' 'деревня Тарасово'\n",
      " 'поселок Кингисеппский' 'посёлок при железнодорожной станции Вещево'\n",
      " 'поселок Ушаки' 'деревня Котлы' 'деревня Сижно' 'деревня Торосово'\n",
      " 'посёлок Форт Красная Горка' 'поселок городского типа Токсово'\n",
      " 'деревня Новолисино' 'посёлок станции Громово' 'деревня Глинка'\n",
      " 'посёлок Мельниково' 'поселок городского типа Назия'\n",
      " 'деревня Старая Пустошь' 'поселок Коммунары' 'поселок Починок'\n",
      " 'посёлок городского типа Вознесенье' 'деревня Разбегаево'\n",
      " 'посёлок городского типа Рябово' 'поселок Гладкое'\n",
      " 'посёлок при железнодорожной станции Приветнинское' 'поселок Тёсово-4'\n",
      " 'посёлок Жилгородок' 'деревня Бор' 'посёлок Коробицыно'\n",
      " 'деревня Большая Вруда' 'деревня Курковицы' 'посёлок Лисий Нос'\n",
      " 'городской посёлок Советский' 'посёлок Кобралово' 'деревня Суоранда'\n",
      " 'поселок Кобралово' 'поселок городского типа Кондратьево'\n",
      " 'коттеджный поселок Счастье' 'поселок Любань' 'деревня Реброво'\n",
      " 'деревня Зимитицы' 'деревня Тойворово' 'поселок Семиозерье'\n",
      " 'поселок Лесное' 'поселок Совхозный' 'поселок Усть-Луга'\n",
      " 'посёлок Ленинское' 'посёлок Суйда' 'посёлок городского типа Форносово'\n",
      " 'деревня Нижние Осельки' 'посёлок станции Свирь' 'поселок Перово'\n",
      " 'Высоцк' 'поселок Гарболово' 'село Шум' 'поселок Котельский'\n",
      " 'поселок станции Лужайка' 'деревня Большая Пустомержа'\n",
      " 'поселок Красносельское' 'деревня Вахнова Кара' 'деревня Пижма'\n",
      " 'коттеджный поселок Кивеннапа Север' 'поселок Коробицыно'\n",
      " 'поселок Ромашки' 'посёлок Перово' 'деревня Каськово' 'деревня Куровицы'\n",
      " 'посёлок Плоское' 'поселок Сумино'\n",
      " 'поселок городского типа Большая Ижора' 'поселок Кирпичное'\n",
      " 'деревня Ям-Тесово' 'деревня Раздолье' 'деревня Терпилицы'\n",
      " 'посёлок Шугозеро' 'деревня Ваганово' 'поселок Пушное'\n",
      " 'садовое товарищество Садко' 'посёлок Усть-Ижора' 'деревня Выскатка'\n",
      " 'городской посёлок Свирьстрой' 'поселок Громово' 'деревня Кисельня'\n",
      " 'посёлок Старая Малукса' 'деревня Трубников Бор' 'поселок Калитино'\n",
      " 'посёлок Высокоключевой' 'садовое товарищество Приладожский'\n",
      " 'посёлок Пансионат Зелёный Бор' 'деревня Ненимяки'\n",
      " 'поселок Пансионат Зелёный Бор' 'деревня Снегирёвка' 'деревня Рапполово'\n",
      " 'деревня Пустынка' 'поселок Рабитицы' 'деревня Большой Сабск'\n",
      " 'деревня Русско' 'деревня Лупполово' 'деревня Большое Рейзино'\n",
      " 'деревня Малая Романовка' 'поселок Дружноселье' 'поселок Пчевжа'\n",
      " 'поселок Володарское' 'деревня Нижняя' 'коттеджный посёлок Лесное'\n",
      " 'деревня Тихковицы' 'деревня Борисова Грива' 'посёлок Дзержинского']\n",
      "колонка airports_nearest [18863. 12817. 21741. ... 11751. 20151. 24665.]\n",
      "колонка cityCenters_nearest [16028. 18603. 13933. ... 27977.  7262.  6263.]\n",
      "колонка parks_around3000 [ 1.  0.  2. nan  3.]\n",
      "колонка parks_nearest [4.820e+02       nan 9.000e+01 8.400e+01 1.120e+02 3.100e+02 2.940e+02\n",
      " 5.900e+02 4.200e+02 7.590e+02 2.480e+02 5.170e+02 4.110e+02 4.520e+02\n",
      " 5.320e+02 4.590e+02 7.250e+02 4.700e+01 6.200e+02 6.750e+02 5.310e+02\n",
      " 5.260e+02 2.710e+02 3.630e+02 6.480e+02 3.820e+02 3.340e+02 1.670e+02\n",
      " 4.450e+02 2.310e+02 5.110e+02 7.510e+02 6.660e+02 3.840e+02 1.270e+02\n",
      " 2.410e+02 4.880e+02 1.560e+02 5.760e+02 2.850e+02 6.330e+02 1.500e+01\n",
      " 2.150e+02 5.330e+02 1.410e+02 3.660e+02 3.410e+02 5.890e+02 3.440e+02\n",
      " 5.080e+02 4.170e+02 7.620e+02 4.410e+02 5.590e+02 7.490e+02 1.230e+02\n",
      " 5.010e+02 1.000e+01 1.133e+03 1.205e+03 5.160e+02 8.600e+02 2.760e+02\n",
      " 9.800e+02 4.630e+02 5.910e+02 2.390e+02 6.510e+02 1.021e+03 4.850e+02\n",
      " 5.860e+02 3.700e+02 6.880e+02 2.750e+02 5.460e+02 4.660e+02 1.390e+02\n",
      " 2.510e+02 5.370e+02 6.270e+02 1.040e+02 4.500e+02 6.570e+02 5.780e+02\n",
      " 7.700e+01 1.210e+02 3.140e+02 1.950e+02 5.560e+02 4.690e+02 7.500e+01\n",
      " 3.980e+02 6.810e+02 5.000e+01 9.200e+01 9.290e+02 3.200e+02 5.100e+02\n",
      " 7.410e+02 3.570e+02 2.295e+03 6.340e+02 3.770e+02 6.110e+02 3.490e+02\n",
      " 4.510e+02 6.410e+02 3.740e+02 8.350e+02 9.300e+01 5.130e+02 3.010e+02\n",
      " 1.620e+02 1.510e+03 5.190e+02 3.600e+01 5.570e+02 4.210e+02 1.060e+02\n",
      " 5.400e+02 6.300e+02 3.850e+02 4.710e+02 3.250e+02 8.030e+02 4.010e+02\n",
      " 1.850e+02 7.830e+02 3.920e+02 4.680e+02 1.820e+02 2.870e+02 3.090e+02\n",
      " 5.050e+02 1.870e+02 4.530e+02 3.880e+02 6.350e+02 6.530e+02 2.900e+02\n",
      " 5.380e+02 2.260e+02 7.980e+02 6.800e+02 4.160e+02 4.120e+02 1.380e+02\n",
      " 6.370e+02 8.160e+02 7.020e+02 6.060e+02 1.520e+02 2.102e+03 4.600e+02\n",
      " 5.960e+02 6.040e+02 3.280e+02 6.760e+02 5.340e+02 5.580e+02 4.720e+02\n",
      " 1.443e+03 1.590e+02 1.900e+01 5.300e+01 2.070e+02 4.980e+02 5.200e+02\n",
      " 6.450e+02 1.610e+02 7.690e+02 5.800e+02 3.780e+02 4.940e+02 7.140e+02\n",
      " 4.640e+02 4.460e+02 2.200e+02 8.020e+02 2.880e+02 5.150e+02 6.010e+02\n",
      " 1.920e+02 4.560e+02 1.700e+02 6.320e+02 5.870e+02 6.430e+02 9.090e+02\n",
      " 2.910e+02 6.870e+02 7.840e+02 5.060e+02 4.350e+02 4.830e+02 5.200e+01\n",
      " 1.750e+02 4.610e+02 2.330e+02 2.137e+03 2.010e+02 5.630e+02 9.680e+02\n",
      " 2.380e+02 4.760e+02 1.300e+01 3.670e+02 7.350e+02 1.770e+02 2.920e+02\n",
      " 4.700e+02 5.700e+01 3.930e+02 4.960e+02 1.496e+03 1.570e+02 4.390e+02\n",
      " 7.070e+02 2.890e+02 5.990e+02 9.370e+02 5.500e+02 3.990e+02 3.370e+02\n",
      " 1.188e+03 6.100e+01 2.650e+02 1.810e+02 5.360e+02 2.950e+02 2.590e+02\n",
      " 5.210e+02 2.630e+02 2.360e+02 3.910e+02 4.330e+02 2.430e+02 3.680e+02\n",
      " 4.810e+02 4.030e+02 4.250e+02 7.560e+02 7.120e+02 1.940e+02 2.580e+02\n",
      " 4.910e+02 1.470e+02 6.720e+02 7.370e+02 7.000e+02 3.260e+02 6.800e+01\n",
      " 3.360e+02 5.410e+02 8.700e+01 8.230e+02 5.720e+02 2.340e+02 2.245e+03\n",
      " 4.920e+02 2.110e+02 2.700e+01 2.520e+02 3.300e+02 4.200e+01 6.960e+02\n",
      " 3.430e+02 1.960e+02 2.500e+02 1.730e+02 5.920e+02 4.580e+02 6.900e+02\n",
      " 4.970e+02 1.731e+03 3.060e+02 8.420e+02 1.510e+02 6.550e+02 5.070e+02\n",
      " 4.430e+02 5.680e+02 2.270e+02 6.260e+02 1.100e+02 6.500e+02 8.050e+02\n",
      " 6.460e+02 3.020e+02 3.040e+02 6.580e+02 3.180e+02 2.780e+02 2.470e+02\n",
      " 9.340e+02 2.180e+02 1.600e+02 5.420e+02 7.210e+02 6.680e+02 4.570e+02\n",
      " 3.860e+02 2.610e+02 4.140e+02 2.840e+02 8.430e+02 1.440e+02 1.830e+02\n",
      " 5.970e+02 7.900e+02 6.090e+02 9.510e+02 2.100e+02 1.530e+02 2.170e+02\n",
      " 7.100e+02 1.065e+03 1.740e+02 3.500e+01 4.400e+02 3.810e+02 1.100e+01\n",
      " 8.110e+02 6.830e+02 3.350e+02 1.630e+02 3.650e+02 9.200e+02 6.240e+02\n",
      " 4.780e+02 8.500e+02 5.240e+02 5.540e+02 1.550e+02 8.980e+02 3.800e+02\n",
      " 7.150e+02 2.790e+02 3.310e+02 7.390e+02 1.370e+02 6.910e+02 5.100e+01\n",
      " 5.810e+02 5.700e+02 6.440e+02 2.400e+02 1.490e+02 3.640e+02 1.756e+03\n",
      " 2.130e+02 6.380e+02 1.103e+03 2.460e+02 7.600e+01 1.114e+03 1.600e+01\n",
      " 1.790e+02 5.690e+02 5.470e+02 5.520e+02 9.420e+02 1.340e+02 7.380e+02\n",
      " 7.820e+02 6.500e+01 3.890e+02 4.620e+02 3.580e+02 1.780e+02 6.920e+02\n",
      " 9.330e+02 6.820e+02 6.770e+02 6.390e+02 2.000e+01 1.145e+03 6.520e+02\n",
      " 5.350e+02 6.740e+02 5.290e+02 3.540e+02 4.890e+02 3.064e+03 4.470e+02\n",
      " 5.090e+02 5.280e+02 8.300e+02 1.660e+02 6.710e+02 8.700e+02 6.310e+02\n",
      " 4.800e+02 4.070e+02 3.150e+02 7.800e+01 5.740e+02 9.450e+02 8.080e+02\n",
      " 1.080e+02 3.110e+02 4.740e+02 1.514e+03 3.120e+02 4.320e+02 2.570e+02\n",
      " 9.270e+02 3.800e+01 2.230e+02 8.310e+02 2.700e+02 2.665e+03 2.090e+02\n",
      " 9.100e+01 4.480e+02 6.600e+02 1.360e+02 2.060e+02 1.640e+02 4.930e+02\n",
      " 4.420e+02 7.330e+02 2.888e+03 2.300e+02 3.330e+02 3.760e+02 5.650e+02\n",
      " 9.810e+02 1.980e+02 5.600e+02 5.770e+02 3.420e+02 5.610e+02 2.420e+02\n",
      " 2.276e+03 3.590e+02 1.264e+03 5.250e+02 5.450e+02 2.990e+02 9.790e+02\n",
      " 2.930e+02 3.320e+02 7.200e+01 2.450e+02 4.090e+02 1.477e+03 1.140e+02\n",
      " 5.800e+01 5.530e+02 5.880e+02 3.700e+01 3.940e+02 3.600e+02 5.550e+02\n",
      " 4.870e+02 6.190e+02 7.400e+01 3.730e+02 6.210e+02 2.080e+02 7.040e+02\n",
      " 4.990e+02 5.620e+02 4.080e+02 6.170e+02 1.342e+03 4.220e+02 2.560e+02\n",
      " 5.230e+02 2.467e+03 4.550e+02 6.840e+02 1.320e+02 6.030e+02 6.970e+02\n",
      " 4.260e+02 3.900e+02 2.000e+02 4.340e+02 5.480e+02 5.940e+02 5.040e+02\n",
      " 4.100e+01 1.050e+02 5.430e+02 5.440e+02 8.260e+02 3.000e+01 5.020e+02\n",
      " 7.530e+02 8.930e+02 3.870e+02 1.930e+02 8.010e+02 9.400e+01 6.250e+02\n",
      " 7.060e+02 6.360e+02 3.460e+02 7.190e+02 7.170e+02 2.290e+02 4.770e+02\n",
      " 7.320e+02 6.670e+02 4.840e+02 5.300e+02 8.880e+02 9.380e+02 2.348e+03\n",
      " 3.030e+02 9.650e+02 5.140e+02 5.900e+01 5.220e+02 9.000e+00 6.790e+02\n",
      " 2.209e+03 1.880e+02 6.950e+02 9.610e+02 1.304e+03 3.270e+02 1.028e+03\n",
      " 3.790e+02 7.660e+02 1.097e+03 8.900e+02 4.150e+02 2.860e+02 3.560e+02\n",
      " 8.670e+02 7.910e+02 1.300e+02 8.800e+01 2.905e+03 3.070e+02 6.690e+02\n",
      " 3.710e+02 5.030e+02 4.440e+02 1.424e+03 5.660e+02 1.007e+03 5.930e+02\n",
      " 1.362e+03 3.610e+02 1.499e+03 9.600e+01 1.480e+02 1.260e+02 1.690e+02\n",
      " 6.600e+01 9.040e+02 1.272e+03 6.490e+02 7.960e+02 3.900e+01 1.767e+03\n",
      " 7.420e+02 3.620e+02 2.820e+02 9.170e+02 5.510e+02 5.120e+02 4.900e+01\n",
      " 3.230e+02 2.300e+01 2.160e+02 7.800e+02 6.160e+02 6.400e+02 4.240e+02\n",
      " 1.077e+03 1.049e+03 6.980e+02 3.500e+02 4.790e+02 7.870e+02 1.586e+03\n",
      " 3.190e+02 8.290e+02 2.800e+02 4.900e+02 6.000e+02 4.230e+02 6.620e+02\n",
      " 9.160e+02 2.810e+02 7.780e+02 2.690e+02 1.350e+02 4.950e+02 8.790e+02\n",
      " 1.416e+03 2.280e+02 4.130e+02 7.630e+02 2.030e+02 7.310e+02 4.370e+02\n",
      " 5.850e+02 3.400e+02 1.213e+03 6.020e+02 7.890e+02 8.860e+02 7.240e+02\n",
      " 9.700e+01 7.010e+02 2.220e+02 3.000e+02 4.600e+01 4.270e+02 4.280e+02\n",
      " 2.660e+02 4.310e+02 2.100e+01 3.970e+02 6.280e+02 3.050e+02 2.120e+02\n",
      " 6.220e+02 1.700e+01 2.550e+02 1.910e+02 2.066e+03 1.650e+02 3.550e+02\n",
      " 1.280e+02 3.830e+02 2.320e+02 5.180e+02 4.000e+02 7.610e+02 3.220e+02\n",
      " 8.560e+02 1.200e+03 3.520e+02 2.847e+03 6.730e+02 6.860e+02 9.630e+02\n",
      " 5.390e+02 1.420e+02 1.860e+02 4.040e+02 1.802e+03 2.620e+02 6.230e+02\n",
      " 8.500e+01 2.240e+02 8.270e+02 7.090e+02 4.360e+02 4.060e+02 7.360e+02\n",
      " 4.730e+02 9.150e+02 3.290e+02 5.750e+02 4.500e+01 1.181e+03 6.140e+02\n",
      " 2.600e+02 2.409e+03 8.170e+02 9.970e+02 5.790e+02 2.830e+02 1.186e+03\n",
      " 1.596e+03 8.100e+01 1.800e+01 6.940e+02 3.480e+02 3.530e+02 1.020e+02\n",
      " 1.720e+02 5.830e+02 1.290e+02 2.530e+02 7.110e+02 1.190e+03 4.650e+02\n",
      " 5.490e+02 6.100e+02 8.140e+02 7.160e+02 2.770e+02 8.340e+02 1.326e+03\n",
      " 1.240e+02 3.170e+02 9.360e+02 3.390e+02 8.120e+02 4.490e+02 4.190e+02\n",
      " 3.450e+02 1.170e+02 1.840e+02 9.500e+01 2.960e+02 1.580e+02 7.440e+02\n",
      " 6.050e+02 1.228e+03 5.950e+02 9.060e+02 8.090e+02 5.270e+02 7.650e+02\n",
      " 5.600e+01 6.420e+02 6.300e+01 2.416e+03 8.300e+01 9.730e+02 2.670e+02\n",
      " 2.350e+02 6.850e+02 1.970e+02 6.130e+02 5.640e+02 6.180e+02 3.080e+02\n",
      " 2.640e+02 1.199e+03 1.008e+03 8.460e+02 1.074e+03 1.990e+02 6.700e+01\n",
      " 2.400e+01 7.670e+02 1.069e+03 8.200e+01 3.300e+01 3.130e+02 4.670e+02\n",
      " 1.053e+03 7.030e+02 2.740e+02 6.700e+02 1.710e+02 1.010e+02 6.630e+02\n",
      " 1.942e+03 8.000e+02 6.120e+02 9.560e+02 7.640e+02 2.200e+01 4.180e+02\n",
      " 1.130e+02 4.300e+02 1.256e+03 4.860e+02 6.150e+02 1.722e+03 8.620e+02\n",
      " 6.200e+01 6.890e+02 4.290e+02 3.160e+02 1.648e+03 5.000e+02 2.711e+03\n",
      " 2.540e+02 3.720e+02 1.951e+03 5.840e+02 4.020e+02 7.280e+02 3.750e+02\n",
      " 7.290e+02 6.070e+02 8.520e+02 7.180e+02 2.020e+02 2.970e+02 1.760e+02\n",
      " 1.040e+03 4.750e+02 7.050e+02 3.950e+02 2.980e+02 4.100e+02 4.000e+01\n",
      " 1.098e+03 2.633e+03 1.354e+03 3.240e+02 8.060e+02 6.650e+02 4.300e+01\n",
      " 9.190e+02 6.540e+02 1.500e+02 9.660e+02 3.380e+02 1.310e+02 9.210e+02\n",
      " 7.460e+02 6.990e+02 7.540e+02 7.860e+02 1.909e+03 6.290e+02 1.248e+03\n",
      " 2.720e+02 2.747e+03 7.230e+02 9.740e+02 2.040e+02 7.920e+02 4.400e+01\n",
      " 1.680e+02 1.562e+03 8.410e+02 6.080e+02 9.430e+02 1.022e+03 2.250e+02\n",
      " 2.490e+02 2.880e+03 1.160e+02 5.710e+02 5.500e+01 8.680e+02 3.960e+02\n",
      " 1.540e+02 1.180e+02 1.481e+03 5.980e+02 9.520e+02 8.200e+02 1.090e+02\n",
      " 2.218e+03 1.150e+02 2.440e+02 7.100e+01 2.210e+02 8.730e+02 8.690e+02\n",
      " 2.050e+02 3.400e+01 6.900e+01 8.590e+02 9.670e+02 1.150e+03 5.400e+01\n",
      " 6.400e+01 3.510e+02 7.000e+00 1.400e+02 1.086e+03 1.460e+02 1.299e+03\n",
      " 1.501e+03 6.610e+02 2.026e+03 9.130e+02 5.670e+02 2.730e+02 8.040e+02\n",
      " 7.750e+02 1.200e+02 3.470e+02 8.580e+02 1.330e+02 1.030e+02 4.540e+02\n",
      " 1.000e+02 8.280e+02 4.050e+02 4.800e+01 7.220e+02 1.887e+03 1.809e+03\n",
      " 3.690e+02 8.870e+02 8.390e+02 7.270e+02 1.120e+03 7.700e+02 1.900e+02\n",
      " 1.250e+02 1.057e+03 8.610e+02 3.190e+03 9.320e+02 7.400e+02 8.480e+02\n",
      " 1.191e+03 2.131e+03 8.750e+02 7.710e+02 1.041e+03 3.210e+02 6.930e+02\n",
      " 8.600e+01 2.370e+02 1.215e+03 7.970e+02 3.000e+00 9.030e+02 1.790e+03\n",
      " 1.094e+03 7.480e+02 6.560e+02 7.680e+02 6.590e+02 8.320e+02 9.900e+01\n",
      " 1.220e+02 1.800e+02 5.820e+02 1.620e+03 2.800e+01 7.260e+02 1.364e+03\n",
      " 6.000e+01 7.550e+02 7.300e+02 9.410e+02 1.190e+02 1.200e+01 7.300e+01\n",
      " 1.070e+02 1.211e+03 1.270e+03 9.930e+02 1.400e+03 1.000e+00 9.800e+01\n",
      " 7.080e+02 8.890e+02 7.580e+02 1.450e+02 7.450e+02 8.660e+02 1.568e+03\n",
      " 1.079e+03 8.630e+02 1.400e+01 4.380e+02 1.148e+03 1.061e+03 7.930e+02\n",
      " 8.850e+02 2.489e+03 5.730e+02 7.990e+02 1.361e+03 6.780e+02 7.790e+02\n",
      " 1.423e+03 1.064e+03 1.564e+03 2.555e+03 2.427e+03 9.690e+02 7.130e+02\n",
      " 2.532e+03 1.011e+03 1.890e+02 8.530e+02 3.013e+03 1.312e+03 2.190e+02\n",
      " 8.450e+02 6.470e+02 7.940e+02 1.329e+03 8.220e+02 1.262e+03 1.073e+03\n",
      " 1.798e+03 9.850e+02 1.657e+03 7.880e+02 6.640e+02 3.200e+01 7.570e+02\n",
      " 2.680e+02 8.000e+01 2.768e+03 2.009e+03 8.470e+02 7.600e+02 1.167e+03\n",
      " 4.000e+00 2.984e+03]\n",
      "колонка ponds_around3000 [ 2.  0.  3.  1. nan]\n",
      "колонка ponds_nearest [ 755.   nan  574. ...  959.   40. 1134.]\n",
      "колонка days_exposition [  nan   81.  558. ... 1360. 1007.  971.]\n"
     ]
    }
   ],
   "source": [
    "for column in list(df):\n",
    "    print('колонка', column, df[column].unique())"
   ]
  },
  {
   "cell_type": "markdown",
   "metadata": {},
   "source": [
    "Изучим процент пропусков в датафрейме"
   ]
  },
  {
   "cell_type": "code",
   "execution_count": 9,
   "metadata": {},
   "outputs": [
    {
     "data": {
      "text/plain": [
       "is_apartment            88.29\n",
       "parks_nearest           65.91\n",
       "ponds_nearest           61.56\n",
       "balcony                 48.61\n",
       "ceiling_height          38.80\n",
       "airports_nearest        23.38\n",
       "cityCenters_nearest     23.29\n",
       "parks_around3000        23.28\n",
       "ponds_around3000        23.28\n",
       "days_exposition         13.42\n",
       "kitchen_area             9.61\n",
       "living_area              8.03\n",
       "floors_total             0.36\n",
       "locality_name            0.21\n",
       "first_day_exposition     0.00\n",
       "last_price               0.00\n",
       "total_area               0.00\n",
       "studio                   0.00\n",
       "rooms                    0.00\n",
       "floor                    0.00\n",
       "open_plan                0.00\n",
       "total_images             0.00\n",
       "dtype: float64"
      ]
     },
     "execution_count": 9,
     "metadata": {},
     "output_type": "execute_result"
    }
   ],
   "source": [
    "df.isnull().sum().sort_values(ascending=False)/df.shape[0]*100"
   ]
  },
  {
   "cell_type": "markdown",
   "metadata": {},
   "source": [
    "### Вывод"
   ]
  },
  {
   "cell_type": "markdown",
   "metadata": {},
   "source": [
    "Ознакомились с данными. Обнаружили в них несколько проблем:\n",
    "* Некоторые значения отсутствуют. Но пропуски чаще встречаются в менее важных столбцах.\n",
    "* Неверно подобран тип данных для некоторых столбцов\n",
    "* Названия населенных пунктов необходимо привести к единому регистру, также в некоторых названиях используется буква ё (посёлок/ поселок), необходимо заменить её на е.\n",
    "\n",
    "Вероятнее всего пропуски в данных связаны с тем, что:\n",
    "* Для размещения объявления не обязательно заполнять все поля.\n",
    "* Для некоторых колонок возможно было установленно ограничение (например для колонки `parks_nearest`)\n"
   ]
  },
  {
   "cell_type": "markdown",
   "metadata": {},
   "source": [
    "## Предобработка данных"
   ]
  },
  {
   "cell_type": "markdown",
   "metadata": {},
   "source": [
    "Проверим есть ли в данных явные дубликаты, которые мы можем убрать уже сейчас"
   ]
  },
  {
   "cell_type": "code",
   "execution_count": 10,
   "metadata": {},
   "outputs": [
    {
     "data": {
      "text/plain": [
       "0"
      ]
     },
     "execution_count": 10,
     "metadata": {},
     "output_type": "execute_result"
    }
   ],
   "source": [
    "df.duplicated().sum()"
   ]
  },
  {
   "cell_type": "markdown",
   "metadata": {},
   "source": [
    "В данный момент явных дубликатов нет"
   ]
  },
  {
   "cell_type": "markdown",
   "metadata": {},
   "source": [
    "Обработаем пропуски в данных:\n",
    "    Если в объявлении не указано число балконов, то скорее всего их нет.\n",
    "    Если в объявлении не указано что это аппартаменты, скорее всего это жилое помещение."
   ]
  },
  {
   "cell_type": "code",
   "execution_count": 11,
   "metadata": {
    "scrolled": true
   },
   "outputs": [],
   "source": [
    "#Обработаем пропуски в данных\n",
    "df['balcony'] = df['balcony'].fillna(0)\n",
    "df['ceiling_height'] = df['ceiling_height'].fillna(df['ceiling_height'].median())\n",
    "df['is_apartment'] = df['is_apartment'].fillna('False')"
   ]
  },
  {
   "cell_type": "markdown",
   "metadata": {},
   "source": [
    "Проанализируем столбец `ceiling_height`"
   ]
  },
  {
   "cell_type": "code",
   "execution_count": 12,
   "metadata": {
    "scrolled": false
   },
   "outputs": [
    {
     "data": {
      "image/png": "[encoded data removed]",
      "text/plain": [
       "<Figure size 432x288 with 1 Axes>"
      ]
     },
     "metadata": {
      "needs_background": "light"
     },
     "output_type": "display_data"
    }
   ],
   "source": [
    "df['ceiling_height'].plot(kind='box')\n",
    "plt.show()"
   ]
  },
  {
   "cell_type": "markdown",
   "metadata": {},
   "source": [
    "В столбце есть выбросы, необходимо от них избавиться"
   ]
  },
  {
   "cell_type": "code",
   "execution_count": 13,
   "metadata": {},
   "outputs": [],
   "source": [
    "q1 = df['ceiling_height'].quantile(0.25)                 \n",
    "q3 = df['ceiling_height'].quantile(0.75)\n",
    "iqr = q3 - q1\n",
    "df = df[(df['ceiling_height'] >= (q1 - 1.5*iqr)) & (df['ceiling_height'] <= (q3 + 1.5*iqr))].reset_index(drop=True)"
   ]
  },
  {
   "cell_type": "code",
   "execution_count": 14,
   "metadata": {},
   "outputs": [
    {
     "data": {
      "image/png": "[encoded data removed]",
      "text/plain": [
       "<Figure size 432x288 with 1 Axes>"
      ]
     },
     "metadata": {
      "needs_background": "light"
     },
     "output_type": "display_data"
    }
   ],
   "source": [
    "df['ceiling_height'].plot(kind='box')\n",
    "plt.show()"
   ]
  },
  {
   "cell_type": "markdown",
   "metadata": {},
   "source": [
    "Изучим процент пропусков в различных столбцах датафрейма"
   ]
  },
  {
   "cell_type": "code",
   "execution_count": 15,
   "metadata": {},
   "outputs": [
    {
     "data": {
      "text/plain": [
       "total_images             0.00\n",
       "balcony                  0.00\n",
       "open_plan                0.00\n",
       "is_apartment             0.00\n",
       "floor                    0.00\n",
       "studio                   0.00\n",
       "rooms                    0.00\n",
       "first_day_exposition     0.00\n",
       "total_area               0.00\n",
       "last_price               0.00\n",
       "ceiling_height           0.00\n",
       "locality_name            0.20\n",
       "floors_total             0.41\n",
       "living_area              8.27\n",
       "kitchen_area             9.96\n",
       "days_exposition         12.21\n",
       "cityCenters_nearest     25.41\n",
       "parks_around3000        25.41\n",
       "ponds_around3000        25.41\n",
       "airports_nearest        25.49\n",
       "ponds_nearest           64.35\n",
       "parks_nearest           69.95\n",
       "dtype: float64"
      ]
     },
     "execution_count": 15,
     "metadata": {},
     "output_type": "execute_result"
    }
   ],
   "source": [
    "df.isnull().sum().sort_values()/df.shape[0]*100"
   ]
  },
  {
   "cell_type": "markdown",
   "metadata": {},
   "source": [
    "Обратим внимание на столбец `locality_name` он имеет небольшое количество пропусков (0,36%), но название населенного пункта является важным и будет необходим в дальнейшем анализе. Удалим пропущенные значения и восстановим индекс."
   ]
  },
  {
   "cell_type": "code",
   "execution_count": 16,
   "metadata": {},
   "outputs": [],
   "source": [
    "df=df.dropna(subset=['locality_name']).reset_index(drop='True')"
   ]
  },
  {
   "cell_type": "markdown",
   "metadata": {},
   "source": [
    "Приведем данные в столбце `locality_name` к нижнему регистру и заменим ё на е."
   ]
  },
  {
   "cell_type": "code",
   "execution_count": 17,
   "metadata": {},
   "outputs": [],
   "source": [
    "df['locality_name'] = df['locality_name'].str.lower()\n",
    "df['locality_name'] = df['locality_name'].str.replace('ё','е')"
   ]
  },
  {
   "cell_type": "markdown",
   "metadata": {},
   "source": [
    "Проверим изменились ли названия населенных пунктов"
   ]
  },
  {
   "cell_type": "code",
   "execution_count": 18,
   "metadata": {
    "scrolled": false
   },
   "outputs": [
    {
     "name": "stdout",
     "output_type": "stream",
     "text": [
      "['санкт-петербург' 'поселок шушары' 'городской поселок янино-1'\n",
      " 'поселок парголово' 'поселок мурино' 'ломоносов' 'сертолово' 'петергоф'\n",
      " 'пушкин' 'деревня кудрово' 'коммунар' 'колпино'\n",
      " 'поселок городского типа красный бор' 'гатчина' 'деревня федоровское'\n",
      " 'выборг' 'кронштадт' 'кировск' 'поселок металлострой'\n",
      " 'поселок городского типа лебяжье' 'поселок городского типа сиверский'\n",
      " 'поселок молодцово' 'поселок городского типа кузьмоловский'\n",
      " 'садовое товарищество новая ропша' 'деревня пикколово' 'всеволожск'\n",
      " 'волхов' 'кингисепп' 'приозерск' 'деревня куттузи' 'сестрорецк'\n",
      " 'поселок аннино' 'поселок городского типа ефимовский' 'поселок плодовое'\n",
      " 'деревня заклинье' 'поселок торковичи' 'поселок первомайское'\n",
      " 'красное село' 'поселок понтонный' 'сясьстрой' 'деревня старая'\n",
      " 'павловск' 'деревня лесколово' 'сланцы' 'село путилово' 'ивангород'\n",
      " 'мурино' 'деревня новое девяткино' 'шлиссельбург' 'никольское'\n",
      " 'зеленогорск' 'сосновый бор' 'поселок новый свет' 'деревня оржицы'\n",
      " 'деревня кальтино' 'кудрово' 'поселок романовка' 'поселок бугры'\n",
      " 'поселок городского типа рощино' 'кириши' 'волосово' 'отрадное'\n",
      " 'село павлово' 'поселок оредеж' 'село копорье' 'поселок молодежное'\n",
      " 'тихвин' 'поселок победа' 'деревня нурма' 'тосно' 'поселок стрельна'\n",
      " 'бокситогорск' 'поселок александровская' 'деревня лопухинка' 'пикалево'\n",
      " 'поселок терволово' 'поселок городского типа советский' 'подпорожье'\n",
      " 'поселок петровское' 'поселок сельцо' 'поселок городского типа вырица'\n",
      " 'деревня кипень' 'деревня келози' 'деревня вартемяги' 'поселок тельмана'\n",
      " 'поселок севастьяново' 'городской поселок большая ижора'\n",
      " 'городской поселок павлово' 'деревня агалатово' 'поселок новогорелово'\n",
      " 'городской поселок лесогорский' 'деревня лаголово' 'поселок цвелодубово'\n",
      " 'поселок городского типа рахья' 'деревня белогорка' 'поселок заводской'\n",
      " 'городской поселок новоселье' 'деревня большие колпаны'\n",
      " 'деревня горбунки' 'деревня батово' 'деревня заневка' 'деревня иссад'\n",
      " 'поселок городского типа токсово' 'приморск'\n",
      " 'городской поселок федоровское' 'деревня мистолово' 'новая ладога'\n",
      " 'поселок зимитицы' 'поселок барышево' 'деревня разметелево'\n",
      " 'поселок городского типа имени свердлова' 'деревня пеники'\n",
      " 'поселок рябово' 'деревня пудомяги' 'поселок станции корнево'\n",
      " 'деревня низино' 'деревня бегуницы' 'поселок поляны'\n",
      " 'городской поселок мга' 'поселок елизаветино'\n",
      " 'поселок городского типа кузнечное' 'поселок городского типа синявино'\n",
      " 'деревня колтуши' 'поселок запорожское' 'луга' 'деревня гостилицы'\n",
      " 'деревня малое карлино' 'поселок мичуринское' 'поселок песочный'\n",
      " 'поселок сосново' 'деревня аро' 'поселок ильичево'\n",
      " 'поселок городского типа тайцы' 'деревня малое верево' 'деревня извара'\n",
      " 'поселок станции вещево' 'село паша' 'деревня калитино'\n",
      " 'поселок городского типа ульяновка' 'деревня чудской бор'\n",
      " 'поселок городского типа дубровка' 'деревня мины' 'поселок войсковицы'\n",
      " 'деревня коркино' 'поселок городского типа приладожский'\n",
      " 'поселок щеглово' 'поселок гаврилово' 'лодейное поле' 'деревня рабитицы'\n",
      " 'поселок городского типа никольский' 'деревня кузьмолово'\n",
      " 'деревня малые колпаны' 'поселок петро-славянка'\n",
      " 'городской поселок назия' 'поселок старая малукса'\n",
      " 'садовое товарищество рахья' 'деревня меньково' 'деревня старые бегуницы'\n",
      " 'поселок городского типа имени морозова' 'поселок саперный'\n",
      " 'поселок семрино' 'поселок глажево' 'поселок кобринское'\n",
      " 'деревня гарболово' 'поселок станции приветнинское' 'деревня мануйлово'\n",
      " 'деревня пчева' 'поселок цвылево' 'поселок мельниково' 'поселок пудость'\n",
      " 'поселок усть-луга' 'светогорск' 'любань' 'поселок селезнево'\n",
      " 'поселок городского типа рябово' 'каменногорск' 'деревня кривко'\n",
      " 'поселок глебычево' 'деревня парицы' 'поселок жилпоселок'\n",
      " 'поселок городского типа мга' 'поселок войскорово' 'село никольское'\n",
      " 'поселок стеклянный' 'поселок городского типа важины'\n",
      " 'поселок мыза-ивановка' 'село русско-высоцкое'\n",
      " 'поселок городского типа форносово' 'село старая ладога'\n",
      " 'поселок житково' 'городской поселок виллози' 'деревня лампово'\n",
      " 'деревня шпаньково' 'деревня лаврики' 'поселок сумино'\n",
      " 'поселок возрождение' 'деревня старосиверская' 'поселок кикерино'\n",
      " 'деревня старое хинколово' 'поселок пригородный' 'поселок торфяное'\n",
      " 'городской поселок будогощь' 'поселок суходолье' 'поселок красная долина'\n",
      " 'деревня хапо-ое' 'поселок городского типа дружная горка'\n",
      " 'поселок лисий нос' 'деревня яльгелево' 'село рождествено'\n",
      " 'поселок углово' 'деревня старополье' 'поселок левашово'\n",
      " 'деревня сяськелево' 'деревня камышовка'\n",
      " 'садоводческое некоммерческое товарищество лесная поляна'\n",
      " 'деревня хязельки' 'поселок жилгородок' 'поселок городского типа павлово'\n",
      " 'деревня ялгино' 'поселок новый учхоз' 'городской поселок рощино'\n",
      " 'поселок гончарово' 'поселок почап' 'поселок саперное'\n",
      " 'поселок платформа 69-й километр' 'поселок каложицы' 'деревня фалилеево'\n",
      " 'деревня пельгора' 'поселок городского типа лесогорский'\n",
      " 'деревня торошковичи' 'поселок белоостров' 'поселок алексеевка'\n",
      " 'поселок серебрянский' 'поселок лукаши' 'деревня щеглово'\n",
      " 'деревня тарасово' 'поселок кингисеппский'\n",
      " 'поселок при железнодорожной станции вещево' 'поселок ушаки'\n",
      " 'деревня котлы' 'деревня сижно' 'деревня торосово'\n",
      " 'поселок форт красная горка' 'деревня новолисино'\n",
      " 'поселок станции громово' 'поселок городского типа назия'\n",
      " 'деревня старая пустошь' 'поселок коммунары' 'поселок починок'\n",
      " 'поселок городского типа вознесенье' 'поселок репино'\n",
      " 'деревня разбегаево' 'поселок гладкое' 'деревня юкки'\n",
      " 'поселок при железнодорожной станции приветнинское' 'поселок тесово-4'\n",
      " 'поселок коробицыно' 'деревня большая вруда' 'деревня курковицы'\n",
      " 'городской поселок советский' 'поселок кобралово' 'деревня суоранда'\n",
      " 'поселок городского типа кондратьево' 'поселок любань' 'деревня реброво'\n",
      " 'деревня зимитицы' 'деревня тойворово' 'поселок семиозерье'\n",
      " 'поселок лесное' 'поселок совхозный' 'поселок ленинское' 'поселок суйда'\n",
      " 'деревня нижние осельки' 'деревня бор' 'поселок станции свирь'\n",
      " 'поселок перово' 'высоцк' 'поселок гарболово' 'село шум'\n",
      " 'поселок котельский' 'поселок станции лужайка'\n",
      " 'деревня большая пустомержа' 'поселок красносельское'\n",
      " 'деревня вахнова кара' 'деревня пижма'\n",
      " 'коттеджный поселок кивеннапа север' 'поселок ромашки' 'деревня куровицы'\n",
      " 'поселок плоское' 'поселок городского типа большая ижора'\n",
      " 'поселок кирпичное' 'деревня ям-тесово' 'деревня раздолье'\n",
      " 'деревня терпилицы' 'поселок шугозеро' 'деревня ваганово'\n",
      " 'поселок пушное' 'садовое товарищество садко' 'поселок усть-ижора'\n",
      " 'деревня выскатка' 'городской поселок свирьстрой' 'поселок громово'\n",
      " 'деревня кисельня' 'деревня трубников бор' 'поселок калитино'\n",
      " 'поселок высокоключевой' 'садовое товарищество приладожский'\n",
      " 'поселок пансионат зеленый бор' 'деревня ненимяки' 'деревня снегиревка'\n",
      " 'деревня рапполово' 'деревня пустынка' 'поселок рабитицы'\n",
      " 'деревня большой сабск' 'деревня русско' 'деревня лупполово'\n",
      " 'деревня большое рейзино' 'деревня малая романовка' 'поселок дружноселье'\n",
      " 'поселок пчевжа' 'поселок володарское' 'коттеджный поселок лесное'\n",
      " 'деревня тихковицы' 'деревня борисова грива' 'поселок дзержинского']\n"
     ]
    }
   ],
   "source": [
    "print(df['locality_name'].unique())"
   ]
  },
  {
   "cell_type": "markdown",
   "metadata": {},
   "source": [
    "Проверим не появились ли явные дубликаты"
   ]
  },
  {
   "cell_type": "code",
   "execution_count": 19,
   "metadata": {},
   "outputs": [
    {
     "data": {
      "text/plain": [
       "0"
      ]
     },
     "execution_count": 19,
     "metadata": {},
     "output_type": "execute_result"
    }
   ],
   "source": [
    "df.duplicated().sum()"
   ]
  },
  {
   "cell_type": "markdown",
   "metadata": {},
   "source": [
    "Явных дубликатов нет"
   ]
  },
  {
   "cell_type": "markdown",
   "metadata": {},
   "source": [
    "Проанализируем столбцы oors_total, living_area, kitchen_area, airports_nearest, parks_around3000, parks_nearest, ponds_around3000, ponds_nearest, days_exposition"
   ]
  },
  {
   "cell_type": "code",
   "execution_count": 20,
   "metadata": {
    "scrolled": false
   },
   "outputs": [
    {
     "data": {
      "text/plain": [
       "total_images             0.00\n",
       "locality_name            0.00\n",
       "balcony                  0.00\n",
       "open_plan                0.00\n",
       "is_apartment             0.00\n",
       "floor                    0.00\n",
       "studio                   0.00\n",
       "ceiling_height           0.00\n",
       "rooms                    0.00\n",
       "first_day_exposition     0.00\n",
       "total_area               0.00\n",
       "last_price               0.00\n",
       "floors_total             0.41\n",
       "living_area              8.27\n",
       "kitchen_area             9.93\n",
       "days_exposition         12.23\n",
       "cityCenters_nearest     25.42\n",
       "parks_around3000        25.42\n",
       "ponds_around3000        25.42\n",
       "airports_nearest        25.51\n",
       "ponds_nearest           64.38\n",
       "parks_nearest           69.93\n",
       "dtype: float64"
      ]
     },
     "execution_count": 20,
     "metadata": {},
     "output_type": "execute_result"
    }
   ],
   "source": [
    "df.isnull().sum().sort_values()/df.shape[0]*100"
   ]
  },
  {
   "cell_type": "markdown",
   "metadata": {},
   "source": [
    "Количество пропусков в столбце floors_total незначительное (0.07%). Удалим эти значения."
   ]
  },
  {
   "cell_type": "code",
   "execution_count": 21,
   "metadata": {},
   "outputs": [],
   "source": [
    "df = df[df['floors_total']>0].reset_index(drop=True)"
   ]
  },
  {
   "cell_type": "markdown",
   "metadata": {},
   "source": [
    "пропуски в столбцах `living_area`, `kitchen_area` можем оставить т.к эти значения могут быть незаполненны данными (например если рядом с домом нет пруда или парка). Пропуски в столбце с жилой площадью и площадью кухни тоже допустим. Пропуски в столбце days exposition могут означать что квартира ещё не продана. "
   ]
  },
  {
   "cell_type": "code",
   "execution_count": 22,
   "metadata": {},
   "outputs": [],
   "source": [
    "df['airports_nearest'] = df['airports_nearest'].fillna(0)\n",
    "df['parks_around3000'] = df['parks_around3000'].fillna(0)\n",
    "df['parks_nearest'] = df['parks_nearest'].fillna(0)\n",
    "df['ponds_around3000'] = df['ponds_around3000'].fillna(0)\n",
    "df['ponds_nearest'] = df['ponds_nearest'].fillna(0)\n",
    "df['cityCenters_nearest'] = df['cityCenters_nearest'].fillna(0)\n",
    "df['airports_nearest'] = df['airports_nearest'].fillna(0)"
   ]
  },
  {
   "cell_type": "code",
   "execution_count": 23,
   "metadata": {},
   "outputs": [
    {
     "name": "stdout",
     "output_type": "stream",
     "text": [
      "<class 'pandas.core.frame.DataFrame'>\n",
      "RangeIndex: 20616 entries, 0 to 20615\n",
      "Data columns (total 22 columns):\n",
      "total_images            20616 non-null int64\n",
      "last_price              20616 non-null float64\n",
      "total_area              20616 non-null float64\n",
      "first_day_exposition    20616 non-null object\n",
      "rooms                   20616 non-null int64\n",
      "ceiling_height          20616 non-null float64\n",
      "floors_total            20616 non-null float64\n",
      "living_area             18938 non-null float64\n",
      "floor                   20616 non-null int64\n",
      "is_apartment            20616 non-null object\n",
      "studio                  20616 non-null bool\n",
      "open_plan               20616 non-null bool\n",
      "kitchen_area            18606 non-null float64\n",
      "balcony                 20616 non-null float64\n",
      "locality_name           20616 non-null object\n",
      "airports_nearest        20616 non-null float64\n",
      "cityCenters_nearest     20616 non-null float64\n",
      "parks_around3000        20616 non-null float64\n",
      "parks_nearest           20616 non-null float64\n",
      "ponds_around3000        20616 non-null float64\n",
      "ponds_nearest           20616 non-null float64\n",
      "days_exposition         18093 non-null float64\n",
      "dtypes: bool(2), float64(14), int64(3), object(3)\n",
      "memory usage: 3.2+ MB\n"
     ]
    }
   ],
   "source": [
    "df.info()"
   ]
  },
  {
   "cell_type": "markdown",
   "metadata": {},
   "source": [
    "### Изменение типов данных"
   ]
  },
  {
   "cell_type": "markdown",
   "metadata": {},
   "source": [
    "Определим в каких столбцах нужно изменить тип данных"
   ]
  },
  {
   "cell_type": "code",
   "execution_count": 24,
   "metadata": {
    "scrolled": false
   },
   "outputs": [
    {
     "data": {
      "text/html": [
       "<div>\n",
       "<style scoped>\n",
       "    .dataframe tbody tr th:only-of-type {\n",
       "        vertical-align: middle;\n",
       "    }\n",
       "\n",
       "    .dataframe tbody tr th {\n",
       "        vertical-align: top;\n",
       "    }\n",
       "\n",
       "    .dataframe thead th {\n",
       "        text-align: right;\n",
       "    }\n",
       "</style>\n",
       "<table border=\"1\" class=\"dataframe\">\n",
       "  <thead>\n",
       "    <tr style=\"text-align: right;\">\n",
       "      <th></th>\n",
       "      <th>total_images</th>\n",
       "      <th>last_price</th>\n",
       "      <th>total_area</th>\n",
       "      <th>first_day_exposition</th>\n",
       "      <th>rooms</th>\n",
       "      <th>ceiling_height</th>\n",
       "      <th>floors_total</th>\n",
       "      <th>living_area</th>\n",
       "      <th>floor</th>\n",
       "      <th>is_apartment</th>\n",
       "      <th>...</th>\n",
       "      <th>kitchen_area</th>\n",
       "      <th>balcony</th>\n",
       "      <th>locality_name</th>\n",
       "      <th>airports_nearest</th>\n",
       "      <th>cityCenters_nearest</th>\n",
       "      <th>parks_around3000</th>\n",
       "      <th>parks_nearest</th>\n",
       "      <th>ponds_around3000</th>\n",
       "      <th>ponds_nearest</th>\n",
       "      <th>days_exposition</th>\n",
       "    </tr>\n",
       "  </thead>\n",
       "  <tbody>\n",
       "    <tr>\n",
       "      <td>19799</td>\n",
       "      <td>14</td>\n",
       "      <td>5100000.00</td>\n",
       "      <td>60.00</td>\n",
       "      <td>2017-09-19T00:00:00</td>\n",
       "      <td>3</td>\n",
       "      <td>2.50</td>\n",
       "      <td>9.00</td>\n",
       "      <td>43.40</td>\n",
       "      <td>5</td>\n",
       "      <td>False</td>\n",
       "      <td>...</td>\n",
       "      <td>6.50</td>\n",
       "      <td>2.00</td>\n",
       "      <td>санкт-петербург</td>\n",
       "      <td>48442.00</td>\n",
       "      <td>16446.00</td>\n",
       "      <td>0.00</td>\n",
       "      <td>0.00</td>\n",
       "      <td>0.00</td>\n",
       "      <td>0.00</td>\n",
       "      <td>56.00</td>\n",
       "    </tr>\n",
       "    <tr>\n",
       "      <td>8811</td>\n",
       "      <td>20</td>\n",
       "      <td>4850000.00</td>\n",
       "      <td>40.10</td>\n",
       "      <td>2018-10-08T00:00:00</td>\n",
       "      <td>1</td>\n",
       "      <td>2.70</td>\n",
       "      <td>16.00</td>\n",
       "      <td>17.10</td>\n",
       "      <td>8</td>\n",
       "      <td>False</td>\n",
       "      <td>...</td>\n",
       "      <td>11.00</td>\n",
       "      <td>0.00</td>\n",
       "      <td>санкт-петербург</td>\n",
       "      <td>20956.00</td>\n",
       "      <td>22668.00</td>\n",
       "      <td>0.00</td>\n",
       "      <td>0.00</td>\n",
       "      <td>0.00</td>\n",
       "      <td>0.00</td>\n",
       "      <td>10.00</td>\n",
       "    </tr>\n",
       "    <tr>\n",
       "      <td>19691</td>\n",
       "      <td>9</td>\n",
       "      <td>3300000.00</td>\n",
       "      <td>29.80</td>\n",
       "      <td>2015-03-08T00:00:00</td>\n",
       "      <td>1</td>\n",
       "      <td>2.50</td>\n",
       "      <td>9.00</td>\n",
       "      <td>16.12</td>\n",
       "      <td>6</td>\n",
       "      <td>False</td>\n",
       "      <td>...</td>\n",
       "      <td>7.00</td>\n",
       "      <td>0.00</td>\n",
       "      <td>санкт-петербург</td>\n",
       "      <td>21040.00</td>\n",
       "      <td>13769.00</td>\n",
       "      <td>0.00</td>\n",
       "      <td>0.00</td>\n",
       "      <td>0.00</td>\n",
       "      <td>0.00</td>\n",
       "      <td>1135.00</td>\n",
       "    </tr>\n",
       "    <tr>\n",
       "      <td>1401</td>\n",
       "      <td>17</td>\n",
       "      <td>2650000.00</td>\n",
       "      <td>31.00</td>\n",
       "      <td>2017-06-01T00:00:00</td>\n",
       "      <td>1</td>\n",
       "      <td>2.50</td>\n",
       "      <td>5.00</td>\n",
       "      <td>18.00</td>\n",
       "      <td>1</td>\n",
       "      <td>False</td>\n",
       "      <td>...</td>\n",
       "      <td>5.70</td>\n",
       "      <td>0.00</td>\n",
       "      <td>санкт-петербург</td>\n",
       "      <td>13510.00</td>\n",
       "      <td>14589.00</td>\n",
       "      <td>1.00</td>\n",
       "      <td>384.00</td>\n",
       "      <td>1.00</td>\n",
       "      <td>958.00</td>\n",
       "      <td>331.00</td>\n",
       "    </tr>\n",
       "    <tr>\n",
       "      <td>480</td>\n",
       "      <td>13</td>\n",
       "      <td>8000000.00</td>\n",
       "      <td>71.70</td>\n",
       "      <td>2017-05-14T00:00:00</td>\n",
       "      <td>3</td>\n",
       "      <td>2.65</td>\n",
       "      <td>9.00</td>\n",
       "      <td>48.20</td>\n",
       "      <td>3</td>\n",
       "      <td>False</td>\n",
       "      <td>...</td>\n",
       "      <td>9.00</td>\n",
       "      <td>2.00</td>\n",
       "      <td>санкт-петербург</td>\n",
       "      <td>29615.00</td>\n",
       "      <td>6987.00</td>\n",
       "      <td>0.00</td>\n",
       "      <td>0.00</td>\n",
       "      <td>3.00</td>\n",
       "      <td>369.00</td>\n",
       "      <td>5.00</td>\n",
       "    </tr>\n",
       "  </tbody>\n",
       "</table>\n",
       "<p>5 rows × 22 columns</p>\n",
       "</div>"
      ],
      "text/plain": [
       "       total_images  last_price  total_area first_day_exposition  rooms  \\\n",
       "19799            14  5100000.00       60.00  2017-09-19T00:00:00      3   \n",
       "8811             20  4850000.00       40.10  2018-10-08T00:00:00      1   \n",
       "19691             9  3300000.00       29.80  2015-03-08T00:00:00      1   \n",
       "1401             17  2650000.00       31.00  2017-06-01T00:00:00      1   \n",
       "480              13  8000000.00       71.70  2017-05-14T00:00:00      3   \n",
       "\n",
       "       ceiling_height  floors_total  living_area  floor is_apartment  ...  \\\n",
       "19799            2.50          9.00        43.40      5        False  ...   \n",
       "8811             2.70         16.00        17.10      8        False  ...   \n",
       "19691            2.50          9.00        16.12      6        False  ...   \n",
       "1401             2.50          5.00        18.00      1        False  ...   \n",
       "480              2.65          9.00        48.20      3        False  ...   \n",
       "\n",
       "       kitchen_area  balcony    locality_name  airports_nearest  \\\n",
       "19799          6.50     2.00  санкт-петербург          48442.00   \n",
       "8811          11.00     0.00  санкт-петербург          20956.00   \n",
       "19691          7.00     0.00  санкт-петербург          21040.00   \n",
       "1401           5.70     0.00  санкт-петербург          13510.00   \n",
       "480            9.00     2.00  санкт-петербург          29615.00   \n",
       "\n",
       "      cityCenters_nearest  parks_around3000  parks_nearest  ponds_around3000  \\\n",
       "19799            16446.00              0.00           0.00              0.00   \n",
       "8811             22668.00              0.00           0.00              0.00   \n",
       "19691            13769.00              0.00           0.00              0.00   \n",
       "1401             14589.00              1.00         384.00              1.00   \n",
       "480               6987.00              0.00           0.00              3.00   \n",
       "\n",
       "       ponds_nearest  days_exposition  \n",
       "19799           0.00            56.00  \n",
       "8811            0.00            10.00  \n",
       "19691           0.00          1135.00  \n",
       "1401          958.00           331.00  \n",
       "480           369.00             5.00  \n",
       "\n",
       "[5 rows x 22 columns]"
      ]
     },
     "metadata": {},
     "output_type": "display_data"
    }
   ],
   "source": [
    "display(df.sample(5))"
   ]
  },
  {
   "cell_type": "code",
   "execution_count": 25,
   "metadata": {},
   "outputs": [
    {
     "name": "stdout",
     "output_type": "stream",
     "text": [
      "<class 'pandas.core.frame.DataFrame'>\n",
      "RangeIndex: 20616 entries, 0 to 20615\n",
      "Data columns (total 22 columns):\n",
      "total_images            20616 non-null int64\n",
      "last_price              20616 non-null float64\n",
      "total_area              20616 non-null float64\n",
      "first_day_exposition    20616 non-null object\n",
      "rooms                   20616 non-null int64\n",
      "ceiling_height          20616 non-null float64\n",
      "floors_total            20616 non-null float64\n",
      "living_area             18938 non-null float64\n",
      "floor                   20616 non-null int64\n",
      "is_apartment            20616 non-null object\n",
      "studio                  20616 non-null bool\n",
      "open_plan               20616 non-null bool\n",
      "kitchen_area            18606 non-null float64\n",
      "balcony                 20616 non-null float64\n",
      "locality_name           20616 non-null object\n",
      "airports_nearest        20616 non-null float64\n",
      "cityCenters_nearest     20616 non-null float64\n",
      "parks_around3000        20616 non-null float64\n",
      "parks_nearest           20616 non-null float64\n",
      "ponds_around3000        20616 non-null float64\n",
      "ponds_nearest           20616 non-null float64\n",
      "days_exposition         18093 non-null float64\n",
      "dtypes: bool(2), float64(14), int64(3), object(3)\n",
      "memory usage: 3.2+ MB\n"
     ]
    }
   ],
   "source": [
    "df.info()"
   ]
  },
  {
   "cell_type": "markdown",
   "metadata": {},
   "source": [
    "Изменим тип данных в столбце `balcony` на int, т.к если о наличии балкона не указано в объявлении скорее всего он отсутствует, а число балконов может быть только целым числом.\n",
    "Столбец `is_apartment` к типу bool (т.к по логике столбца он должен отображать является ли квартира аппартаментами или нет.\n",
    "Столбец `last_price` к int, т.к это значительно не повлияет на данные."
   ]
  },
  {
   "cell_type": "code",
   "execution_count": 26,
   "metadata": {},
   "outputs": [],
   "source": [
    "df['balcony'] = df['balcony'].astype('int')\n",
    "df['is_apartment'] = df['is_apartment'].astype('bool')\n",
    "df['last_price'] = df['last_price'].astype('int')\n",
    "df['floors_total'] = df['floors_total'].astype('int')\n",
    "df['parks_around3000'] = df['parks_around3000'].astype('int')\n",
    "df['ponds_around3000'] = df['ponds_around3000'].astype('int')\n",
    "df['parks_nearest'] = df['parks_nearest'].astype('int')\n",
    "df['ponds_nearest'] = df['ponds_nearest'].astype('int')\n",
    "df['cityCenters_nearest'] = df['cityCenters_nearest'].astype('int')\n",
    "df['airports_nearest'] = df['airports_nearest'].astype('int')"
   ]
  },
  {
   "cell_type": "code",
   "execution_count": 27,
   "metadata": {},
   "outputs": [
    {
     "name": "stdout",
     "output_type": "stream",
     "text": [
      "<class 'pandas.core.frame.DataFrame'>\n",
      "RangeIndex: 20616 entries, 0 to 20615\n",
      "Data columns (total 22 columns):\n",
      "total_images            20616 non-null int64\n",
      "last_price              20616 non-null int64\n",
      "total_area              20616 non-null float64\n",
      "first_day_exposition    20616 non-null object\n",
      "rooms                   20616 non-null int64\n",
      "ceiling_height          20616 non-null float64\n",
      "floors_total            20616 non-null int64\n",
      "living_area             18938 non-null float64\n",
      "floor                   20616 non-null int64\n",
      "is_apartment            20616 non-null bool\n",
      "studio                  20616 non-null bool\n",
      "open_plan               20616 non-null bool\n",
      "kitchen_area            18606 non-null float64\n",
      "balcony                 20616 non-null int64\n",
      "locality_name           20616 non-null object\n",
      "airports_nearest        20616 non-null int64\n",
      "cityCenters_nearest     20616 non-null int64\n",
      "parks_around3000        20616 non-null int64\n",
      "parks_nearest           20616 non-null int64\n",
      "ponds_around3000        20616 non-null int64\n",
      "ponds_nearest           20616 non-null int64\n",
      "days_exposition         18093 non-null float64\n",
      "dtypes: bool(3), float64(5), int64(12), object(2)\n",
      "memory usage: 3.0+ MB\n"
     ]
    }
   ],
   "source": [
    "df.info()"
   ]
  },
  {
   "cell_type": "markdown",
   "metadata": {},
   "source": [
    "Конвертируем время в столбце `first_day_exposition`"
   ]
  },
  {
   "cell_type": "code",
   "execution_count": 28,
   "metadata": {},
   "outputs": [],
   "source": [
    "df['first_day_exposition'] = pd.to_datetime(df['first_day_exposition'], format=\"%Y-%m-%dT%H:%M:%S\")"
   ]
  },
  {
   "cell_type": "markdown",
   "metadata": {},
   "source": [
    "### Вывод"
   ]
  },
  {
   "cell_type": "markdown",
   "metadata": {},
   "source": [
    "На этом этапе мы:\n",
    "* Изменили типы данных в столбцах датафрейма\n",
    "* Предобработали данные в столбце `locality_name`\n"
   ]
  },
  {
   "cell_type": "markdown",
   "metadata": {},
   "source": [
    "<div class=\"alert alert-warning\">\n",
    "<b>Комментарий ревьюера ⚠️:</b> Вывод по разделу лучше сделать чуть подробнее. "
   ]
  },
  {
   "cell_type": "markdown",
   "metadata": {},
   "source": [
    "## Расчёты и добавление результатов в таблицу"
   ]
  },
  {
   "cell_type": "code",
   "execution_count": 29,
   "metadata": {},
   "outputs": [],
   "source": [
    "df['price_per_m2'] = (df['last_price'] / df['total_area']).round(2) # посчитаем цену за кв.м и округлим до 2 знаков после запятой"
   ]
  },
  {
   "cell_type": "markdown",
   "metadata": {},
   "source": [
    "Добавим в таблицу день недели, месяц и год публикации объявления"
   ]
  },
  {
   "cell_type": "code",
   "execution_count": 30,
   "metadata": {},
   "outputs": [],
   "source": [
    "df['day_of_exposition'] = df['first_day_exposition'].dt.day_name()\n",
    "df['month_exposition'] = df['first_day_exposition'].dt.month_name()\n",
    "df['year_exposition'] = df['first_day_exposition'].dt.year"
   ]
  },
  {
   "cell_type": "markdown",
   "metadata": {},
   "source": [
    "Напишем и применим функцию категоризации по этажу"
   ]
  },
  {
   "cell_type": "code",
   "execution_count": 31,
   "metadata": {},
   "outputs": [],
   "source": [
    "def cat_by_floor (raw):\n",
    "    if raw['floor'] == 1:\n",
    "        return ('первый этаж')\n",
    "    elif raw['floor'] == raw['floors_total']:\n",
    "        return ('последний этаж')\n",
    "    else:\n",
    "        return ('другой')"
   ]
  },
  {
   "cell_type": "code",
   "execution_count": 32,
   "metadata": {},
   "outputs": [],
   "source": [
    "df['cat_by_floor'] = df.apply(cat_by_floor,axis=1)"
   ]
  },
  {
   "cell_type": "markdown",
   "metadata": {},
   "source": [
    "Рассчитаем соотношение общей площади к жилой, а также соотношение площади кухни к общей площади"
   ]
  },
  {
   "cell_type": "code",
   "execution_count": 33,
   "metadata": {},
   "outputs": [],
   "source": [
    "df['total_to_living_ratio'] = (df['total_area'] / df['living_area']).round(2)\n",
    "df['kitchen_to_total_ratio'] = (df['kitchen_area'] / df['total_area']).round(2)"
   ]
  },
  {
   "cell_type": "code",
   "execution_count": 34,
   "metadata": {
    "scrolled": true
   },
   "outputs": [
    {
     "data": {
      "text/html": [
       "<div>\n",
       "<style scoped>\n",
       "    .dataframe tbody tr th:only-of-type {\n",
       "        vertical-align: middle;\n",
       "    }\n",
       "\n",
       "    .dataframe tbody tr th {\n",
       "        vertical-align: top;\n",
       "    }\n",
       "\n",
       "    .dataframe thead th {\n",
       "        text-align: right;\n",
       "    }\n",
       "</style>\n",
       "<table border=\"1\" class=\"dataframe\">\n",
       "  <thead>\n",
       "    <tr style=\"text-align: right;\">\n",
       "      <th></th>\n",
       "      <th>total_images</th>\n",
       "      <th>last_price</th>\n",
       "      <th>total_area</th>\n",
       "      <th>first_day_exposition</th>\n",
       "      <th>rooms</th>\n",
       "      <th>ceiling_height</th>\n",
       "      <th>floors_total</th>\n",
       "      <th>living_area</th>\n",
       "      <th>floor</th>\n",
       "      <th>is_apartment</th>\n",
       "      <th>...</th>\n",
       "      <th>ponds_around3000</th>\n",
       "      <th>ponds_nearest</th>\n",
       "      <th>days_exposition</th>\n",
       "      <th>price_per_m2</th>\n",
       "      <th>day_of_exposition</th>\n",
       "      <th>month_exposition</th>\n",
       "      <th>year_exposition</th>\n",
       "      <th>cat_by_floor</th>\n",
       "      <th>total_to_living_ratio</th>\n",
       "      <th>kitchen_to_total_ratio</th>\n",
       "    </tr>\n",
       "  </thead>\n",
       "  <tbody>\n",
       "    <tr>\n",
       "      <td>20214</td>\n",
       "      <td>20</td>\n",
       "      <td>12650000</td>\n",
       "      <td>100.00</td>\n",
       "      <td>2017-11-08</td>\n",
       "      <td>3</td>\n",
       "      <td>2.65</td>\n",
       "      <td>22</td>\n",
       "      <td>55.00</td>\n",
       "      <td>10</td>\n",
       "      <td>True</td>\n",
       "      <td>...</td>\n",
       "      <td>0</td>\n",
       "      <td>0</td>\n",
       "      <td>87.00</td>\n",
       "      <td>126500.00</td>\n",
       "      <td>Wednesday</td>\n",
       "      <td>November</td>\n",
       "      <td>2017</td>\n",
       "      <td>другой</td>\n",
       "      <td>1.82</td>\n",
       "      <td>0.13</td>\n",
       "    </tr>\n",
       "    <tr>\n",
       "      <td>5281</td>\n",
       "      <td>11</td>\n",
       "      <td>3100000</td>\n",
       "      <td>56.00</td>\n",
       "      <td>2019-04-01</td>\n",
       "      <td>2</td>\n",
       "      <td>2.50</td>\n",
       "      <td>5</td>\n",
       "      <td>33.00</td>\n",
       "      <td>5</td>\n",
       "      <td>True</td>\n",
       "      <td>...</td>\n",
       "      <td>0</td>\n",
       "      <td>0</td>\n",
       "      <td>nan</td>\n",
       "      <td>55357.14</td>\n",
       "      <td>Monday</td>\n",
       "      <td>April</td>\n",
       "      <td>2019</td>\n",
       "      <td>последний этаж</td>\n",
       "      <td>1.70</td>\n",
       "      <td>0.15</td>\n",
       "    </tr>\n",
       "    <tr>\n",
       "      <td>5978</td>\n",
       "      <td>9</td>\n",
       "      <td>3199000</td>\n",
       "      <td>45.00</td>\n",
       "      <td>2017-10-19</td>\n",
       "      <td>1</td>\n",
       "      <td>2.65</td>\n",
       "      <td>9</td>\n",
       "      <td>19.00</td>\n",
       "      <td>5</td>\n",
       "      <td>True</td>\n",
       "      <td>...</td>\n",
       "      <td>1</td>\n",
       "      <td>630</td>\n",
       "      <td>46.00</td>\n",
       "      <td>71088.89</td>\n",
       "      <td>Thursday</td>\n",
       "      <td>October</td>\n",
       "      <td>2017</td>\n",
       "      <td>другой</td>\n",
       "      <td>2.37</td>\n",
       "      <td>0.29</td>\n",
       "    </tr>\n",
       "    <tr>\n",
       "      <td>6512</td>\n",
       "      <td>5</td>\n",
       "      <td>3200000</td>\n",
       "      <td>42.00</td>\n",
       "      <td>2015-05-29</td>\n",
       "      <td>2</td>\n",
       "      <td>2.65</td>\n",
       "      <td>3</td>\n",
       "      <td>29.70</td>\n",
       "      <td>2</td>\n",
       "      <td>True</td>\n",
       "      <td>...</td>\n",
       "      <td>1</td>\n",
       "      <td>372</td>\n",
       "      <td>946.00</td>\n",
       "      <td>76190.48</td>\n",
       "      <td>Friday</td>\n",
       "      <td>May</td>\n",
       "      <td>2015</td>\n",
       "      <td>другой</td>\n",
       "      <td>1.41</td>\n",
       "      <td>0.13</td>\n",
       "    </tr>\n",
       "    <tr>\n",
       "      <td>17023</td>\n",
       "      <td>7</td>\n",
       "      <td>4290000</td>\n",
       "      <td>45.00</td>\n",
       "      <td>2017-04-09</td>\n",
       "      <td>1</td>\n",
       "      <td>2.65</td>\n",
       "      <td>18</td>\n",
       "      <td>19.00</td>\n",
       "      <td>14</td>\n",
       "      <td>True</td>\n",
       "      <td>...</td>\n",
       "      <td>1</td>\n",
       "      <td>853</td>\n",
       "      <td>115.00</td>\n",
       "      <td>95333.33</td>\n",
       "      <td>Sunday</td>\n",
       "      <td>April</td>\n",
       "      <td>2017</td>\n",
       "      <td>другой</td>\n",
       "      <td>2.37</td>\n",
       "      <td>0.27</td>\n",
       "    </tr>\n",
       "  </tbody>\n",
       "</table>\n",
       "<p>5 rows × 29 columns</p>\n",
       "</div>"
      ],
      "text/plain": [
       "       total_images  last_price  total_area first_day_exposition  rooms  \\\n",
       "20214            20    12650000      100.00           2017-11-08      3   \n",
       "5281             11     3100000       56.00           2019-04-01      2   \n",
       "5978              9     3199000       45.00           2017-10-19      1   \n",
       "6512              5     3200000       42.00           2015-05-29      2   \n",
       "17023             7     4290000       45.00           2017-04-09      1   \n",
       "\n",
       "       ceiling_height  floors_total  living_area  floor  is_apartment  ...  \\\n",
       "20214            2.65            22        55.00     10          True  ...   \n",
       "5281             2.50             5        33.00      5          True  ...   \n",
       "5978             2.65             9        19.00      5          True  ...   \n",
       "6512             2.65             3        29.70      2          True  ...   \n",
       "17023            2.65            18        19.00     14          True  ...   \n",
       "\n",
       "       ponds_around3000  ponds_nearest  days_exposition  price_per_m2  \\\n",
       "20214                 0              0            87.00     126500.00   \n",
       "5281                  0              0              nan      55357.14   \n",
       "5978                  1            630            46.00      71088.89   \n",
       "6512                  1            372           946.00      76190.48   \n",
       "17023                 1            853           115.00      95333.33   \n",
       "\n",
       "      day_of_exposition  month_exposition  year_exposition    cat_by_floor  \\\n",
       "20214         Wednesday          November             2017          другой   \n",
       "5281             Monday             April             2019  последний этаж   \n",
       "5978           Thursday           October             2017          другой   \n",
       "6512             Friday               May             2015          другой   \n",
       "17023            Sunday             April             2017          другой   \n",
       "\n",
       "       total_to_living_ratio  kitchen_to_total_ratio  \n",
       "20214                   1.82                    0.13  \n",
       "5281                    1.70                    0.15  \n",
       "5978                    2.37                    0.29  \n",
       "6512                    1.41                    0.13  \n",
       "17023                   2.37                    0.27  \n",
       "\n",
       "[5 rows x 29 columns]"
      ]
     },
     "execution_count": 34,
     "metadata": {},
     "output_type": "execute_result"
    }
   ],
   "source": [
    "df.sample(5)"
   ]
  },
  {
   "cell_type": "markdown",
   "metadata": {},
   "source": [
    "### Вывод"
   ]
  },
  {
   "cell_type": "markdown",
   "metadata": {},
   "source": [
    "На этом этапе рассчитали необдходимые величины и добавили их в датафрейм, также категоризировали датафрейм по этажу (первый, другой, последний)"
   ]
  },
  {
   "cell_type": "markdown",
   "metadata": {},
   "source": [
    "## Исследовательский анализ данных"
   ]
  },
  {
   "cell_type": "markdown",
   "metadata": {},
   "source": [
    "### Ознакомление с данными"
   ]
  },
  {
   "cell_type": "code",
   "execution_count": 35,
   "metadata": {},
   "outputs": [
    {
     "data": {
      "text/html": [
       "<div>\n",
       "<style scoped>\n",
       "    .dataframe tbody tr th:only-of-type {\n",
       "        vertical-align: middle;\n",
       "    }\n",
       "\n",
       "    .dataframe tbody tr th {\n",
       "        vertical-align: top;\n",
       "    }\n",
       "\n",
       "    .dataframe thead th {\n",
       "        text-align: right;\n",
       "    }\n",
       "</style>\n",
       "<table border=\"1\" class=\"dataframe\">\n",
       "  <thead>\n",
       "    <tr style=\"text-align: right;\">\n",
       "      <th></th>\n",
       "      <th>total_area</th>\n",
       "      <th>last_price</th>\n",
       "      <th>rooms</th>\n",
       "      <th>ceiling_height</th>\n",
       "    </tr>\n",
       "  </thead>\n",
       "  <tbody>\n",
       "    <tr>\n",
       "      <td>count</td>\n",
       "      <td>20616.00</td>\n",
       "      <td>20616.00</td>\n",
       "      <td>20616.00</td>\n",
       "      <td>20616.00</td>\n",
       "    </tr>\n",
       "    <tr>\n",
       "      <td>mean</td>\n",
       "      <td>55.74</td>\n",
       "      <td>5552576.38</td>\n",
       "      <td>1.96</td>\n",
       "      <td>2.63</td>\n",
       "    </tr>\n",
       "    <tr>\n",
       "      <td>std</td>\n",
       "      <td>28.51</td>\n",
       "      <td>8811156.84</td>\n",
       "      <td>0.98</td>\n",
       "      <td>0.08</td>\n",
       "    </tr>\n",
       "    <tr>\n",
       "      <td>min</td>\n",
       "      <td>12.00</td>\n",
       "      <td>12190.00</td>\n",
       "      <td>0.00</td>\n",
       "      <td>2.45</td>\n",
       "    </tr>\n",
       "    <tr>\n",
       "      <td>25%</td>\n",
       "      <td>39.00</td>\n",
       "      <td>3300000.00</td>\n",
       "      <td>1.00</td>\n",
       "      <td>2.60</td>\n",
       "    </tr>\n",
       "    <tr>\n",
       "      <td>50%</td>\n",
       "      <td>49.10</td>\n",
       "      <td>4399500.00</td>\n",
       "      <td>2.00</td>\n",
       "      <td>2.65</td>\n",
       "    </tr>\n",
       "    <tr>\n",
       "      <td>75%</td>\n",
       "      <td>64.30</td>\n",
       "      <td>6000000.00</td>\n",
       "      <td>3.00</td>\n",
       "      <td>2.65</td>\n",
       "    </tr>\n",
       "    <tr>\n",
       "      <td>max</td>\n",
       "      <td>900.00</td>\n",
       "      <td>763000000.00</td>\n",
       "      <td>19.00</td>\n",
       "      <td>2.85</td>\n",
       "    </tr>\n",
       "  </tbody>\n",
       "</table>\n",
       "</div>"
      ],
      "text/plain": [
       "       total_area    last_price     rooms  ceiling_height\n",
       "count    20616.00      20616.00  20616.00        20616.00\n",
       "mean        55.74    5552576.38      1.96            2.63\n",
       "std         28.51    8811156.84      0.98            0.08\n",
       "min         12.00      12190.00      0.00            2.45\n",
       "25%         39.00    3300000.00      1.00            2.60\n",
       "50%         49.10    4399500.00      2.00            2.65\n",
       "75%         64.30    6000000.00      3.00            2.65\n",
       "max        900.00  763000000.00     19.00            2.85"
      ]
     },
     "execution_count": 35,
     "metadata": {},
     "output_type": "execute_result"
    }
   ],
   "source": [
    "df[['total_area','last_price','rooms','ceiling_height']].describe()"
   ]
  },
  {
   "cell_type": "markdown",
   "metadata": {},
   "source": [
    "Ознакомились с данными, в данных явно есть выбросы. Необходимо их обработать"
   ]
  },
  {
   "cell_type": "markdown",
   "metadata": {},
   "source": [
    "Напишем функцию, которая будет возвращать датафрейм без выбросов (по определенной колонке)"
   ]
  },
  {
   "cell_type": "code",
   "execution_count": 36,
   "metadata": {},
   "outputs": [],
   "source": [
    "def without_outliers(column):\n",
    "    q1 = df[column].quantile(0.25)                 \n",
    "    q3 = df[column].quantile(0.75)\n",
    "    iqr = q3 - q1\n",
    "    res = (df[column] >= (q1 - 1.5*iqr)) & (df[column] <= (q3 + 1.5*iqr))\n",
    "    return df.loc[res]"
   ]
  },
  {
   "cell_type": "markdown",
   "metadata": {},
   "source": [
    "Выведем гистограммы этих значений, для этого создадим функцию создания гистограммы."
   ]
  },
  {
   "cell_type": "code",
   "execution_count": 37,
   "metadata": {},
   "outputs": [],
   "source": [
    "def buildHist(data, xname, title):\n",
    "    plt.figure(figsize=(10,3))\n",
    "    data.hist()\n",
    "    plt.xlabel(xname)\n",
    "    plt.title(title)\n",
    "    plt.ticklabel_format(style='plain') # убираем scientific notation\n",
    "    plt.show()"
   ]
  },
  {
   "cell_type": "code",
   "execution_count": 38,
   "metadata": {
    "scrolled": false
   },
   "outputs": [
    {
     "data": {
      "image/png": "[encoded data removed]",
      "text/plain": [
       "<Figure size 720x216 with 1 Axes>"
      ]
     },
     "metadata": {
      "needs_background": "light"
     },
     "output_type": "display_data"
    },
    {
     "data": {
      "text/plain": [
       "count    19718.00\n",
       "mean        51.68\n",
       "std         17.00\n",
       "min         12.00\n",
       "25%         38.30\n",
       "50%         47.90\n",
       "75%         62.00\n",
       "max        102.25\n",
       "Name: total_area, dtype: float64"
      ]
     },
     "execution_count": 38,
     "metadata": {},
     "output_type": "execute_result"
    }
   ],
   "source": [
    "buildHist(without_outliers('total_area')['total_area'],'Площадь, кв.м','Гистограмма общей площади')\n",
    "without_outliers('total_area')['total_area'].describe()"
   ]
  },
  {
   "cell_type": "markdown",
   "metadata": {},
   "source": [
    "Наиболее популярны квартиры площадью **38 - 62** кв.м. Средняя площадь **51.68** кв.м"
   ]
  },
  {
   "cell_type": "code",
   "execution_count": 39,
   "metadata": {
    "scrolled": false
   },
   "outputs": [
    {
     "data": {
      "image/png": "[encoded data removed]",
      "text/plain": [
       "<Figure size 720x216 with 1 Axes>"
      ]
     },
     "metadata": {
      "needs_background": "light"
     },
     "output_type": "display_data"
    },
    {
     "data": {
      "text/plain": [
       "count       19110.00\n",
       "mean      4489758.31\n",
       "std       1873036.20\n",
       "min         12190.00\n",
       "25%       3200000.00\n",
       "50%       4200000.00\n",
       "75%       5500000.00\n",
       "max      10050000.00\n",
       "Name: last_price, dtype: float64"
      ]
     },
     "execution_count": 39,
     "metadata": {},
     "output_type": "execute_result"
    }
   ],
   "source": [
    "buildHist(without_outliers('last_price')['last_price'],'Цена, руб','Гистограмма цены')\n",
    "without_outliers('last_price')['last_price'].describe()"
   ]
  },
  {
   "cell_type": "markdown",
   "metadata": {},
   "source": [
    "Чаще всего цена квартиру составляет от **3.2 до 5.5** млн. руб. Средняя цена **4489758** руб."
   ]
  },
  {
   "cell_type": "code",
   "execution_count": 40,
   "metadata": {
    "scrolled": true
   },
   "outputs": [
    {
     "data": {
      "image/png": "[encoded data removed]",
      "text/plain": [
       "<Figure size 720x216 with 1 Axes>"
      ]
     },
     "metadata": {
      "needs_background": "light"
     },
     "output_type": "display_data"
    },
    {
     "data": {
      "text/plain": [
       "count    20587.00\n",
       "mean         1.96\n",
       "std          0.94\n",
       "min          0.00\n",
       "25%          1.00\n",
       "50%          2.00\n",
       "75%          3.00\n",
       "max          6.00\n",
       "Name: rooms, dtype: float64"
      ]
     },
     "execution_count": 40,
     "metadata": {},
     "output_type": "execute_result"
    }
   ],
   "source": [
    "buildHist(without_outliers('rooms')['rooms'],'кол-во комнат','Гистограмма количества комнат')\n",
    "without_outliers('rooms')['rooms'].describe()"
   ]
  },
  {
   "cell_type": "markdown",
   "metadata": {},
   "source": [
    "Чаще всего продают квартиры в которых **1-6 комнат**. Среднее значение комнат **2**"
   ]
  },
  {
   "cell_type": "code",
   "execution_count": 41,
   "metadata": {},
   "outputs": [
    {
     "data": {
      "image/png": "[encoded data removed]",
      "text/plain": [
       "<Figure size 720x216 with 1 Axes>"
      ]
     },
     "metadata": {
      "needs_background": "light"
     },
     "output_type": "display_data"
    }
   ],
   "source": [
    "buildHist(without_outliers('ceiling_height')['ceiling_height'],'Высота потолка','Гистограмма высоты потолков')"
   ]
  },
  {
   "cell_type": "markdown",
   "metadata": {},
   "source": [
    "В среднем высота потолка составляет от **2.53 - 2.72 м**. Среднее значение **2.64 м**"
   ]
  },
  {
   "cell_type": "markdown",
   "metadata": {},
   "source": [
    "### Вывод"
   ]
  },
  {
   "cell_type": "markdown",
   "metadata": {},
   "source": [
    "Квартиры имеют следующие параметры:\n",
    "* площадь **38 - 55** кв. Средняя площадь **51.68** кв.м\n",
    "* количество комнат **1-2**. Среднее значение **2**\n",
    "* цена квартиры составляет от **3.2 до 5.5** млн. руб. Средняя цена **4489758** руб.\n",
    "* высота потолка составляет **2.65** м. Среднее значение **2.65 м**"
   ]
  },
  {
   "cell_type": "markdown",
   "metadata": {},
   "source": [
    "### Время продажи квартиры"
   ]
  },
  {
   "cell_type": "markdown",
   "metadata": {},
   "source": [
    "Изучим время продажи квартиру (столбец `days_exposition`)"
   ]
  },
  {
   "cell_type": "code",
   "execution_count": 42,
   "metadata": {
    "scrolled": false
   },
   "outputs": [
    {
     "data": {
      "text/plain": [
       "count    16551.00\n",
       "mean       120.51\n",
       "std        112.87\n",
       "min          1.00\n",
       "25%         39.00\n",
       "50%         79.00\n",
       "75%        172.00\n",
       "max        476.00\n",
       "Name: days_exposition, dtype: float64"
      ]
     },
     "execution_count": 42,
     "metadata": {},
     "output_type": "execute_result"
    }
   ],
   "source": [
    "without_outliers('days_exposition')['days_exposition'].describe()"
   ]
  },
  {
   "cell_type": "markdown",
   "metadata": {},
   "source": [
    "Построим гистограмму времени продажи квартиры"
   ]
  },
  {
   "cell_type": "code",
   "execution_count": 43,
   "metadata": {
    "scrolled": false
   },
   "outputs": [
    {
     "data": {
      "image/png": "[encoded data removed]",
      "text/plain": [
       "<Figure size 720x216 with 1 Axes>"
      ]
     },
     "metadata": {
      "needs_background": "light"
     },
     "output_type": "display_data"
    }
   ],
   "source": [
    "buildHist(without_outliers('days_exposition')['days_exposition'],'дни','Время продажи квартиры, дней')"
   ]
  },
  {
   "cell_type": "markdown",
   "metadata": {},
   "source": [
    "Для того чтобы, определить какое время можно считать слишком быстрым, а какое рассчитаем квартили, отбросим выбросы данных."
   ]
  },
  {
   "cell_type": "code",
   "execution_count": 44,
   "metadata": {
    "scrolled": true
   },
   "outputs": [
    {
     "name": "stdout",
     "output_type": "stream",
     "text": [
      "быстрая продажа, ранее 39.0 дней\n",
      "долгая продажа, более 172.0 дней\n",
      "медианное время продажи 79.0 дней\n"
     ]
    }
   ],
   "source": [
    "print('быстрая продажа, ранее',without_outliers('days_exposition')['days_exposition'].quantile(0.25).round(),'дней')\n",
    "print('долгая продажа, более',without_outliers('days_exposition')['days_exposition'].quantile(0.75).round(),'дней')\n",
    "print('медианное время продажи',without_outliers('days_exposition')['days_exposition'].median(),'дней')"
   ]
  },
  {
   "cell_type": "markdown",
   "metadata": {},
   "source": [
    "### Вывод"
   ]
  },
  {
   "cell_type": "markdown",
   "metadata": {},
   "source": [
    "Продажу быстрее чем за 39 день можно считать быстрой. Продажу более 172 дней можно считать долгой."
   ]
  },
  {
   "cell_type": "code",
   "execution_count": 45,
   "metadata": {},
   "outputs": [
    {
     "data": {
      "text/html": [
       "<div>\n",
       "<style scoped>\n",
       "    .dataframe tbody tr th:only-of-type {\n",
       "        vertical-align: middle;\n",
       "    }\n",
       "\n",
       "    .dataframe tbody tr th {\n",
       "        vertical-align: top;\n",
       "    }\n",
       "\n",
       "    .dataframe thead th {\n",
       "        text-align: right;\n",
       "    }\n",
       "</style>\n",
       "<table border=\"1\" class=\"dataframe\">\n",
       "  <thead>\n",
       "    <tr style=\"text-align: right;\">\n",
       "      <th></th>\n",
       "      <th>total_images</th>\n",
       "      <th>last_price</th>\n",
       "      <th>total_area</th>\n",
       "      <th>rooms</th>\n",
       "      <th>ceiling_height</th>\n",
       "      <th>floors_total</th>\n",
       "      <th>living_area</th>\n",
       "      <th>floor</th>\n",
       "      <th>kitchen_area</th>\n",
       "      <th>balcony</th>\n",
       "      <th>...</th>\n",
       "      <th>cityCenters_nearest</th>\n",
       "      <th>parks_around3000</th>\n",
       "      <th>parks_nearest</th>\n",
       "      <th>ponds_around3000</th>\n",
       "      <th>ponds_nearest</th>\n",
       "      <th>days_exposition</th>\n",
       "      <th>price_per_m2</th>\n",
       "      <th>year_exposition</th>\n",
       "      <th>total_to_living_ratio</th>\n",
       "      <th>kitchen_to_total_ratio</th>\n",
       "    </tr>\n",
       "  </thead>\n",
       "  <tbody>\n",
       "    <tr>\n",
       "      <td>count</td>\n",
       "      <td>20616.00</td>\n",
       "      <td>20616.00</td>\n",
       "      <td>20616.00</td>\n",
       "      <td>20616.00</td>\n",
       "      <td>20616.00</td>\n",
       "      <td>20616.00</td>\n",
       "      <td>18938.00</td>\n",
       "      <td>20616.00</td>\n",
       "      <td>18606.00</td>\n",
       "      <td>20616.00</td>\n",
       "      <td>...</td>\n",
       "      <td>20616.00</td>\n",
       "      <td>20616.00</td>\n",
       "      <td>20616.00</td>\n",
       "      <td>20616.00</td>\n",
       "      <td>20616.00</td>\n",
       "      <td>18093.00</td>\n",
       "      <td>20616.00</td>\n",
       "      <td>20616.00</td>\n",
       "      <td>18938.00</td>\n",
       "      <td>18606.00</td>\n",
       "    </tr>\n",
       "    <tr>\n",
       "      <td>mean</td>\n",
       "      <td>9.78</td>\n",
       "      <td>5552576.38</td>\n",
       "      <td>55.74</td>\n",
       "      <td>1.96</td>\n",
       "      <td>2.63</td>\n",
       "      <td>11.21</td>\n",
       "      <td>31.53</td>\n",
       "      <td>6.12</td>\n",
       "      <td>10.01</td>\n",
       "      <td>0.61</td>\n",
       "      <td>...</td>\n",
       "      <td>11322.56</td>\n",
       "      <td>0.39</td>\n",
       "      <td>151.68</td>\n",
       "      <td>0.52</td>\n",
       "      <td>189.20</td>\n",
       "      <td>172.24</td>\n",
       "      <td>94689.86</td>\n",
       "      <td>2017.38</td>\n",
       "      <td>1.85</td>\n",
       "      <td>0.19</td>\n",
       "    </tr>\n",
       "    <tr>\n",
       "      <td>std</td>\n",
       "      <td>5.62</td>\n",
       "      <td>8811156.84</td>\n",
       "      <td>28.51</td>\n",
       "      <td>0.98</td>\n",
       "      <td>0.08</td>\n",
       "      <td>6.66</td>\n",
       "      <td>17.40</td>\n",
       "      <td>5.00</td>\n",
       "      <td>5.02</td>\n",
       "      <td>0.96</td>\n",
       "      <td>...</td>\n",
       "      <td>9754.52</td>\n",
       "      <td>0.68</td>\n",
       "      <td>299.35</td>\n",
       "      <td>0.82</td>\n",
       "      <td>304.09</td>\n",
       "      <td>210.96</td>\n",
       "      <td>40325.99</td>\n",
       "      <td>1.03</td>\n",
       "      <td>0.43</td>\n",
       "      <td>0.07</td>\n",
       "    </tr>\n",
       "    <tr>\n",
       "      <td>min</td>\n",
       "      <td>0.00</td>\n",
       "      <td>12190.00</td>\n",
       "      <td>12.00</td>\n",
       "      <td>0.00</td>\n",
       "      <td>2.45</td>\n",
       "      <td>1.00</td>\n",
       "      <td>2.00</td>\n",
       "      <td>1.00</td>\n",
       "      <td>1.30</td>\n",
       "      <td>0.00</td>\n",
       "      <td>...</td>\n",
       "      <td>0.00</td>\n",
       "      <td>0.00</td>\n",
       "      <td>0.00</td>\n",
       "      <td>0.00</td>\n",
       "      <td>0.00</td>\n",
       "      <td>1.00</td>\n",
       "      <td>111.83</td>\n",
       "      <td>2014.00</td>\n",
       "      <td>1.00</td>\n",
       "      <td>0.03</td>\n",
       "    </tr>\n",
       "    <tr>\n",
       "      <td>25%</td>\n",
       "      <td>6.00</td>\n",
       "      <td>3300000.00</td>\n",
       "      <td>39.00</td>\n",
       "      <td>1.00</td>\n",
       "      <td>2.60</td>\n",
       "      <td>5.00</td>\n",
       "      <td>18.00</td>\n",
       "      <td>2.00</td>\n",
       "      <td>7.00</td>\n",
       "      <td>0.00</td>\n",
       "      <td>...</td>\n",
       "      <td>0.00</td>\n",
       "      <td>0.00</td>\n",
       "      <td>0.00</td>\n",
       "      <td>0.00</td>\n",
       "      <td>0.00</td>\n",
       "      <td>44.00</td>\n",
       "      <td>74718.14</td>\n",
       "      <td>2017.00</td>\n",
       "      <td>1.58</td>\n",
       "      <td>0.14</td>\n",
       "    </tr>\n",
       "    <tr>\n",
       "      <td>50%</td>\n",
       "      <td>9.00</td>\n",
       "      <td>4399500.00</td>\n",
       "      <td>49.10</td>\n",
       "      <td>2.00</td>\n",
       "      <td>2.65</td>\n",
       "      <td>9.00</td>\n",
       "      <td>29.00</td>\n",
       "      <td>5.00</td>\n",
       "      <td>9.00</td>\n",
       "      <td>0.00</td>\n",
       "      <td>...</td>\n",
       "      <td>11928.00</td>\n",
       "      <td>0.00</td>\n",
       "      <td>0.00</td>\n",
       "      <td>0.00</td>\n",
       "      <td>0.00</td>\n",
       "      <td>91.00</td>\n",
       "      <td>93055.56</td>\n",
       "      <td>2017.00</td>\n",
       "      <td>1.77</td>\n",
       "      <td>0.18</td>\n",
       "    </tr>\n",
       "    <tr>\n",
       "      <td>75%</td>\n",
       "      <td>14.00</td>\n",
       "      <td>6000000.00</td>\n",
       "      <td>64.30</td>\n",
       "      <td>3.00</td>\n",
       "      <td>2.65</td>\n",
       "      <td>16.00</td>\n",
       "      <td>39.90</td>\n",
       "      <td>8.00</td>\n",
       "      <td>11.30</td>\n",
       "      <td>1.00</td>\n",
       "      <td>...</td>\n",
       "      <td>15598.00</td>\n",
       "      <td>1.00</td>\n",
       "      <td>226.00</td>\n",
       "      <td>1.00</td>\n",
       "      <td>358.00</td>\n",
       "      <td>217.00</td>\n",
       "      <td>110714.29</td>\n",
       "      <td>2018.00</td>\n",
       "      <td>2.03</td>\n",
       "      <td>0.24</td>\n",
       "    </tr>\n",
       "    <tr>\n",
       "      <td>max</td>\n",
       "      <td>50.00</td>\n",
       "      <td>763000000.00</td>\n",
       "      <td>900.00</td>\n",
       "      <td>19.00</td>\n",
       "      <td>2.85</td>\n",
       "      <td>52.00</td>\n",
       "      <td>409.70</td>\n",
       "      <td>33.00</td>\n",
       "      <td>112.00</td>\n",
       "      <td>5.00</td>\n",
       "      <td>...</td>\n",
       "      <td>65968.00</td>\n",
       "      <td>3.00</td>\n",
       "      <td>3190.00</td>\n",
       "      <td>3.00</td>\n",
       "      <td>1344.00</td>\n",
       "      <td>1580.00</td>\n",
       "      <td>1907500.00</td>\n",
       "      <td>2019.00</td>\n",
       "      <td>14.37</td>\n",
       "      <td>0.79</td>\n",
       "    </tr>\n",
       "  </tbody>\n",
       "</table>\n",
       "<p>8 rows × 21 columns</p>\n",
       "</div>"
      ],
      "text/plain": [
       "       total_images    last_price  total_area     rooms  ceiling_height  \\\n",
       "count      20616.00      20616.00    20616.00  20616.00        20616.00   \n",
       "mean           9.78    5552576.38       55.74      1.96            2.63   \n",
       "std            5.62    8811156.84       28.51      0.98            0.08   \n",
       "min            0.00      12190.00       12.00      0.00            2.45   \n",
       "25%            6.00    3300000.00       39.00      1.00            2.60   \n",
       "50%            9.00    4399500.00       49.10      2.00            2.65   \n",
       "75%           14.00    6000000.00       64.30      3.00            2.65   \n",
       "max           50.00  763000000.00      900.00     19.00            2.85   \n",
       "\n",
       "       floors_total  living_area     floor  kitchen_area   balcony  ...  \\\n",
       "count      20616.00     18938.00  20616.00      18606.00  20616.00  ...   \n",
       "mean          11.21        31.53      6.12         10.01      0.61  ...   \n",
       "std            6.66        17.40      5.00          5.02      0.96  ...   \n",
       "min            1.00         2.00      1.00          1.30      0.00  ...   \n",
       "25%            5.00        18.00      2.00          7.00      0.00  ...   \n",
       "50%            9.00        29.00      5.00          9.00      0.00  ...   \n",
       "75%           16.00        39.90      8.00         11.30      1.00  ...   \n",
       "max           52.00       409.70     33.00        112.00      5.00  ...   \n",
       "\n",
       "       cityCenters_nearest  parks_around3000  parks_nearest  ponds_around3000  \\\n",
       "count             20616.00          20616.00       20616.00          20616.00   \n",
       "mean              11322.56              0.39         151.68              0.52   \n",
       "std                9754.52              0.68         299.35              0.82   \n",
       "min                   0.00              0.00           0.00              0.00   \n",
       "25%                   0.00              0.00           0.00              0.00   \n",
       "50%               11928.00              0.00           0.00              0.00   \n",
       "75%               15598.00              1.00         226.00              1.00   \n",
       "max               65968.00              3.00        3190.00              3.00   \n",
       "\n",
       "       ponds_nearest  days_exposition  price_per_m2  year_exposition  \\\n",
       "count       20616.00         18093.00      20616.00         20616.00   \n",
       "mean          189.20           172.24      94689.86          2017.38   \n",
       "std           304.09           210.96      40325.99             1.03   \n",
       "min             0.00             1.00        111.83          2014.00   \n",
       "25%             0.00            44.00      74718.14          2017.00   \n",
       "50%             0.00            91.00      93055.56          2017.00   \n",
       "75%           358.00           217.00     110714.29          2018.00   \n",
       "max          1344.00          1580.00    1907500.00          2019.00   \n",
       "\n",
       "       total_to_living_ratio  kitchen_to_total_ratio  \n",
       "count               18938.00                18606.00  \n",
       "mean                    1.85                    0.19  \n",
       "std                     0.43                    0.07  \n",
       "min                     1.00                    0.03  \n",
       "25%                     1.58                    0.14  \n",
       "50%                     1.77                    0.18  \n",
       "75%                     2.03                    0.24  \n",
       "max                    14.37                    0.79  \n",
       "\n",
       "[8 rows x 21 columns]"
      ]
     },
     "execution_count": 45,
     "metadata": {},
     "output_type": "execute_result"
    }
   ],
   "source": [
    "df.describe()"
   ]
  },
  {
   "cell_type": "markdown",
   "metadata": {},
   "source": [
    "В датасете мы обнаружили выбросы и отфильтровали их \n",
    "Больше всего нас интересовали аномалии в столбцах `lastprice` и `ceiling_height`. Т.к Высота потолка 100м и слишком высокая цена сильно влияли на среднее значение. "
   ]
  },
  {
   "cell_type": "code",
   "execution_count": 46,
   "metadata": {},
   "outputs": [
    {
     "name": "stdout",
     "output_type": "stream",
     "text": [
      "Средняя цена: 5552576.38 /Средняя без выбросов 4489758.31\n",
      "Cредняя высота потолка 2.77 / Средняя высота потолка без выбросов 2.64\n"
     ]
    }
   ],
   "source": [
    "print('Средняя цена:',df['last_price'].mean().round(2),'/Средняя без выбросов', without_outliers('last_price')['last_price'].mean().round(2))\n",
    "print('Cредняя высота потолка 2.77','/ Средняя высота потолка без выбросов', without_outliers('ceiling_height')['ceiling_height'].mean().round(2))\n"
   ]
  },
  {
   "cell_type": "markdown",
   "metadata": {},
   "source": [
    "### Какие факторы влияют"
   ]
  },
  {
   "cell_type": "code",
   "execution_count": 47,
   "metadata": {},
   "outputs": [],
   "source": [
    "df_cleaned = without_outliers('price_per_m2') # датафрейм без выбросов по цене за м2"
   ]
  },
  {
   "cell_type": "markdown",
   "metadata": {},
   "source": [
    "Изучим корреляцию цены за квадратный метр, количества комнат и близости к центру города"
   ]
  },
  {
   "cell_type": "code",
   "execution_count": 48,
   "metadata": {
    "scrolled": true
   },
   "outputs": [
    {
     "data": {
      "text/html": [
       "<div>\n",
       "<style scoped>\n",
       "    .dataframe tbody tr th:only-of-type {\n",
       "        vertical-align: middle;\n",
       "    }\n",
       "\n",
       "    .dataframe tbody tr th {\n",
       "        vertical-align: top;\n",
       "    }\n",
       "\n",
       "    .dataframe thead th {\n",
       "        text-align: right;\n",
       "    }\n",
       "</style>\n",
       "<table border=\"1\" class=\"dataframe\">\n",
       "  <thead>\n",
       "    <tr style=\"text-align: right;\">\n",
       "      <th></th>\n",
       "      <th>price_per_m2</th>\n",
       "      <th>rooms</th>\n",
       "      <th>cityCenters_nearest</th>\n",
       "    </tr>\n",
       "  </thead>\n",
       "  <tbody>\n",
       "    <tr>\n",
       "      <td>price_per_m2</td>\n",
       "      <td>1.00</td>\n",
       "      <td>-0.16</td>\n",
       "      <td>0.21</td>\n",
       "    </tr>\n",
       "    <tr>\n",
       "      <td>rooms</td>\n",
       "      <td>-0.16</td>\n",
       "      <td>1.00</td>\n",
       "      <td>-0.00</td>\n",
       "    </tr>\n",
       "    <tr>\n",
       "      <td>cityCenters_nearest</td>\n",
       "      <td>0.21</td>\n",
       "      <td>-0.00</td>\n",
       "      <td>1.00</td>\n",
       "    </tr>\n",
       "  </tbody>\n",
       "</table>\n",
       "</div>"
      ],
      "text/plain": [
       "                     price_per_m2  rooms  cityCenters_nearest\n",
       "price_per_m2                 1.00  -0.16                 0.21\n",
       "rooms                       -0.16   1.00                -0.00\n",
       "cityCenters_nearest          0.21  -0.00                 1.00"
      ]
     },
     "metadata": {},
     "output_type": "display_data"
    }
   ],
   "source": [
    "display(df_cleaned[['price_per_m2',\n",
    "           'rooms',\n",
    "           'cityCenters_nearest']].corr())"
   ]
  },
  {
   "cell_type": "code",
   "execution_count": 49,
   "metadata": {},
   "outputs": [
    {
     "data": {
      "image/png": "[encoded data removed]",
      "text/plain": [
       "<Figure size 432x288 with 9 Axes>"
      ]
     },
     "metadata": {
      "needs_background": "light"
     },
     "output_type": "display_data"
    }
   ],
   "source": [
    "pd.plotting.scatter_matrix(df_cleaned[['price_per_m2','rooms','cityCenters_nearest']])\n",
    "plt.show()"
   ]
  },
  {
   "cell_type": "markdown",
   "metadata": {},
   "source": [
    "Можем отметить обратную корреляцию с близостью к центру города (чем ближе к центру города, тем дороже)."
   ]
  },
  {
   "cell_type": "markdown",
   "metadata": {},
   "source": [
    "Построим диаграмму размаха для разных этажей"
   ]
  },
  {
   "cell_type": "code",
   "execution_count": 50,
   "metadata": {},
   "outputs": [
    {
     "data": {
      "image/png": "[encoded data removed]",
      "text/plain": [
       "<Figure size 720x360 with 1 Axes>"
      ]
     },
     "metadata": {
      "needs_background": "light"
     },
     "output_type": "display_data"
    }
   ],
   "source": [
    "df_cleaned.boxplot('price_per_m2', by='cat_by_floor',figsize=(10,5))\n",
    "plt.title ('диаграмма размаха цены  за кв.м (руб.) для разных этажей')\n",
    "plt.xlabel('этаж')\n",
    "plt.show()"
   ]
  },
  {
   "cell_type": "markdown",
   "metadata": {},
   "source": [
    "Можем отметить что квартиры на крайних этажах стоят дешевле, чем остальные. Квартиры на первом этаже дешевле чем на последнем."
   ]
  },
  {
   "cell_type": "markdown",
   "metadata": {},
   "source": [
    "Построим сводную таблицу чтобы убедиться в этом"
   ]
  },
  {
   "cell_type": "code",
   "execution_count": 51,
   "metadata": {
    "scrolled": true
   },
   "outputs": [
    {
     "data": {
      "text/html": [
       "<div>\n",
       "<style scoped>\n",
       "    .dataframe tbody tr th:only-of-type {\n",
       "        vertical-align: middle;\n",
       "    }\n",
       "\n",
       "    .dataframe tbody tr th {\n",
       "        vertical-align: top;\n",
       "    }\n",
       "\n",
       "    .dataframe thead tr th {\n",
       "        text-align: left;\n",
       "    }\n",
       "\n",
       "    .dataframe thead tr:last-of-type th {\n",
       "        text-align: right;\n",
       "    }\n",
       "</style>\n",
       "<table border=\"1\" class=\"dataframe\">\n",
       "  <thead>\n",
       "    <tr>\n",
       "      <th></th>\n",
       "      <th>mean</th>\n",
       "    </tr>\n",
       "    <tr>\n",
       "      <th></th>\n",
       "      <th>price_per_m2</th>\n",
       "    </tr>\n",
       "    <tr>\n",
       "      <th>cat_by_floor</th>\n",
       "      <th></th>\n",
       "    </tr>\n",
       "  </thead>\n",
       "  <tbody>\n",
       "    <tr>\n",
       "      <td>другой</td>\n",
       "      <td>95584.89</td>\n",
       "    </tr>\n",
       "    <tr>\n",
       "      <td>первый этаж</td>\n",
       "      <td>78087.55</td>\n",
       "    </tr>\n",
       "    <tr>\n",
       "      <td>последний этаж</td>\n",
       "      <td>82793.69</td>\n",
       "    </tr>\n",
       "  </tbody>\n",
       "</table>\n",
       "</div>"
      ],
      "text/plain": [
       "                       mean\n",
       "               price_per_m2\n",
       "cat_by_floor               \n",
       "другой             95584.89\n",
       "первый этаж        78087.55\n",
       "последний этаж     82793.69"
      ]
     },
     "execution_count": 51,
     "metadata": {},
     "output_type": "execute_result"
    }
   ],
   "source": [
    "df_cleaned.pivot_table(index='cat_by_floor',values=['price_per_m2'],aggfunc=['mean'])"
   ]
  },
  {
   "cell_type": "markdown",
   "metadata": {},
   "source": [
    "Построим диаграммы размаха, чтобы проследить связь цены с различными факторами"
   ]
  },
  {
   "cell_type": "code",
   "execution_count": 52,
   "metadata": {
    "scrolled": true
   },
   "outputs": [
    {
     "data": {
      "image/png": "[encoded data removed]",
      "text/plain": [
       "<Figure size 720x360 with 1 Axes>"
      ]
     },
     "metadata": {
      "needs_background": "light"
     },
     "output_type": "display_data"
    }
   ],
   "source": [
    "df_cleaned.boxplot('price_per_m2', by='day_of_exposition',figsize=(10,5))\n",
    "plt.title ('диаграмма размаха цены за кв.м (руб.) в зависимости от дня недели')\n",
    "plt.xlabel('день недели')\n",
    "plt.show()"
   ]
  },
  {
   "cell_type": "markdown",
   "metadata": {},
   "source": [
    "Цены в зависимости от дня недели почти не изменяются, на выходных медиана цены за кв.м чуть ниже, чем в будни. Наибольшие цены наблюдаются в четверг."
   ]
  },
  {
   "cell_type": "code",
   "execution_count": 53,
   "metadata": {},
   "outputs": [
    {
     "data": {
      "image/png": "[encoded data removed]",
      "text/plain": [
       "<Figure size 720x360 with 1 Axes>"
      ]
     },
     "metadata": {
      "needs_background": "light"
     },
     "output_type": "display_data"
    }
   ],
   "source": [
    "df_cleaned.boxplot('price_per_m2', by='month_exposition',figsize=(10,5))\n",
    "plt.title ('диаграмма размаха цены за кв.м (руб.) в зависимости от месяца продажи')\n",
    "plt.xlabel('месяц')\n",
    "plt.show()"
   ]
  },
  {
   "cell_type": "markdown",
   "metadata": {},
   "source": [
    "Наиболее высокие цены на жилье в апреле и марте. "
   ]
  },
  {
   "cell_type": "code",
   "execution_count": 54,
   "metadata": {
    "scrolled": false
   },
   "outputs": [
    {
     "data": {
      "image/png": "[encoded data removed]",
      "text/plain": [
       "<Figure size 720x360 with 1 Axes>"
      ]
     },
     "metadata": {
      "needs_background": "light"
     },
     "output_type": "display_data"
    }
   ],
   "source": [
    "df_cleaned.boxplot('price_per_m2', by='year_exposition',figsize=(10,5))\n",
    "plt.title ('диаграмма размаха цены за кв.м (руб.) в зависимости от года')\n",
    "plt.xlabel('год')\n",
    "plt.show()"
   ]
  },
  {
   "cell_type": "markdown",
   "metadata": {},
   "source": [
    "Цена квартир в 2014 году была выше чем в остальные годы. С 2015-2018 цена за кв.м плавно росла. В 2019 году цена значительно увелчилась, но не выше чем в 2014. "
   ]
  },
  {
   "cell_type": "markdown",
   "metadata": {},
   "source": [
    "### Вывод"
   ]
  },
  {
   "cell_type": "markdown",
   "metadata": {},
   "source": [
    "* В общем на цену квартиры влияет площадь, и близость к центру города.\n",
    "* Квартиры на крайних этажах стоят дешевле (самые дешевые на первом этаже).\n",
    "* Меньше всего на стоимость кв.м на квартиры влият день публикации объявления (на выходных цены незначительно ниже). \n",
    "* Самая высокая цена за квадратный метр была в 2014 год, цена резко снизилась в 2015 году и постоянно росла с 2015 года."
   ]
  },
  {
   "cell_type": "markdown",
   "metadata": {},
   "source": [
    "Построим таблицу с десятью населенными пунктами с самой высокой ценой за кв.м"
   ]
  },
  {
   "cell_type": "code",
   "execution_count": 55,
   "metadata": {
    "scrolled": true
   },
   "outputs": [
    {
     "data": {
      "text/html": [
       "<div>\n",
       "<style scoped>\n",
       "    .dataframe tbody tr th:only-of-type {\n",
       "        vertical-align: middle;\n",
       "    }\n",
       "\n",
       "    .dataframe tbody tr th {\n",
       "        vertical-align: top;\n",
       "    }\n",
       "\n",
       "    .dataframe thead th {\n",
       "        text-align: right;\n",
       "    }\n",
       "</style>\n",
       "<table border=\"1\" class=\"dataframe\">\n",
       "  <thead>\n",
       "    <tr style=\"text-align: right;\">\n",
       "      <th></th>\n",
       "      <th>price_per_m2</th>\n",
       "    </tr>\n",
       "    <tr>\n",
       "      <th>locality_name</th>\n",
       "      <th></th>\n",
       "    </tr>\n",
       "  </thead>\n",
       "  <tbody>\n",
       "    <tr>\n",
       "      <td>санкт-петербург</td>\n",
       "      <td>104699.82</td>\n",
       "    </tr>\n",
       "    <tr>\n",
       "      <td>пушкин</td>\n",
       "      <td>100680.61</td>\n",
       "    </tr>\n",
       "    <tr>\n",
       "      <td>кудрово</td>\n",
       "      <td>100133.47</td>\n",
       "    </tr>\n",
       "    <tr>\n",
       "      <td>сестрорецк</td>\n",
       "      <td>99930.41</td>\n",
       "    </tr>\n",
       "    <tr>\n",
       "      <td>деревня мистолово</td>\n",
       "      <td>98549.98</td>\n",
       "    </tr>\n",
       "    <tr>\n",
       "      <td>зеленогорск</td>\n",
       "      <td>97894.21</td>\n",
       "    </tr>\n",
       "    <tr>\n",
       "      <td>поселок левашово</td>\n",
       "      <td>96997.69</td>\n",
       "    </tr>\n",
       "    <tr>\n",
       "      <td>мурино</td>\n",
       "      <td>92722.71</td>\n",
       "    </tr>\n",
       "    <tr>\n",
       "      <td>деревня кудрово</td>\n",
       "      <td>92553.23</td>\n",
       "    </tr>\n",
       "    <tr>\n",
       "      <td>поселок парголово</td>\n",
       "      <td>90175.91</td>\n",
       "    </tr>\n",
       "  </tbody>\n",
       "</table>\n",
       "</div>"
      ],
      "text/plain": [
       "                   price_per_m2\n",
       "locality_name                  \n",
       "санкт-петербург       104699.82\n",
       "пушкин                100680.61\n",
       "кудрово               100133.47\n",
       "сестрорецк             99930.41\n",
       "деревня мистолово      98549.98\n",
       "зеленогорск            97894.21\n",
       "поселок левашово       96997.69\n",
       "мурино                 92722.71\n",
       "деревня кудрово        92553.23\n",
       "поселок парголово      90175.91"
      ]
     },
     "execution_count": 55,
     "metadata": {},
     "output_type": "execute_result"
    }
   ],
   "source": [
    "df_cleaned.groupby('locality_name').agg({'price_per_m2':'mean'}).sort_values(by='price_per_m2', ascending=False).head(10)"
   ]
  },
  {
   "cell_type": "markdown",
   "metadata": {},
   "source": [
    "Самые дорогие квартиры, ожидаемо, находятся в Санкт-Петербурге и в близжайшем пригороде."
   ]
  },
  {
   "cell_type": "markdown",
   "metadata": {},
   "source": [
    "### Изучим предложения квартир в центре города"
   ]
  },
  {
   "cell_type": "markdown",
   "metadata": {},
   "source": [
    "Переведем растояние из метров в километры"
   ]
  },
  {
   "cell_type": "code",
   "execution_count": 56,
   "metadata": {},
   "outputs": [],
   "source": [
    "df['cityCenters_nearest_km']= df['cityCenters_nearest'].apply(lambda x: x / 1000).round(0)"
   ]
  },
  {
   "cell_type": "code",
   "execution_count": 57,
   "metadata": {},
   "outputs": [],
   "source": [
    "df_cleaned['cityCenters_nearest_km'] = df_cleaned['cityCenters_nearest'].apply(lambda x: x / 1000).round(0)"
   ]
  },
  {
   "cell_type": "markdown",
   "metadata": {},
   "source": [
    "Построим график распределения цены в зависимости от расстрояния от центра города"
   ]
  },
  {
   "cell_type": "code",
   "execution_count": 58,
   "metadata": {},
   "outputs": [
    {
     "data": {
      "image/png": "[encoded data removed]",
      "text/plain": [
       "<Figure size 720x720 with 1 Axes>"
      ]
     },
     "metadata": {
      "needs_background": "light"
     },
     "output_type": "display_data"
    }
   ],
   "source": [
    "(without_outliers('last_price')\n",
    "    .query('locality_name in \"санкт-петербург\"')\n",
    "    .pivot_table(index='cityCenters_nearest_km',values='last_price')\n",
    "    .plot(y='last_price',kind='bar',figsize=(10,10))\n",
    ")\n",
    "plt.title('Распеределение цены на км от центра города')\n",
    "plt.xlabel('км от центра города')\n",
    "plt.legend(['цена недвижимости'])\n",
    "plt.show()"
   ]
  },
  {
   "cell_type": "markdown",
   "metadata": {},
   "source": [
    "В соответствии с графиком центром города можно считать **8 км** от центра города."
   ]
  },
  {
   "cell_type": "code",
   "execution_count": 59,
   "metadata": {
    "scrolled": false
   },
   "outputs": [
    {
     "data": {
      "image/png": "[encoded data removed]",
      "text/plain": [
       "<Figure size 720x216 with 1 Axes>"
      ]
     },
     "metadata": {
      "needs_background": "light"
     },
     "output_type": "display_data"
    },
    {
     "data": {
      "text/plain": [
       "count    1853.00\n",
       "mean       61.23\n",
       "std        20.00\n",
       "min        12.00\n",
       "25%        44.50\n",
       "50%        60.00\n",
       "75%        77.00\n",
       "max       102.25\n",
       "Name: total_area, dtype: float64"
      ]
     },
     "execution_count": 59,
     "metadata": {},
     "output_type": "execute_result"
    }
   ],
   "source": [
    "buildHist(without_outliers('total_area').query('locality_name in \"санкт-петербург\" and cityCenters_nearest_km < 9')['total_area'],'Площадь, кв.м','Гистограмма общей площади в центре города')\n",
    "without_outliers('total_area').query('locality_name in \"санкт-петербург\" and cityCenters_nearest_km < 9')['total_area'].describe()"
   ]
  },
  {
   "cell_type": "markdown",
   "metadata": {},
   "source": [
    "Площадь квартир в центре города в среднем больше.от **44.5** до **77 кв.м.** В среднем **61.23 кв.м.**"
   ]
  },
  {
   "cell_type": "code",
   "execution_count": 60,
   "metadata": {
    "scrolled": true
   },
   "outputs": [
    {
     "data": {
      "image/png": "[encoded data removed]",
      "text/plain": [
       "<Figure size 720x216 with 1 Axes>"
      ]
     },
     "metadata": {
      "needs_background": "light"
     },
     "output_type": "display_data"
    },
    {
     "data": {
      "text/plain": [
       "count        1524.00\n",
       "mean      6471217.23\n",
       "std       1881614.84\n",
       "min       1686000.00\n",
       "25%       5000000.00\n",
       "50%       6500000.00\n",
       "75%       7990000.00\n",
       "max      10038000.00\n",
       "Name: last_price, dtype: float64"
      ]
     },
     "execution_count": 60,
     "metadata": {},
     "output_type": "execute_result"
    }
   ],
   "source": [
    "buildHist(without_outliers('last_price').query('locality_name in \"санкт-петербург\" & cityCenters_nearest_km < 9')['last_price'],'Цена, руб','Гистограмма цены в центре города')\n",
    "without_outliers('last_price').query('locality_name in \"санкт-петербург\" & cityCenters_nearest_km < 9')['last_price'].describe()"
   ]
  },
  {
   "cell_type": "markdown",
   "metadata": {},
   "source": [
    "Цена квартир в центре города выше.Цена от **5 млн. р до 7.99 млн.р**  Средняя цена **6471217 руб.**"
   ]
  },
  {
   "cell_type": "code",
   "execution_count": 61,
   "metadata": {},
   "outputs": [
    {
     "data": {
      "image/png": "[encoded data removed]",
      "text/plain": [
       "<Figure size 720x216 with 1 Axes>"
      ]
     },
     "metadata": {
      "needs_background": "light"
     },
     "output_type": "display_data"
    },
    {
     "data": {
      "text/plain": [
       "count    2280.00\n",
       "mean        2.41\n",
       "std         1.13\n",
       "min         0.00\n",
       "25%         2.00\n",
       "50%         2.00\n",
       "75%         3.00\n",
       "max         6.00\n",
       "Name: rooms, dtype: float64"
      ]
     },
     "execution_count": 61,
     "metadata": {},
     "output_type": "execute_result"
    }
   ],
   "source": [
    "buildHist(without_outliers('rooms').query('locality_name in \"санкт-петербург\" & cityCenters_nearest_km < 9')['rooms'],'количество','Гистограмма количества комнат в квартире в центре города')\n",
    "without_outliers('rooms').query('locality_name in \"санкт-петербург\" & cityCenters_nearest_km < 9')['rooms'].describe()"
   ]
  },
  {
   "cell_type": "markdown",
   "metadata": {},
   "source": [
    "В центре города, как правило, в квартире больше комнат **от 2 до 3**. Среднее значение **2.41**"
   ]
  },
  {
   "cell_type": "code",
   "execution_count": 62,
   "metadata": {
    "scrolled": false
   },
   "outputs": [
    {
     "data": {
      "image/png": "[encoded data removed]",
      "text/plain": [
       "<Figure size 720x216 with 1 Axes>"
      ]
     },
     "metadata": {
      "needs_background": "light"
     },
     "output_type": "display_data"
    },
    {
     "data": {
      "text/plain": [
       "count    1780.00\n",
       "mean        2.65\n",
       "std         0.02\n",
       "min         2.53\n",
       "25%         2.65\n",
       "50%         2.65\n",
       "75%         2.65\n",
       "max         2.72\n",
       "Name: ceiling_height, dtype: float64"
      ]
     },
     "execution_count": 62,
     "metadata": {},
     "output_type": "execute_result"
    }
   ],
   "source": [
    "buildHist(without_outliers('ceiling_height').query('locality_name in \"санкт-петербург\" & cityCenters_nearest_km < 9')['ceiling_height'],'м','Гистограмма высоты потолка в квартире в центре города')\n",
    "without_outliers('ceiling_height').query('locality_name in \"санкт-петербург\" & cityCenters_nearest_km < 9')['ceiling_height'].describe()"
   ]
  },
  {
   "cell_type": "markdown",
   "metadata": {},
   "source": [
    "Высота потолков, как правило, равна **2.65** м."
   ]
  },
  {
   "cell_type": "markdown",
   "metadata": {},
   "source": [
    "### Вывод"
   ]
  },
  {
   "cell_type": "markdown",
   "metadata": {},
   "source": [
    "Квартира в центре города обладает следующими параметрами:\n",
    "* Площадь квартиры от **44.5** до **77 кв.м.** В среднем **61.23 кв.м.**\n",
    "* Цена от **5 млн. р до 7.99 млн.р**  Средняя цена **6471217 руб.**\n",
    "* Кол-во комнат **от 2 до 3**. Среднее значение **2.41**\n",
    "* Высота потолка **2.65** м."
   ]
  },
  {
   "cell_type": "markdown",
   "metadata": {},
   "source": [
    "### Фактолы влияющие на стоимость квартир в центре города"
   ]
  },
  {
   "cell_type": "code",
   "execution_count": 63,
   "metadata": {},
   "outputs": [
    {
     "data": {
      "text/html": [
       "<div>\n",
       "<style scoped>\n",
       "    .dataframe tbody tr th:only-of-type {\n",
       "        vertical-align: middle;\n",
       "    }\n",
       "\n",
       "    .dataframe tbody tr th {\n",
       "        vertical-align: top;\n",
       "    }\n",
       "\n",
       "    .dataframe thead th {\n",
       "        text-align: right;\n",
       "    }\n",
       "</style>\n",
       "<table border=\"1\" class=\"dataframe\">\n",
       "  <thead>\n",
       "    <tr style=\"text-align: right;\">\n",
       "      <th></th>\n",
       "      <th>price_per_m2</th>\n",
       "      <th>rooms</th>\n",
       "      <th>cityCenters_nearest</th>\n",
       "      <th>total_area</th>\n",
       "    </tr>\n",
       "  </thead>\n",
       "  <tbody>\n",
       "    <tr>\n",
       "      <td>price_per_m2</td>\n",
       "      <td>1.00</td>\n",
       "      <td>-0.31</td>\n",
       "      <td>0.07</td>\n",
       "      <td>-0.17</td>\n",
       "    </tr>\n",
       "    <tr>\n",
       "      <td>rooms</td>\n",
       "      <td>-0.31</td>\n",
       "      <td>1.00</td>\n",
       "      <td>-0.22</td>\n",
       "      <td>0.76</td>\n",
       "    </tr>\n",
       "    <tr>\n",
       "      <td>cityCenters_nearest</td>\n",
       "      <td>0.07</td>\n",
       "      <td>-0.22</td>\n",
       "      <td>1.00</td>\n",
       "      <td>-0.18</td>\n",
       "    </tr>\n",
       "    <tr>\n",
       "      <td>total_area</td>\n",
       "      <td>-0.17</td>\n",
       "      <td>0.76</td>\n",
       "      <td>-0.18</td>\n",
       "      <td>1.00</td>\n",
       "    </tr>\n",
       "  </tbody>\n",
       "</table>\n",
       "</div>"
      ],
      "text/plain": [
       "                     price_per_m2  rooms  cityCenters_nearest  total_area\n",
       "price_per_m2                 1.00  -0.31                 0.07       -0.17\n",
       "rooms                       -0.31   1.00                -0.22        0.76\n",
       "cityCenters_nearest          0.07  -0.22                 1.00       -0.18\n",
       "total_area                  -0.17   0.76                -0.18        1.00"
      ]
     },
     "execution_count": 63,
     "metadata": {},
     "output_type": "execute_result"
    }
   ],
   "source": [
    "df_cleaned.query('locality_name in \"санкт-петербург\" & cityCenters_nearest_km < 9 ')[['price_per_m2',\n",
    "           'rooms',\n",
    "           'cat_by_floor',\n",
    "           'cityCenters_nearest','total_area']].corr()"
   ]
  },
  {
   "cell_type": "code",
   "execution_count": 64,
   "metadata": {
    "scrolled": false
   },
   "outputs": [
    {
     "data": {
      "text/html": [
       "<div>\n",
       "<style scoped>\n",
       "    .dataframe tbody tr th:only-of-type {\n",
       "        vertical-align: middle;\n",
       "    }\n",
       "\n",
       "    .dataframe tbody tr th {\n",
       "        vertical-align: top;\n",
       "    }\n",
       "\n",
       "    .dataframe thead th {\n",
       "        text-align: right;\n",
       "    }\n",
       "</style>\n",
       "<table border=\"1\" class=\"dataframe\">\n",
       "  <thead>\n",
       "    <tr style=\"text-align: right;\">\n",
       "      <th></th>\n",
       "      <th>price_per_m2</th>\n",
       "      <th>rooms</th>\n",
       "      <th>cityCenters_nearest</th>\n",
       "      <th>total_area</th>\n",
       "    </tr>\n",
       "  </thead>\n",
       "  <tbody>\n",
       "    <tr>\n",
       "      <td>count</td>\n",
       "      <td>1929.00</td>\n",
       "      <td>1929.00</td>\n",
       "      <td>1929.00</td>\n",
       "      <td>1929.00</td>\n",
       "    </tr>\n",
       "    <tr>\n",
       "      <td>mean</td>\n",
       "      <td>116849.29</td>\n",
       "      <td>2.44</td>\n",
       "      <td>5370.29</td>\n",
       "      <td>74.45</td>\n",
       "    </tr>\n",
       "    <tr>\n",
       "      <td>std</td>\n",
       "      <td>24270.50</td>\n",
       "      <td>1.28</td>\n",
       "      <td>2063.07</td>\n",
       "      <td>42.58</td>\n",
       "    </tr>\n",
       "    <tr>\n",
       "      <td>min</td>\n",
       "      <td>26250.00</td>\n",
       "      <td>0.00</td>\n",
       "      <td>0.00</td>\n",
       "      <td>13.20</td>\n",
       "    </tr>\n",
       "    <tr>\n",
       "      <td>25%</td>\n",
       "      <td>98397.44</td>\n",
       "      <td>2.00</td>\n",
       "      <td>4096.00</td>\n",
       "      <td>46.30</td>\n",
       "    </tr>\n",
       "    <tr>\n",
       "      <td>50%</td>\n",
       "      <td>115821.27</td>\n",
       "      <td>2.00</td>\n",
       "      <td>5332.00</td>\n",
       "      <td>65.00</td>\n",
       "    </tr>\n",
       "    <tr>\n",
       "      <td>75%</td>\n",
       "      <td>136363.64</td>\n",
       "      <td>3.00</td>\n",
       "      <td>7101.00</td>\n",
       "      <td>89.00</td>\n",
       "    </tr>\n",
       "    <tr>\n",
       "      <td>max</td>\n",
       "      <td>164383.56</td>\n",
       "      <td>19.00</td>\n",
       "      <td>8491.00</td>\n",
       "      <td>517.00</td>\n",
       "    </tr>\n",
       "  </tbody>\n",
       "</table>\n",
       "</div>"
      ],
      "text/plain": [
       "       price_per_m2    rooms  cityCenters_nearest  total_area\n",
       "count       1929.00  1929.00              1929.00     1929.00\n",
       "mean      116849.29     2.44              5370.29       74.45\n",
       "std        24270.50     1.28              2063.07       42.58\n",
       "min        26250.00     0.00                 0.00       13.20\n",
       "25%        98397.44     2.00              4096.00       46.30\n",
       "50%       115821.27     2.00              5332.00       65.00\n",
       "75%       136363.64     3.00              7101.00       89.00\n",
       "max       164383.56    19.00              8491.00      517.00"
      ]
     },
     "metadata": {},
     "output_type": "display_data"
    }
   ],
   "source": [
    "display(df_cleaned.query('locality_name in \"санкт-петербург\" & cityCenters_nearest_km < 9')[['price_per_m2',\n",
    "           'rooms',\n",
    "           'cat_by_floor',\n",
    "           'cityCenters_nearest','total_area']].describe())"
   ]
  },
  {
   "cell_type": "markdown",
   "metadata": {},
   "source": [
    "Исходя из матрицы корреляции можно отметить что существует слабая отрицательная корреляция цены за кв.м и количества комнат (чем меньше комнат, тем больше цена)"
   ]
  },
  {
   "cell_type": "markdown",
   "metadata": {},
   "source": [
    "Рассчитаем время продажи квартир в центре города"
   ]
  },
  {
   "cell_type": "code",
   "execution_count": 65,
   "metadata": {},
   "outputs": [
    {
     "name": "stdout",
     "output_type": "stream",
     "text": [
      "быстрая продажа, ранее 40.0 дней\n",
      "долгая продажа, более 196.0 дней\n",
      "медианное время продажи 90.0 дней\n"
     ]
    }
   ],
   "source": [
    "print('быстрая продажа, ранее',without_outliers('days_exposition').query('locality_name in \"санкт-петербург\" & cityCenters_nearest_km < 9')['days_exposition'].quantile(0.25).round(),'дней')\n",
    "print('долгая продажа, более',without_outliers('days_exposition').query('locality_name in \"санкт-петербург\" & cityCenters_nearest_km < 9')['days_exposition'].quantile(0.75).round(),'дней')\n",
    "print('медианное время продажи',without_outliers('days_exposition').query('locality_name in \"санкт-петербург\" & cityCenters_nearest_km < 9')['days_exposition'].median().round(),'дней')"
   ]
  },
  {
   "cell_type": "markdown",
   "metadata": {},
   "source": [
    "Квартиры в центре города в среднем продаются дольше."
   ]
  },
  {
   "cell_type": "code",
   "execution_count": 66,
   "metadata": {
    "scrolled": true
   },
   "outputs": [
    {
     "data": {
      "image/png": "[encoded data removed]",
      "text/plain": [
       "<Figure size 720x360 with 1 Axes>"
      ]
     },
     "metadata": {
      "needs_background": "light"
     },
     "output_type": "display_data"
    }
   ],
   "source": [
    "df_cleaned.query('locality_name in \"санкт-петербург\" & cityCenters_nearest_km < 9').boxplot('price_per_m2', by='cat_by_floor',figsize=(10,5))\n",
    "plt.title ('диаграмма размаха цены  за кв.м (руб.) для разных этажей')\n",
    "plt.xlabel('этаж')\n",
    "plt.show()"
   ]
  },
  {
   "cell_type": "markdown",
   "metadata": {},
   "source": [
    "В центре города квартиры на крайних этажах также стоят дешевле."
   ]
  },
  {
   "cell_type": "markdown",
   "metadata": {},
   "source": [
    "### Вывод"
   ]
  },
  {
   "cell_type": "markdown",
   "metadata": {},
   "source": [
    "На этом этапе мы изучили связь средней цены за кв. м и различных параметров для всего датафрейма, а также отдельно для центра Санкт-Петербурга. \n",
    "Мы отметили следующие особенности:\n",
    "* В общем на цену квартиры влияет площадь, и близость к центру города. Но эта связь не прослеживается для квартир расположенных в самом центре города (ближе 9 км. к центру города.)\n",
    "* Квартиры на крайних этажах стоят дешевле (самые дешевые на первом этаже).\n",
    "* Самая высокая цена за квадратный метр была в 2014 году.\n",
    "* Высота потолков в центре города чаще всего от 2.65 м "
   ]
  },
  {
   "cell_type": "markdown",
   "metadata": {},
   "source": [
    "## Общий вывод"
   ]
  },
  {
   "cell_type": "markdown",
   "metadata": {},
   "source": [
    "В этом проекте мы проанализировали данные сервиса яндекс.недвижимость.\n",
    "\n",
    "Мы ознакомились с данными. Обнаружили в них несколько проблем:\n",
    "* Некоторые значения отсутствуют. Но пропуски чаще встречаются в менее важных столбцах.\n",
    "* Неверно подобран тип данных для некоторых столбцов\n",
    "* Названия населенных пунктов необходимо привести к единому регистру, также в некоторых названиях используется буква ё (посёлок / поселок), необходимо заменить её на е.\n",
    "\n",
    "Вероятнее всего пропуски в данных связаны с тем, что:\n",
    "* Для размещения объявления не обязательно заполнять все поля.\n",
    "* Для некоторых колонок возможно было установленно ограничение (например для колонки `parks_nearest`)\n",
    "\n",
    "Затем мы:\n",
    "* ознакомились с данными, очистили их от выбросов и категоризировали по этажу (первый, другой, последний).\n",
    "* проанализировали какие факторы влияют на цену квадратного метра\n",
    "* выделили центральную часть Санкт-Петербурга и проанализировали какие факторы влияют на цену в центре города. \n",
    "\n",
    "Мы отметили следующие особенности:\n",
    "* В общем на цену квартиры влияет площадь, и близость к центру города. Но эта связь не прослеживается для квартир расположенных в самом центре города (ближе 9 км. к центру города.)\n",
    "* Квартиры на крайних этажах стоят дешевле (самые дешевые на первом этаже).\n",
    "* Самая высокая цена за квадратный метр была в 2014 году.\n",
    "\n",
    "Квартиры обладают следующими параметрами:\n",
    "* площадь **38 - 55** кв. Средняя площадь **51.68** кв.м\n",
    "* количество комнат **1-2**. Среднее значение **2**\n",
    "* цена квартиры составляет от **3.2 до 5.5** млн. руб. Средняя цена **4489758** руб.\n",
    "* высота потолка составляет **2.65** м. Среднее значение **2.65 м**\n",
    "\n",
    "Квартиры в центре города обладает следующими параметрами:\n",
    "\n",
    "* Площадь от **44.5 - 77** кв.м. В среднем **61.23** кв.м.\n",
    "* Кол-во комнат **2-3**. Среднее значение **2.41**\n",
    "* Цена от **5 до 7.99 млн.р** Средняя цена **6471217** руб.\n",
    "* Высота потолка **2.65** м."
   ]
  }
 ],
 "metadata": {
  "ExecuteTimeLog": [
   {
    "duration": 309,
    "start_time": "2022-02-05T19:14:34.683Z"
   },
   {
    "duration": 559,
    "start_time": "2022-02-05T19:14:40.961Z"
   },
   {
    "duration": 2,
    "start_time": "2022-02-05T19:14:41.956Z"
   },
   {
    "duration": 2,
    "start_time": "2022-02-05T19:14:43.180Z"
   },
   {
    "duration": 374,
    "start_time": "2022-02-05T19:14:44.037Z"
   },
   {
    "duration": 63,
    "start_time": "2022-02-05T19:15:03.268Z"
   },
   {
    "duration": 12,
    "start_time": "2022-02-05T19:15:04.236Z"
   },
   {
    "duration": 20,
    "start_time": "2022-02-05T19:15:14.573Z"
   },
   {
    "duration": 82,
    "start_time": "2022-02-05T19:15:49.764Z"
   },
   {
    "duration": 15,
    "start_time": "2022-02-05T19:15:50.652Z"
   },
   {
    "duration": 3,
    "start_time": "2022-02-05T19:16:04.323Z"
   },
   {
    "duration": 81,
    "start_time": "2022-02-05T19:16:04.843Z"
   },
   {
    "duration": 93,
    "start_time": "2022-02-05T19:16:16.406Z"
   },
   {
    "duration": 15,
    "start_time": "2022-02-05T19:16:18.196Z"
   },
   {
    "duration": 800,
    "start_time": "2022-02-05T19:16:31.236Z"
   },
   {
    "duration": 65,
    "start_time": "2022-02-05T19:16:32.038Z"
   },
   {
    "duration": 21,
    "start_time": "2022-02-05T19:16:32.105Z"
   },
   {
    "duration": 84,
    "start_time": "2022-02-05T19:16:40.402Z"
   },
   {
    "duration": 15,
    "start_time": "2022-02-05T19:16:41.502Z"
   },
   {
    "duration": 64,
    "start_time": "2022-02-05T19:19:03.070Z"
   },
   {
    "duration": 17,
    "start_time": "2022-02-05T19:19:03.974Z"
   },
   {
    "duration": 794,
    "start_time": "2022-02-05T19:19:15.335Z"
   },
   {
    "duration": 85,
    "start_time": "2022-02-05T19:19:16.132Z"
   },
   {
    "duration": 30,
    "start_time": "2022-02-05T19:19:16.220Z"
   },
   {
    "duration": 375,
    "start_time": "2022-02-05T19:20:20.117Z"
   },
   {
    "duration": 16,
    "start_time": "2022-02-05T19:20:20.726Z"
   },
   {
    "duration": 64,
    "start_time": "2022-02-05T19:21:18.525Z"
   },
   {
    "duration": 15,
    "start_time": "2022-02-05T19:21:18.844Z"
   },
   {
    "duration": 11,
    "start_time": "2022-02-05T19:21:45.308Z"
   },
   {
    "duration": 84,
    "start_time": "2022-02-05T19:23:56.091Z"
   },
   {
    "duration": 127,
    "start_time": "2022-02-05T19:24:00.139Z"
   },
   {
    "duration": 11,
    "start_time": "2022-02-05T19:24:03.426Z"
   },
   {
    "duration": 86,
    "start_time": "2022-02-05T19:24:14.251Z"
   },
   {
    "duration": 11,
    "start_time": "2022-02-05T19:24:15.562Z"
   },
   {
    "duration": 88,
    "start_time": "2022-02-05T19:26:38.601Z"
   },
   {
    "duration": 10,
    "start_time": "2022-02-05T19:26:39.168Z"
   },
   {
    "duration": 84,
    "start_time": "2022-02-05T19:26:42.241Z"
   },
   {
    "duration": 76,
    "start_time": "2022-02-05T19:26:45.937Z"
   },
   {
    "duration": 21,
    "start_time": "2022-02-05T19:26:46.497Z"
   },
   {
    "duration": 59,
    "start_time": "2022-02-05T19:47:07.936Z"
   },
   {
    "duration": 11,
    "start_time": "2022-02-05T19:47:09.438Z"
   },
   {
    "duration": 391,
    "start_time": "2022-02-06T05:11:03.029Z"
   },
   {
    "duration": 755,
    "start_time": "2022-02-06T05:11:13.620Z"
   },
   {
    "duration": 104,
    "start_time": "2022-02-06T05:11:14.378Z"
   },
   {
    "duration": 110,
    "start_time": "2022-02-06T05:11:18.520Z"
   },
   {
    "duration": 88,
    "start_time": "2022-02-06T05:11:27.072Z"
   },
   {
    "duration": 30,
    "start_time": "2022-02-06T05:11:27.944Z"
   },
   {
    "duration": 52,
    "start_time": "2022-02-06T05:53:00.384Z"
   },
   {
    "duration": 7482,
    "start_time": "2022-02-06T07:34:56.906Z"
   },
   {
    "duration": 7326,
    "start_time": "2022-02-06T07:35:17.618Z"
   },
   {
    "duration": 8,
    "start_time": "2022-02-06T07:35:36.762Z"
   },
   {
    "duration": 96,
    "start_time": "2022-02-06T19:12:22.560Z"
   },
   {
    "duration": 276,
    "start_time": "2022-02-06T19:12:36.054Z"
   },
   {
    "duration": 612,
    "start_time": "2022-02-06T19:12:51.324Z"
   },
   {
    "duration": 75,
    "start_time": "2022-02-06T19:12:51.938Z"
   },
   {
    "duration": 42,
    "start_time": "2022-02-06T19:12:52.016Z"
   },
   {
    "duration": 322,
    "start_time": "2022-02-06T19:12:53.896Z"
   },
   {
    "duration": 240,
    "start_time": "2022-02-06T19:13:17.699Z"
   },
   {
    "duration": 279,
    "start_time": "2022-02-06T19:13:31.730Z"
   },
   {
    "duration": 254,
    "start_time": "2022-02-06T19:39:34.181Z"
   },
   {
    "duration": 56,
    "start_time": "2022-02-06T19:41:20.858Z"
   },
   {
    "duration": 305,
    "start_time": "2022-02-07T07:44:09.117Z"
   },
   {
    "duration": 655,
    "start_time": "2022-02-07T07:44:14.483Z"
   },
   {
    "duration": 73,
    "start_time": "2022-02-07T07:44:15.140Z"
   },
   {
    "duration": 40,
    "start_time": "2022-02-07T07:44:15.215Z"
   },
   {
    "duration": 91,
    "start_time": "2022-02-07T07:44:15.257Z"
   },
   {
    "duration": 25,
    "start_time": "2022-02-07T19:08:19.879Z"
   },
   {
    "duration": 27,
    "start_time": "2022-02-07T19:08:34.910Z"
   },
   {
    "duration": 78,
    "start_time": "2022-02-07T19:08:40.631Z"
   },
   {
    "duration": 46,
    "start_time": "2022-02-07T19:10:08.320Z"
   },
   {
    "duration": 12,
    "start_time": "2022-02-07T19:10:50.182Z"
   },
   {
    "duration": 288,
    "start_time": "2022-02-07T19:34:06.500Z"
   },
   {
    "duration": 257,
    "start_time": "2022-02-07T19:34:13.956Z"
   },
   {
    "duration": 271,
    "start_time": "2022-02-07T19:34:36.235Z"
   },
   {
    "duration": 25,
    "start_time": "2022-02-07T19:34:41.466Z"
   },
   {
    "duration": 27,
    "start_time": "2022-02-07T19:34:51.139Z"
   },
   {
    "duration": 599,
    "start_time": "2022-02-07T19:40:41.129Z"
   },
   {
    "duration": 8,
    "start_time": "2022-02-07T19:45:15.127Z"
   },
   {
    "duration": 13,
    "start_time": "2022-02-07T20:14:19.971Z"
   },
   {
    "duration": 36,
    "start_time": "2022-02-07T20:14:29.523Z"
   },
   {
    "duration": 96,
    "start_time": "2022-02-07T20:15:43.271Z"
   },
   {
    "duration": 5360,
    "start_time": "2022-02-07T20:16:04.535Z"
   },
   {
    "duration": 5054,
    "start_time": "2022-02-07T20:16:34.086Z"
   },
   {
    "duration": 84,
    "start_time": "2022-02-07T20:17:54.118Z"
   },
   {
    "duration": 6765,
    "start_time": "2022-02-07T20:18:00.142Z"
   },
   {
    "duration": 90,
    "start_time": "2022-02-07T20:18:31.454Z"
   },
   {
    "duration": 87,
    "start_time": "2022-02-07T20:18:39.678Z"
   },
   {
    "duration": 52,
    "start_time": "2022-02-07T20:18:52.685Z"
   },
   {
    "duration": 36,
    "start_time": "2022-02-07T20:20:06.629Z"
   },
   {
    "duration": 253,
    "start_time": "2022-02-07T20:38:18.469Z"
   },
   {
    "duration": 249,
    "start_time": "2022-02-07T20:38:26.621Z"
   },
   {
    "duration": 5,
    "start_time": "2022-02-07T20:40:23.133Z"
   },
   {
    "duration": 273,
    "start_time": "2022-02-07T20:41:20.692Z"
   },
   {
    "duration": 23,
    "start_time": "2022-02-07T20:41:46.644Z"
   },
   {
    "duration": 7,
    "start_time": "2022-02-07T20:42:04.692Z"
   },
   {
    "duration": 26,
    "start_time": "2022-02-07T20:42:33.180Z"
   },
   {
    "duration": 8,
    "start_time": "2022-02-07T20:42:35.059Z"
   },
   {
    "duration": 27,
    "start_time": "2022-02-07T20:43:29.459Z"
   },
   {
    "duration": 7,
    "start_time": "2022-02-07T20:43:31.091Z"
   },
   {
    "duration": 252,
    "start_time": "2022-02-07T20:44:22.115Z"
   },
   {
    "duration": 259,
    "start_time": "2022-02-07T20:45:16.291Z"
   },
   {
    "duration": 24,
    "start_time": "2022-02-07T20:45:22.691Z"
   },
   {
    "duration": 11,
    "start_time": "2022-02-07T20:45:24.450Z"
   },
   {
    "duration": 26,
    "start_time": "2022-02-07T20:45:34.146Z"
   },
   {
    "duration": 566,
    "start_time": "2022-02-07T20:45:44.462Z"
   },
   {
    "duration": 75,
    "start_time": "2022-02-07T20:45:45.030Z"
   },
   {
    "duration": 31,
    "start_time": "2022-02-07T20:45:45.107Z"
   },
   {
    "duration": 26,
    "start_time": "2022-02-07T20:45:45.140Z"
   },
   {
    "duration": 104,
    "start_time": "2022-02-07T20:45:45.168Z"
   },
   {
    "duration": 11,
    "start_time": "2022-02-07T20:45:45.274Z"
   },
   {
    "duration": 46,
    "start_time": "2022-02-07T20:45:45.299Z"
   },
   {
    "duration": 54,
    "start_time": "2022-02-07T20:45:45.347Z"
   },
   {
    "duration": 31,
    "start_time": "2022-02-07T20:45:45.403Z"
   },
   {
    "duration": 72,
    "start_time": "2022-02-07T20:45:45.437Z"
   },
   {
    "duration": 25,
    "start_time": "2022-02-07T20:45:45.510Z"
   },
   {
    "duration": 10,
    "start_time": "2022-02-07T20:45:45.537Z"
   },
   {
    "duration": 302,
    "start_time": "2022-02-08T07:07:07.334Z"
   },
   {
    "duration": 693,
    "start_time": "2022-02-08T07:07:19.876Z"
   },
   {
    "duration": 91,
    "start_time": "2022-02-08T07:07:20.571Z"
   },
   {
    "duration": 44,
    "start_time": "2022-02-08T07:07:20.665Z"
   },
   {
    "duration": 47,
    "start_time": "2022-02-08T07:07:20.711Z"
   },
   {
    "duration": 118,
    "start_time": "2022-02-08T07:07:20.761Z"
   },
   {
    "duration": 15,
    "start_time": "2022-02-08T07:07:20.882Z"
   },
   {
    "duration": 86,
    "start_time": "2022-02-08T07:07:20.899Z"
   },
   {
    "duration": 60,
    "start_time": "2022-02-08T07:07:20.988Z"
   },
   {
    "duration": 41,
    "start_time": "2022-02-08T07:07:21.050Z"
   },
   {
    "duration": 81,
    "start_time": "2022-02-08T07:07:21.094Z"
   },
   {
    "duration": 54,
    "start_time": "2022-02-08T07:07:21.178Z"
   },
   {
    "duration": 8,
    "start_time": "2022-02-08T07:07:21.235Z"
   },
   {
    "duration": 46,
    "start_time": "2022-02-08T07:07:21.246Z"
   },
   {
    "duration": 18,
    "start_time": "2022-02-08T07:08:59.362Z"
   },
   {
    "duration": 86,
    "start_time": "2022-02-08T07:09:22.569Z"
   },
   {
    "duration": 329,
    "start_time": "2022-02-08T07:09:41.273Z"
   },
   {
    "duration": 16,
    "start_time": "2022-02-08T07:09:54.090Z"
   },
   {
    "duration": 15,
    "start_time": "2022-02-08T07:10:05.776Z"
   },
   {
    "duration": 239,
    "start_time": "2022-02-08T07:10:11.912Z"
   },
   {
    "duration": 15,
    "start_time": "2022-02-08T07:10:29.536Z"
   },
   {
    "duration": 91,
    "start_time": "2022-02-08T07:17:08.909Z"
   },
   {
    "duration": 87,
    "start_time": "2022-02-08T07:18:21.373Z"
   },
   {
    "duration": 73,
    "start_time": "2022-02-08T07:20:20.076Z"
   },
   {
    "duration": 15,
    "start_time": "2022-02-08T07:20:50.949Z"
   },
   {
    "duration": 13,
    "start_time": "2022-02-08T07:25:12.003Z"
   },
   {
    "duration": 12,
    "start_time": "2022-02-08T07:25:24.218Z"
   },
   {
    "duration": 239,
    "start_time": "2022-02-08T07:26:46.249Z"
   },
   {
    "duration": 250,
    "start_time": "2022-02-08T07:27:20.353Z"
   },
   {
    "duration": 239,
    "start_time": "2022-02-08T07:28:28.761Z"
   },
   {
    "duration": 256,
    "start_time": "2022-02-08T07:28:36.000Z"
   },
   {
    "duration": 615,
    "start_time": "2022-02-08T07:28:50.912Z"
   },
   {
    "duration": 314,
    "start_time": "2022-02-08T07:28:59.688Z"
   },
   {
    "duration": 9,
    "start_time": "2022-02-08T07:30:47.935Z"
   },
   {
    "duration": 11,
    "start_time": "2022-02-08T07:30:50.334Z"
   },
   {
    "duration": 8,
    "start_time": "2022-02-08T07:30:59.487Z"
   },
   {
    "duration": 9,
    "start_time": "2022-02-08T07:31:39.135Z"
   },
   {
    "duration": 9,
    "start_time": "2022-02-08T07:37:09.085Z"
   },
   {
    "duration": 10,
    "start_time": "2022-02-08T07:37:11.421Z"
   },
   {
    "duration": 742,
    "start_time": "2022-02-08T07:39:36.123Z"
   },
   {
    "duration": 87,
    "start_time": "2022-02-08T07:39:36.868Z"
   },
   {
    "duration": 45,
    "start_time": "2022-02-08T07:39:36.958Z"
   },
   {
    "duration": 56,
    "start_time": "2022-02-08T07:39:37.006Z"
   },
   {
    "duration": 119,
    "start_time": "2022-02-08T07:39:37.064Z"
   },
   {
    "duration": 17,
    "start_time": "2022-02-08T07:39:37.186Z"
   },
   {
    "duration": 88,
    "start_time": "2022-02-08T07:39:37.206Z"
   },
   {
    "duration": 58,
    "start_time": "2022-02-08T07:39:37.296Z"
   },
   {
    "duration": 13,
    "start_time": "2022-02-08T07:39:37.357Z"
   },
   {
    "duration": 22,
    "start_time": "2022-02-08T07:39:37.372Z"
   },
   {
    "duration": 11,
    "start_time": "2022-02-08T07:39:37.397Z"
   },
   {
    "duration": 17,
    "start_time": "2022-02-08T07:39:37.433Z"
   },
   {
    "duration": 34,
    "start_time": "2022-02-08T07:39:37.453Z"
   },
   {
    "duration": 43,
    "start_time": "2022-02-08T07:39:37.490Z"
   },
   {
    "duration": 40,
    "start_time": "2022-02-08T07:39:37.536Z"
   },
   {
    "duration": 37,
    "start_time": "2022-02-08T07:44:18.985Z"
   },
   {
    "duration": 15,
    "start_time": "2022-02-08T07:44:34.651Z"
   },
   {
    "duration": 18,
    "start_time": "2022-02-08T07:45:58.961Z"
   },
   {
    "duration": 14,
    "start_time": "2022-02-08T07:46:00.154Z"
   },
   {
    "duration": 34,
    "start_time": "2022-02-08T07:46:00.537Z"
   },
   {
    "duration": 14,
    "start_time": "2022-02-08T07:46:00.753Z"
   },
   {
    "duration": 39,
    "start_time": "2022-02-08T07:46:01.298Z"
   },
   {
    "duration": 16,
    "start_time": "2022-02-08T07:46:02.089Z"
   },
   {
    "duration": 689,
    "start_time": "2022-02-08T07:46:08.077Z"
   },
   {
    "duration": 87,
    "start_time": "2022-02-08T07:46:08.769Z"
   },
   {
    "duration": 44,
    "start_time": "2022-02-08T07:46:08.858Z"
   },
   {
    "duration": 58,
    "start_time": "2022-02-08T07:46:08.904Z"
   },
   {
    "duration": 114,
    "start_time": "2022-02-08T07:46:08.964Z"
   },
   {
    "duration": 14,
    "start_time": "2022-02-08T07:46:09.081Z"
   },
   {
    "duration": 82,
    "start_time": "2022-02-08T07:46:09.098Z"
   },
   {
    "duration": 54,
    "start_time": "2022-02-08T07:46:09.182Z"
   },
   {
    "duration": 13,
    "start_time": "2022-02-08T07:46:09.239Z"
   },
   {
    "duration": 20,
    "start_time": "2022-02-08T07:46:09.255Z"
   },
   {
    "duration": 15,
    "start_time": "2022-02-08T07:46:09.277Z"
   },
   {
    "duration": 42,
    "start_time": "2022-02-08T07:46:09.294Z"
   },
   {
    "duration": 32,
    "start_time": "2022-02-08T07:46:09.338Z"
   },
   {
    "duration": 12,
    "start_time": "2022-02-08T07:46:09.373Z"
   },
   {
    "duration": 64,
    "start_time": "2022-02-08T07:46:09.388Z"
   },
   {
    "duration": 17,
    "start_time": "2022-02-08T07:46:09.454Z"
   },
   {
    "duration": 348,
    "start_time": "2022-02-08T07:48:24.876Z"
   },
   {
    "duration": 243,
    "start_time": "2022-02-08T07:49:29.491Z"
   },
   {
    "duration": 849,
    "start_time": "2022-02-08T07:49:35.922Z"
   },
   {
    "duration": 18,
    "start_time": "2022-02-08T07:52:13.418Z"
   },
   {
    "duration": 14,
    "start_time": "2022-02-08T07:52:15.073Z"
   },
   {
    "duration": 17,
    "start_time": "2022-02-08T07:52:15.529Z"
   },
   {
    "duration": 14,
    "start_time": "2022-02-08T07:52:15.729Z"
   },
   {
    "duration": 34,
    "start_time": "2022-02-08T07:52:15.913Z"
   },
   {
    "duration": 10,
    "start_time": "2022-02-08T07:52:16.097Z"
   },
   {
    "duration": 37,
    "start_time": "2022-02-08T07:52:16.466Z"
   },
   {
    "duration": 16,
    "start_time": "2022-02-08T07:52:16.673Z"
   },
   {
    "duration": 260,
    "start_time": "2022-02-08T07:52:16.889Z"
   },
   {
    "duration": 15,
    "start_time": "2022-02-08T07:52:35.793Z"
   },
   {
    "duration": 7,
    "start_time": "2022-02-08T07:53:00.954Z"
   },
   {
    "duration": 269,
    "start_time": "2022-02-08T08:10:23.458Z"
   },
   {
    "duration": 9,
    "start_time": "2022-02-08T08:10:44.538Z"
   },
   {
    "duration": 5,
    "start_time": "2022-02-08T08:11:41.425Z"
   },
   {
    "duration": 255,
    "start_time": "2022-02-08T08:47:39.622Z"
   },
   {
    "duration": 9,
    "start_time": "2022-02-08T08:47:55.686Z"
   },
   {
    "duration": 9,
    "start_time": "2022-02-08T08:48:58.330Z"
   },
   {
    "duration": 9,
    "start_time": "2022-02-08T09:23:06.963Z"
   },
   {
    "duration": 6166,
    "start_time": "2022-02-08T09:27:28.992Z"
   },
   {
    "duration": 6015,
    "start_time": "2022-02-08T09:29:10.384Z"
   },
   {
    "duration": 6,
    "start_time": "2022-02-08T09:29:58.712Z"
   },
   {
    "duration": 35,
    "start_time": "2022-02-08T09:30:17.520Z"
   },
   {
    "duration": 6,
    "start_time": "2022-02-08T09:32:07.615Z"
   },
   {
    "duration": 38,
    "start_time": "2022-02-08T09:32:08.207Z"
   },
   {
    "duration": 12,
    "start_time": "2022-02-08T09:36:19.413Z"
   },
   {
    "duration": 34,
    "start_time": "2022-02-08T09:37:37.965Z"
   },
   {
    "duration": 42,
    "start_time": "2022-02-08T09:37:54.317Z"
   },
   {
    "duration": 88,
    "start_time": "2022-02-08T09:38:52.350Z"
   },
   {
    "duration": 235,
    "start_time": "2022-02-08T10:05:51.557Z"
   },
   {
    "duration": 242,
    "start_time": "2022-02-08T10:06:15.501Z"
   },
   {
    "duration": 5,
    "start_time": "2022-02-08T10:06:23.709Z"
   },
   {
    "duration": 5013,
    "start_time": "2022-02-08T10:06:24.261Z"
   },
   {
    "duration": 920,
    "start_time": "2022-02-08T10:06:48.397Z"
   },
   {
    "duration": 37,
    "start_time": "2022-02-08T10:07:00.013Z"
   },
   {
    "duration": 977,
    "start_time": "2022-02-08T10:32:54.641Z"
   },
   {
    "duration": 7,
    "start_time": "2022-02-08T12:43:14.309Z"
   },
   {
    "duration": 7,
    "start_time": "2022-02-08T12:43:41.805Z"
   },
   {
    "duration": 36,
    "start_time": "2022-02-08T12:43:54.308Z"
   },
   {
    "duration": 6514,
    "start_time": "2022-02-08T13:05:45.421Z"
   },
   {
    "duration": 252,
    "start_time": "2022-02-08T13:06:22.469Z"
   },
   {
    "duration": 42,
    "start_time": "2022-02-08T13:06:42.844Z"
   },
   {
    "duration": 3,
    "start_time": "2022-02-08T13:10:02.395Z"
   },
   {
    "duration": 761,
    "start_time": "2022-02-08T13:10:36.747Z"
   },
   {
    "duration": 1451,
    "start_time": "2022-02-08T13:12:02.948Z"
   },
   {
    "duration": 5,
    "start_time": "2022-02-08T13:12:04.402Z"
   },
   {
    "duration": 93,
    "start_time": "2022-02-08T13:12:04.411Z"
   },
   {
    "duration": 41,
    "start_time": "2022-02-08T13:12:04.507Z"
   },
   {
    "duration": 29,
    "start_time": "2022-02-08T13:12:04.552Z"
   },
   {
    "duration": 131,
    "start_time": "2022-02-08T13:12:04.584Z"
   },
   {
    "duration": 27,
    "start_time": "2022-02-08T13:12:04.718Z"
   },
   {
    "duration": 90,
    "start_time": "2022-02-08T13:12:04.750Z"
   },
   {
    "duration": 37,
    "start_time": "2022-02-08T13:12:04.843Z"
   },
   {
    "duration": 12,
    "start_time": "2022-02-08T13:12:04.883Z"
   },
   {
    "duration": 45,
    "start_time": "2022-02-08T13:12:04.897Z"
   },
   {
    "duration": 17,
    "start_time": "2022-02-08T13:12:04.945Z"
   },
   {
    "duration": 15,
    "start_time": "2022-02-08T13:12:04.964Z"
   },
   {
    "duration": 64,
    "start_time": "2022-02-08T13:12:04.981Z"
   },
   {
    "duration": 13,
    "start_time": "2022-02-08T13:12:05.048Z"
   },
   {
    "duration": 31,
    "start_time": "2022-02-08T13:12:05.063Z"
   },
   {
    "duration": 46,
    "start_time": "2022-02-08T13:12:05.096Z"
   },
   {
    "duration": 12,
    "start_time": "2022-02-08T13:12:05.145Z"
   },
   {
    "duration": 13,
    "start_time": "2022-02-08T13:12:05.160Z"
   },
   {
    "duration": 6,
    "start_time": "2022-02-08T13:12:05.176Z"
   },
   {
    "duration": 73,
    "start_time": "2022-02-08T13:12:05.185Z"
   },
   {
    "duration": 5,
    "start_time": "2022-02-08T13:12:05.260Z"
   },
   {
    "duration": 957,
    "start_time": "2022-02-08T13:12:05.269Z"
   },
   {
    "duration": 7,
    "start_time": "2022-02-08T13:12:06.232Z"
   },
   {
    "duration": 41,
    "start_time": "2022-02-08T13:12:06.242Z"
   },
   {
    "duration": 52,
    "start_time": "2022-02-08T13:12:06.286Z"
   },
   {
    "duration": 24,
    "start_time": "2022-02-08T13:12:52.600Z"
   },
   {
    "duration": 20,
    "start_time": "2022-02-08T13:13:46.446Z"
   },
   {
    "duration": 1504,
    "start_time": "2022-02-08T13:14:32.043Z"
   },
   {
    "duration": 5,
    "start_time": "2022-02-08T13:14:33.549Z"
   },
   {
    "duration": 89,
    "start_time": "2022-02-08T13:14:33.556Z"
   },
   {
    "duration": 33,
    "start_time": "2022-02-08T13:14:33.648Z"
   },
   {
    "duration": 28,
    "start_time": "2022-02-08T13:14:33.684Z"
   },
   {
    "duration": 101,
    "start_time": "2022-02-08T13:14:33.733Z"
   },
   {
    "duration": 15,
    "start_time": "2022-02-08T13:14:33.837Z"
   },
   {
    "duration": 90,
    "start_time": "2022-02-08T13:14:33.854Z"
   },
   {
    "duration": 38,
    "start_time": "2022-02-08T13:14:33.948Z"
   },
   {
    "duration": 8,
    "start_time": "2022-02-08T13:14:33.989Z"
   },
   {
    "duration": 47,
    "start_time": "2022-02-08T13:14:34.000Z"
   },
   {
    "duration": 13,
    "start_time": "2022-02-08T13:14:34.049Z"
   },
   {
    "duration": 14,
    "start_time": "2022-02-08T13:14:34.064Z"
   },
   {
    "duration": 61,
    "start_time": "2022-02-08T13:14:34.081Z"
   },
   {
    "duration": 11,
    "start_time": "2022-02-08T13:14:34.144Z"
   },
   {
    "duration": 30,
    "start_time": "2022-02-08T13:14:34.157Z"
   },
   {
    "duration": 44,
    "start_time": "2022-02-08T13:14:34.189Z"
   },
   {
    "duration": 8,
    "start_time": "2022-02-08T13:14:34.236Z"
   },
   {
    "duration": 12,
    "start_time": "2022-02-08T13:14:34.246Z"
   },
   {
    "duration": 8,
    "start_time": "2022-02-08T13:14:34.261Z"
   },
   {
    "duration": 63,
    "start_time": "2022-02-08T13:14:34.272Z"
   },
   {
    "duration": 4,
    "start_time": "2022-02-08T13:14:34.337Z"
   },
   {
    "duration": 952,
    "start_time": "2022-02-08T13:14:34.344Z"
   },
   {
    "duration": 7,
    "start_time": "2022-02-08T13:14:35.298Z"
   },
   {
    "duration": 51,
    "start_time": "2022-02-08T13:14:35.308Z"
   },
   {
    "duration": 33,
    "start_time": "2022-02-08T13:14:35.361Z"
   },
   {
    "duration": 39,
    "start_time": "2022-02-08T13:14:35.400Z"
   },
   {
    "duration": 798,
    "start_time": "2022-02-08T13:16:45.494Z"
   },
   {
    "duration": 1321,
    "start_time": "2022-02-08T13:17:32.341Z"
   },
   {
    "duration": 891,
    "start_time": "2022-02-08T13:18:04.093Z"
   },
   {
    "duration": 1176,
    "start_time": "2022-02-08T13:18:26.800Z"
   },
   {
    "duration": 2126,
    "start_time": "2022-02-08T13:54:08.335Z"
   },
   {
    "duration": 1073,
    "start_time": "2022-02-08T13:54:17.551Z"
   },
   {
    "duration": 1487,
    "start_time": "2022-02-08T13:54:35.064Z"
   },
   {
    "duration": 1327,
    "start_time": "2022-02-08T14:00:27.370Z"
   },
   {
    "duration": 1062,
    "start_time": "2022-02-08T14:00:34.943Z"
   },
   {
    "duration": 1131,
    "start_time": "2022-02-08T14:42:30.118Z"
   },
   {
    "duration": 11,
    "start_time": "2022-02-08T14:45:13.722Z"
   },
   {
    "duration": 244,
    "start_time": "2022-02-08T14:45:53.130Z"
   },
   {
    "duration": 317,
    "start_time": "2022-02-08T14:46:09.923Z"
   },
   {
    "duration": 1134,
    "start_time": "2022-02-08T14:47:38.808Z"
   },
   {
    "duration": 1135,
    "start_time": "2022-02-08T14:47:41.705Z"
   },
   {
    "duration": 641,
    "start_time": "2022-02-08T14:47:51.026Z"
   },
   {
    "duration": 432,
    "start_time": "2022-02-08T14:48:04.681Z"
   },
   {
    "duration": 71,
    "start_time": "2022-02-08T14:48:31.345Z"
   },
   {
    "duration": 121,
    "start_time": "2022-02-08T14:48:36.784Z"
   },
   {
    "duration": 82,
    "start_time": "2022-02-08T14:48:43.488Z"
   },
   {
    "duration": 74,
    "start_time": "2022-02-08T14:48:49.809Z"
   },
   {
    "duration": 604,
    "start_time": "2022-02-08T14:48:56.216Z"
   },
   {
    "duration": 4,
    "start_time": "2022-02-08T14:51:47.894Z"
   },
   {
    "duration": 248,
    "start_time": "2022-02-08T14:51:54.784Z"
   },
   {
    "duration": 5,
    "start_time": "2022-02-08T14:54:49.358Z"
   },
   {
    "duration": 228,
    "start_time": "2022-02-08T14:55:18.454Z"
   },
   {
    "duration": 9,
    "start_time": "2022-02-08T14:55:24.430Z"
   },
   {
    "duration": 327,
    "start_time": "2022-02-08T14:55:36.142Z"
   },
   {
    "duration": 411,
    "start_time": "2022-02-08T14:56:35.869Z"
   },
   {
    "duration": 990,
    "start_time": "2022-02-08T14:58:47.673Z"
   },
   {
    "duration": 1026,
    "start_time": "2022-02-08T14:59:28.680Z"
   },
   {
    "duration": 948,
    "start_time": "2022-02-08T14:59:38.628Z"
   },
   {
    "duration": 279,
    "start_time": "2022-02-08T14:59:56.380Z"
   },
   {
    "duration": 1024,
    "start_time": "2022-02-08T15:00:16.244Z"
   },
   {
    "duration": 1359,
    "start_time": "2022-02-08T15:00:24.828Z"
   },
   {
    "duration": 1289,
    "start_time": "2022-02-08T15:06:40.386Z"
   },
   {
    "duration": 1226,
    "start_time": "2022-02-08T15:06:53.834Z"
   },
   {
    "duration": 280,
    "start_time": "2022-02-08T15:08:22.505Z"
   },
   {
    "duration": 221,
    "start_time": "2022-02-08T15:08:34.424Z"
   },
   {
    "duration": 8,
    "start_time": "2022-02-08T15:08:47.664Z"
   },
   {
    "duration": 11,
    "start_time": "2022-02-08T15:08:48.687Z"
   },
   {
    "duration": 287,
    "start_time": "2022-02-08T15:08:53.424Z"
   },
   {
    "duration": 43,
    "start_time": "2022-02-08T15:09:17.952Z"
   },
   {
    "duration": 1433,
    "start_time": "2022-02-08T15:10:04.168Z"
   },
   {
    "duration": 5,
    "start_time": "2022-02-08T15:10:05.604Z"
   },
   {
    "duration": 91,
    "start_time": "2022-02-08T15:10:05.613Z"
   },
   {
    "duration": 44,
    "start_time": "2022-02-08T15:10:05.707Z"
   },
   {
    "duration": 34,
    "start_time": "2022-02-08T15:10:05.754Z"
   },
   {
    "duration": 131,
    "start_time": "2022-02-08T15:10:05.790Z"
   },
   {
    "duration": 20,
    "start_time": "2022-02-08T15:10:05.924Z"
   },
   {
    "duration": 98,
    "start_time": "2022-02-08T15:10:05.946Z"
   },
   {
    "duration": 38,
    "start_time": "2022-02-08T15:10:06.048Z"
   },
   {
    "duration": 9,
    "start_time": "2022-02-08T15:10:06.089Z"
   },
   {
    "duration": 48,
    "start_time": "2022-02-08T15:10:06.100Z"
   },
   {
    "duration": 13,
    "start_time": "2022-02-08T15:10:06.151Z"
   },
   {
    "duration": 14,
    "start_time": "2022-02-08T15:10:06.166Z"
   },
   {
    "duration": 59,
    "start_time": "2022-02-08T15:10:06.182Z"
   },
   {
    "duration": 12,
    "start_time": "2022-02-08T15:10:06.243Z"
   },
   {
    "duration": 35,
    "start_time": "2022-02-08T15:10:06.257Z"
   },
   {
    "duration": 42,
    "start_time": "2022-02-08T15:10:06.295Z"
   },
   {
    "duration": 9,
    "start_time": "2022-02-08T15:10:06.339Z"
   },
   {
    "duration": 11,
    "start_time": "2022-02-08T15:10:06.351Z"
   },
   {
    "duration": 9,
    "start_time": "2022-02-08T15:10:06.365Z"
   },
   {
    "duration": 65,
    "start_time": "2022-02-08T15:10:06.377Z"
   },
   {
    "duration": 5,
    "start_time": "2022-02-08T15:10:06.444Z"
   },
   {
    "duration": 981,
    "start_time": "2022-02-08T15:10:06.451Z"
   },
   {
    "duration": 10,
    "start_time": "2022-02-08T15:10:07.434Z"
   },
   {
    "duration": 38,
    "start_time": "2022-02-08T15:10:07.446Z"
   },
   {
    "duration": 66,
    "start_time": "2022-02-08T15:10:07.487Z"
   },
   {
    "duration": 1050,
    "start_time": "2022-02-08T15:10:07.559Z"
   },
   {
    "duration": 335,
    "start_time": "2022-02-08T15:10:08.611Z"
   },
   {
    "duration": 4,
    "start_time": "2022-02-08T15:10:08.949Z"
   },
   {
    "duration": 14,
    "start_time": "2022-02-08T15:10:08.957Z"
   },
   {
    "duration": 63,
    "start_time": "2022-02-08T15:10:08.973Z"
   },
   {
    "duration": 465,
    "start_time": "2022-02-08T15:10:09.038Z"
   },
   {
    "duration": 124,
    "start_time": "2022-02-08T15:10:09.381Z"
   },
   {
    "duration": 1433,
    "start_time": "2022-02-08T15:11:13.950Z"
   },
   {
    "duration": 3,
    "start_time": "2022-02-08T15:11:15.386Z"
   },
   {
    "duration": 90,
    "start_time": "2022-02-08T15:11:15.392Z"
   },
   {
    "duration": 32,
    "start_time": "2022-02-08T15:11:15.485Z"
   },
   {
    "duration": 41,
    "start_time": "2022-02-08T15:11:15.519Z"
   },
   {
    "duration": 118,
    "start_time": "2022-02-08T15:11:15.562Z"
   },
   {
    "duration": 17,
    "start_time": "2022-02-08T15:11:15.683Z"
   },
   {
    "duration": 91,
    "start_time": "2022-02-08T15:11:15.703Z"
   },
   {
    "duration": 58,
    "start_time": "2022-02-08T15:11:15.797Z"
   },
   {
    "duration": 8,
    "start_time": "2022-02-08T15:11:15.857Z"
   },
   {
    "duration": 20,
    "start_time": "2022-02-08T15:11:15.868Z"
   },
   {
    "duration": 42,
    "start_time": "2022-02-08T15:11:15.890Z"
   },
   {
    "duration": 14,
    "start_time": "2022-02-08T15:11:15.934Z"
   },
   {
    "duration": 32,
    "start_time": "2022-02-08T15:11:15.951Z"
   },
   {
    "duration": 11,
    "start_time": "2022-02-08T15:11:15.985Z"
   },
   {
    "duration": 62,
    "start_time": "2022-02-08T15:11:15.999Z"
   },
   {
    "duration": 21,
    "start_time": "2022-02-08T15:11:16.063Z"
   },
   {
    "duration": 8,
    "start_time": "2022-02-08T15:11:16.087Z"
   },
   {
    "duration": 40,
    "start_time": "2022-02-08T15:11:16.097Z"
   },
   {
    "duration": 5,
    "start_time": "2022-02-08T15:11:16.140Z"
   },
   {
    "duration": 38,
    "start_time": "2022-02-08T15:11:16.149Z"
   },
   {
    "duration": 4,
    "start_time": "2022-02-08T15:11:16.190Z"
   },
   {
    "duration": 1057,
    "start_time": "2022-02-08T15:11:16.199Z"
   },
   {
    "duration": 7,
    "start_time": "2022-02-08T15:11:17.259Z"
   },
   {
    "duration": 41,
    "start_time": "2022-02-08T15:11:17.268Z"
   },
   {
    "duration": 51,
    "start_time": "2022-02-08T15:11:17.312Z"
   },
   {
    "duration": 1107,
    "start_time": "2022-02-08T15:11:17.366Z"
   },
   {
    "duration": 342,
    "start_time": "2022-02-08T15:11:18.475Z"
   },
   {
    "duration": 13,
    "start_time": "2022-02-08T15:11:18.819Z"
   },
   {
    "duration": 18,
    "start_time": "2022-02-08T15:11:18.834Z"
   },
   {
    "duration": 36,
    "start_time": "2022-02-08T15:11:18.854Z"
   },
   {
    "duration": 473,
    "start_time": "2022-02-08T15:11:18.893Z"
   },
   {
    "duration": 164,
    "start_time": "2022-02-08T15:11:19.205Z"
   },
   {
    "duration": 226,
    "start_time": "2022-02-08T19:58:48.641Z"
   },
   {
    "duration": 1164,
    "start_time": "2022-02-08T19:59:00.592Z"
   },
   {
    "duration": 3,
    "start_time": "2022-02-08T19:59:01.758Z"
   },
   {
    "duration": 78,
    "start_time": "2022-02-08T19:59:01.762Z"
   },
   {
    "duration": 22,
    "start_time": "2022-02-08T19:59:01.842Z"
   },
   {
    "duration": 20,
    "start_time": "2022-02-08T19:59:01.866Z"
   },
   {
    "duration": 87,
    "start_time": "2022-02-08T19:59:01.888Z"
   },
   {
    "duration": 11,
    "start_time": "2022-02-08T19:59:01.977Z"
   },
   {
    "duration": 67,
    "start_time": "2022-02-08T19:59:01.991Z"
   },
   {
    "duration": 27,
    "start_time": "2022-02-08T19:59:02.061Z"
   },
   {
    "duration": 22,
    "start_time": "2022-02-08T19:59:02.090Z"
   },
   {
    "duration": 11,
    "start_time": "2022-02-08T19:59:02.114Z"
   },
   {
    "duration": 11,
    "start_time": "2022-02-08T19:59:02.126Z"
   },
   {
    "duration": 15,
    "start_time": "2022-02-08T19:59:02.139Z"
   },
   {
    "duration": 22,
    "start_time": "2022-02-08T19:59:02.156Z"
   },
   {
    "duration": 39,
    "start_time": "2022-02-08T19:59:02.180Z"
   },
   {
    "duration": 21,
    "start_time": "2022-02-08T19:59:02.221Z"
   },
   {
    "duration": 11,
    "start_time": "2022-02-08T19:59:02.244Z"
   },
   {
    "duration": 8,
    "start_time": "2022-02-08T19:59:02.257Z"
   },
   {
    "duration": 10,
    "start_time": "2022-02-08T19:59:02.266Z"
   },
   {
    "duration": 39,
    "start_time": "2022-02-08T19:59:02.278Z"
   },
   {
    "duration": 28,
    "start_time": "2022-02-08T19:59:02.319Z"
   },
   {
    "duration": 12,
    "start_time": "2022-02-08T19:59:02.349Z"
   },
   {
    "duration": 597,
    "start_time": "2022-02-08T19:59:02.364Z"
   },
   {
    "duration": 5,
    "start_time": "2022-02-08T19:59:02.963Z"
   },
   {
    "duration": 30,
    "start_time": "2022-02-08T19:59:02.970Z"
   },
   {
    "duration": 22,
    "start_time": "2022-02-08T19:59:03.002Z"
   },
   {
    "duration": 788,
    "start_time": "2022-02-08T19:59:03.026Z"
   },
   {
    "duration": 225,
    "start_time": "2022-02-08T19:59:03.816Z"
   },
   {
    "duration": 4,
    "start_time": "2022-02-08T19:59:04.043Z"
   },
   {
    "duration": 446,
    "start_time": "2022-02-08T19:59:04.048Z"
   },
   {
    "duration": 158,
    "start_time": "2022-02-08T19:59:04.338Z"
   },
   {
    "duration": 157,
    "start_time": "2022-02-08T19:59:04.340Z"
   },
   {
    "duration": 156,
    "start_time": "2022-02-08T19:59:04.342Z"
   },
   {
    "duration": 289,
    "start_time": "2022-02-08T19:59:23.171Z"
   },
   {
    "duration": 285,
    "start_time": "2022-02-08T19:59:30.977Z"
   },
   {
    "duration": 190,
    "start_time": "2022-02-08T20:00:16.619Z"
   },
   {
    "duration": 3,
    "start_time": "2022-02-08T20:00:22.428Z"
   },
   {
    "duration": 374,
    "start_time": "2022-02-08T20:00:22.945Z"
   },
   {
    "duration": 61,
    "start_time": "2022-02-08T20:00:37.906Z"
   },
   {
    "duration": 296,
    "start_time": "2022-02-08T20:00:47.354Z"
   },
   {
    "duration": 7,
    "start_time": "2022-02-08T20:01:20.266Z"
   },
   {
    "duration": 23,
    "start_time": "2022-02-08T20:01:22.401Z"
   },
   {
    "duration": 4,
    "start_time": "2022-02-08T20:03:23.609Z"
   },
   {
    "duration": 1062,
    "start_time": "2022-02-08T20:03:37.092Z"
   },
   {
    "duration": 3,
    "start_time": "2022-02-08T20:03:38.155Z"
   },
   {
    "duration": 63,
    "start_time": "2022-02-08T20:03:38.160Z"
   },
   {
    "duration": 20,
    "start_time": "2022-02-08T20:03:38.225Z"
   },
   {
    "duration": 16,
    "start_time": "2022-02-08T20:03:38.246Z"
   },
   {
    "duration": 83,
    "start_time": "2022-02-08T20:03:38.263Z"
   },
   {
    "duration": 10,
    "start_time": "2022-02-08T20:03:38.348Z"
   },
   {
    "duration": 61,
    "start_time": "2022-02-08T20:03:38.360Z"
   },
   {
    "duration": 23,
    "start_time": "2022-02-08T20:03:38.424Z"
   },
   {
    "duration": 6,
    "start_time": "2022-02-08T20:03:38.449Z"
   },
   {
    "duration": 11,
    "start_time": "2022-02-08T20:03:38.456Z"
   },
   {
    "duration": 10,
    "start_time": "2022-02-08T20:03:38.468Z"
   },
   {
    "duration": 37,
    "start_time": "2022-02-08T20:03:38.479Z"
   },
   {
    "duration": 21,
    "start_time": "2022-02-08T20:03:38.517Z"
   },
   {
    "duration": 9,
    "start_time": "2022-02-08T20:03:38.539Z"
   },
   {
    "duration": 17,
    "start_time": "2022-02-08T20:03:38.549Z"
   },
   {
    "duration": 9,
    "start_time": "2022-02-08T20:03:38.568Z"
   },
   {
    "duration": 33,
    "start_time": "2022-02-08T20:03:38.579Z"
   },
   {
    "duration": 7,
    "start_time": "2022-02-08T20:03:38.614Z"
   },
   {
    "duration": 6,
    "start_time": "2022-02-08T20:03:38.623Z"
   },
   {
    "duration": 21,
    "start_time": "2022-02-08T20:03:38.630Z"
   },
   {
    "duration": 3,
    "start_time": "2022-02-08T20:03:38.653Z"
   },
   {
    "duration": 571,
    "start_time": "2022-02-08T20:03:38.658Z"
   },
   {
    "duration": 5,
    "start_time": "2022-02-08T20:03:39.231Z"
   },
   {
    "duration": 24,
    "start_time": "2022-02-08T20:03:39.237Z"
   },
   {
    "duration": 20,
    "start_time": "2022-02-08T20:03:39.262Z"
   },
   {
    "duration": 662,
    "start_time": "2022-02-08T20:03:39.285Z"
   },
   {
    "duration": 200,
    "start_time": "2022-02-08T20:03:39.948Z"
   },
   {
    "duration": 3,
    "start_time": "2022-02-08T20:03:40.149Z"
   },
   {
    "duration": 173,
    "start_time": "2022-02-08T20:03:40.153Z"
   },
   {
    "duration": 28,
    "start_time": "2022-02-08T20:03:40.328Z"
   },
   {
    "duration": 214,
    "start_time": "2022-02-08T20:03:40.358Z"
   },
   {
    "duration": 9,
    "start_time": "2022-02-08T20:03:40.573Z"
   },
   {
    "duration": 14,
    "start_time": "2022-02-08T20:04:14.856Z"
   },
   {
    "duration": 1094,
    "start_time": "2022-02-08T20:05:00.686Z"
   },
   {
    "duration": 3,
    "start_time": "2022-02-08T20:05:01.782Z"
   },
   {
    "duration": 77,
    "start_time": "2022-02-08T20:05:01.787Z"
   },
   {
    "duration": 21,
    "start_time": "2022-02-08T20:05:01.866Z"
   },
   {
    "duration": 33,
    "start_time": "2022-02-08T20:05:01.890Z"
   },
   {
    "duration": 74,
    "start_time": "2022-02-08T20:05:01.924Z"
   },
   {
    "duration": 21,
    "start_time": "2022-02-08T20:05:01.999Z"
   },
   {
    "duration": 44,
    "start_time": "2022-02-08T20:05:02.022Z"
   },
   {
    "duration": 50,
    "start_time": "2022-02-08T20:05:02.070Z"
   },
   {
    "duration": 6,
    "start_time": "2022-02-08T20:05:02.122Z"
   },
   {
    "duration": 11,
    "start_time": "2022-02-08T20:05:02.129Z"
   },
   {
    "duration": 9,
    "start_time": "2022-02-08T20:05:02.141Z"
   },
   {
    "duration": 15,
    "start_time": "2022-02-08T20:05:02.152Z"
   },
   {
    "duration": 48,
    "start_time": "2022-02-08T20:05:02.169Z"
   },
   {
    "duration": 10,
    "start_time": "2022-02-08T20:05:02.219Z"
   },
   {
    "duration": 18,
    "start_time": "2022-02-08T20:05:02.231Z"
   },
   {
    "duration": 13,
    "start_time": "2022-02-08T20:05:02.251Z"
   },
   {
    "duration": 6,
    "start_time": "2022-02-08T20:05:02.266Z"
   },
   {
    "duration": 8,
    "start_time": "2022-02-08T20:05:02.274Z"
   },
   {
    "duration": 33,
    "start_time": "2022-02-08T20:05:02.283Z"
   },
   {
    "duration": 43,
    "start_time": "2022-02-08T20:05:02.317Z"
   },
   {
    "duration": 27,
    "start_time": "2022-02-08T20:05:02.362Z"
   },
   {
    "duration": 591,
    "start_time": "2022-02-08T20:05:02.390Z"
   },
   {
    "duration": 5,
    "start_time": "2022-02-08T20:05:02.982Z"
   },
   {
    "duration": 28,
    "start_time": "2022-02-08T20:05:02.989Z"
   },
   {
    "duration": 23,
    "start_time": "2022-02-08T20:05:03.018Z"
   },
   {
    "duration": 755,
    "start_time": "2022-02-08T20:05:03.045Z"
   },
   {
    "duration": 221,
    "start_time": "2022-02-08T20:05:03.802Z"
   },
   {
    "duration": 4,
    "start_time": "2022-02-08T20:05:04.025Z"
   },
   {
    "duration": 175,
    "start_time": "2022-02-08T20:05:04.031Z"
   },
   {
    "duration": 29,
    "start_time": "2022-02-08T20:05:04.208Z"
   },
   {
    "duration": 219,
    "start_time": "2022-02-08T20:05:04.239Z"
   },
   {
    "duration": 9,
    "start_time": "2022-02-08T20:05:04.460Z"
   },
   {
    "duration": 57,
    "start_time": "2022-02-08T20:06:01.194Z"
   },
   {
    "duration": 104,
    "start_time": "2022-02-08T20:06:06.489Z"
   },
   {
    "duration": 279,
    "start_time": "2022-02-08T20:06:14.792Z"
   },
   {
    "duration": 23,
    "start_time": "2022-02-08T20:07:07.968Z"
   },
   {
    "duration": 1358,
    "start_time": "2022-02-08T20:08:07.688Z"
   },
   {
    "duration": 1082,
    "start_time": "2022-02-08T20:08:25.565Z"
   },
   {
    "duration": 3,
    "start_time": "2022-02-08T20:08:26.649Z"
   },
   {
    "duration": 72,
    "start_time": "2022-02-08T20:08:26.656Z"
   },
   {
    "duration": 22,
    "start_time": "2022-02-08T20:08:26.730Z"
   },
   {
    "duration": 18,
    "start_time": "2022-02-08T20:08:26.754Z"
   },
   {
    "duration": 92,
    "start_time": "2022-02-08T20:08:26.774Z"
   },
   {
    "duration": 10,
    "start_time": "2022-02-08T20:08:26.868Z"
   },
   {
    "duration": 65,
    "start_time": "2022-02-08T20:08:26.881Z"
   },
   {
    "duration": 25,
    "start_time": "2022-02-08T20:08:26.948Z"
   },
   {
    "duration": 6,
    "start_time": "2022-02-08T20:08:26.975Z"
   },
   {
    "duration": 33,
    "start_time": "2022-02-08T20:08:26.983Z"
   },
   {
    "duration": 10,
    "start_time": "2022-02-08T20:08:27.018Z"
   },
   {
    "duration": 9,
    "start_time": "2022-02-08T20:08:27.030Z"
   },
   {
    "duration": 22,
    "start_time": "2022-02-08T20:08:27.041Z"
   },
   {
    "duration": 9,
    "start_time": "2022-02-08T20:08:27.065Z"
   },
   {
    "duration": 55,
    "start_time": "2022-02-08T20:08:27.076Z"
   },
   {
    "duration": 12,
    "start_time": "2022-02-08T20:08:27.133Z"
   },
   {
    "duration": 9,
    "start_time": "2022-02-08T20:08:27.147Z"
   },
   {
    "duration": 10,
    "start_time": "2022-02-08T20:08:27.158Z"
   },
   {
    "duration": 5,
    "start_time": "2022-02-08T20:08:27.171Z"
   },
   {
    "duration": 58,
    "start_time": "2022-02-08T20:08:27.178Z"
   },
   {
    "duration": 4,
    "start_time": "2022-02-08T20:08:27.238Z"
   },
   {
    "duration": 600,
    "start_time": "2022-02-08T20:08:27.243Z"
   },
   {
    "duration": 8,
    "start_time": "2022-02-08T20:08:27.844Z"
   },
   {
    "duration": 26,
    "start_time": "2022-02-08T20:08:27.853Z"
   },
   {
    "duration": 44,
    "start_time": "2022-02-08T20:08:27.883Z"
   },
   {
    "duration": 694,
    "start_time": "2022-02-08T20:08:27.929Z"
   },
   {
    "duration": 217,
    "start_time": "2022-02-08T20:08:28.625Z"
   },
   {
    "duration": 3,
    "start_time": "2022-02-08T20:08:28.844Z"
   },
   {
    "duration": 177,
    "start_time": "2022-02-08T20:08:28.849Z"
   },
   {
    "duration": 27,
    "start_time": "2022-02-08T20:08:29.028Z"
   },
   {
    "duration": 218,
    "start_time": "2022-02-08T20:08:29.057Z"
   },
   {
    "duration": 9,
    "start_time": "2022-02-08T20:08:29.277Z"
   },
   {
    "duration": 277,
    "start_time": "2022-02-08T20:08:29.287Z"
   },
   {
    "duration": 21,
    "start_time": "2022-02-08T20:08:29.566Z"
   },
   {
    "duration": 6,
    "start_time": "2022-02-08T20:08:47.642Z"
   },
   {
    "duration": 1078,
    "start_time": "2022-02-08T20:09:44.289Z"
   },
   {
    "duration": 3,
    "start_time": "2022-02-08T20:09:45.369Z"
   },
   {
    "duration": 64,
    "start_time": "2022-02-08T20:09:45.374Z"
   },
   {
    "duration": 20,
    "start_time": "2022-02-08T20:09:45.440Z"
   },
   {
    "duration": 18,
    "start_time": "2022-02-08T20:09:45.462Z"
   },
   {
    "duration": 89,
    "start_time": "2022-02-08T20:09:45.482Z"
   },
   {
    "duration": 10,
    "start_time": "2022-02-08T20:09:45.572Z"
   },
   {
    "duration": 64,
    "start_time": "2022-02-08T20:09:45.584Z"
   },
   {
    "duration": 26,
    "start_time": "2022-02-08T20:09:45.650Z"
   },
   {
    "duration": 6,
    "start_time": "2022-02-08T20:09:45.678Z"
   },
   {
    "duration": 28,
    "start_time": "2022-02-08T20:09:45.685Z"
   },
   {
    "duration": 9,
    "start_time": "2022-02-08T20:09:45.715Z"
   },
   {
    "duration": 9,
    "start_time": "2022-02-08T20:09:45.726Z"
   },
   {
    "duration": 21,
    "start_time": "2022-02-08T20:09:45.737Z"
   },
   {
    "duration": 9,
    "start_time": "2022-02-08T20:09:45.759Z"
   },
   {
    "duration": 51,
    "start_time": "2022-02-08T20:09:45.770Z"
   },
   {
    "duration": 11,
    "start_time": "2022-02-08T20:09:45.823Z"
   },
   {
    "duration": 6,
    "start_time": "2022-02-08T20:09:45.836Z"
   },
   {
    "duration": 9,
    "start_time": "2022-02-08T20:09:45.844Z"
   },
   {
    "duration": 7,
    "start_time": "2022-02-08T20:09:45.855Z"
   },
   {
    "duration": 57,
    "start_time": "2022-02-08T20:09:45.863Z"
   },
   {
    "duration": 4,
    "start_time": "2022-02-08T20:09:45.922Z"
   },
   {
    "duration": 576,
    "start_time": "2022-02-08T20:09:45.928Z"
   },
   {
    "duration": 9,
    "start_time": "2022-02-08T20:09:46.506Z"
   },
   {
    "duration": 24,
    "start_time": "2022-02-08T20:09:46.517Z"
   },
   {
    "duration": 22,
    "start_time": "2022-02-08T20:09:46.543Z"
   },
   {
    "duration": 681,
    "start_time": "2022-02-08T20:09:46.569Z"
   },
   {
    "duration": 211,
    "start_time": "2022-02-08T20:09:47.251Z"
   },
   {
    "duration": 3,
    "start_time": "2022-02-08T20:09:47.464Z"
   },
   {
    "duration": 172,
    "start_time": "2022-02-08T20:09:47.468Z"
   },
   {
    "duration": 27,
    "start_time": "2022-02-08T20:09:47.641Z"
   },
   {
    "duration": 212,
    "start_time": "2022-02-08T20:09:47.669Z"
   },
   {
    "duration": 8,
    "start_time": "2022-02-08T20:09:47.883Z"
   },
   {
    "duration": 277,
    "start_time": "2022-02-08T20:09:47.892Z"
   },
   {
    "duration": 5,
    "start_time": "2022-02-08T20:09:48.170Z"
   },
   {
    "duration": 35,
    "start_time": "2022-02-08T20:09:48.177Z"
   },
   {
    "duration": 1388,
    "start_time": "2022-02-08T20:10:27.925Z"
   },
   {
    "duration": 1084,
    "start_time": "2022-02-08T20:12:13.787Z"
   },
   {
    "duration": 2,
    "start_time": "2022-02-08T20:12:14.873Z"
   },
   {
    "duration": 64,
    "start_time": "2022-02-08T20:12:14.878Z"
   },
   {
    "duration": 21,
    "start_time": "2022-02-08T20:12:14.944Z"
   },
   {
    "duration": 19,
    "start_time": "2022-02-08T20:12:14.967Z"
   },
   {
    "duration": 89,
    "start_time": "2022-02-08T20:12:14.987Z"
   },
   {
    "duration": 11,
    "start_time": "2022-02-08T20:12:15.078Z"
   },
   {
    "duration": 62,
    "start_time": "2022-02-08T20:12:15.091Z"
   },
   {
    "duration": 26,
    "start_time": "2022-02-08T20:12:15.155Z"
   },
   {
    "duration": 29,
    "start_time": "2022-02-08T20:12:15.183Z"
   },
   {
    "duration": 11,
    "start_time": "2022-02-08T20:12:15.214Z"
   },
   {
    "duration": 9,
    "start_time": "2022-02-08T20:12:15.226Z"
   },
   {
    "duration": 9,
    "start_time": "2022-02-08T20:12:15.237Z"
   },
   {
    "duration": 22,
    "start_time": "2022-02-08T20:12:15.247Z"
   },
   {
    "duration": 8,
    "start_time": "2022-02-08T20:12:15.271Z"
   },
   {
    "duration": 46,
    "start_time": "2022-02-08T20:12:15.281Z"
   },
   {
    "duration": 10,
    "start_time": "2022-02-08T20:12:15.329Z"
   },
   {
    "duration": 7,
    "start_time": "2022-02-08T20:12:15.340Z"
   },
   {
    "duration": 10,
    "start_time": "2022-02-08T20:12:15.349Z"
   },
   {
    "duration": 5,
    "start_time": "2022-02-08T20:12:15.360Z"
   },
   {
    "duration": 52,
    "start_time": "2022-02-08T20:12:15.367Z"
   },
   {
    "duration": 3,
    "start_time": "2022-02-08T20:12:15.421Z"
   },
   {
    "duration": 586,
    "start_time": "2022-02-08T20:12:15.426Z"
   },
   {
    "duration": 5,
    "start_time": "2022-02-08T20:12:16.014Z"
   },
   {
    "duration": 25,
    "start_time": "2022-02-08T20:12:16.020Z"
   },
   {
    "duration": 21,
    "start_time": "2022-02-08T20:12:16.046Z"
   },
   {
    "duration": 701,
    "start_time": "2022-02-08T20:12:16.071Z"
   },
   {
    "duration": 218,
    "start_time": "2022-02-08T20:12:16.774Z"
   },
   {
    "duration": 3,
    "start_time": "2022-02-08T20:12:16.994Z"
   },
   {
    "duration": 15,
    "start_time": "2022-02-08T20:12:16.999Z"
   },
   {
    "duration": 20,
    "start_time": "2022-02-08T20:12:17.016Z"
   },
   {
    "duration": 275,
    "start_time": "2022-02-08T20:12:17.038Z"
   },
   {
    "duration": 10,
    "start_time": "2022-02-08T20:12:17.315Z"
   },
   {
    "duration": 278,
    "start_time": "2022-02-08T20:12:17.327Z"
   },
   {
    "duration": 8,
    "start_time": "2022-02-08T20:12:17.607Z"
   },
   {
    "duration": 23,
    "start_time": "2022-02-08T20:12:17.617Z"
   },
   {
    "duration": 7,
    "start_time": "2022-02-08T20:14:17.253Z"
   },
   {
    "duration": 8,
    "start_time": "2022-02-08T20:14:28.877Z"
   },
   {
    "duration": 8,
    "start_time": "2022-02-08T20:14:44.444Z"
   },
   {
    "duration": 6,
    "start_time": "2022-02-08T20:17:15.691Z"
   },
   {
    "duration": 1111,
    "start_time": "2022-02-09T06:00:16.155Z"
   },
   {
    "duration": 2,
    "start_time": "2022-02-09T06:00:17.268Z"
   },
   {
    "duration": 73,
    "start_time": "2022-02-09T06:00:17.272Z"
   },
   {
    "duration": 21,
    "start_time": "2022-02-09T06:00:17.347Z"
   },
   {
    "duration": 18,
    "start_time": "2022-02-09T06:00:17.369Z"
   },
   {
    "duration": 73,
    "start_time": "2022-02-09T06:00:17.389Z"
   },
   {
    "duration": 10,
    "start_time": "2022-02-09T06:00:17.464Z"
   },
   {
    "duration": 52,
    "start_time": "2022-02-09T06:00:17.477Z"
   },
   {
    "duration": 26,
    "start_time": "2022-02-09T06:00:17.531Z"
   },
   {
    "duration": 6,
    "start_time": "2022-02-09T06:00:17.558Z"
   },
   {
    "duration": 10,
    "start_time": "2022-02-09T06:00:17.566Z"
   },
   {
    "duration": 9,
    "start_time": "2022-02-09T06:00:17.578Z"
   },
   {
    "duration": 8,
    "start_time": "2022-02-09T06:00:17.589Z"
   },
   {
    "duration": 32,
    "start_time": "2022-02-09T06:00:17.599Z"
   },
   {
    "duration": 10,
    "start_time": "2022-02-09T06:00:17.633Z"
   },
   {
    "duration": 18,
    "start_time": "2022-02-09T06:00:17.645Z"
   },
   {
    "duration": 12,
    "start_time": "2022-02-09T06:00:17.664Z"
   },
   {
    "duration": 7,
    "start_time": "2022-02-09T06:00:17.677Z"
   },
   {
    "duration": 9,
    "start_time": "2022-02-09T06:00:17.686Z"
   },
   {
    "duration": 5,
    "start_time": "2022-02-09T06:00:17.697Z"
   },
   {
    "duration": 27,
    "start_time": "2022-02-09T06:00:17.703Z"
   },
   {
    "duration": 3,
    "start_time": "2022-02-09T06:00:17.732Z"
   },
   {
    "duration": 603,
    "start_time": "2022-02-09T06:00:17.738Z"
   },
   {
    "duration": 5,
    "start_time": "2022-02-09T06:00:18.344Z"
   },
   {
    "duration": 70,
    "start_time": "2022-02-09T06:00:18.351Z"
   },
   {
    "duration": 22,
    "start_time": "2022-02-09T06:00:18.423Z"
   },
   {
    "duration": 784,
    "start_time": "2022-02-09T06:00:18.447Z"
   },
   {
    "duration": 206,
    "start_time": "2022-02-09T06:00:19.232Z"
   },
   {
    "duration": 4,
    "start_time": "2022-02-09T06:00:19.439Z"
   },
   {
    "duration": 282,
    "start_time": "2022-02-09T06:00:19.444Z"
   },
   {
    "duration": -851,
    "start_time": "2022-02-09T06:00:20.579Z"
   },
   {
    "duration": -854,
    "start_time": "2022-02-09T06:00:20.583Z"
   },
   {
    "duration": -886,
    "start_time": "2022-02-09T06:00:20.616Z"
   },
   {
    "duration": -888,
    "start_time": "2022-02-09T06:00:20.619Z"
   },
   {
    "duration": -889,
    "start_time": "2022-02-09T06:00:20.621Z"
   },
   {
    "duration": -890,
    "start_time": "2022-02-09T06:00:20.624Z"
   },
   {
    "duration": -891,
    "start_time": "2022-02-09T06:00:20.626Z"
   },
   {
    "duration": -891,
    "start_time": "2022-02-09T06:00:20.627Z"
   },
   {
    "duration": 142,
    "start_time": "2022-02-09T06:00:31.902Z"
   },
   {
    "duration": 15,
    "start_time": "2022-02-09T06:03:07.077Z"
   },
   {
    "duration": 391,
    "start_time": "2022-02-09T06:05:03.324Z"
   },
   {
    "duration": 183,
    "start_time": "2022-02-09T06:05:13.860Z"
   },
   {
    "duration": 186,
    "start_time": "2022-02-09T06:05:41.611Z"
   },
   {
    "duration": 201,
    "start_time": "2022-02-09T06:09:11.778Z"
   },
   {
    "duration": 238,
    "start_time": "2022-02-09T06:09:16.074Z"
   },
   {
    "duration": 362,
    "start_time": "2022-02-09T06:09:23.850Z"
   },
   {
    "duration": 519,
    "start_time": "2022-02-09T06:09:33.114Z"
   },
   {
    "duration": 365,
    "start_time": "2022-02-09T06:09:39.050Z"
   },
   {
    "duration": 345,
    "start_time": "2022-02-09T06:09:50.874Z"
   },
   {
    "duration": 260,
    "start_time": "2022-02-09T06:09:59.058Z"
   },
   {
    "duration": 205,
    "start_time": "2022-02-09T06:10:09.297Z"
   },
   {
    "duration": 341,
    "start_time": "2022-02-09T06:10:20.115Z"
   },
   {
    "duration": 284,
    "start_time": "2022-02-09T06:10:26.210Z"
   },
   {
    "duration": 281,
    "start_time": "2022-02-09T06:12:09.655Z"
   },
   {
    "duration": 5547,
    "start_time": "2022-02-09T06:12:29.297Z"
   },
   {
    "duration": 449,
    "start_time": "2022-02-09T06:16:42.448Z"
   },
   {
    "duration": 341,
    "start_time": "2022-02-09T06:16:50.015Z"
   },
   {
    "duration": 268,
    "start_time": "2022-02-09T06:17:45.912Z"
   },
   {
    "duration": 270,
    "start_time": "2022-02-09T06:18:39.006Z"
   },
   {
    "duration": 284,
    "start_time": "2022-02-09T06:19:27.165Z"
   },
   {
    "duration": 182,
    "start_time": "2022-02-09T06:20:45.101Z"
   },
   {
    "duration": 2,
    "start_time": "2022-02-09T06:21:02.341Z"
   },
   {
    "duration": 3,
    "start_time": "2022-02-09T06:21:03.187Z"
   },
   {
    "duration": 187,
    "start_time": "2022-02-09T06:21:05.764Z"
   },
   {
    "duration": 277,
    "start_time": "2022-02-09T06:21:12.828Z"
   },
   {
    "duration": 63,
    "start_time": "2022-02-09T06:21:19.996Z"
   },
   {
    "duration": 2,
    "start_time": "2022-02-09T06:21:23.716Z"
   },
   {
    "duration": 2,
    "start_time": "2022-02-09T06:21:25.028Z"
   },
   {
    "duration": 277,
    "start_time": "2022-02-09T06:21:27.164Z"
   },
   {
    "duration": 263,
    "start_time": "2022-02-09T06:35:11.766Z"
   },
   {
    "duration": 265,
    "start_time": "2022-02-09T06:35:16.366Z"
   },
   {
    "duration": 3,
    "start_time": "2022-02-09T06:37:12.509Z"
   },
   {
    "duration": 201,
    "start_time": "2022-02-09T06:37:13.365Z"
   },
   {
    "duration": 187,
    "start_time": "2022-02-09T06:37:32.894Z"
   },
   {
    "duration": 207,
    "start_time": "2022-02-09T06:39:11.076Z"
   },
   {
    "duration": 194,
    "start_time": "2022-02-09T08:21:38.659Z"
   },
   {
    "duration": 310,
    "start_time": "2022-02-09T08:23:16.399Z"
   },
   {
    "duration": 194,
    "start_time": "2022-02-09T08:23:50.608Z"
   },
   {
    "duration": 251,
    "start_time": "2022-02-09T08:23:56.847Z"
   },
   {
    "duration": 2,
    "start_time": "2022-02-09T08:26:42.127Z"
   },
   {
    "duration": 9,
    "start_time": "2022-02-09T08:38:52.184Z"
   },
   {
    "duration": 64,
    "start_time": "2022-02-09T08:39:23.160Z"
   },
   {
    "duration": 9,
    "start_time": "2022-02-09T08:39:28.992Z"
   },
   {
    "duration": 193,
    "start_time": "2022-02-09T08:41:12.198Z"
   },
   {
    "duration": 197,
    "start_time": "2022-02-09T08:41:28.919Z"
   },
   {
    "duration": 233,
    "start_time": "2022-02-09T08:42:05.536Z"
   },
   {
    "duration": 212,
    "start_time": "2022-02-09T08:42:18.207Z"
   },
   {
    "duration": 86,
    "start_time": "2022-02-09T08:45:18.581Z"
   },
   {
    "duration": 7,
    "start_time": "2022-02-09T08:47:16.956Z"
   },
   {
    "duration": 74,
    "start_time": "2022-02-09T08:47:33.548Z"
   },
   {
    "duration": 7,
    "start_time": "2022-02-09T08:47:36.916Z"
   },
   {
    "duration": 213,
    "start_time": "2022-02-09T08:48:08.500Z"
   },
   {
    "duration": 7,
    "start_time": "2022-02-09T08:48:44.404Z"
   },
   {
    "duration": 7,
    "start_time": "2022-02-09T08:49:03.884Z"
   },
   {
    "duration": 8,
    "start_time": "2022-02-09T08:49:16.387Z"
   },
   {
    "duration": 7,
    "start_time": "2022-02-09T08:49:32.491Z"
   },
   {
    "duration": 7,
    "start_time": "2022-02-09T08:50:57.028Z"
   },
   {
    "duration": 8,
    "start_time": "2022-02-09T08:51:11.643Z"
   },
   {
    "duration": 9,
    "start_time": "2022-02-09T08:53:10.282Z"
   },
   {
    "duration": 9,
    "start_time": "2022-02-09T08:53:20.993Z"
   },
   {
    "duration": 7,
    "start_time": "2022-02-09T08:54:19.433Z"
   },
   {
    "duration": 7,
    "start_time": "2022-02-09T08:54:55.288Z"
   },
   {
    "duration": 8,
    "start_time": "2022-02-09T08:55:56.712Z"
   },
   {
    "duration": 7,
    "start_time": "2022-02-09T08:56:03.673Z"
   },
   {
    "duration": 7,
    "start_time": "2022-02-09T08:56:11.096Z"
   },
   {
    "duration": 424,
    "start_time": "2022-02-09T08:57:22.640Z"
   },
   {
    "duration": 68,
    "start_time": "2022-02-09T08:57:36.838Z"
   },
   {
    "duration": 229,
    "start_time": "2022-02-09T08:57:50.759Z"
   },
   {
    "duration": 2894,
    "start_time": "2022-02-09T08:57:59.895Z"
   },
   {
    "duration": 203,
    "start_time": "2022-02-09T08:58:33.712Z"
   },
   {
    "duration": 62,
    "start_time": "2022-02-09T08:59:44.870Z"
   },
   {
    "duration": 20,
    "start_time": "2022-02-09T08:59:49.238Z"
   },
   {
    "duration": 202,
    "start_time": "2022-02-09T09:00:56.839Z"
   },
   {
    "duration": 154,
    "start_time": "2022-02-09T09:01:07.414Z"
   },
   {
    "duration": 58,
    "start_time": "2022-02-09T09:06:45.444Z"
   },
   {
    "duration": 205,
    "start_time": "2022-02-09T09:09:05.716Z"
   },
   {
    "duration": 218,
    "start_time": "2022-02-09T09:10:08.836Z"
   },
   {
    "duration": 188,
    "start_time": "2022-02-09T09:10:47.843Z"
   },
   {
    "duration": 195,
    "start_time": "2022-02-09T09:11:09.418Z"
   },
   {
    "duration": 313,
    "start_time": "2022-02-09T09:11:18.298Z"
   },
   {
    "duration": 72,
    "start_time": "2022-02-09T09:11:30.691Z"
   },
   {
    "duration": 10,
    "start_time": "2022-02-09T09:11:33.666Z"
   },
   {
    "duration": 14,
    "start_time": "2022-02-09T09:11:41.842Z"
   },
   {
    "duration": 245,
    "start_time": "2022-02-09T09:13:43.946Z"
   },
   {
    "duration": 20,
    "start_time": "2022-02-09T09:13:51.626Z"
   },
   {
    "duration": 27,
    "start_time": "2022-02-09T09:13:55.273Z"
   },
   {
    "duration": 27,
    "start_time": "2022-02-09T09:14:36.953Z"
   },
   {
    "duration": 79,
    "start_time": "2022-02-09T09:18:48.624Z"
   },
   {
    "duration": 215,
    "start_time": "2022-02-09T09:21:18.143Z"
   },
   {
    "duration": 15,
    "start_time": "2022-02-09T09:21:37.406Z"
   },
   {
    "duration": 174,
    "start_time": "2022-02-09T09:22:27.382Z"
   },
   {
    "duration": 10,
    "start_time": "2022-02-09T09:22:43.262Z"
   },
   {
    "duration": 11,
    "start_time": "2022-02-09T09:23:38.957Z"
   },
   {
    "duration": 65,
    "start_time": "2022-02-09T09:25:13.717Z"
   },
   {
    "duration": 552,
    "start_time": "2022-02-09T09:25:19.837Z"
   },
   {
    "duration": 220,
    "start_time": "2022-02-09T09:25:34.957Z"
   },
   {
    "duration": 71,
    "start_time": "2022-02-09T09:25:42.052Z"
   },
   {
    "duration": 298,
    "start_time": "2022-02-09T09:25:44.916Z"
   },
   {
    "duration": 221,
    "start_time": "2022-02-09T09:28:24.916Z"
   },
   {
    "duration": 195,
    "start_time": "2022-02-09T09:28:41.428Z"
   },
   {
    "duration": 217,
    "start_time": "2022-02-09T09:29:45.093Z"
   },
   {
    "duration": 195,
    "start_time": "2022-02-09T09:30:29.219Z"
   },
   {
    "duration": 1175,
    "start_time": "2022-02-09T09:30:45.787Z"
   },
   {
    "duration": 3,
    "start_time": "2022-02-09T09:30:46.964Z"
   },
   {
    "duration": 67,
    "start_time": "2022-02-09T09:30:46.969Z"
   },
   {
    "duration": 23,
    "start_time": "2022-02-09T09:30:47.038Z"
   },
   {
    "duration": 20,
    "start_time": "2022-02-09T09:30:47.062Z"
   },
   {
    "duration": 88,
    "start_time": "2022-02-09T09:30:47.084Z"
   },
   {
    "duration": 10,
    "start_time": "2022-02-09T09:30:47.174Z"
   },
   {
    "duration": 62,
    "start_time": "2022-02-09T09:30:47.186Z"
   },
   {
    "duration": 26,
    "start_time": "2022-02-09T09:30:47.251Z"
   },
   {
    "duration": 34,
    "start_time": "2022-02-09T09:30:47.280Z"
   },
   {
    "duration": 11,
    "start_time": "2022-02-09T09:30:47.316Z"
   },
   {
    "duration": 10,
    "start_time": "2022-02-09T09:30:47.329Z"
   },
   {
    "duration": 10,
    "start_time": "2022-02-09T09:30:47.340Z"
   },
   {
    "duration": 23,
    "start_time": "2022-02-09T09:30:47.352Z"
   },
   {
    "duration": 39,
    "start_time": "2022-02-09T09:30:47.377Z"
   },
   {
    "duration": 24,
    "start_time": "2022-02-09T09:30:47.418Z"
   },
   {
    "duration": 9,
    "start_time": "2022-02-09T09:30:47.444Z"
   },
   {
    "duration": 6,
    "start_time": "2022-02-09T09:30:47.455Z"
   },
   {
    "duration": 8,
    "start_time": "2022-02-09T09:30:47.463Z"
   },
   {
    "duration": 7,
    "start_time": "2022-02-09T09:30:47.472Z"
   },
   {
    "duration": 51,
    "start_time": "2022-02-09T09:30:47.480Z"
   },
   {
    "duration": 3,
    "start_time": "2022-02-09T09:30:47.533Z"
   },
   {
    "duration": 597,
    "start_time": "2022-02-09T09:30:47.537Z"
   },
   {
    "duration": 5,
    "start_time": "2022-02-09T09:30:48.136Z"
   },
   {
    "duration": 25,
    "start_time": "2022-02-09T09:30:48.143Z"
   },
   {
    "duration": 21,
    "start_time": "2022-02-09T09:30:48.170Z"
   },
   {
    "duration": 4,
    "start_time": "2022-02-09T09:30:48.214Z"
   },
   {
    "duration": 18,
    "start_time": "2022-02-09T09:30:48.219Z"
   },
   {
    "duration": 3,
    "start_time": "2022-02-09T09:30:48.239Z"
   },
   {
    "duration": 222,
    "start_time": "2022-02-09T09:30:48.243Z"
   },
   {
    "duration": 210,
    "start_time": "2022-02-09T09:30:48.466Z"
   },
   {
    "duration": 209,
    "start_time": "2022-02-09T09:30:48.678Z"
   },
   {
    "duration": 271,
    "start_time": "2022-02-09T09:30:48.889Z"
   },
   {
    "duration": 8,
    "start_time": "2022-02-09T09:30:49.162Z"
   },
   {
    "duration": 215,
    "start_time": "2022-02-09T09:30:49.172Z"
   },
   {
    "duration": 159,
    "start_time": "2022-02-09T09:30:49.389Z"
   },
   {
    "duration": 7,
    "start_time": "2022-02-09T09:30:49.549Z"
   },
   {
    "duration": 22,
    "start_time": "2022-02-09T09:30:49.557Z"
   },
   {
    "duration": 278,
    "start_time": "2022-02-09T09:30:49.581Z"
   },
   {
    "duration": -848,
    "start_time": "2022-02-09T09:30:50.709Z"
   },
   {
    "duration": 184,
    "start_time": "2022-02-09T11:36:59.237Z"
   },
   {
    "duration": 483,
    "start_time": "2022-02-09T11:37:12.091Z"
   },
   {
    "duration": 54,
    "start_time": "2022-02-09T11:37:22.085Z"
   },
   {
    "duration": 8989,
    "start_time": "2022-02-09T11:37:36.685Z"
   },
   {
    "duration": 10,
    "start_time": "2022-02-09T11:39:23.596Z"
   },
   {
    "duration": 26,
    "start_time": "2022-02-09T11:40:37.818Z"
   },
   {
    "duration": 110,
    "start_time": "2022-02-09T11:40:53.478Z"
   },
   {
    "duration": 102,
    "start_time": "2022-02-09T11:41:33.835Z"
   },
   {
    "duration": 77,
    "start_time": "2022-02-09T11:42:09.458Z"
   },
   {
    "duration": 20,
    "start_time": "2022-02-09T11:42:13.633Z"
   },
   {
    "duration": 62,
    "start_time": "2022-02-09T11:42:35.426Z"
   },
   {
    "duration": 102,
    "start_time": "2022-02-09T11:42:38.041Z"
   },
   {
    "duration": 213,
    "start_time": "2022-02-09T11:42:58.953Z"
   },
   {
    "duration": 21,
    "start_time": "2022-02-09T11:43:18.050Z"
   },
   {
    "duration": 13,
    "start_time": "2022-02-09T11:43:26.770Z"
   },
   {
    "duration": 13,
    "start_time": "2022-02-09T11:43:58.305Z"
   },
   {
    "duration": 13,
    "start_time": "2022-02-09T11:44:02.729Z"
   },
   {
    "duration": 13,
    "start_time": "2022-02-09T11:44:25.185Z"
   },
   {
    "duration": 10,
    "start_time": "2022-02-09T11:44:30.913Z"
   },
   {
    "duration": 10,
    "start_time": "2022-02-09T11:44:32.096Z"
   },
   {
    "duration": 13,
    "start_time": "2022-02-09T11:44:38.288Z"
   },
   {
    "duration": 883,
    "start_time": "2022-02-09T11:54:11.996Z"
   },
   {
    "duration": 205,
    "start_time": "2022-02-09T11:54:21.323Z"
   },
   {
    "duration": 93,
    "start_time": "2022-02-09T11:54:35.056Z"
   },
   {
    "duration": 15,
    "start_time": "2022-02-09T11:54:36.828Z"
   },
   {
    "duration": 896,
    "start_time": "2022-02-09T11:54:43.598Z"
   },
   {
    "duration": 211,
    "start_time": "2022-02-09T11:55:08.375Z"
   },
   {
    "duration": 190,
    "start_time": "2022-02-09T11:55:21.193Z"
   },
   {
    "duration": 597,
    "start_time": "2022-02-09T11:58:46.853Z"
   },
   {
    "duration": 1019,
    "start_time": "2022-02-09T11:58:57.049Z"
   },
   {
    "duration": 3,
    "start_time": "2022-02-09T11:58:58.070Z"
   },
   {
    "duration": 70,
    "start_time": "2022-02-09T11:58:58.074Z"
   },
   {
    "duration": 20,
    "start_time": "2022-02-09T11:58:58.145Z"
   },
   {
    "duration": 17,
    "start_time": "2022-02-09T11:58:58.167Z"
   },
   {
    "duration": 85,
    "start_time": "2022-02-09T11:58:58.186Z"
   },
   {
    "duration": 11,
    "start_time": "2022-02-09T11:58:58.273Z"
   },
   {
    "duration": 60,
    "start_time": "2022-02-09T11:58:58.287Z"
   },
   {
    "duration": 25,
    "start_time": "2022-02-09T11:58:58.349Z"
   },
   {
    "duration": 6,
    "start_time": "2022-02-09T11:58:58.376Z"
   },
   {
    "duration": 31,
    "start_time": "2022-02-09T11:58:58.384Z"
   },
   {
    "duration": 9,
    "start_time": "2022-02-09T11:58:58.417Z"
   },
   {
    "duration": 11,
    "start_time": "2022-02-09T11:58:58.427Z"
   },
   {
    "duration": 22,
    "start_time": "2022-02-09T11:58:58.440Z"
   },
   {
    "duration": 10,
    "start_time": "2022-02-09T11:58:58.463Z"
   },
   {
    "duration": 47,
    "start_time": "2022-02-09T11:58:58.475Z"
   },
   {
    "duration": 10,
    "start_time": "2022-02-09T11:58:58.524Z"
   },
   {
    "duration": 6,
    "start_time": "2022-02-09T11:58:58.536Z"
   },
   {
    "duration": 8,
    "start_time": "2022-02-09T11:58:58.544Z"
   },
   {
    "duration": 6,
    "start_time": "2022-02-09T11:58:58.553Z"
   },
   {
    "duration": 22,
    "start_time": "2022-02-09T11:58:58.561Z"
   },
   {
    "duration": 4,
    "start_time": "2022-02-09T11:58:58.611Z"
   },
   {
    "duration": 591,
    "start_time": "2022-02-09T11:58:58.618Z"
   },
   {
    "duration": 5,
    "start_time": "2022-02-09T11:58:59.211Z"
   },
   {
    "duration": 25,
    "start_time": "2022-02-09T11:58:59.217Z"
   },
   {
    "duration": 24,
    "start_time": "2022-02-09T11:58:59.243Z"
   },
   {
    "duration": 3,
    "start_time": "2022-02-09T11:58:59.268Z"
   },
   {
    "duration": 40,
    "start_time": "2022-02-09T11:58:59.273Z"
   },
   {
    "duration": 3,
    "start_time": "2022-02-09T11:58:59.314Z"
   },
   {
    "duration": 198,
    "start_time": "2022-02-09T11:58:59.318Z"
   },
   {
    "duration": 207,
    "start_time": "2022-02-09T11:58:59.518Z"
   },
   {
    "duration": 200,
    "start_time": "2022-02-09T11:58:59.727Z"
   },
   {
    "duration": 280,
    "start_time": "2022-02-09T11:58:59.929Z"
   },
   {
    "duration": 8,
    "start_time": "2022-02-09T11:59:00.211Z"
   },
   {
    "duration": 213,
    "start_time": "2022-02-09T11:59:00.220Z"
   },
   {
    "duration": 164,
    "start_time": "2022-02-09T11:59:00.435Z"
   },
   {
    "duration": 13,
    "start_time": "2022-02-09T11:59:00.601Z"
   },
   {
    "duration": 22,
    "start_time": "2022-02-09T11:59:00.616Z"
   },
   {
    "duration": 9,
    "start_time": "2022-02-09T11:59:00.640Z"
   },
   {
    "duration": 660,
    "start_time": "2022-02-09T11:59:00.651Z"
   },
   {
    "duration": 559,
    "start_time": "2022-02-09T11:59:22.894Z"
   },
   {
    "duration": 527,
    "start_time": "2022-02-09T12:00:33.566Z"
   },
   {
    "duration": 468,
    "start_time": "2022-02-09T12:01:00.757Z"
   },
   {
    "duration": 290,
    "start_time": "2022-02-09T12:01:09.541Z"
   },
   {
    "duration": 289,
    "start_time": "2022-02-09T12:01:45.661Z"
   },
   {
    "duration": 447,
    "start_time": "2022-02-09T12:02:07.485Z"
   },
   {
    "duration": 2097,
    "start_time": "2022-02-09T12:03:03.373Z"
   },
   {
    "duration": 291,
    "start_time": "2022-02-09T12:03:07.956Z"
   },
   {
    "duration": 411,
    "start_time": "2022-02-09T12:06:02.891Z"
   },
   {
    "duration": 380,
    "start_time": "2022-02-09T12:06:47.756Z"
   },
   {
    "duration": 72,
    "start_time": "2022-02-09T12:07:16.778Z"
   },
   {
    "duration": 505,
    "start_time": "2022-02-09T12:07:22.154Z"
   },
   {
    "duration": 741,
    "start_time": "2022-02-09T12:07:48.722Z"
   },
   {
    "duration": 335,
    "start_time": "2022-02-09T12:08:52.394Z"
   },
   {
    "duration": 415,
    "start_time": "2022-02-09T12:09:21.450Z"
   },
   {
    "duration": 709,
    "start_time": "2022-02-09T12:09:42.852Z"
   },
   {
    "duration": 85,
    "start_time": "2022-02-09T12:10:02.977Z"
   },
   {
    "duration": 239,
    "start_time": "2022-02-09T12:10:21.433Z"
   },
   {
    "duration": 209,
    "start_time": "2022-02-09T12:10:39.249Z"
   },
   {
    "duration": 257,
    "start_time": "2022-02-09T12:10:44.841Z"
   },
   {
    "duration": 215,
    "start_time": "2022-02-09T12:10:50.833Z"
   },
   {
    "duration": 229,
    "start_time": "2022-02-09T12:11:23.168Z"
   },
   {
    "duration": 224,
    "start_time": "2022-02-09T12:11:35.389Z"
   },
   {
    "duration": 184,
    "start_time": "2022-02-09T12:11:41.136Z"
   },
   {
    "duration": 198,
    "start_time": "2022-02-09T12:11:53.704Z"
   },
   {
    "duration": 272,
    "start_time": "2022-02-09T12:12:02.384Z"
   },
   {
    "duration": 178,
    "start_time": "2022-02-09T12:12:14.984Z"
   },
   {
    "duration": 179,
    "start_time": "2022-02-09T12:12:21.752Z"
   },
   {
    "duration": 284,
    "start_time": "2022-02-09T12:12:48.743Z"
   },
   {
    "duration": 289,
    "start_time": "2022-02-09T12:13:02.944Z"
   },
   {
    "duration": 212,
    "start_time": "2022-02-09T12:13:24.103Z"
   },
   {
    "duration": 229,
    "start_time": "2022-02-09T12:14:11.607Z"
   },
   {
    "duration": 222,
    "start_time": "2022-02-09T12:14:13.607Z"
   },
   {
    "duration": 141,
    "start_time": "2022-02-09T12:14:38.488Z"
   },
   {
    "duration": 355,
    "start_time": "2022-02-09T12:15:04.359Z"
   },
   {
    "duration": 77,
    "start_time": "2022-02-09T12:15:38.328Z"
   },
   {
    "duration": 401,
    "start_time": "2022-02-09T12:15:50.063Z"
   },
   {
    "duration": 4178,
    "start_time": "2022-02-09T12:15:58.294Z"
   },
   {
    "duration": 608,
    "start_time": "2022-02-09T12:16:25.335Z"
   },
   {
    "duration": 345,
    "start_time": "2022-02-09T12:16:39.830Z"
   },
   {
    "duration": 338,
    "start_time": "2022-02-09T12:16:43.910Z"
   },
   {
    "duration": 208,
    "start_time": "2022-02-09T12:17:10.726Z"
   },
   {
    "duration": 61,
    "start_time": "2022-02-09T12:17:22.405Z"
   },
   {
    "duration": 182,
    "start_time": "2022-02-09T12:17:36.749Z"
   },
   {
    "duration": 201,
    "start_time": "2022-02-09T12:17:54.214Z"
   },
   {
    "duration": 255,
    "start_time": "2022-02-09T12:18:04.349Z"
   },
   {
    "duration": 247,
    "start_time": "2022-02-09T12:18:09.805Z"
   },
   {
    "duration": 251,
    "start_time": "2022-02-09T12:18:12.557Z"
   },
   {
    "duration": 254,
    "start_time": "2022-02-09T12:18:22.837Z"
   },
   {
    "duration": 11,
    "start_time": "2022-02-09T12:20:24.172Z"
   },
   {
    "duration": 15,
    "start_time": "2022-02-09T12:20:33.532Z"
   },
   {
    "duration": 37,
    "start_time": "2022-02-09T12:21:13.507Z"
   },
   {
    "duration": 324,
    "start_time": "2022-02-09T12:21:35.691Z"
   },
   {
    "duration": 19,
    "start_time": "2022-02-09T12:21:49.772Z"
   },
   {
    "duration": 28,
    "start_time": "2022-02-09T12:22:06.899Z"
   },
   {
    "duration": 1771,
    "start_time": "2022-02-09T12:22:14.587Z"
   },
   {
    "duration": 21,
    "start_time": "2022-02-09T12:22:24.772Z"
   },
   {
    "duration": 22,
    "start_time": "2022-02-09T12:22:30.235Z"
   },
   {
    "duration": 21,
    "start_time": "2022-02-09T12:22:35.203Z"
   },
   {
    "duration": 23,
    "start_time": "2022-02-09T12:24:01.339Z"
   },
   {
    "duration": 22,
    "start_time": "2022-02-09T12:24:06.578Z"
   },
   {
    "duration": 190,
    "start_time": "2022-02-09T12:28:23.243Z"
   },
   {
    "duration": 1176,
    "start_time": "2022-02-09T12:28:32.491Z"
   },
   {
    "duration": 3,
    "start_time": "2022-02-09T12:28:33.669Z"
   },
   {
    "duration": 72,
    "start_time": "2022-02-09T12:28:33.674Z"
   },
   {
    "duration": 22,
    "start_time": "2022-02-09T12:28:33.748Z"
   },
   {
    "duration": 19,
    "start_time": "2022-02-09T12:28:33.773Z"
   },
   {
    "duration": 89,
    "start_time": "2022-02-09T12:28:33.794Z"
   },
   {
    "duration": 28,
    "start_time": "2022-02-09T12:28:33.885Z"
   },
   {
    "duration": 47,
    "start_time": "2022-02-09T12:28:33.915Z"
   },
   {
    "duration": 27,
    "start_time": "2022-02-09T12:28:33.964Z"
   },
   {
    "duration": 7,
    "start_time": "2022-02-09T12:28:34.012Z"
   },
   {
    "duration": 12,
    "start_time": "2022-02-09T12:28:34.021Z"
   },
   {
    "duration": 9,
    "start_time": "2022-02-09T12:28:34.035Z"
   },
   {
    "duration": 10,
    "start_time": "2022-02-09T12:28:34.046Z"
   },
   {
    "duration": 55,
    "start_time": "2022-02-09T12:28:34.058Z"
   },
   {
    "duration": 9,
    "start_time": "2022-02-09T12:28:34.114Z"
   },
   {
    "duration": 24,
    "start_time": "2022-02-09T12:28:34.125Z"
   },
   {
    "duration": 13,
    "start_time": "2022-02-09T12:28:34.152Z"
   },
   {
    "duration": 7,
    "start_time": "2022-02-09T12:28:34.167Z"
   },
   {
    "duration": 45,
    "start_time": "2022-02-09T12:28:34.176Z"
   },
   {
    "duration": 13,
    "start_time": "2022-02-09T12:28:34.223Z"
   },
   {
    "duration": 33,
    "start_time": "2022-02-09T12:28:34.239Z"
   },
   {
    "duration": 4,
    "start_time": "2022-02-09T12:28:34.274Z"
   },
   {
    "duration": 654,
    "start_time": "2022-02-09T12:28:34.283Z"
   },
   {
    "duration": 6,
    "start_time": "2022-02-09T12:28:34.939Z"
   },
   {
    "duration": 26,
    "start_time": "2022-02-09T12:28:34.946Z"
   },
   {
    "duration": 47,
    "start_time": "2022-02-09T12:28:34.974Z"
   },
   {
    "duration": 4,
    "start_time": "2022-02-09T12:28:35.023Z"
   },
   {
    "duration": 17,
    "start_time": "2022-02-09T12:28:35.029Z"
   },
   {
    "duration": 3,
    "start_time": "2022-02-09T12:28:35.048Z"
   },
   {
    "duration": 235,
    "start_time": "2022-02-09T12:28:35.053Z"
   },
   {
    "duration": 211,
    "start_time": "2022-02-09T12:28:35.291Z"
   },
   {
    "duration": 206,
    "start_time": "2022-02-09T12:28:35.512Z"
   },
   {
    "duration": 283,
    "start_time": "2022-02-09T12:28:35.720Z"
   },
   {
    "duration": 10,
    "start_time": "2022-02-09T12:28:36.012Z"
   },
   {
    "duration": 219,
    "start_time": "2022-02-09T12:28:36.023Z"
   },
   {
    "duration": 157,
    "start_time": "2022-02-09T12:28:36.244Z"
   },
   {
    "duration": 12,
    "start_time": "2022-02-09T12:28:36.403Z"
   },
   {
    "duration": 20,
    "start_time": "2022-02-09T12:28:36.417Z"
   },
   {
    "duration": 11,
    "start_time": "2022-02-09T12:28:36.438Z"
   },
   {
    "duration": 265,
    "start_time": "2022-02-09T12:28:36.450Z"
   },
   {
    "duration": 22,
    "start_time": "2022-02-09T12:28:36.717Z"
   },
   {
    "duration": 21,
    "start_time": "2022-02-09T12:28:36.741Z"
   },
   {
    "duration": 271,
    "start_time": "2022-02-09T12:28:36.763Z"
   },
   {
    "duration": 4,
    "start_time": "2022-02-09T12:28:42.218Z"
   },
   {
    "duration": 22,
    "start_time": "2022-02-09T12:29:13.595Z"
   },
   {
    "duration": 30,
    "start_time": "2022-02-09T12:29:26.018Z"
   },
   {
    "duration": 20,
    "start_time": "2022-02-09T12:29:32.169Z"
   },
   {
    "duration": 22,
    "start_time": "2022-02-09T12:29:47.322Z"
   },
   {
    "duration": 31,
    "start_time": "2022-02-09T12:30:01.130Z"
   },
   {
    "duration": 27,
    "start_time": "2022-02-09T12:30:05.858Z"
   },
   {
    "duration": 26,
    "start_time": "2022-02-09T12:30:08.210Z"
   },
   {
    "duration": 29,
    "start_time": "2022-02-09T12:30:13.737Z"
   },
   {
    "duration": 27,
    "start_time": "2022-02-09T12:30:22.401Z"
   },
   {
    "duration": 235,
    "start_time": "2022-02-09T12:32:33.121Z"
   },
   {
    "duration": 322,
    "start_time": "2022-02-09T12:33:03.160Z"
   },
   {
    "duration": 206,
    "start_time": "2022-02-09T21:32:34.385Z"
   },
   {
    "duration": 1002,
    "start_time": "2022-02-09T21:33:32.753Z"
   },
   {
    "duration": 3,
    "start_time": "2022-02-09T21:33:33.758Z"
   },
   {
    "duration": 70,
    "start_time": "2022-02-09T21:33:33.763Z"
   },
   {
    "duration": 21,
    "start_time": "2022-02-09T21:33:33.835Z"
   },
   {
    "duration": 16,
    "start_time": "2022-02-09T21:33:33.858Z"
   },
   {
    "duration": 87,
    "start_time": "2022-02-09T21:33:33.876Z"
   },
   {
    "duration": 9,
    "start_time": "2022-02-09T21:33:33.965Z"
   },
   {
    "duration": 65,
    "start_time": "2022-02-09T21:33:33.977Z"
   },
   {
    "duration": 24,
    "start_time": "2022-02-09T21:33:34.044Z"
   },
   {
    "duration": 5,
    "start_time": "2022-02-09T21:33:34.070Z"
   },
   {
    "duration": 42,
    "start_time": "2022-02-09T21:33:34.076Z"
   },
   {
    "duration": 10,
    "start_time": "2022-02-09T21:33:34.119Z"
   },
   {
    "duration": 9,
    "start_time": "2022-02-09T21:33:34.130Z"
   },
   {
    "duration": 20,
    "start_time": "2022-02-09T21:33:34.140Z"
   },
   {
    "duration": 9,
    "start_time": "2022-02-09T21:33:34.162Z"
   },
   {
    "duration": 52,
    "start_time": "2022-02-09T21:33:34.172Z"
   },
   {
    "duration": 11,
    "start_time": "2022-02-09T21:33:34.225Z"
   },
   {
    "duration": 6,
    "start_time": "2022-02-09T21:33:34.238Z"
   },
   {
    "duration": 16,
    "start_time": "2022-02-09T21:33:34.246Z"
   },
   {
    "duration": 6,
    "start_time": "2022-02-09T21:33:34.263Z"
   },
   {
    "duration": 58,
    "start_time": "2022-02-09T21:33:34.270Z"
   },
   {
    "duration": 2,
    "start_time": "2022-02-09T21:33:34.330Z"
   },
   {
    "duration": 567,
    "start_time": "2022-02-09T21:33:34.335Z"
   },
   {
    "duration": 11,
    "start_time": "2022-02-09T21:33:34.904Z"
   },
   {
    "duration": 29,
    "start_time": "2022-02-09T21:33:34.917Z"
   },
   {
    "duration": 23,
    "start_time": "2022-02-09T21:33:34.948Z"
   },
   {
    "duration": 4,
    "start_time": "2022-02-09T21:33:34.973Z"
   },
   {
    "duration": 42,
    "start_time": "2022-02-09T21:33:34.979Z"
   },
   {
    "duration": 4,
    "start_time": "2022-02-09T21:33:35.023Z"
   },
   {
    "duration": 228,
    "start_time": "2022-02-09T21:33:35.029Z"
   },
   {
    "duration": 213,
    "start_time": "2022-02-09T21:33:35.259Z"
   },
   {
    "duration": 203,
    "start_time": "2022-02-09T21:33:35.474Z"
   },
   {
    "duration": 268,
    "start_time": "2022-02-09T21:33:35.679Z"
   },
   {
    "duration": 11,
    "start_time": "2022-02-09T21:33:35.949Z"
   },
   {
    "duration": 215,
    "start_time": "2022-02-09T21:33:35.962Z"
   },
   {
    "duration": 169,
    "start_time": "2022-02-09T21:33:36.179Z"
   },
   {
    "duration": 7,
    "start_time": "2022-02-09T21:33:36.349Z"
   },
   {
    "duration": 19,
    "start_time": "2022-02-09T21:33:36.358Z"
   },
   {
    "duration": 34,
    "start_time": "2022-02-09T21:33:36.379Z"
   },
   {
    "duration": 244,
    "start_time": "2022-02-09T21:33:36.414Z"
   },
   {
    "duration": 21,
    "start_time": "2022-02-09T21:33:36.660Z"
   },
   {
    "duration": 317,
    "start_time": "2022-02-09T21:33:36.682Z"
   },
   {
    "duration": 320,
    "start_time": "2022-02-09T21:33:37.001Z"
   },
   {
    "duration": 5,
    "start_time": "2022-02-09T21:33:37.323Z"
   },
   {
    "duration": 417,
    "start_time": "2022-02-09T21:34:34.074Z"
   },
   {
    "duration": 443,
    "start_time": "2022-02-09T21:34:52.474Z"
   },
   {
    "duration": 482,
    "start_time": "2022-02-09T21:35:11.689Z"
   },
   {
    "duration": 279,
    "start_time": "2022-02-09T21:35:47.281Z"
   },
   {
    "duration": 5,
    "start_time": "2022-02-09T21:38:22.560Z"
   },
   {
    "duration": 4,
    "start_time": "2022-02-09T21:38:34.840Z"
   },
   {
    "duration": 291,
    "start_time": "2022-02-09T21:38:55.240Z"
   },
   {
    "duration": 197,
    "start_time": "2022-02-09T21:39:01.464Z"
   },
   {
    "duration": 4,
    "start_time": "2022-02-09T21:39:55.376Z"
   },
   {
    "duration": 4,
    "start_time": "2022-02-09T21:40:08.535Z"
   },
   {
    "duration": 42,
    "start_time": "2022-02-09T21:41:19.903Z"
   },
   {
    "duration": 9,
    "start_time": "2022-02-09T21:42:07.790Z"
   },
   {
    "duration": 8,
    "start_time": "2022-02-09T21:42:25.782Z"
   },
   {
    "duration": 234,
    "start_time": "2022-02-09T21:42:42.886Z"
   },
   {
    "duration": 204,
    "start_time": "2022-02-09T21:43:00.752Z"
   },
   {
    "duration": 288,
    "start_time": "2022-02-09T21:43:16.109Z"
   },
   {
    "duration": 366,
    "start_time": "2022-02-09T21:43:30.088Z"
   },
   {
    "duration": 8,
    "start_time": "2022-02-09T21:43:46.328Z"
   },
   {
    "duration": 7,
    "start_time": "2022-02-09T21:44:34.653Z"
   },
   {
    "duration": 3,
    "start_time": "2022-02-09T21:44:44.757Z"
   },
   {
    "duration": 7,
    "start_time": "2022-02-09T21:44:50.312Z"
   },
   {
    "duration": 5,
    "start_time": "2022-02-09T21:44:52.053Z"
   },
   {
    "duration": 299,
    "start_time": "2022-02-10T10:13:15.321Z"
   },
   {
    "duration": 1191,
    "start_time": "2022-02-10T10:13:23.309Z"
   },
   {
    "duration": 3,
    "start_time": "2022-02-10T10:13:24.502Z"
   },
   {
    "duration": 67,
    "start_time": "2022-02-10T10:13:24.507Z"
   },
   {
    "duration": 22,
    "start_time": "2022-02-10T10:13:24.576Z"
   },
   {
    "duration": 33,
    "start_time": "2022-02-10T10:13:24.600Z"
   },
   {
    "duration": 65,
    "start_time": "2022-02-10T10:13:24.635Z"
   },
   {
    "duration": 25,
    "start_time": "2022-02-10T10:13:24.701Z"
   },
   {
    "duration": 44,
    "start_time": "2022-02-10T10:13:24.729Z"
   },
   {
    "duration": 53,
    "start_time": "2022-02-10T10:13:24.776Z"
   },
   {
    "duration": 6,
    "start_time": "2022-02-10T10:13:24.830Z"
   },
   {
    "duration": 22,
    "start_time": "2022-02-10T10:13:24.838Z"
   },
   {
    "duration": 10,
    "start_time": "2022-02-10T10:13:24.861Z"
   },
   {
    "duration": 18,
    "start_time": "2022-02-10T10:13:24.873Z"
   },
   {
    "duration": 35,
    "start_time": "2022-02-10T10:13:24.893Z"
   },
   {
    "duration": 9,
    "start_time": "2022-02-10T10:13:24.930Z"
   },
   {
    "duration": 22,
    "start_time": "2022-02-10T10:13:24.941Z"
   },
   {
    "duration": 11,
    "start_time": "2022-02-10T10:13:24.965Z"
   },
   {
    "duration": 45,
    "start_time": "2022-02-10T10:13:24.977Z"
   },
   {
    "duration": 9,
    "start_time": "2022-02-10T10:13:25.024Z"
   },
   {
    "duration": 13,
    "start_time": "2022-02-10T10:13:25.035Z"
   },
   {
    "duration": 29,
    "start_time": "2022-02-10T10:13:25.050Z"
   },
   {
    "duration": 3,
    "start_time": "2022-02-10T10:13:25.081Z"
   },
   {
    "duration": 611,
    "start_time": "2022-02-10T10:13:25.088Z"
   },
   {
    "duration": 6,
    "start_time": "2022-02-10T10:13:25.702Z"
   },
   {
    "duration": 33,
    "start_time": "2022-02-10T10:13:25.719Z"
   },
   {
    "duration": 21,
    "start_time": "2022-02-10T10:13:25.753Z"
   },
   {
    "duration": 3,
    "start_time": "2022-02-10T10:13:25.776Z"
   },
   {
    "duration": 32,
    "start_time": "2022-02-10T10:13:25.781Z"
   },
   {
    "duration": 3,
    "start_time": "2022-02-10T10:13:25.815Z"
   },
   {
    "duration": 200,
    "start_time": "2022-02-10T10:13:25.820Z"
   },
   {
    "duration": 211,
    "start_time": "2022-02-10T10:13:26.022Z"
   },
   {
    "duration": 203,
    "start_time": "2022-02-10T10:13:26.235Z"
   },
   {
    "duration": 268,
    "start_time": "2022-02-10T10:13:26.440Z"
   },
   {
    "duration": 9,
    "start_time": "2022-02-10T10:13:26.719Z"
   },
   {
    "duration": 195,
    "start_time": "2022-02-10T10:13:26.730Z"
   },
   {
    "duration": 156,
    "start_time": "2022-02-10T10:13:26.927Z"
   },
   {
    "duration": 7,
    "start_time": "2022-02-10T10:13:27.085Z"
   },
   {
    "duration": 38,
    "start_time": "2022-02-10T10:13:27.094Z"
   },
   {
    "duration": 10,
    "start_time": "2022-02-10T10:13:27.133Z"
   },
   {
    "duration": 234,
    "start_time": "2022-02-10T10:13:27.145Z"
   },
   {
    "duration": 21,
    "start_time": "2022-02-10T10:13:27.381Z"
   },
   {
    "duration": 319,
    "start_time": "2022-02-10T10:13:27.404Z"
   },
   {
    "duration": 387,
    "start_time": "2022-02-10T10:13:27.724Z"
   },
   {
    "duration": 297,
    "start_time": "2022-02-10T10:13:28.113Z"
   },
   {
    "duration": 6,
    "start_time": "2022-02-10T10:13:28.418Z"
   },
   {
    "duration": 11,
    "start_time": "2022-02-10T10:13:28.426Z"
   },
   {
    "duration": 48,
    "start_time": "2022-02-10T10:13:28.439Z"
   },
   {
    "duration": 16,
    "start_time": "2022-02-10T10:14:51.199Z"
   },
   {
    "duration": 43,
    "start_time": "2022-02-10T10:15:19.782Z"
   },
   {
    "duration": 8,
    "start_time": "2022-02-10T10:17:22.421Z"
   },
   {
    "duration": 6177,
    "start_time": "2022-02-10T10:17:50.220Z"
   },
   {
    "duration": 9,
    "start_time": "2022-02-10T10:18:09.468Z"
   },
   {
    "duration": 5389,
    "start_time": "2022-02-10T10:18:11.979Z"
   },
   {
    "duration": 3157,
    "start_time": "2022-02-10T10:18:32.125Z"
   },
   {
    "duration": 5242,
    "start_time": "2022-02-10T10:18:53.020Z"
   },
   {
    "duration": 25018,
    "start_time": "2022-02-10T10:19:22.101Z"
   },
   {
    "duration": 25469,
    "start_time": "2022-02-10T10:19:59.509Z"
   },
   {
    "duration": 440,
    "start_time": "2022-02-10T10:20:34.987Z"
   },
   {
    "duration": 478,
    "start_time": "2022-02-10T10:20:56.147Z"
   },
   {
    "duration": 117,
    "start_time": "2022-02-10T10:22:48.802Z"
   },
   {
    "duration": 631,
    "start_time": "2022-02-10T10:22:52.290Z"
   },
   {
    "duration": 740,
    "start_time": "2022-02-10T10:23:03.019Z"
   },
   {
    "duration": 296,
    "start_time": "2022-02-10T10:23:24.922Z"
   },
   {
    "duration": 330,
    "start_time": "2022-02-10T10:23:30.603Z"
   },
   {
    "duration": 1325,
    "start_time": "2022-02-10T10:23:35.467Z"
   },
   {
    "duration": 119,
    "start_time": "2022-02-10T10:24:08.002Z"
   },
   {
    "duration": 2533,
    "start_time": "2022-02-10T10:24:11.411Z"
   },
   {
    "duration": 2594,
    "start_time": "2022-02-10T10:24:37.938Z"
   },
   {
    "duration": 314,
    "start_time": "2022-02-10T10:25:05.297Z"
   },
   {
    "duration": 379,
    "start_time": "2022-02-10T10:25:29.442Z"
   },
   {
    "duration": 3615,
    "start_time": "2022-02-10T10:25:58.489Z"
   },
   {
    "duration": 370,
    "start_time": "2022-02-10T10:26:31.481Z"
   },
   {
    "duration": -1211,
    "start_time": "2022-02-10T10:28:54.860Z"
   },
   {
    "duration": 13,
    "start_time": "2022-02-10T10:28:58.832Z"
   },
   {
    "duration": 21,
    "start_time": "2022-02-10T10:58:57.203Z"
   },
   {
    "duration": 8,
    "start_time": "2022-02-10T13:03:43.660Z"
   },
   {
    "duration": 7,
    "start_time": "2022-02-10T13:03:46.542Z"
   },
   {
    "duration": 9,
    "start_time": "2022-02-10T13:03:50.311Z"
   },
   {
    "duration": 46,
    "start_time": "2022-02-10T13:04:19.983Z"
   },
   {
    "duration": 96,
    "start_time": "2022-02-10T13:46:12.821Z"
   },
   {
    "duration": 3,
    "start_time": "2022-02-10T13:46:57.397Z"
   },
   {
    "duration": 13,
    "start_time": "2022-02-10T13:48:17.420Z"
   },
   {
    "duration": 279,
    "start_time": "2022-02-10T13:48:57.884Z"
   },
   {
    "duration": 15,
    "start_time": "2022-02-10T13:49:09.508Z"
   },
   {
    "duration": 12,
    "start_time": "2022-02-10T13:51:59.306Z"
   },
   {
    "duration": 12,
    "start_time": "2022-02-10T13:52:01.922Z"
   },
   {
    "duration": 286,
    "start_time": "2022-02-10T13:55:10.449Z"
   },
   {
    "duration": 270,
    "start_time": "2022-02-10T13:55:39.899Z"
   },
   {
    "duration": 14,
    "start_time": "2022-02-10T13:55:50.793Z"
   },
   {
    "duration": 22,
    "start_time": "2022-02-10T13:55:56.952Z"
   },
   {
    "duration": 5,
    "start_time": "2022-02-10T13:56:04.440Z"
   },
   {
    "duration": 23,
    "start_time": "2022-02-10T13:56:05.211Z"
   },
   {
    "duration": 88,
    "start_time": "2022-02-10T13:56:40.153Z"
   },
   {
    "duration": 5,
    "start_time": "2022-02-10T13:56:49.920Z"
   },
   {
    "duration": 23,
    "start_time": "2022-02-10T13:56:51.696Z"
   },
   {
    "duration": 43,
    "start_time": "2022-02-10T13:59:08.735Z"
   },
   {
    "duration": 11,
    "start_time": "2022-02-10T13:59:42.264Z"
   },
   {
    "duration": 89,
    "start_time": "2022-02-10T13:59:52.798Z"
   },
   {
    "duration": 88,
    "start_time": "2022-02-10T13:59:56.879Z"
   },
   {
    "duration": 11,
    "start_time": "2022-02-10T13:59:59.679Z"
   },
   {
    "duration": 12,
    "start_time": "2022-02-10T14:00:22.823Z"
   },
   {
    "duration": 87,
    "start_time": "2022-02-10T14:00:39.430Z"
   },
   {
    "duration": 4797,
    "start_time": "2022-02-10T14:00:53.008Z"
   },
   {
    "duration": 1305,
    "start_time": "2022-02-10T14:02:39.803Z"
   },
   {
    "duration": 3,
    "start_time": "2022-02-10T14:02:41.110Z"
   },
   {
    "duration": 67,
    "start_time": "2022-02-10T14:02:41.121Z"
   },
   {
    "duration": 31,
    "start_time": "2022-02-10T14:02:41.191Z"
   },
   {
    "duration": 20,
    "start_time": "2022-02-10T14:02:41.224Z"
   },
   {
    "duration": 83,
    "start_time": "2022-02-10T14:02:41.245Z"
   },
   {
    "duration": 11,
    "start_time": "2022-02-10T14:02:41.329Z"
   },
   {
    "duration": 52,
    "start_time": "2022-02-10T14:02:41.342Z"
   },
   {
    "duration": 26,
    "start_time": "2022-02-10T14:02:41.421Z"
   },
   {
    "duration": 7,
    "start_time": "2022-02-10T14:02:41.450Z"
   },
   {
    "duration": 13,
    "start_time": "2022-02-10T14:02:41.459Z"
   },
   {
    "duration": 11,
    "start_time": "2022-02-10T14:02:41.473Z"
   },
   {
    "duration": 41,
    "start_time": "2022-02-10T14:02:41.486Z"
   },
   {
    "duration": 27,
    "start_time": "2022-02-10T14:02:41.529Z"
   },
   {
    "duration": 10,
    "start_time": "2022-02-10T14:02:41.558Z"
   },
   {
    "duration": 50,
    "start_time": "2022-02-10T14:02:41.570Z"
   },
   {
    "duration": 15,
    "start_time": "2022-02-10T14:02:41.622Z"
   },
   {
    "duration": 7,
    "start_time": "2022-02-10T14:02:41.639Z"
   },
   {
    "duration": 11,
    "start_time": "2022-02-10T14:02:41.648Z"
   },
   {
    "duration": 7,
    "start_time": "2022-02-10T14:02:41.660Z"
   },
   {
    "duration": 54,
    "start_time": "2022-02-10T14:02:41.669Z"
   },
   {
    "duration": 3,
    "start_time": "2022-02-10T14:02:41.725Z"
   },
   {
    "duration": 574,
    "start_time": "2022-02-10T14:02:41.730Z"
   },
   {
    "duration": 12,
    "start_time": "2022-02-10T14:02:42.306Z"
   },
   {
    "duration": 25,
    "start_time": "2022-02-10T14:02:42.319Z"
   },
   {
    "duration": 23,
    "start_time": "2022-02-10T14:02:42.347Z"
   },
   {
    "duration": 4,
    "start_time": "2022-02-10T14:02:42.373Z"
   },
   {
    "duration": 42,
    "start_time": "2022-02-10T14:02:42.379Z"
   },
   {
    "duration": 4,
    "start_time": "2022-02-10T14:02:42.422Z"
   },
   {
    "duration": 204,
    "start_time": "2022-02-10T14:02:42.427Z"
   },
   {
    "duration": 205,
    "start_time": "2022-02-10T14:02:42.633Z"
   },
   {
    "duration": 209,
    "start_time": "2022-02-10T14:02:42.840Z"
   },
   {
    "duration": 275,
    "start_time": "2022-02-10T14:02:43.051Z"
   },
   {
    "duration": 9,
    "start_time": "2022-02-10T14:02:43.327Z"
   },
   {
    "duration": 216,
    "start_time": "2022-02-10T14:02:43.338Z"
   },
   {
    "duration": 159,
    "start_time": "2022-02-10T14:02:43.556Z"
   },
   {
    "duration": 7,
    "start_time": "2022-02-10T14:02:43.717Z"
   },
   {
    "duration": 22,
    "start_time": "2022-02-10T14:02:43.726Z"
   },
   {
    "duration": 9,
    "start_time": "2022-02-10T14:02:43.750Z"
   },
   {
    "duration": 257,
    "start_time": "2022-02-10T14:02:43.761Z"
   },
   {
    "duration": 21,
    "start_time": "2022-02-10T14:02:44.020Z"
   },
   {
    "duration": 314,
    "start_time": "2022-02-10T14:02:44.043Z"
   },
   {
    "duration": 414,
    "start_time": "2022-02-10T14:02:44.359Z"
   },
   {
    "duration": 290,
    "start_time": "2022-02-10T14:02:44.775Z"
   },
   {
    "duration": 20,
    "start_time": "2022-02-10T14:02:45.067Z"
   },
   {
    "duration": 3,
    "start_time": "2022-02-10T14:02:45.089Z"
   },
   {
    "duration": 33,
    "start_time": "2022-02-10T14:02:45.094Z"
   },
   {
    "duration": 5,
    "start_time": "2022-02-10T14:02:45.128Z"
   },
   {
    "duration": 24,
    "start_time": "2022-02-10T14:02:45.134Z"
   },
   {
    "duration": 720,
    "start_time": "2022-02-10T14:02:45.160Z"
   },
   {
    "duration": 860,
    "start_time": "2022-02-10T14:03:04.863Z"
   },
   {
    "duration": 716,
    "start_time": "2022-02-10T14:04:39.654Z"
   },
   {
    "duration": 638,
    "start_time": "2022-02-10T14:05:08.272Z"
   },
   {
    "duration": 2938,
    "start_time": "2022-02-10T14:11:01.669Z"
   },
   {
    "duration": 279,
    "start_time": "2022-02-10T14:11:25.339Z"
   },
   {
    "duration": 283,
    "start_time": "2022-02-10T14:13:42.939Z"
   },
   {
    "duration": 208,
    "start_time": "2022-02-10T14:13:50.210Z"
   },
   {
    "duration": 822,
    "start_time": "2022-02-10T14:14:01.225Z"
   },
   {
    "duration": 1122,
    "start_time": "2022-02-10T14:15:04.050Z"
   },
   {
    "duration": 4915,
    "start_time": "2022-02-10T14:15:12.788Z"
   },
   {
    "duration": 267,
    "start_time": "2022-02-10T14:15:54.466Z"
   },
   {
    "duration": 203,
    "start_time": "2022-02-10T14:15:58.465Z"
   },
   {
    "duration": 475,
    "start_time": "2022-02-10T14:16:13.288Z"
   },
   {
    "duration": 7853,
    "start_time": "2022-02-10T15:19:05.904Z"
   },
   {
    "duration": 6066,
    "start_time": "2022-02-10T18:54:47.718Z"
   },
   {
    "duration": 5702,
    "start_time": "2022-02-10T18:54:55.002Z"
   },
   {
    "duration": 347,
    "start_time": "2022-02-10T19:18:10.059Z"
   },
   {
    "duration": 276,
    "start_time": "2022-02-10T19:18:16.368Z"
   },
   {
    "duration": 367,
    "start_time": "2022-02-10T19:18:28.688Z"
   },
   {
    "duration": 22,
    "start_time": "2022-02-10T19:18:58.353Z"
   },
   {
    "duration": 22,
    "start_time": "2022-02-10T19:19:25.503Z"
   },
   {
    "duration": 211,
    "start_time": "2022-02-10T19:19:41.946Z"
   },
   {
    "duration": 6514,
    "start_time": "2022-02-10T19:20:11.167Z"
   },
   {
    "duration": 205,
    "start_time": "2022-02-10T19:20:30.552Z"
   },
   {
    "duration": 21,
    "start_time": "2022-02-10T19:20:49.576Z"
   },
   {
    "duration": 279,
    "start_time": "2022-02-10T19:21:15.856Z"
   },
   {
    "duration": 6395,
    "start_time": "2022-02-10T19:21:23.041Z"
   },
   {
    "duration": 293,
    "start_time": "2022-02-10T19:21:42.144Z"
   },
   {
    "duration": 210,
    "start_time": "2022-02-10T19:21:58.800Z"
   },
   {
    "duration": 428,
    "start_time": "2022-02-10T19:22:20.286Z"
   },
   {
    "duration": -110,
    "start_time": "2022-02-10T19:25:54.954Z"
   },
   {
    "duration": 272,
    "start_time": "2022-02-10T19:25:58.855Z"
   },
   {
    "duration": 19,
    "start_time": "2022-02-10T19:26:13.686Z"
   },
   {
    "duration": 18,
    "start_time": "2022-02-10T19:26:25.702Z"
   },
   {
    "duration": 203,
    "start_time": "2022-02-10T19:26:29.933Z"
   },
   {
    "duration": 284,
    "start_time": "2022-02-10T19:27:30.670Z"
   },
   {
    "duration": 207,
    "start_time": "2022-02-10T19:27:52.013Z"
   },
   {
    "duration": 4039,
    "start_time": "2022-02-10T19:28:47.589Z"
   },
   {
    "duration": 3881,
    "start_time": "2022-02-10T19:29:03.853Z"
   },
   {
    "duration": 4037,
    "start_time": "2022-02-10T19:29:28.590Z"
   },
   {
    "duration": 195,
    "start_time": "2022-02-10T19:29:37.478Z"
   },
   {
    "duration": 453,
    "start_time": "2022-02-10T19:32:34.746Z"
   },
   {
    "duration": 189,
    "start_time": "2022-02-10T19:32:46.195Z"
   },
   {
    "duration": 195,
    "start_time": "2022-02-10T19:32:57.954Z"
   },
   {
    "duration": 186,
    "start_time": "2022-02-10T19:33:14.730Z"
   },
   {
    "duration": 95,
    "start_time": "2022-02-10T19:33:19.146Z"
   },
   {
    "duration": 16,
    "start_time": "2022-02-10T19:33:21.306Z"
   },
   {
    "duration": 21,
    "start_time": "2022-02-10T19:33:28.994Z"
   },
   {
    "duration": 16,
    "start_time": "2022-02-10T19:34:04.123Z"
   },
   {
    "duration": 18,
    "start_time": "2022-02-10T19:34:10.641Z"
   },
   {
    "duration": 286,
    "start_time": "2022-02-10T19:34:12.850Z"
   },
   {
    "duration": 20,
    "start_time": "2022-02-10T19:34:18.841Z"
   },
   {
    "duration": 266,
    "start_time": "2022-02-10T19:34:46.634Z"
   },
   {
    "duration": 5,
    "start_time": "2022-02-10T19:35:07.826Z"
   },
   {
    "duration": 326,
    "start_time": "2022-02-10T19:35:16.473Z"
   },
   {
    "duration": 207,
    "start_time": "2022-02-10T19:35:20.457Z"
   },
   {
    "duration": 263,
    "start_time": "2022-02-10T19:35:29.594Z"
   },
   {
    "duration": 299,
    "start_time": "2022-02-10T19:35:33.745Z"
   },
   {
    "duration": 736,
    "start_time": "2022-02-10T19:36:58.747Z"
   },
   {
    "duration": 316,
    "start_time": "2022-02-10T19:37:21.968Z"
   },
   {
    "duration": 414,
    "start_time": "2022-02-10T19:38:12.680Z"
   },
   {
    "duration": 376,
    "start_time": "2022-02-10T19:38:59.281Z"
   },
   {
    "duration": 383,
    "start_time": "2022-02-10T19:39:02.961Z"
   },
   {
    "duration": 428,
    "start_time": "2022-02-10T19:41:49.192Z"
   },
   {
    "duration": 273,
    "start_time": "2022-02-10T19:50:35.387Z"
   },
   {
    "duration": 396,
    "start_time": "2022-02-10T19:51:02.075Z"
   },
   {
    "duration": 472,
    "start_time": "2022-02-10T19:51:14.956Z"
   },
   {
    "duration": 1098,
    "start_time": "2022-02-10T19:51:29.019Z"
   },
   {
    "duration": 527,
    "start_time": "2022-02-10T19:51:45.422Z"
   },
   {
    "duration": 253,
    "start_time": "2022-02-10T19:51:51.107Z"
   },
   {
    "duration": 696,
    "start_time": "2022-02-10T21:38:02.796Z"
   },
   {
    "duration": 675,
    "start_time": "2022-02-10T21:38:17.933Z"
   },
   {
    "duration": 609,
    "start_time": "2022-02-10T21:38:43.420Z"
   },
   {
    "duration": 944,
    "start_time": "2022-02-10T21:38:49.316Z"
   },
   {
    "duration": 24,
    "start_time": "2022-02-10T21:41:41.323Z"
   },
   {
    "duration": 385,
    "start_time": "2022-02-10T21:42:07.363Z"
   },
   {
    "duration": 346,
    "start_time": "2022-02-11T08:49:32.956Z"
   },
   {
    "duration": 1485,
    "start_time": "2022-02-11T08:49:43.895Z"
   },
   {
    "duration": 3,
    "start_time": "2022-02-11T08:49:45.383Z"
   },
   {
    "duration": 124,
    "start_time": "2022-02-11T08:49:45.389Z"
   },
   {
    "duration": 47,
    "start_time": "2022-02-11T08:49:45.516Z"
   },
   {
    "duration": 70,
    "start_time": "2022-02-11T08:49:45.566Z"
   },
   {
    "duration": 157,
    "start_time": "2022-02-11T08:49:45.639Z"
   },
   {
    "duration": 35,
    "start_time": "2022-02-11T08:49:45.799Z"
   },
   {
    "duration": 129,
    "start_time": "2022-02-11T08:49:45.839Z"
   },
   {
    "duration": 67,
    "start_time": "2022-02-11T08:49:45.973Z"
   },
   {
    "duration": 12,
    "start_time": "2022-02-11T08:49:46.043Z"
   },
   {
    "duration": 25,
    "start_time": "2022-02-11T08:49:46.058Z"
   },
   {
    "duration": 46,
    "start_time": "2022-02-11T08:49:46.086Z"
   },
   {
    "duration": 21,
    "start_time": "2022-02-11T08:49:46.135Z"
   },
   {
    "duration": 89,
    "start_time": "2022-02-11T08:49:46.159Z"
   },
   {
    "duration": 11,
    "start_time": "2022-02-11T08:49:46.251Z"
   },
   {
    "duration": 31,
    "start_time": "2022-02-11T08:49:46.264Z"
   },
   {
    "duration": 37,
    "start_time": "2022-02-11T08:49:46.298Z"
   },
   {
    "duration": 9,
    "start_time": "2022-02-11T08:49:46.338Z"
   },
   {
    "duration": 19,
    "start_time": "2022-02-11T08:49:46.351Z"
   },
   {
    "duration": 8,
    "start_time": "2022-02-11T08:49:46.373Z"
   },
   {
    "duration": 40,
    "start_time": "2022-02-11T08:49:46.422Z"
   },
   {
    "duration": 5,
    "start_time": "2022-02-11T08:49:46.465Z"
   },
   {
    "duration": 1682,
    "start_time": "2022-02-11T08:49:46.478Z"
   },
   {
    "duration": 10,
    "start_time": "2022-02-11T08:49:48.165Z"
   },
   {
    "duration": 79,
    "start_time": "2022-02-11T08:49:48.178Z"
   },
   {
    "duration": 45,
    "start_time": "2022-02-11T08:49:48.260Z"
   },
   {
    "duration": 6,
    "start_time": "2022-02-11T08:49:48.324Z"
   },
   {
    "duration": 31,
    "start_time": "2022-02-11T08:49:48.333Z"
   },
   {
    "duration": 7,
    "start_time": "2022-02-11T08:49:48.367Z"
   },
   {
    "duration": 332,
    "start_time": "2022-02-11T08:49:48.377Z"
   },
   {
    "duration": 487,
    "start_time": "2022-02-11T08:49:48.712Z"
   },
   {
    "duration": 475,
    "start_time": "2022-02-11T08:49:49.202Z"
   },
   {
    "duration": 362,
    "start_time": "2022-02-11T08:49:49.680Z"
   },
   {
    "duration": 11,
    "start_time": "2022-02-11T08:49:50.044Z"
   },
   {
    "duration": 333,
    "start_time": "2022-02-11T08:49:50.057Z"
   },
   {
    "duration": 268,
    "start_time": "2022-02-11T08:49:50.393Z"
   },
   {
    "duration": 11,
    "start_time": "2022-02-11T08:49:50.664Z"
   },
   {
    "duration": 55,
    "start_time": "2022-02-11T08:49:50.677Z"
   },
   {
    "duration": 15,
    "start_time": "2022-02-11T08:49:50.734Z"
   },
   {
    "duration": 495,
    "start_time": "2022-02-11T08:49:50.751Z"
   },
   {
    "duration": 35,
    "start_time": "2022-02-11T08:49:51.248Z"
   },
   {
    "duration": 501,
    "start_time": "2022-02-11T08:49:51.285Z"
   },
   {
    "duration": 637,
    "start_time": "2022-02-11T08:49:51.788Z"
   },
   {
    "duration": 469,
    "start_time": "2022-02-11T08:49:52.428Z"
   },
   {
    "duration": 44,
    "start_time": "2022-02-11T08:49:52.900Z"
   },
   {
    "duration": 4,
    "start_time": "2022-02-11T08:49:52.946Z"
   },
   {
    "duration": 24,
    "start_time": "2022-02-11T08:49:52.954Z"
   },
   {
    "duration": 6,
    "start_time": "2022-02-11T08:49:52.981Z"
   },
   {
    "duration": 999,
    "start_time": "2022-02-11T08:49:52.990Z"
   },
   {
    "duration": 54,
    "start_time": "2022-02-11T08:49:53.992Z"
   },
   {
    "duration": 70,
    "start_time": "2022-02-11T08:50:22.295Z"
   },
   {
    "duration": 44,
    "start_time": "2022-02-11T08:50:45.015Z"
   },
   {
    "duration": 776,
    "start_time": "2022-02-11T08:52:10.894Z"
   },
   {
    "duration": 100,
    "start_time": "2022-02-11T08:52:47.999Z"
   },
   {
    "duration": 404,
    "start_time": "2022-02-11T08:52:57.398Z"
   },
   {
    "duration": 102,
    "start_time": "2022-02-11T08:53:50.302Z"
   },
   {
    "duration": 171,
    "start_time": "2022-02-11T08:54:06.486Z"
   },
   {
    "duration": 174,
    "start_time": "2022-02-11T08:54:08.917Z"
   },
   {
    "duration": 695,
    "start_time": "2022-02-11T08:54:24.574Z"
   },
   {
    "duration": 357,
    "start_time": "2022-02-11T08:54:46.302Z"
   },
   {
    "duration": 347,
    "start_time": "2022-02-11T08:55:27.334Z"
   },
   {
    "duration": 307,
    "start_time": "2022-02-11T08:56:47.372Z"
   },
   {
    "duration": 314,
    "start_time": "2022-02-11T08:57:06.805Z"
   },
   {
    "duration": 302,
    "start_time": "2022-02-11T08:57:23.916Z"
   },
   {
    "duration": 307,
    "start_time": "2022-02-11T08:57:34.451Z"
   },
   {
    "duration": 624,
    "start_time": "2022-02-11T08:58:14.060Z"
   },
   {
    "duration": 27,
    "start_time": "2022-02-11T08:58:54.243Z"
   },
   {
    "duration": 380,
    "start_time": "2022-02-11T08:59:37.787Z"
   },
   {
    "duration": 371,
    "start_time": "2022-02-11T09:00:57.955Z"
   },
   {
    "duration": 35,
    "start_time": "2022-02-11T09:01:37.306Z"
   },
   {
    "duration": 8,
    "start_time": "2022-02-11T09:02:21.179Z"
   },
   {
    "duration": 16,
    "start_time": "2022-02-11T09:02:38.169Z"
   },
   {
    "duration": 15,
    "start_time": "2022-02-11T09:02:58.722Z"
   },
   {
    "duration": 22,
    "start_time": "2022-02-11T09:03:58.345Z"
   },
   {
    "duration": 4,
    "start_time": "2022-02-11T11:57:26.913Z"
   },
   {
    "duration": 5,
    "start_time": "2022-02-11T11:59:04.886Z"
   },
   {
    "duration": 3,
    "start_time": "2022-02-11T11:59:10.561Z"
   },
   {
    "duration": 105,
    "start_time": "2022-02-11T12:02:00.936Z"
   },
   {
    "duration": 3,
    "start_time": "2022-02-11T12:02:25.856Z"
   },
   {
    "duration": 87,
    "start_time": "2022-02-11T12:03:58.263Z"
   },
   {
    "duration": 109,
    "start_time": "2022-02-11T12:05:43.648Z"
   },
   {
    "duration": 12,
    "start_time": "2022-02-11T12:11:27.596Z"
   },
   {
    "duration": 1489,
    "start_time": "2022-02-11T12:12:24.682Z"
   },
   {
    "duration": 4,
    "start_time": "2022-02-11T12:12:26.174Z"
   },
   {
    "duration": 114,
    "start_time": "2022-02-11T12:12:26.181Z"
   },
   {
    "duration": 49,
    "start_time": "2022-02-11T12:12:26.299Z"
   },
   {
    "duration": 29,
    "start_time": "2022-02-11T12:12:26.352Z"
   },
   {
    "duration": 129,
    "start_time": "2022-02-11T12:12:26.384Z"
   },
   {
    "duration": 16,
    "start_time": "2022-02-11T12:12:26.523Z"
   },
   {
    "duration": 92,
    "start_time": "2022-02-11T12:12:26.542Z"
   },
   {
    "duration": 39,
    "start_time": "2022-02-11T12:12:26.637Z"
   },
   {
    "duration": 9,
    "start_time": "2022-02-11T12:12:26.678Z"
   },
   {
    "duration": 51,
    "start_time": "2022-02-11T12:12:26.689Z"
   },
   {
    "duration": 14,
    "start_time": "2022-02-11T12:12:26.742Z"
   },
   {
    "duration": 17,
    "start_time": "2022-02-11T12:12:26.759Z"
   },
   {
    "duration": 58,
    "start_time": "2022-02-11T12:12:26.779Z"
   },
   {
    "duration": 9,
    "start_time": "2022-02-11T12:12:26.840Z"
   },
   {
    "duration": 82,
    "start_time": "2022-02-11T12:12:26.853Z"
   },
   {
    "duration": 17,
    "start_time": "2022-02-11T12:12:26.939Z"
   },
   {
    "duration": 9,
    "start_time": "2022-02-11T12:12:26.958Z"
   },
   {
    "duration": 12,
    "start_time": "2022-02-11T12:12:26.969Z"
   },
   {
    "duration": 44,
    "start_time": "2022-02-11T12:12:26.983Z"
   },
   {
    "duration": 31,
    "start_time": "2022-02-11T12:12:27.029Z"
   },
   {
    "duration": 3,
    "start_time": "2022-02-11T12:12:27.063Z"
   },
   {
    "duration": 961,
    "start_time": "2022-02-11T12:12:27.072Z"
   },
   {
    "duration": 7,
    "start_time": "2022-02-11T12:12:28.036Z"
   },
   {
    "duration": 38,
    "start_time": "2022-02-11T12:12:28.045Z"
   },
   {
    "duration": 56,
    "start_time": "2022-02-11T12:12:28.085Z"
   },
   {
    "duration": 4,
    "start_time": "2022-02-11T12:12:28.143Z"
   },
   {
    "duration": 23,
    "start_time": "2022-02-11T12:12:28.150Z"
   },
   {
    "duration": 5,
    "start_time": "2022-02-11T12:12:28.175Z"
   },
   {
    "duration": 349,
    "start_time": "2022-02-11T12:12:28.183Z"
   },
   {
    "duration": 319,
    "start_time": "2022-02-11T12:12:28.535Z"
   },
   {
    "duration": 323,
    "start_time": "2022-02-11T12:12:28.857Z"
   },
   {
    "duration": 383,
    "start_time": "2022-02-11T12:12:29.182Z"
   },
   {
    "duration": 12,
    "start_time": "2022-02-11T12:12:29.567Z"
   },
   {
    "duration": 322,
    "start_time": "2022-02-11T12:12:29.581Z"
   },
   {
    "duration": 36,
    "start_time": "2022-02-11T12:12:29.905Z"
   },
   {
    "duration": 13,
    "start_time": "2022-02-11T12:12:29.943Z"
   },
   {
    "duration": 391,
    "start_time": "2022-02-11T12:12:29.958Z"
   },
   {
    "duration": 32,
    "start_time": "2022-02-11T12:12:30.351Z"
   },
   {
    "duration": 490,
    "start_time": "2022-02-11T12:12:30.385Z"
   },
   {
    "duration": 620,
    "start_time": "2022-02-11T12:12:30.877Z"
   },
   {
    "duration": 451,
    "start_time": "2022-02-11T12:12:31.500Z"
   },
   {
    "duration": 26,
    "start_time": "2022-02-11T12:12:31.953Z"
   },
   {
    "duration": 4,
    "start_time": "2022-02-11T12:12:31.981Z"
   },
   {
    "duration": 43,
    "start_time": "2022-02-11T12:12:31.987Z"
   },
   {
    "duration": 10,
    "start_time": "2022-02-11T12:12:32.032Z"
   },
   {
    "duration": 459,
    "start_time": "2022-02-11T12:12:32.044Z"
   },
   {
    "duration": -546,
    "start_time": "2022-02-11T12:12:33.052Z"
   },
   {
    "duration": -548,
    "start_time": "2022-02-11T12:12:33.056Z"
   },
   {
    "duration": -558,
    "start_time": "2022-02-11T12:12:33.067Z"
   },
   {
    "duration": -561,
    "start_time": "2022-02-11T12:12:33.072Z"
   },
   {
    "duration": -561,
    "start_time": "2022-02-11T12:12:33.074Z"
   },
   {
    "duration": -564,
    "start_time": "2022-02-11T12:12:33.078Z"
   },
   {
    "duration": 340,
    "start_time": "2022-02-11T12:13:20.323Z"
   },
   {
    "duration": 7876,
    "start_time": "2022-02-11T12:16:29.914Z"
   },
   {
    "duration": -598,
    "start_time": "2022-02-11T12:16:38.391Z"
   },
   {
    "duration": 4,
    "start_time": "2022-02-11T12:29:41.790Z"
   },
   {
    "duration": 7622,
    "start_time": "2022-02-11T12:29:42.355Z"
   },
   {
    "duration": 14,
    "start_time": "2022-02-11T12:30:33.565Z"
   },
   {
    "duration": 655,
    "start_time": "2022-02-11T12:30:49.339Z"
   },
   {
    "duration": 361,
    "start_time": "2022-02-11T12:30:51.010Z"
   },
   {
    "duration": 357,
    "start_time": "2022-02-11T12:30:51.739Z"
   },
   {
    "duration": 699,
    "start_time": "2022-02-11T12:31:21.242Z"
   },
   {
    "duration": 347,
    "start_time": "2022-02-11T12:31:27.836Z"
   },
   {
    "duration": 392,
    "start_time": "2022-02-11T12:31:34.708Z"
   },
   {
    "duration": 28,
    "start_time": "2022-02-11T12:31:42.418Z"
   },
   {
    "duration": 328,
    "start_time": "2022-02-11T12:31:48.444Z"
   },
   {
    "duration": 31,
    "start_time": "2022-02-11T12:32:05.114Z"
   },
   {
    "duration": 22,
    "start_time": "2022-02-11T12:32:12.729Z"
   },
   {
    "duration": 620,
    "start_time": "2022-02-11T12:33:37.337Z"
   },
   {
    "duration": 92,
    "start_time": "2022-02-11T12:34:10.961Z"
   },
   {
    "duration": 160,
    "start_time": "2022-02-11T12:34:18.984Z"
   },
   {
    "duration": 98,
    "start_time": "2022-02-11T12:34:26.537Z"
   },
   {
    "duration": 98,
    "start_time": "2022-02-11T12:34:31.673Z"
   },
   {
    "duration": 95,
    "start_time": "2022-02-11T12:34:52.898Z"
   },
   {
    "duration": 88,
    "start_time": "2022-02-11T12:34:56.624Z"
   },
   {
    "duration": 94,
    "start_time": "2022-02-11T12:35:04.420Z"
   },
   {
    "duration": 102,
    "start_time": "2022-02-11T12:35:08.785Z"
   },
   {
    "duration": 93,
    "start_time": "2022-02-11T12:35:14.320Z"
   },
   {
    "duration": 137,
    "start_time": "2022-02-11T12:35:26.577Z"
   },
   {
    "duration": 93,
    "start_time": "2022-02-11T12:35:51.704Z"
   },
   {
    "duration": 99,
    "start_time": "2022-02-11T12:36:14.896Z"
   },
   {
    "duration": 657,
    "start_time": "2022-02-11T12:36:30.928Z"
   },
   {
    "duration": 364,
    "start_time": "2022-02-11T12:41:07.359Z"
   },
   {
    "duration": 465,
    "start_time": "2022-02-11T12:41:17.799Z"
   },
   {
    "duration": 638,
    "start_time": "2022-02-11T12:44:28.837Z"
   },
   {
    "duration": 955,
    "start_time": "2022-02-11T12:46:10.900Z"
   },
   {
    "duration": 964,
    "start_time": "2022-02-11T12:46:19.516Z"
   },
   {
    "duration": 936,
    "start_time": "2022-02-11T12:46:28.460Z"
   },
   {
    "duration": 655,
    "start_time": "2022-02-11T12:46:44.788Z"
   },
   {
    "duration": 635,
    "start_time": "2022-02-11T12:47:52.379Z"
   },
   {
    "duration": 1324,
    "start_time": "2022-02-11T12:51:48.290Z"
   },
   {
    "duration": 644,
    "start_time": "2022-02-11T12:51:55.009Z"
   },
   {
    "duration": 1496,
    "start_time": "2022-02-11T12:59:11.392Z"
   },
   {
    "duration": 4,
    "start_time": "2022-02-11T12:59:12.891Z"
   },
   {
    "duration": 88,
    "start_time": "2022-02-11T12:59:12.898Z"
   },
   {
    "duration": 42,
    "start_time": "2022-02-11T12:59:12.989Z"
   },
   {
    "duration": 29,
    "start_time": "2022-02-11T12:59:13.034Z"
   },
   {
    "duration": 136,
    "start_time": "2022-02-11T12:59:13.065Z"
   },
   {
    "duration": 33,
    "start_time": "2022-02-11T12:59:13.204Z"
   },
   {
    "duration": 90,
    "start_time": "2022-02-11T12:59:13.241Z"
   },
   {
    "duration": 37,
    "start_time": "2022-02-11T12:59:13.334Z"
   },
   {
    "duration": 9,
    "start_time": "2022-02-11T12:59:13.373Z"
   },
   {
    "duration": 55,
    "start_time": "2022-02-11T12:59:13.384Z"
   },
   {
    "duration": 13,
    "start_time": "2022-02-11T12:59:13.442Z"
   },
   {
    "duration": 14,
    "start_time": "2022-02-11T12:59:13.458Z"
   },
   {
    "duration": 71,
    "start_time": "2022-02-11T12:59:13.474Z"
   },
   {
    "duration": 10,
    "start_time": "2022-02-11T12:59:13.547Z"
   },
   {
    "duration": 68,
    "start_time": "2022-02-11T12:59:13.560Z"
   },
   {
    "duration": 16,
    "start_time": "2022-02-11T12:59:13.630Z"
   },
   {
    "duration": 10,
    "start_time": "2022-02-11T12:59:13.648Z"
   },
   {
    "duration": 12,
    "start_time": "2022-02-11T12:59:13.660Z"
   },
   {
    "duration": 51,
    "start_time": "2022-02-11T12:59:13.675Z"
   },
   {
    "duration": 31,
    "start_time": "2022-02-11T12:59:13.729Z"
   },
   {
    "duration": 5,
    "start_time": "2022-02-11T12:59:13.763Z"
   },
   {
    "duration": 1662,
    "start_time": "2022-02-11T12:59:13.775Z"
   },
   {
    "duration": 9,
    "start_time": "2022-02-11T12:59:15.441Z"
   },
   {
    "duration": 48,
    "start_time": "2022-02-11T12:59:15.452Z"
   },
   {
    "duration": 39,
    "start_time": "2022-02-11T12:59:15.523Z"
   },
   {
    "duration": 6,
    "start_time": "2022-02-11T12:59:15.565Z"
   },
   {
    "duration": 51,
    "start_time": "2022-02-11T12:59:15.574Z"
   },
   {
    "duration": 5,
    "start_time": "2022-02-11T12:59:15.627Z"
   },
   {
    "duration": 324,
    "start_time": "2022-02-11T12:59:15.634Z"
   },
   {
    "duration": 316,
    "start_time": "2022-02-11T12:59:15.960Z"
   },
   {
    "duration": 369,
    "start_time": "2022-02-11T12:59:16.279Z"
   },
   {
    "duration": 461,
    "start_time": "2022-02-11T12:59:16.652Z"
   },
   {
    "duration": 12,
    "start_time": "2022-02-11T12:59:17.124Z"
   },
   {
    "duration": 340,
    "start_time": "2022-02-11T12:59:17.139Z"
   },
   {
    "duration": 43,
    "start_time": "2022-02-11T12:59:17.483Z"
   },
   {
    "duration": 18,
    "start_time": "2022-02-11T12:59:17.529Z"
   },
   {
    "duration": 387,
    "start_time": "2022-02-11T12:59:17.550Z"
   },
   {
    "duration": 39,
    "start_time": "2022-02-11T12:59:17.940Z"
   },
   {
    "duration": 812,
    "start_time": "2022-02-11T12:59:17.982Z"
   },
   {
    "duration": 879,
    "start_time": "2022-02-11T12:59:18.797Z"
   },
   {
    "duration": 567,
    "start_time": "2022-02-11T12:59:19.678Z"
   },
   {
    "duration": 27,
    "start_time": "2022-02-11T12:59:20.248Z"
   },
   {
    "duration": 14,
    "start_time": "2022-02-11T12:59:20.278Z"
   },
   {
    "duration": 692,
    "start_time": "2022-02-11T12:59:20.294Z"
   },
   {
    "duration": 679,
    "start_time": "2022-02-11T12:59:20.989Z"
   },
   {
    "duration": 519,
    "start_time": "2022-02-11T12:59:21.671Z"
   },
   {
    "duration": 57,
    "start_time": "2022-02-11T12:59:22.193Z"
   },
   {
    "duration": 650,
    "start_time": "2022-02-11T12:59:22.254Z"
   },
   {
    "duration": 51,
    "start_time": "2022-02-11T12:59:22.907Z"
   },
   {
    "duration": 24,
    "start_time": "2022-02-11T12:59:22.961Z"
   },
   {
    "duration": 514,
    "start_time": "2022-02-11T13:09:45.924Z"
   },
   {
    "duration": 331,
    "start_time": "2022-02-11T13:11:09.395Z"
   },
   {
    "duration": 307,
    "start_time": "2022-02-11T13:11:16.531Z"
   },
   {
    "duration": 16,
    "start_time": "2022-02-11T13:51:30.202Z"
   },
   {
    "duration": 322,
    "start_time": "2022-02-11T13:51:53.538Z"
   },
   {
    "duration": 21,
    "start_time": "2022-02-11T13:51:58.882Z"
   },
   {
    "duration": 68,
    "start_time": "2022-02-11T18:11:15.702Z"
   },
   {
    "duration": 114,
    "start_time": "2022-02-11T18:12:07.756Z"
   },
   {
    "duration": 46,
    "start_time": "2022-02-11T18:12:14.228Z"
   },
   {
    "duration": 103,
    "start_time": "2022-02-11T18:12:24.973Z"
   },
   {
    "duration": 439,
    "start_time": "2022-02-11T18:16:21.946Z"
   },
   {
    "duration": 445,
    "start_time": "2022-02-11T18:16:28.818Z"
   },
   {
    "duration": 1153,
    "start_time": "2022-02-11T18:17:01.442Z"
   },
   {
    "duration": 423,
    "start_time": "2022-02-11T18:20:41.425Z"
   },
   {
    "duration": 287,
    "start_time": "2022-02-11T18:21:50.984Z"
   },
   {
    "duration": 796,
    "start_time": "2022-02-11T18:21:57.383Z"
   },
   {
    "duration": 637,
    "start_time": "2022-02-11T18:22:06.879Z"
   },
   {
    "duration": 95,
    "start_time": "2022-02-11T18:22:24.967Z"
   },
   {
    "duration": 87,
    "start_time": "2022-02-11T18:22:28.775Z"
   },
   {
    "duration": 17,
    "start_time": "2022-02-11T18:22:32.102Z"
   },
   {
    "duration": 13,
    "start_time": "2022-02-11T18:23:24.823Z"
   },
   {
    "duration": 1338,
    "start_time": "2022-02-11T18:23:35.206Z"
   },
   {
    "duration": 18,
    "start_time": "2022-02-11T18:23:40.270Z"
   },
   {
    "duration": 17,
    "start_time": "2022-02-11T18:24:56.534Z"
   },
   {
    "duration": 358,
    "start_time": "2022-02-11T18:25:14.391Z"
   },
   {
    "duration": 33,
    "start_time": "2022-02-11T18:25:32.966Z"
   },
   {
    "duration": 568,
    "start_time": "2022-02-11T18:25:45.606Z"
   },
   {
    "duration": 596,
    "start_time": "2022-02-11T18:25:57.261Z"
   },
   {
    "duration": 441,
    "start_time": "2022-02-11T18:26:05.782Z"
   },
   {
    "duration": 16,
    "start_time": "2022-02-11T18:26:15.623Z"
   },
   {
    "duration": 13,
    "start_time": "2022-02-11T18:28:51.004Z"
   },
   {
    "duration": 107,
    "start_time": "2022-02-11T18:33:50.594Z"
   },
   {
    "duration": 32,
    "start_time": "2022-02-11T18:34:47.522Z"
   },
   {
    "duration": 365,
    "start_time": "2022-02-11T18:35:54.058Z"
   },
   {
    "duration": 355,
    "start_time": "2022-02-11T18:36:40.113Z"
   },
   {
    "duration": 523,
    "start_time": "2022-02-11T18:36:57.577Z"
   },
   {
    "duration": 350,
    "start_time": "2022-02-11T18:37:09.249Z"
   },
   {
    "duration": 370,
    "start_time": "2022-02-11T18:37:21.616Z"
   },
   {
    "duration": 603,
    "start_time": "2022-02-11T18:37:56.713Z"
   },
   {
    "duration": 501,
    "start_time": "2022-02-11T18:38:54.433Z"
   },
   {
    "duration": 628,
    "start_time": "2022-02-11T18:39:02.456Z"
   },
   {
    "duration": 556,
    "start_time": "2022-02-11T18:39:20.128Z"
   },
   {
    "duration": 529,
    "start_time": "2022-02-11T18:39:27.840Z"
   },
   {
    "duration": 531,
    "start_time": "2022-02-11T18:40:23.015Z"
   },
   {
    "duration": 467,
    "start_time": "2022-02-11T18:40:50.735Z"
   },
   {
    "duration": 704,
    "start_time": "2022-02-11T18:41:02.527Z"
   },
   {
    "duration": 912,
    "start_time": "2022-02-11T18:41:32.880Z"
   },
   {
    "duration": 699,
    "start_time": "2022-02-11T18:41:39.727Z"
   },
   {
    "duration": 432,
    "start_time": "2022-02-11T18:42:11.966Z"
   },
   {
    "duration": 96,
    "start_time": "2022-02-11T18:43:22.920Z"
   },
   {
    "duration": 100,
    "start_time": "2022-02-11T18:44:49.677Z"
   },
   {
    "duration": 325,
    "start_time": "2022-02-11T18:46:26.156Z"
   },
   {
    "duration": 510,
    "start_time": "2022-02-11T18:46:36.124Z"
   },
   {
    "duration": 324,
    "start_time": "2022-02-11T18:46:55.108Z"
   },
   {
    "duration": 326,
    "start_time": "2022-02-11T18:47:13.868Z"
   },
   {
    "duration": 21,
    "start_time": "2022-02-11T18:47:26.675Z"
   },
   {
    "duration": 19,
    "start_time": "2022-02-11T18:57:49.903Z"
   },
   {
    "duration": 104,
    "start_time": "2022-02-11T18:58:07.758Z"
   },
   {
    "duration": 33,
    "start_time": "2022-02-11T18:58:16.287Z"
   },
   {
    "duration": 32,
    "start_time": "2022-02-11T18:58:46.433Z"
   },
   {
    "duration": 96,
    "start_time": "2022-02-11T19:04:31.092Z"
   },
   {
    "duration": 60,
    "start_time": "2022-02-11T19:05:23.117Z"
   },
   {
    "duration": 47,
    "start_time": "2022-02-11T19:06:01.556Z"
   },
   {
    "duration": 109,
    "start_time": "2022-02-11T19:06:06.163Z"
   },
   {
    "duration": 44,
    "start_time": "2022-02-11T19:06:17.587Z"
   },
   {
    "duration": 101,
    "start_time": "2022-02-11T19:07:09.540Z"
   },
   {
    "duration": 57,
    "start_time": "2022-02-11T19:07:16.980Z"
   },
   {
    "duration": 63,
    "start_time": "2022-02-11T19:07:40.564Z"
   },
   {
    "duration": 49,
    "start_time": "2022-02-11T19:08:16.107Z"
   },
   {
    "duration": 51,
    "start_time": "2022-02-11T19:08:19.964Z"
   },
   {
    "duration": 87,
    "start_time": "2022-02-11T19:08:38.211Z"
   },
   {
    "duration": 57,
    "start_time": "2022-02-11T19:08:49.683Z"
   },
   {
    "duration": 49,
    "start_time": "2022-02-11T19:09:00.346Z"
   },
   {
    "duration": 37,
    "start_time": "2022-02-11T19:09:22.019Z"
   },
   {
    "duration": 41,
    "start_time": "2022-02-11T19:09:30.050Z"
   },
   {
    "duration": 60,
    "start_time": "2022-02-11T19:09:44.667Z"
   },
   {
    "duration": 106,
    "start_time": "2022-02-11T19:10:52.913Z"
   },
   {
    "duration": 104,
    "start_time": "2022-02-11T19:13:45.584Z"
   },
   {
    "duration": 545,
    "start_time": "2022-02-11T19:21:17.390Z"
   },
   {
    "duration": 1532,
    "start_time": "2022-02-11T19:31:30.701Z"
   },
   {
    "duration": 6,
    "start_time": "2022-02-11T19:31:32.237Z"
   },
   {
    "duration": 100,
    "start_time": "2022-02-11T19:31:32.246Z"
   },
   {
    "duration": 35,
    "start_time": "2022-02-11T19:31:32.349Z"
   },
   {
    "duration": 50,
    "start_time": "2022-02-11T19:31:32.387Z"
   },
   {
    "duration": 121,
    "start_time": "2022-02-11T19:31:32.440Z"
   },
   {
    "duration": 16,
    "start_time": "2022-02-11T19:31:32.564Z"
   },
   {
    "duration": 101,
    "start_time": "2022-02-11T19:31:32.583Z"
   },
   {
    "duration": 41,
    "start_time": "2022-02-11T19:31:32.688Z"
   },
   {
    "duration": 60,
    "start_time": "2022-02-11T19:31:32.734Z"
   },
   {
    "duration": 37,
    "start_time": "2022-02-11T19:31:32.797Z"
   },
   {
    "duration": 29,
    "start_time": "2022-02-11T19:31:32.838Z"
   },
   {
    "duration": 24,
    "start_time": "2022-02-11T19:31:32.872Z"
   },
   {
    "duration": 65,
    "start_time": "2022-02-11T19:31:32.899Z"
   },
   {
    "duration": 10,
    "start_time": "2022-02-11T19:31:32.967Z"
   },
   {
    "duration": 74,
    "start_time": "2022-02-11T19:31:32.979Z"
   },
   {
    "duration": 38,
    "start_time": "2022-02-11T19:31:33.056Z"
   },
   {
    "duration": 40,
    "start_time": "2022-02-11T19:31:33.096Z"
   },
   {
    "duration": 13,
    "start_time": "2022-02-11T19:31:33.139Z"
   },
   {
    "duration": 17,
    "start_time": "2022-02-11T19:31:33.155Z"
   },
   {
    "duration": 7,
    "start_time": "2022-02-11T19:31:33.176Z"
   },
   {
    "duration": 77,
    "start_time": "2022-02-11T19:31:33.186Z"
   },
   {
    "duration": 6,
    "start_time": "2022-02-11T19:31:33.266Z"
   },
   {
    "duration": 1404,
    "start_time": "2022-02-11T19:31:33.275Z"
   },
   {
    "duration": 10,
    "start_time": "2022-02-11T19:31:34.683Z"
   },
   {
    "duration": 54,
    "start_time": "2022-02-11T19:31:34.696Z"
   },
   {
    "duration": 33,
    "start_time": "2022-02-11T19:31:34.756Z"
   },
   {
    "duration": 6,
    "start_time": "2022-02-11T19:31:34.793Z"
   },
   {
    "duration": 6,
    "start_time": "2022-02-11T19:31:34.824Z"
   },
   {
    "duration": 510,
    "start_time": "2022-02-11T19:31:34.834Z"
   },
   {
    "duration": 538,
    "start_time": "2022-02-11T19:31:35.346Z"
   },
   {
    "duration": 327,
    "start_time": "2022-02-11T19:31:35.887Z"
   },
   {
    "duration": 415,
    "start_time": "2022-02-11T19:31:36.224Z"
   },
   {
    "duration": 14,
    "start_time": "2022-02-11T19:31:36.642Z"
   },
   {
    "duration": 352,
    "start_time": "2022-02-11T19:31:36.658Z"
   },
   {
    "duration": 52,
    "start_time": "2022-02-11T19:31:37.013Z"
   },
   {
    "duration": 16,
    "start_time": "2022-02-11T19:31:37.067Z"
   },
   {
    "duration": 39,
    "start_time": "2022-02-11T19:31:37.087Z"
   },
   {
    "duration": 614,
    "start_time": "2022-02-11T19:31:37.130Z"
   },
   {
    "duration": 21,
    "start_time": "2022-02-11T19:31:37.747Z"
   },
   {
    "duration": 506,
    "start_time": "2022-02-11T19:31:37.771Z"
   },
   {
    "duration": 627,
    "start_time": "2022-02-11T19:31:38.279Z"
   },
   {
    "duration": 454,
    "start_time": "2022-02-11T19:31:38.908Z"
   },
   {
    "duration": 16,
    "start_time": "2022-02-11T19:31:39.364Z"
   },
   {
    "duration": 15,
    "start_time": "2022-02-11T19:31:39.382Z"
   },
   {
    "duration": 716,
    "start_time": "2022-02-11T19:31:39.399Z"
   },
   {
    "duration": 338,
    "start_time": "2022-02-11T19:31:40.117Z"
   },
   {
    "duration": 366,
    "start_time": "2022-02-11T19:31:40.457Z"
   },
   {
    "duration": 451,
    "start_time": "2022-02-11T19:31:40.826Z"
   },
   {
    "duration": 49,
    "start_time": "2022-02-11T19:31:41.280Z"
   },
   {
    "duration": 508,
    "start_time": "2022-02-11T19:31:41.332Z"
   },
   {
    "duration": -636,
    "start_time": "2022-02-11T19:31:42.479Z"
   },
   {
    "duration": -636,
    "start_time": "2022-02-11T19:31:42.481Z"
   },
   {
    "duration": -637,
    "start_time": "2022-02-11T19:31:42.484Z"
   },
   {
    "duration": -638,
    "start_time": "2022-02-11T19:31:42.486Z"
   },
   {
    "duration": 333,
    "start_time": "2022-02-11T19:32:49.616Z"
   },
   {
    "duration": 109,
    "start_time": "2022-02-11T19:33:28.096Z"
   },
   {
    "duration": 370,
    "start_time": "2022-02-11T19:33:33.685Z"
   },
   {
    "duration": 23,
    "start_time": "2022-02-11T19:34:02.480Z"
   },
   {
    "duration": 29,
    "start_time": "2022-02-11T19:34:05.255Z"
   },
   {
    "duration": 375,
    "start_time": "2022-02-11T19:34:06.393Z"
   },
   {
    "duration": 14,
    "start_time": "2022-02-11T19:35:08.509Z"
   },
   {
    "duration": 14,
    "start_time": "2022-02-11T19:35:37.117Z"
   },
   {
    "duration": 25,
    "start_time": "2022-02-11T19:35:50.229Z"
   },
   {
    "duration": 34,
    "start_time": "2022-02-11T19:36:06.213Z"
   },
   {
    "duration": 13,
    "start_time": "2022-02-11T19:36:26.812Z"
   },
   {
    "duration": 13,
    "start_time": "2022-02-11T19:37:38.068Z"
   },
   {
    "duration": 2061,
    "start_time": "2022-02-11T19:38:14.651Z"
   },
   {
    "duration": 7,
    "start_time": "2022-02-11T19:38:16.718Z"
   },
   {
    "duration": 119,
    "start_time": "2022-02-11T19:38:16.731Z"
   },
   {
    "duration": 34,
    "start_time": "2022-02-11T19:38:16.854Z"
   },
   {
    "duration": 50,
    "start_time": "2022-02-11T19:38:16.890Z"
   },
   {
    "duration": 110,
    "start_time": "2022-02-11T19:38:16.943Z"
   },
   {
    "duration": 16,
    "start_time": "2022-02-11T19:38:17.056Z"
   },
   {
    "duration": 102,
    "start_time": "2022-02-11T19:38:17.074Z"
   },
   {
    "duration": 31,
    "start_time": "2022-02-11T19:38:17.182Z"
   },
   {
    "duration": 45,
    "start_time": "2022-02-11T19:38:17.225Z"
   },
   {
    "duration": 9,
    "start_time": "2022-02-11T19:38:17.273Z"
   },
   {
    "duration": 44,
    "start_time": "2022-02-11T19:38:17.285Z"
   },
   {
    "duration": 14,
    "start_time": "2022-02-11T19:38:17.331Z"
   },
   {
    "duration": 35,
    "start_time": "2022-02-11T19:38:17.347Z"
   },
   {
    "duration": 39,
    "start_time": "2022-02-11T19:38:17.384Z"
   },
   {
    "duration": 41,
    "start_time": "2022-02-11T19:38:17.427Z"
   },
   {
    "duration": 59,
    "start_time": "2022-02-11T19:38:17.471Z"
   },
   {
    "duration": 14,
    "start_time": "2022-02-11T19:38:17.533Z"
   },
   {
    "duration": 22,
    "start_time": "2022-02-11T19:38:17.550Z"
   },
   {
    "duration": 15,
    "start_time": "2022-02-11T19:38:17.575Z"
   },
   {
    "duration": 37,
    "start_time": "2022-02-11T19:38:17.592Z"
   },
   {
    "duration": 36,
    "start_time": "2022-02-11T19:38:17.633Z"
   },
   {
    "duration": 6,
    "start_time": "2022-02-11T19:38:17.672Z"
   },
   {
    "duration": 1101,
    "start_time": "2022-02-11T19:38:17.680Z"
   },
   {
    "duration": 8,
    "start_time": "2022-02-11T19:38:18.783Z"
   },
   {
    "duration": 52,
    "start_time": "2022-02-11T19:38:18.793Z"
   },
   {
    "duration": 33,
    "start_time": "2022-02-11T19:38:18.851Z"
   },
   {
    "duration": 4,
    "start_time": "2022-02-11T19:38:18.887Z"
   },
   {
    "duration": 29,
    "start_time": "2022-02-11T19:38:18.894Z"
   },
   {
    "duration": 318,
    "start_time": "2022-02-11T19:38:18.925Z"
   },
   {
    "duration": 334,
    "start_time": "2022-02-11T19:38:19.246Z"
   },
   {
    "duration": 326,
    "start_time": "2022-02-11T19:38:19.583Z"
   },
   {
    "duration": 401,
    "start_time": "2022-02-11T19:38:19.912Z"
   },
   {
    "duration": 14,
    "start_time": "2022-02-11T19:38:20.324Z"
   },
   {
    "duration": 609,
    "start_time": "2022-02-11T19:38:20.341Z"
   },
   {
    "duration": 91,
    "start_time": "2022-02-11T19:38:20.952Z"
   },
   {
    "duration": 13,
    "start_time": "2022-02-11T19:38:21.045Z"
   },
   {
    "duration": 65,
    "start_time": "2022-02-11T19:38:21.061Z"
   },
   {
    "duration": 562,
    "start_time": "2022-02-11T19:38:21.128Z"
   },
   {
    "duration": 43,
    "start_time": "2022-02-11T19:38:21.692Z"
   },
   {
    "duration": 525,
    "start_time": "2022-02-11T19:38:21.738Z"
   },
   {
    "duration": 696,
    "start_time": "2022-02-11T19:38:22.266Z"
   },
   {
    "duration": 844,
    "start_time": "2022-02-11T19:38:22.966Z"
   },
   {
    "duration": 22,
    "start_time": "2022-02-11T19:38:23.813Z"
   },
   {
    "duration": 17,
    "start_time": "2022-02-11T19:38:23.838Z"
   },
   {
    "duration": 15,
    "start_time": "2022-02-11T19:38:23.857Z"
   },
   {
    "duration": 716,
    "start_time": "2022-02-11T19:38:23.875Z"
   },
   {
    "duration": 440,
    "start_time": "2022-02-11T19:38:24.594Z"
   },
   {
    "duration": 529,
    "start_time": "2022-02-11T19:38:25.037Z"
   },
   {
    "duration": 587,
    "start_time": "2022-02-11T19:38:25.624Z"
   },
   {
    "duration": 35,
    "start_time": "2022-02-11T19:38:26.213Z"
   },
   {
    "duration": 22,
    "start_time": "2022-02-11T19:38:26.250Z"
   },
   {
    "duration": 58,
    "start_time": "2022-02-11T19:38:26.274Z"
   },
   {
    "duration": 33,
    "start_time": "2022-02-11T19:38:26.335Z"
   },
   {
    "duration": 80,
    "start_time": "2022-02-11T19:38:26.370Z"
   },
   {
    "duration": 386,
    "start_time": "2022-02-11T19:38:26.453Z"
   },
   {
    "duration": 25,
    "start_time": "2022-02-11T19:38:57.164Z"
   },
   {
    "duration": 1574,
    "start_time": "2022-02-11T19:40:50.201Z"
   },
   {
    "duration": 4,
    "start_time": "2022-02-11T19:40:51.778Z"
   },
   {
    "duration": 90,
    "start_time": "2022-02-11T19:40:51.785Z"
   },
   {
    "duration": 33,
    "start_time": "2022-02-11T19:40:51.878Z"
   },
   {
    "duration": 31,
    "start_time": "2022-02-11T19:40:51.924Z"
   },
   {
    "duration": 127,
    "start_time": "2022-02-11T19:40:51.957Z"
   },
   {
    "duration": 16,
    "start_time": "2022-02-11T19:40:52.087Z"
   },
   {
    "duration": 67,
    "start_time": "2022-02-11T19:40:52.124Z"
   },
   {
    "duration": 46,
    "start_time": "2022-02-11T19:40:52.194Z"
   },
   {
    "duration": 38,
    "start_time": "2022-02-11T19:40:52.243Z"
   },
   {
    "duration": 8,
    "start_time": "2022-02-11T19:40:52.284Z"
   },
   {
    "duration": 41,
    "start_time": "2022-02-11T19:40:52.295Z"
   },
   {
    "duration": 14,
    "start_time": "2022-02-11T19:40:52.338Z"
   },
   {
    "duration": 34,
    "start_time": "2022-02-11T19:40:52.354Z"
   },
   {
    "duration": 40,
    "start_time": "2022-02-11T19:40:52.390Z"
   },
   {
    "duration": 92,
    "start_time": "2022-02-11T19:40:52.433Z"
   },
   {
    "duration": 37,
    "start_time": "2022-02-11T19:40:52.528Z"
   },
   {
    "duration": 25,
    "start_time": "2022-02-11T19:40:52.569Z"
   },
   {
    "duration": 33,
    "start_time": "2022-02-11T19:40:52.596Z"
   },
   {
    "duration": 12,
    "start_time": "2022-02-11T19:40:52.632Z"
   },
   {
    "duration": 10,
    "start_time": "2022-02-11T19:40:52.647Z"
   },
   {
    "duration": 32,
    "start_time": "2022-02-11T19:40:52.660Z"
   },
   {
    "duration": 5,
    "start_time": "2022-02-11T19:40:52.728Z"
   },
   {
    "duration": 1102,
    "start_time": "2022-02-11T19:40:52.736Z"
   },
   {
    "duration": 7,
    "start_time": "2022-02-11T19:40:53.841Z"
   },
   {
    "duration": 90,
    "start_time": "2022-02-11T19:40:53.850Z"
   },
   {
    "duration": 85,
    "start_time": "2022-02-11T19:40:53.943Z"
   },
   {
    "duration": 5,
    "start_time": "2022-02-11T19:40:54.031Z"
   },
   {
    "duration": 6,
    "start_time": "2022-02-11T19:40:54.038Z"
   },
   {
    "duration": 474,
    "start_time": "2022-02-11T19:40:54.046Z"
   },
   {
    "duration": 342,
    "start_time": "2022-02-11T19:40:54.523Z"
   },
   {
    "duration": 309,
    "start_time": "2022-02-11T19:40:54.867Z"
   },
   {
    "duration": 388,
    "start_time": "2022-02-11T19:40:55.178Z"
   },
   {
    "duration": 13,
    "start_time": "2022-02-11T19:40:55.568Z"
   },
   {
    "duration": 327,
    "start_time": "2022-02-11T19:40:55.583Z"
   },
   {
    "duration": 51,
    "start_time": "2022-02-11T19:40:55.912Z"
   },
   {
    "duration": 13,
    "start_time": "2022-02-11T19:40:55.966Z"
   },
   {
    "duration": 13,
    "start_time": "2022-02-11T19:40:55.981Z"
   },
   {
    "duration": 404,
    "start_time": "2022-02-11T19:40:55.996Z"
   },
   {
    "duration": 46,
    "start_time": "2022-02-11T19:40:56.403Z"
   },
   {
    "duration": 746,
    "start_time": "2022-02-11T19:40:56.453Z"
   },
   {
    "duration": 657,
    "start_time": "2022-02-11T19:40:57.202Z"
   },
   {
    "duration": 518,
    "start_time": "2022-02-11T19:40:57.861Z"
   },
   {
    "duration": 44,
    "start_time": "2022-02-11T19:40:58.382Z"
   },
   {
    "duration": 57,
    "start_time": "2022-02-11T19:40:58.429Z"
   },
   {
    "duration": 35,
    "start_time": "2022-02-11T19:40:58.489Z"
   },
   {
    "duration": 595,
    "start_time": "2022-02-11T19:40:58.527Z"
   },
   {
    "duration": -564,
    "start_time": "2022-02-11T19:40:59.689Z"
   },
   {
    "duration": -572,
    "start_time": "2022-02-11T19:40:59.698Z"
   },
   {
    "duration": -573,
    "start_time": "2022-02-11T19:40:59.701Z"
   },
   {
    "duration": -574,
    "start_time": "2022-02-11T19:40:59.703Z"
   },
   {
    "duration": -577,
    "start_time": "2022-02-11T19:40:59.707Z"
   },
   {
    "duration": -577,
    "start_time": "2022-02-11T19:40:59.709Z"
   },
   {
    "duration": -576,
    "start_time": "2022-02-11T19:40:59.711Z"
   },
   {
    "duration": -578,
    "start_time": "2022-02-11T19:40:59.714Z"
   },
   {
    "duration": -578,
    "start_time": "2022-02-11T19:40:59.716Z"
   },
   {
    "duration": 20,
    "start_time": "2022-02-11T19:41:18.739Z"
   },
   {
    "duration": 14,
    "start_time": "2022-02-11T19:41:25.018Z"
   },
   {
    "duration": 2103,
    "start_time": "2022-02-11T19:41:32.136Z"
   },
   {
    "duration": 6,
    "start_time": "2022-02-11T19:41:34.244Z"
   },
   {
    "duration": 919,
    "start_time": "2022-02-11T19:41:34.254Z"
   },
   {
    "duration": 32,
    "start_time": "2022-02-11T19:41:35.176Z"
   },
   {
    "duration": 38,
    "start_time": "2022-02-11T19:41:35.211Z"
   },
   {
    "duration": 118,
    "start_time": "2022-02-11T19:41:35.251Z"
   },
   {
    "duration": 16,
    "start_time": "2022-02-11T19:41:35.372Z"
   },
   {
    "duration": 88,
    "start_time": "2022-02-11T19:41:35.390Z"
   },
   {
    "duration": 19,
    "start_time": "2022-02-11T19:41:35.481Z"
   },
   {
    "duration": 56,
    "start_time": "2022-02-11T19:41:35.503Z"
   },
   {
    "duration": 9,
    "start_time": "2022-02-11T19:41:35.561Z"
   },
   {
    "duration": 50,
    "start_time": "2022-02-11T19:41:35.573Z"
   },
   {
    "duration": 14,
    "start_time": "2022-02-11T19:41:35.626Z"
   },
   {
    "duration": 40,
    "start_time": "2022-02-11T19:41:35.642Z"
   },
   {
    "duration": 43,
    "start_time": "2022-02-11T19:41:35.685Z"
   },
   {
    "duration": 43,
    "start_time": "2022-02-11T19:41:35.730Z"
   },
   {
    "duration": 66,
    "start_time": "2022-02-11T19:41:35.775Z"
   },
   {
    "duration": 19,
    "start_time": "2022-02-11T19:41:35.843Z"
   },
   {
    "duration": 13,
    "start_time": "2022-02-11T19:41:35.866Z"
   },
   {
    "duration": 44,
    "start_time": "2022-02-11T19:41:35.882Z"
   },
   {
    "duration": 7,
    "start_time": "2022-02-11T19:41:35.929Z"
   },
   {
    "duration": 40,
    "start_time": "2022-02-11T19:41:35.939Z"
   },
   {
    "duration": 5,
    "start_time": "2022-02-11T19:41:35.982Z"
   },
   {
    "duration": 1044,
    "start_time": "2022-02-11T19:41:35.989Z"
   },
   {
    "duration": 10,
    "start_time": "2022-02-11T19:41:37.036Z"
   },
   {
    "duration": 36,
    "start_time": "2022-02-11T19:41:37.049Z"
   },
   {
    "duration": 58,
    "start_time": "2022-02-11T19:41:37.092Z"
   },
   {
    "duration": 5,
    "start_time": "2022-02-11T19:41:37.154Z"
   },
   {
    "duration": 6,
    "start_time": "2022-02-11T19:41:37.162Z"
   },
   {
    "duration": 345,
    "start_time": "2022-02-11T19:41:37.171Z"
   },
   {
    "duration": 315,
    "start_time": "2022-02-11T19:41:37.518Z"
   },
   {
    "duration": 303,
    "start_time": "2022-02-11T19:41:37.836Z"
   },
   {
    "duration": 404,
    "start_time": "2022-02-11T19:41:38.142Z"
   },
   {
    "duration": 12,
    "start_time": "2022-02-11T19:41:38.549Z"
   },
   {
    "duration": 595,
    "start_time": "2022-02-11T19:41:38.564Z"
   },
   {
    "duration": 94,
    "start_time": "2022-02-11T19:41:39.162Z"
   },
   {
    "duration": 70,
    "start_time": "2022-02-11T19:41:39.258Z"
   },
   {
    "duration": 14,
    "start_time": "2022-02-11T19:41:39.331Z"
   },
   {
    "duration": 796,
    "start_time": "2022-02-11T19:41:39.348Z"
   },
   {
    "duration": 26,
    "start_time": "2022-02-11T19:41:40.148Z"
   },
   {
    "duration": 876,
    "start_time": "2022-02-11T19:41:40.177Z"
   },
   {
    "duration": 1609,
    "start_time": "2022-02-11T19:41:41.056Z"
   },
   {
    "duration": 859,
    "start_time": "2022-02-11T19:41:42.668Z"
   },
   {
    "duration": 16,
    "start_time": "2022-02-11T19:41:43.529Z"
   },
   {
    "duration": 14,
    "start_time": "2022-02-11T19:41:43.547Z"
   },
   {
    "duration": 68,
    "start_time": "2022-02-11T19:41:43.563Z"
   },
   {
    "duration": 1243,
    "start_time": "2022-02-11T19:41:43.634Z"
   },
   {
    "duration": 357,
    "start_time": "2022-02-11T19:41:44.880Z"
   },
   {
    "duration": 341,
    "start_time": "2022-02-11T19:41:45.240Z"
   },
   {
    "duration": 467,
    "start_time": "2022-02-11T19:41:45.584Z"
   },
   {
    "duration": 29,
    "start_time": "2022-02-11T19:41:46.054Z"
   },
   {
    "duration": 53,
    "start_time": "2022-02-11T19:41:46.086Z"
   },
   {
    "duration": 31,
    "start_time": "2022-02-11T19:41:46.142Z"
   },
   {
    "duration": 63,
    "start_time": "2022-02-11T19:41:46.176Z"
   },
   {
    "duration": 63,
    "start_time": "2022-02-11T19:41:46.241Z"
   },
   {
    "duration": 404,
    "start_time": "2022-02-11T19:41:46.323Z"
   },
   {
    "duration": 1473,
    "start_time": "2022-02-17T21:53:11.065Z"
   },
   {
    "duration": 1487,
    "start_time": "2022-02-17T21:53:21.151Z"
   },
   {
    "duration": 4,
    "start_time": "2022-02-17T21:53:22.640Z"
   },
   {
    "duration": 103,
    "start_time": "2022-02-17T21:53:22.650Z"
   },
   {
    "duration": 33,
    "start_time": "2022-02-17T21:53:22.756Z"
   },
   {
    "duration": 35,
    "start_time": "2022-02-17T21:53:22.791Z"
   },
   {
    "duration": 108,
    "start_time": "2022-02-17T21:53:22.848Z"
   },
   {
    "duration": 15,
    "start_time": "2022-02-17T21:53:22.959Z"
   },
   {
    "duration": 92,
    "start_time": "2022-02-17T21:53:22.977Z"
   },
   {
    "duration": 20,
    "start_time": "2022-02-17T21:53:23.071Z"
   },
   {
    "duration": 60,
    "start_time": "2022-02-17T21:53:23.094Z"
   },
   {
    "duration": 9,
    "start_time": "2022-02-17T21:53:23.157Z"
   },
   {
    "duration": 19,
    "start_time": "2022-02-17T21:53:23.168Z"
   },
   {
    "duration": 14,
    "start_time": "2022-02-17T21:53:23.190Z"
   },
   {
    "duration": 62,
    "start_time": "2022-02-17T21:53:23.207Z"
   },
   {
    "duration": 11,
    "start_time": "2022-02-17T21:53:23.271Z"
   },
   {
    "duration": 42,
    "start_time": "2022-02-17T21:53:23.285Z"
   },
   {
    "duration": 31,
    "start_time": "2022-02-17T21:53:23.350Z"
   },
   {
    "duration": 14,
    "start_time": "2022-02-17T21:53:23.383Z"
   },
   {
    "duration": 54,
    "start_time": "2022-02-17T21:53:23.400Z"
   },
   {
    "duration": 13,
    "start_time": "2022-02-17T21:53:23.456Z"
   },
   {
    "duration": 15,
    "start_time": "2022-02-17T21:53:23.471Z"
   },
   {
    "duration": 35,
    "start_time": "2022-02-17T21:53:23.489Z"
   },
   {
    "duration": 19,
    "start_time": "2022-02-17T21:53:23.530Z"
   },
   {
    "duration": 1356,
    "start_time": "2022-02-17T21:53:23.552Z"
   },
   {
    "duration": 8,
    "start_time": "2022-02-17T21:53:24.910Z"
   },
   {
    "duration": 53,
    "start_time": "2022-02-17T21:53:24.920Z"
   },
   {
    "duration": 33,
    "start_time": "2022-02-17T21:53:24.976Z"
   },
   {
    "duration": 5,
    "start_time": "2022-02-17T21:53:25.011Z"
   },
   {
    "duration": 30,
    "start_time": "2022-02-17T21:53:25.019Z"
   },
   {
    "duration": 319,
    "start_time": "2022-02-17T21:53:25.051Z"
   },
   {
    "duration": 323,
    "start_time": "2022-02-17T21:53:25.372Z"
   },
   {
    "duration": 323,
    "start_time": "2022-02-17T21:53:25.697Z"
   },
   {
    "duration": 407,
    "start_time": "2022-02-17T21:53:26.023Z"
   },
   {
    "duration": 21,
    "start_time": "2022-02-17T21:53:26.432Z"
   },
   {
    "duration": 325,
    "start_time": "2022-02-17T21:53:26.455Z"
   },
   {
    "duration": 38,
    "start_time": "2022-02-17T21:53:26.782Z"
   },
   {
    "duration": 36,
    "start_time": "2022-02-17T21:53:26.823Z"
   },
   {
    "duration": 13,
    "start_time": "2022-02-17T21:53:26.861Z"
   },
   {
    "duration": 413,
    "start_time": "2022-02-17T21:53:26.876Z"
   },
   {
    "duration": 23,
    "start_time": "2022-02-17T21:53:27.292Z"
   },
   {
    "duration": 507,
    "start_time": "2022-02-17T21:53:27.317Z"
   },
   {
    "duration": 626,
    "start_time": "2022-02-17T21:53:27.827Z"
   },
   {
    "duration": 455,
    "start_time": "2022-02-17T21:53:28.455Z"
   },
   {
    "duration": 35,
    "start_time": "2022-02-17T21:53:28.913Z"
   },
   {
    "duration": 15,
    "start_time": "2022-02-17T21:53:28.951Z"
   },
   {
    "duration": 24,
    "start_time": "2022-02-17T21:53:28.969Z"
   },
   {
    "duration": 952,
    "start_time": "2022-02-17T21:53:28.996Z"
   },
   {
    "duration": 604,
    "start_time": "2022-02-17T21:53:29.952Z"
   },
   {
    "duration": 555,
    "start_time": "2022-02-17T21:53:30.558Z"
   },
   {
    "duration": 442,
    "start_time": "2022-02-17T21:53:31.116Z"
   },
   {
    "duration": 28,
    "start_time": "2022-02-17T21:53:31.561Z"
   },
   {
    "duration": 21,
    "start_time": "2022-02-17T21:53:31.591Z"
   },
   {
    "duration": 59,
    "start_time": "2022-02-17T21:53:31.614Z"
   },
   {
    "duration": 32,
    "start_time": "2022-02-17T21:53:31.675Z"
   },
   {
    "duration": 80,
    "start_time": "2022-02-17T21:53:31.710Z"
   },
   {
    "duration": 372,
    "start_time": "2022-02-17T21:53:31.793Z"
   },
   {
    "duration": 418,
    "start_time": "2022-02-17T21:55:29.073Z"
   },
   {
    "duration": 208,
    "start_time": "2022-02-18T18:03:49.856Z"
   },
   {
    "duration": 1133,
    "start_time": "2022-02-18T18:03:57.039Z"
   },
   {
    "duration": 2,
    "start_time": "2022-02-18T18:03:58.174Z"
   },
   {
    "duration": 72,
    "start_time": "2022-02-18T18:03:58.179Z"
   },
   {
    "duration": 22,
    "start_time": "2022-02-18T18:03:58.253Z"
   },
   {
    "duration": 20,
    "start_time": "2022-02-18T18:03:58.276Z"
   },
   {
    "duration": 90,
    "start_time": "2022-02-18T18:03:58.298Z"
   },
   {
    "duration": 10,
    "start_time": "2022-02-18T18:03:58.390Z"
   },
   {
    "duration": 61,
    "start_time": "2022-02-18T18:03:58.402Z"
   },
   {
    "duration": 11,
    "start_time": "2022-02-18T18:03:58.466Z"
   },
   {
    "duration": 25,
    "start_time": "2022-02-18T18:03:58.479Z"
   },
   {
    "duration": 28,
    "start_time": "2022-02-18T18:03:58.506Z"
   },
   {
    "duration": 179,
    "start_time": "2022-02-18T18:03:58.536Z"
   },
   {
    "duration": 18,
    "start_time": "2022-02-18T18:03:58.716Z"
   },
   {
    "duration": 10,
    "start_time": "2022-02-18T18:03:58.735Z"
   },
   {
    "duration": 21,
    "start_time": "2022-02-18T18:03:58.747Z"
   },
   {
    "duration": 15,
    "start_time": "2022-02-18T18:03:58.770Z"
   },
   {
    "duration": 58,
    "start_time": "2022-02-18T18:03:58.787Z"
   },
   {
    "duration": 20,
    "start_time": "2022-02-18T18:03:58.847Z"
   },
   {
    "duration": 64,
    "start_time": "2022-02-18T18:03:58.869Z"
   },
   {
    "duration": 8,
    "start_time": "2022-02-18T18:03:58.935Z"
   },
   {
    "duration": 8,
    "start_time": "2022-02-18T18:03:58.945Z"
   },
   {
    "duration": 5,
    "start_time": "2022-02-18T18:03:58.955Z"
   },
   {
    "duration": 72,
    "start_time": "2022-02-18T18:03:58.962Z"
   },
   {
    "duration": 3,
    "start_time": "2022-02-18T18:03:59.036Z"
   },
   {
    "duration": 940,
    "start_time": "2022-02-18T18:03:59.040Z"
   },
   {
    "duration": 5,
    "start_time": "2022-02-18T18:03:59.981Z"
   },
   {
    "duration": 56,
    "start_time": "2022-02-18T18:03:59.990Z"
   },
   {
    "duration": 24,
    "start_time": "2022-02-18T18:04:00.048Z"
   },
   {
    "duration": 3,
    "start_time": "2022-02-18T18:04:00.074Z"
   },
   {
    "duration": 9,
    "start_time": "2022-02-18T18:04:00.079Z"
   },
   {
    "duration": 198,
    "start_time": "2022-02-18T18:04:00.090Z"
   },
   {
    "duration": 188,
    "start_time": "2022-02-18T18:04:00.290Z"
   },
   {
    "duration": 238,
    "start_time": "2022-02-18T18:04:00.479Z"
   },
   {
    "duration": 204,
    "start_time": "2022-02-18T18:04:00.719Z"
   },
   {
    "duration": 12,
    "start_time": "2022-02-18T18:04:00.925Z"
   },
   {
    "duration": 208,
    "start_time": "2022-02-18T18:04:00.939Z"
   },
   {
    "duration": 26,
    "start_time": "2022-02-18T18:04:01.149Z"
   },
   {
    "duration": 9,
    "start_time": "2022-02-18T18:04:01.177Z"
   },
   {
    "duration": 9,
    "start_time": "2022-02-18T18:04:01.188Z"
   },
   {
    "duration": 243,
    "start_time": "2022-02-18T18:04:01.199Z"
   },
   {
    "duration": 14,
    "start_time": "2022-02-18T18:04:01.444Z"
   },
   {
    "duration": 290,
    "start_time": "2022-02-18T18:04:01.460Z"
   },
   {
    "duration": 381,
    "start_time": "2022-02-18T18:04:01.752Z"
   },
   {
    "duration": 256,
    "start_time": "2022-02-18T18:04:02.134Z"
   },
   {
    "duration": 12,
    "start_time": "2022-02-18T18:04:02.391Z"
   },
   {
    "duration": 10,
    "start_time": "2022-02-18T18:04:02.404Z"
   },
   {
    "duration": 22,
    "start_time": "2022-02-18T18:04:02.415Z"
   },
   {
    "duration": 393,
    "start_time": "2022-02-18T18:04:02.439Z"
   },
   {
    "duration": 211,
    "start_time": "2022-02-18T18:04:02.834Z"
   },
   {
    "duration": 285,
    "start_time": "2022-02-18T18:04:03.047Z"
   },
   {
    "duration": 207,
    "start_time": "2022-02-18T18:04:03.334Z"
   },
   {
    "duration": 19,
    "start_time": "2022-02-18T18:04:03.543Z"
   },
   {
    "duration": 15,
    "start_time": "2022-02-18T18:04:03.563Z"
   },
   {
    "duration": 19,
    "start_time": "2022-02-18T18:04:03.580Z"
   },
   {
    "duration": 22,
    "start_time": "2022-02-18T18:04:03.629Z"
   },
   {
    "duration": 39,
    "start_time": "2022-02-18T18:04:03.652Z"
   },
   {
    "duration": 228,
    "start_time": "2022-02-18T18:04:03.693Z"
   },
   {
    "duration": 3,
    "start_time": "2022-02-18T18:04:53.792Z"
   },
   {
    "duration": 3,
    "start_time": "2022-02-18T18:04:54.372Z"
   },
   {
    "duration": 3,
    "start_time": "2022-02-18T18:04:57.969Z"
   },
   {
    "duration": 70,
    "start_time": "2022-02-18T18:04:59.268Z"
   },
   {
    "duration": 20,
    "start_time": "2022-02-18T18:05:00.143Z"
   },
   {
    "duration": 66,
    "start_time": "2022-02-18T18:05:01.869Z"
   },
   {
    "duration": 11,
    "start_time": "2022-02-18T18:05:02.572Z"
   },
   {
    "duration": 45,
    "start_time": "2022-02-18T18:05:04.365Z"
   },
   {
    "duration": 12,
    "start_time": "2022-02-18T18:05:06.116Z"
   },
   {
    "duration": 27,
    "start_time": "2022-02-18T18:05:10.188Z"
   },
   {
    "duration": 6,
    "start_time": "2022-02-18T18:05:13.092Z"
   },
   {
    "duration": 170,
    "start_time": "2022-02-18T18:05:14.356Z"
   },
   {
    "duration": 442,
    "start_time": "2022-02-18T18:05:33.934Z"
   },
   {
    "duration": 166,
    "start_time": "2022-02-18T18:05:45.159Z"
   },
   {
    "duration": 175,
    "start_time": "2022-02-18T18:06:06.263Z"
   },
   {
    "duration": 167,
    "start_time": "2022-02-18T18:06:27.870Z"
   },
   {
    "duration": 167,
    "start_time": "2022-02-18T18:06:34.485Z"
   },
   {
    "duration": 183,
    "start_time": "2022-02-18T18:06:47.605Z"
   },
   {
    "duration": 189,
    "start_time": "2022-02-18T18:06:52.150Z"
   },
   {
    "duration": 124341,
    "start_time": "2022-02-18T18:07:02.278Z"
   },
   {
    "duration": -96,
    "start_time": "2022-02-18T18:09:35.761Z"
   },
   {
    "duration": 385,
    "start_time": "2022-02-18T18:09:38.877Z"
   },
   {
    "duration": -158,
    "start_time": "2022-02-18T18:10:47.535Z"
   },
   {
    "duration": 6,
    "start_time": "2022-02-18T18:10:51.686Z"
   },
   {
    "duration": 118,
    "start_time": "2022-02-18T18:11:00.603Z"
   },
   {
    "duration": 4728,
    "start_time": "2022-02-18T19:26:07.802Z"
   },
   {
    "duration": 433,
    "start_time": "2022-02-18T19:26:19.611Z"
   },
   {
    "duration": 203,
    "start_time": "2022-02-18T19:26:42.215Z"
   },
   {
    "duration": 95,
    "start_time": "2022-02-18T20:58:21.435Z"
   },
   {
    "duration": 61,
    "start_time": "2022-02-18T20:58:35.539Z"
   },
   {
    "duration": 10,
    "start_time": "2022-02-18T20:58:43.531Z"
   },
   {
    "duration": 6,
    "start_time": "2022-02-18T20:58:57.227Z"
   },
   {
    "duration": 7,
    "start_time": "2022-02-18T20:59:48.587Z"
   },
   {
    "duration": 7,
    "start_time": "2022-02-18T21:00:06.005Z"
   },
   {
    "duration": 15,
    "start_time": "2022-02-18T21:00:55.290Z"
   },
   {
    "duration": 15,
    "start_time": "2022-02-18T21:01:04.377Z"
   },
   {
    "duration": 15,
    "start_time": "2022-02-18T21:01:13.162Z"
   },
   {
    "duration": 14,
    "start_time": "2022-02-18T21:01:18.443Z"
   },
   {
    "duration": 14,
    "start_time": "2022-02-18T21:01:32.210Z"
   },
   {
    "duration": 14,
    "start_time": "2022-02-18T21:02:01.666Z"
   },
   {
    "duration": 16,
    "start_time": "2022-02-18T21:02:13.977Z"
   },
   {
    "duration": 126,
    "start_time": "2022-02-18T21:02:47.745Z"
   },
   {
    "duration": 122,
    "start_time": "2022-02-18T21:02:50.753Z"
   },
   {
    "duration": 389,
    "start_time": "2022-02-19T08:27:39.628Z"
   },
   {
    "duration": 324,
    "start_time": "2022-02-19T08:27:42.604Z"
   },
   {
    "duration": 1098,
    "start_time": "2022-02-19T08:28:18.981Z"
   },
   {
    "duration": 3,
    "start_time": "2022-02-19T08:28:20.216Z"
   },
   {
    "duration": 75,
    "start_time": "2022-02-19T08:28:21.592Z"
   },
   {
    "duration": 20,
    "start_time": "2022-02-19T08:28:22.984Z"
   },
   {
    "duration": 16,
    "start_time": "2022-02-19T08:28:24.944Z"
   },
   {
    "duration": 62,
    "start_time": "2022-02-19T08:28:26.185Z"
   },
   {
    "duration": 9,
    "start_time": "2022-02-19T08:28:29.128Z"
   },
   {
    "duration": 42,
    "start_time": "2022-02-19T08:28:30.359Z"
   },
   {
    "duration": 14,
    "start_time": "2022-02-19T08:28:32.439Z"
   },
   {
    "duration": 5,
    "start_time": "2022-02-19T08:28:40.528Z"
   },
   {
    "duration": 112,
    "start_time": "2022-02-19T08:28:41.609Z"
   },
   {
    "duration": 15,
    "start_time": "2022-02-19T08:28:47.007Z"
   },
   {
    "duration": 381,
    "start_time": "2022-02-19T08:29:36.050Z"
   },
   {
    "duration": 114,
    "start_time": "2022-02-19T08:30:04.122Z"
   },
   {
    "duration": 19,
    "start_time": "2022-02-19T08:30:24.785Z"
   },
   {
    "duration": 17,
    "start_time": "2022-02-19T08:30:34.874Z"
   },
   {
    "duration": 14,
    "start_time": "2022-02-19T08:30:41.313Z"
   },
   {
    "duration": 115,
    "start_time": "2022-02-19T08:30:52.209Z"
   },
   {
    "duration": 9,
    "start_time": "2022-02-19T08:35:10.129Z"
   },
   {
    "duration": 110,
    "start_time": "2022-02-19T08:35:19.766Z"
   },
   {
    "duration": 11,
    "start_time": "2022-02-19T08:35:47.848Z"
   },
   {
    "duration": 163,
    "start_time": "2022-02-19T08:35:52.534Z"
   },
   {
    "duration": 5,
    "start_time": "2022-02-19T08:37:41.014Z"
   },
   {
    "duration": 163,
    "start_time": "2022-02-19T08:41:00.141Z"
   },
   {
    "duration": 5,
    "start_time": "2022-02-19T08:42:22.570Z"
   },
   {
    "duration": 1094,
    "start_time": "2022-02-19T12:57:04.594Z"
   },
   {
    "duration": 2,
    "start_time": "2022-02-19T12:57:05.690Z"
   },
   {
    "duration": 69,
    "start_time": "2022-02-19T12:57:05.694Z"
   },
   {
    "duration": 19,
    "start_time": "2022-02-19T12:57:05.764Z"
   },
   {
    "duration": 18,
    "start_time": "2022-02-19T12:57:05.784Z"
   },
   {
    "duration": 66,
    "start_time": "2022-02-19T12:57:05.803Z"
   },
   {
    "duration": 9,
    "start_time": "2022-02-19T12:57:05.870Z"
   },
   {
    "duration": 40,
    "start_time": "2022-02-19T12:57:05.881Z"
   },
   {
    "duration": 10,
    "start_time": "2022-02-19T12:57:05.946Z"
   },
   {
    "duration": 26,
    "start_time": "2022-02-19T12:57:05.957Z"
   },
   {
    "duration": 5,
    "start_time": "2022-02-19T12:57:05.984Z"
   },
   {
    "duration": 136,
    "start_time": "2022-02-19T12:57:05.990Z"
   },
   {
    "duration": 27,
    "start_time": "2022-02-19T12:57:06.128Z"
   },
   {
    "duration": 7,
    "start_time": "2022-02-19T12:57:06.157Z"
   },
   {
    "duration": 4,
    "start_time": "2022-02-19T12:57:06.165Z"
   },
   {
    "duration": 4,
    "start_time": "2022-02-19T12:57:06.170Z"
   },
   {
    "duration": 10,
    "start_time": "2022-02-19T12:57:06.175Z"
   },
   {
    "duration": 6,
    "start_time": "2022-02-19T12:57:06.187Z"
   },
   {
    "duration": 11,
    "start_time": "2022-02-19T12:57:06.194Z"
   },
   {
    "duration": 14,
    "start_time": "2022-02-19T12:57:06.207Z"
   },
   {
    "duration": 27,
    "start_time": "2022-02-19T12:57:06.222Z"
   },
   {
    "duration": 17,
    "start_time": "2022-02-19T12:57:06.250Z"
   },
   {
    "duration": 7,
    "start_time": "2022-02-19T12:57:06.271Z"
   },
   {
    "duration": 15,
    "start_time": "2022-02-19T12:57:06.279Z"
   },
   {
    "duration": 12,
    "start_time": "2022-02-19T12:57:06.295Z"
   },
   {
    "duration": 7,
    "start_time": "2022-02-19T12:57:06.309Z"
   },
   {
    "duration": 14,
    "start_time": "2022-02-19T12:57:06.317Z"
   },
   {
    "duration": 3,
    "start_time": "2022-02-19T12:57:06.345Z"
   },
   {
    "duration": 247,
    "start_time": "2022-02-19T12:57:06.349Z"
   },
   {
    "duration": 5,
    "start_time": "2022-02-19T12:57:06.598Z"
   },
   {
    "duration": 22,
    "start_time": "2022-02-19T12:57:06.604Z"
   },
   {
    "duration": 30,
    "start_time": "2022-02-19T12:57:06.628Z"
   },
   {
    "duration": 2,
    "start_time": "2022-02-19T12:57:06.660Z"
   },
   {
    "duration": 5,
    "start_time": "2022-02-19T12:57:06.664Z"
   },
   {
    "duration": 172,
    "start_time": "2022-02-19T12:57:06.670Z"
   },
   {
    "duration": 179,
    "start_time": "2022-02-19T12:57:06.844Z"
   },
   {
    "duration": 176,
    "start_time": "2022-02-19T12:57:07.024Z"
   },
   {
    "duration": 223,
    "start_time": "2022-02-19T12:57:07.201Z"
   },
   {
    "duration": 7,
    "start_time": "2022-02-19T12:57:07.425Z"
   },
   {
    "duration": 176,
    "start_time": "2022-02-19T12:57:07.434Z"
   },
   {
    "duration": 19,
    "start_time": "2022-02-19T12:57:07.612Z"
   },
   {
    "duration": 14,
    "start_time": "2022-02-19T12:57:07.632Z"
   },
   {
    "duration": 7,
    "start_time": "2022-02-19T12:57:07.648Z"
   },
   {
    "duration": 207,
    "start_time": "2022-02-19T12:57:07.656Z"
   },
   {
    "duration": 12,
    "start_time": "2022-02-19T12:57:07.865Z"
   },
   {
    "duration": 271,
    "start_time": "2022-02-19T12:57:07.878Z"
   },
   {
    "duration": 415,
    "start_time": "2022-02-19T12:57:08.150Z"
   },
   {
    "duration": 254,
    "start_time": "2022-02-19T12:57:08.567Z"
   },
   {
    "duration": 10,
    "start_time": "2022-02-19T12:57:08.823Z"
   },
   {
    "duration": 17,
    "start_time": "2022-02-19T12:57:08.835Z"
   },
   {
    "duration": 6,
    "start_time": "2022-02-19T12:57:08.853Z"
   },
   {
    "duration": 404,
    "start_time": "2022-02-19T12:57:08.861Z"
   },
   {
    "duration": 195,
    "start_time": "2022-02-19T12:57:09.267Z"
   },
   {
    "duration": 199,
    "start_time": "2022-02-19T12:57:09.464Z"
   },
   {
    "duration": 265,
    "start_time": "2022-02-19T12:57:09.665Z"
   },
   {
    "duration": 21,
    "start_time": "2022-02-19T12:57:09.931Z"
   },
   {
    "duration": 12,
    "start_time": "2022-02-19T12:57:09.954Z"
   },
   {
    "duration": 15,
    "start_time": "2022-02-19T12:57:09.968Z"
   },
   {
    "duration": 19,
    "start_time": "2022-02-19T12:57:09.985Z"
   },
   {
    "duration": 59,
    "start_time": "2022-02-19T12:57:10.006Z"
   },
   {
    "duration": 201,
    "start_time": "2022-02-19T12:57:10.066Z"
   },
   {
    "duration": 1252,
    "start_time": "2022-02-20T08:15:35.576Z"
   },
   {
    "duration": 3,
    "start_time": "2022-02-20T08:15:36.830Z"
   },
   {
    "duration": 96,
    "start_time": "2022-02-20T08:15:36.836Z"
   },
   {
    "duration": 35,
    "start_time": "2022-02-20T08:15:36.934Z"
   },
   {
    "duration": 31,
    "start_time": "2022-02-20T08:15:36.972Z"
   },
   {
    "duration": 82,
    "start_time": "2022-02-20T08:15:37.019Z"
   },
   {
    "duration": 21,
    "start_time": "2022-02-20T08:15:37.103Z"
   },
   {
    "duration": 57,
    "start_time": "2022-02-20T08:15:37.127Z"
   },
   {
    "duration": 32,
    "start_time": "2022-02-20T08:15:37.187Z"
   },
   {
    "duration": 30,
    "start_time": "2022-02-20T08:15:37.221Z"
   },
   {
    "duration": 6,
    "start_time": "2022-02-20T08:15:37.253Z"
   },
   {
    "duration": 191,
    "start_time": "2022-02-20T08:15:37.261Z"
   },
   {
    "duration": 18,
    "start_time": "2022-02-20T08:15:37.454Z"
   },
   {
    "duration": 84,
    "start_time": "2022-02-20T08:15:37.474Z"
   },
   {
    "duration": -1007,
    "start_time": "2022-02-20T08:15:38.569Z"
   },
   {
    "duration": -1011,
    "start_time": "2022-02-20T08:15:38.574Z"
   },
   {
    "duration": -1016,
    "start_time": "2022-02-20T08:15:38.580Z"
   },
   {
    "duration": -1020,
    "start_time": "2022-02-20T08:15:38.585Z"
   },
   {
    "duration": -1023,
    "start_time": "2022-02-20T08:15:38.589Z"
   },
   {
    "duration": -1029,
    "start_time": "2022-02-20T08:15:38.596Z"
   },
   {
    "duration": -1032,
    "start_time": "2022-02-20T08:15:38.600Z"
   },
   {
    "duration": -1035,
    "start_time": "2022-02-20T08:15:38.604Z"
   },
   {
    "duration": -1040,
    "start_time": "2022-02-20T08:15:38.611Z"
   },
   {
    "duration": -1043,
    "start_time": "2022-02-20T08:15:38.615Z"
   },
   {
    "duration": -1046,
    "start_time": "2022-02-20T08:15:38.619Z"
   },
   {
    "duration": -1051,
    "start_time": "2022-02-20T08:15:38.625Z"
   },
   {
    "duration": -1089,
    "start_time": "2022-02-20T08:15:38.664Z"
   },
   {
    "duration": -1094,
    "start_time": "2022-02-20T08:15:38.670Z"
   },
   {
    "duration": -1100,
    "start_time": "2022-02-20T08:15:38.677Z"
   },
   {
    "duration": -1104,
    "start_time": "2022-02-20T08:15:38.682Z"
   },
   {
    "duration": -1105,
    "start_time": "2022-02-20T08:15:38.685Z"
   },
   {
    "duration": -1109,
    "start_time": "2022-02-20T08:15:38.690Z"
   },
   {
    "duration": -1112,
    "start_time": "2022-02-20T08:15:38.694Z"
   },
   {
    "duration": -1115,
    "start_time": "2022-02-20T08:15:38.698Z"
   },
   {
    "duration": -1117,
    "start_time": "2022-02-20T08:15:38.701Z"
   },
   {
    "duration": -1119,
    "start_time": "2022-02-20T08:15:38.704Z"
   },
   {
    "duration": -1123,
    "start_time": "2022-02-20T08:15:38.709Z"
   },
   {
    "duration": -1130,
    "start_time": "2022-02-20T08:15:38.717Z"
   },
   {
    "duration": -1139,
    "start_time": "2022-02-20T08:15:38.727Z"
   },
   {
    "duration": -1142,
    "start_time": "2022-02-20T08:15:38.731Z"
   },
   {
    "duration": -1145,
    "start_time": "2022-02-20T08:15:38.735Z"
   },
   {
    "duration": -1148,
    "start_time": "2022-02-20T08:15:38.739Z"
   },
   {
    "duration": -1153,
    "start_time": "2022-02-20T08:15:38.745Z"
   },
   {
    "duration": -1157,
    "start_time": "2022-02-20T08:15:38.750Z"
   },
   {
    "duration": -1159,
    "start_time": "2022-02-20T08:15:38.754Z"
   },
   {
    "duration": -1164,
    "start_time": "2022-02-20T08:15:38.760Z"
   },
   {
    "duration": -1176,
    "start_time": "2022-02-20T08:15:38.773Z"
   },
   {
    "duration": -1180,
    "start_time": "2022-02-20T08:15:38.779Z"
   },
   {
    "duration": -1164,
    "start_time": "2022-02-20T08:15:38.782Z"
   },
   {
    "duration": -1165,
    "start_time": "2022-02-20T08:15:38.785Z"
   },
   {
    "duration": -1168,
    "start_time": "2022-02-20T08:15:38.789Z"
   },
   {
    "duration": -1174,
    "start_time": "2022-02-20T08:15:38.796Z"
   },
   {
    "duration": -1176,
    "start_time": "2022-02-20T08:15:38.799Z"
   },
   {
    "duration": -1178,
    "start_time": "2022-02-20T08:15:38.803Z"
   },
   {
    "duration": -1180,
    "start_time": "2022-02-20T08:15:38.807Z"
   },
   {
    "duration": -1183,
    "start_time": "2022-02-20T08:15:38.812Z"
   },
   {
    "duration": -1186,
    "start_time": "2022-02-20T08:15:38.816Z"
   },
   {
    "duration": -1188,
    "start_time": "2022-02-20T08:15:38.820Z"
   },
   {
    "duration": -1191,
    "start_time": "2022-02-20T08:15:38.825Z"
   },
   {
    "duration": -1196,
    "start_time": "2022-02-20T08:15:38.831Z"
   },
   {
    "duration": -1198,
    "start_time": "2022-02-20T08:15:38.835Z"
   },
   {
    "duration": -1199,
    "start_time": "2022-02-20T08:15:38.838Z"
   },
   {
    "duration": 10,
    "start_time": "2022-02-20T08:16:04.199Z"
   },
   {
    "duration": 5,
    "start_time": "2022-02-20T08:16:09.091Z"
   },
   {
    "duration": 134,
    "start_time": "2022-02-20T08:16:30.324Z"
   },
   {
    "duration": 12,
    "start_time": "2022-02-20T08:17:27.198Z"
   },
   {
    "duration": 3,
    "start_time": "2022-02-20T08:17:28.451Z"
   },
   {
    "duration": 6,
    "start_time": "2022-02-20T08:17:28.971Z"
   },
   {
    "duration": 137,
    "start_time": "2022-02-20T08:17:30.771Z"
   },
   {
    "duration": 1132,
    "start_time": "2022-02-20T08:17:41.755Z"
   },
   {
    "duration": 3,
    "start_time": "2022-02-20T08:17:42.889Z"
   },
   {
    "duration": 67,
    "start_time": "2022-02-20T08:17:42.894Z"
   },
   {
    "duration": 22,
    "start_time": "2022-02-20T08:17:42.963Z"
   },
   {
    "duration": 34,
    "start_time": "2022-02-20T08:17:42.986Z"
   },
   {
    "duration": 66,
    "start_time": "2022-02-20T08:17:43.021Z"
   },
   {
    "duration": 11,
    "start_time": "2022-02-20T08:17:43.088Z"
   },
   {
    "duration": 46,
    "start_time": "2022-02-20T08:17:43.119Z"
   },
   {
    "duration": 12,
    "start_time": "2022-02-20T08:17:43.168Z"
   },
   {
    "duration": 56,
    "start_time": "2022-02-20T08:17:43.182Z"
   },
   {
    "duration": 7,
    "start_time": "2022-02-20T08:17:43.240Z"
   },
   {
    "duration": 149,
    "start_time": "2022-02-20T08:17:43.248Z"
   },
   {
    "duration": 24,
    "start_time": "2022-02-20T08:17:43.399Z"
   },
   {
    "duration": 10,
    "start_time": "2022-02-20T08:17:43.424Z"
   },
   {
    "duration": 2,
    "start_time": "2022-02-20T08:17:43.436Z"
   },
   {
    "duration": 7,
    "start_time": "2022-02-20T08:17:43.439Z"
   },
   {
    "duration": 149,
    "start_time": "2022-02-20T08:17:43.447Z"
   },
   {
    "duration": 5,
    "start_time": "2022-02-20T08:17:43.598Z"
   },
   {
    "duration": 16,
    "start_time": "2022-02-20T08:17:43.604Z"
   },
   {
    "duration": 8,
    "start_time": "2022-02-20T08:17:43.622Z"
   },
   {
    "duration": 15,
    "start_time": "2022-02-20T08:17:43.631Z"
   },
   {
    "duration": 6,
    "start_time": "2022-02-20T08:17:43.648Z"
   },
   {
    "duration": 29,
    "start_time": "2022-02-20T08:17:43.658Z"
   },
   {
    "duration": 43,
    "start_time": "2022-02-20T08:17:43.690Z"
   },
   {
    "duration": 9,
    "start_time": "2022-02-20T08:17:43.735Z"
   },
   {
    "duration": 7,
    "start_time": "2022-02-20T08:17:43.746Z"
   },
   {
    "duration": 7,
    "start_time": "2022-02-20T08:17:43.755Z"
   },
   {
    "duration": 7,
    "start_time": "2022-02-20T08:17:43.764Z"
   },
   {
    "duration": 17,
    "start_time": "2022-02-20T08:17:43.773Z"
   },
   {
    "duration": 28,
    "start_time": "2022-02-20T08:17:43.791Z"
   },
   {
    "duration": 559,
    "start_time": "2022-02-20T08:17:43.821Z"
   },
   {
    "duration": 40,
    "start_time": "2022-02-20T08:17:44.382Z"
   },
   {
    "duration": 27,
    "start_time": "2022-02-20T08:17:44.424Z"
   },
   {
    "duration": 23,
    "start_time": "2022-02-20T08:17:44.453Z"
   },
   {
    "duration": 4,
    "start_time": "2022-02-20T08:17:44.477Z"
   },
   {
    "duration": 35,
    "start_time": "2022-02-20T08:17:44.482Z"
   },
   {
    "duration": 203,
    "start_time": "2022-02-20T08:17:44.519Z"
   },
   {
    "duration": 193,
    "start_time": "2022-02-20T08:17:44.723Z"
   },
   {
    "duration": 272,
    "start_time": "2022-02-20T08:17:44.919Z"
   },
   {
    "duration": 255,
    "start_time": "2022-02-20T08:17:45.194Z"
   },
   {
    "duration": 10,
    "start_time": "2022-02-20T08:17:45.451Z"
   },
   {
    "duration": 225,
    "start_time": "2022-02-20T08:17:45.463Z"
   },
   {
    "duration": 35,
    "start_time": "2022-02-20T08:17:45.690Z"
   },
   {
    "duration": 10,
    "start_time": "2022-02-20T08:17:45.727Z"
   },
   {
    "duration": 10,
    "start_time": "2022-02-20T08:17:45.739Z"
   },
   {
    "duration": 270,
    "start_time": "2022-02-20T08:17:45.751Z"
   },
   {
    "duration": 14,
    "start_time": "2022-02-20T08:17:46.023Z"
   },
   {
    "duration": 331,
    "start_time": "2022-02-20T08:17:46.039Z"
   },
   {
    "duration": 404,
    "start_time": "2022-02-20T08:17:46.372Z"
   },
   {
    "duration": 282,
    "start_time": "2022-02-20T08:17:46.778Z"
   },
   {
    "duration": 12,
    "start_time": "2022-02-20T08:17:47.062Z"
   },
   {
    "duration": 7,
    "start_time": "2022-02-20T08:17:47.076Z"
   },
   {
    "duration": 12,
    "start_time": "2022-02-20T08:17:47.085Z"
   },
   {
    "duration": 402,
    "start_time": "2022-02-20T08:17:47.118Z"
   },
   {
    "duration": 221,
    "start_time": "2022-02-20T08:17:47.522Z"
   },
   {
    "duration": 304,
    "start_time": "2022-02-20T08:17:47.745Z"
   },
   {
    "duration": 231,
    "start_time": "2022-02-20T08:17:48.051Z"
   },
   {
    "duration": 18,
    "start_time": "2022-02-20T08:17:48.284Z"
   },
   {
    "duration": 36,
    "start_time": "2022-02-20T08:17:48.305Z"
   },
   {
    "duration": 20,
    "start_time": "2022-02-20T08:17:48.343Z"
   },
   {
    "duration": 32,
    "start_time": "2022-02-20T08:17:48.365Z"
   },
   {
    "duration": 53,
    "start_time": "2022-02-20T08:17:48.419Z"
   },
   {
    "duration": 247,
    "start_time": "2022-02-20T08:17:48.474Z"
   },
   {
    "duration": 5,
    "start_time": "2022-02-20T08:21:13.614Z"
   },
   {
    "duration": 5,
    "start_time": "2022-02-20T08:25:24.435Z"
   },
   {
    "duration": 133,
    "start_time": "2022-02-20T08:25:29.706Z"
   },
   {
    "duration": 11,
    "start_time": "2022-02-20T08:38:41.446Z"
   },
   {
    "duration": 8,
    "start_time": "2022-02-20T08:42:29.135Z"
   },
   {
    "duration": 22,
    "start_time": "2022-02-20T08:44:04.838Z"
   },
   {
    "duration": 6910,
    "start_time": "2022-02-20T08:56:22.649Z"
   },
   {
    "duration": 6923,
    "start_time": "2022-02-20T08:57:05.274Z"
   },
   {
    "duration": 272,
    "start_time": "2022-02-20T08:58:46.692Z"
   },
   {
    "duration": 7,
    "start_time": "2022-02-20T09:04:19.592Z"
   },
   {
    "duration": 11,
    "start_time": "2022-02-20T09:04:25.090Z"
   },
   {
    "duration": 10,
    "start_time": "2022-02-20T09:04:32.497Z"
   },
   {
    "duration": 5,
    "start_time": "2022-02-20T09:04:40.671Z"
   },
   {
    "duration": 1182,
    "start_time": "2022-02-20T09:05:46.519Z"
   },
   {
    "duration": 2,
    "start_time": "2022-02-20T09:05:47.703Z"
   },
   {
    "duration": 77,
    "start_time": "2022-02-20T09:05:47.707Z"
   },
   {
    "duration": 22,
    "start_time": "2022-02-20T09:05:47.786Z"
   },
   {
    "duration": 25,
    "start_time": "2022-02-20T09:05:47.810Z"
   },
   {
    "duration": 75,
    "start_time": "2022-02-20T09:05:47.836Z"
   },
   {
    "duration": 10,
    "start_time": "2022-02-20T09:05:47.913Z"
   },
   {
    "duration": 48,
    "start_time": "2022-02-20T09:05:47.925Z"
   },
   {
    "duration": 11,
    "start_time": "2022-02-20T09:05:47.975Z"
   },
   {
    "duration": 53,
    "start_time": "2022-02-20T09:05:47.988Z"
   },
   {
    "duration": 5,
    "start_time": "2022-02-20T09:05:48.043Z"
   },
   {
    "duration": 141,
    "start_time": "2022-02-20T09:05:48.050Z"
   },
   {
    "duration": 11,
    "start_time": "2022-02-20T09:05:48.192Z"
   },
   {
    "duration": 18,
    "start_time": "2022-02-20T09:05:48.205Z"
   },
   {
    "duration": 146,
    "start_time": "2022-02-20T09:05:48.224Z"
   },
   {
    "duration": 12,
    "start_time": "2022-02-20T09:05:48.372Z"
   },
   {
    "duration": 21,
    "start_time": "2022-02-20T09:05:48.385Z"
   },
   {
    "duration": 35,
    "start_time": "2022-02-20T09:05:48.408Z"
   },
   {
    "duration": 18,
    "start_time": "2022-02-20T09:05:48.446Z"
   },
   {
    "duration": 25,
    "start_time": "2022-02-20T09:05:48.466Z"
   },
   {
    "duration": 10,
    "start_time": "2022-02-20T09:05:48.493Z"
   },
   {
    "duration": 97,
    "start_time": "2022-02-20T09:05:48.505Z"
   },
   {
    "duration": -1206,
    "start_time": "2022-02-20T09:05:49.811Z"
   },
   {
    "duration": -1213,
    "start_time": "2022-02-20T09:05:49.819Z"
   },
   {
    "duration": -1216,
    "start_time": "2022-02-20T09:05:49.823Z"
   },
   {
    "duration": -1217,
    "start_time": "2022-02-20T09:05:49.826Z"
   },
   {
    "duration": -1220,
    "start_time": "2022-02-20T09:05:49.830Z"
   },
   {
    "duration": -1222,
    "start_time": "2022-02-20T09:05:49.834Z"
   },
   {
    "duration": -1225,
    "start_time": "2022-02-20T09:05:49.838Z"
   },
   {
    "duration": -1226,
    "start_time": "2022-02-20T09:05:49.841Z"
   },
   {
    "duration": -1232,
    "start_time": "2022-02-20T09:05:49.848Z"
   },
   {
    "duration": -1234,
    "start_time": "2022-02-20T09:05:49.852Z"
   },
   {
    "duration": -1237,
    "start_time": "2022-02-20T09:05:49.856Z"
   },
   {
    "duration": -1239,
    "start_time": "2022-02-20T09:05:49.860Z"
   },
   {
    "duration": -1241,
    "start_time": "2022-02-20T09:05:49.863Z"
   },
   {
    "duration": -1249,
    "start_time": "2022-02-20T09:05:49.872Z"
   },
   {
    "duration": -1250,
    "start_time": "2022-02-20T09:05:49.875Z"
   },
   {
    "duration": -1252,
    "start_time": "2022-02-20T09:05:49.879Z"
   },
   {
    "duration": -1255,
    "start_time": "2022-02-20T09:05:49.883Z"
   },
   {
    "duration": -1258,
    "start_time": "2022-02-20T09:05:49.887Z"
   },
   {
    "duration": -1261,
    "start_time": "2022-02-20T09:05:49.891Z"
   },
   {
    "duration": -1263,
    "start_time": "2022-02-20T09:05:49.894Z"
   },
   {
    "duration": -1268,
    "start_time": "2022-02-20T09:05:49.900Z"
   },
   {
    "duration": -1270,
    "start_time": "2022-02-20T09:05:49.903Z"
   },
   {
    "duration": -1285,
    "start_time": "2022-02-20T09:05:49.919Z"
   },
   {
    "duration": -1288,
    "start_time": "2022-02-20T09:05:49.923Z"
   },
   {
    "duration": -1291,
    "start_time": "2022-02-20T09:05:49.927Z"
   },
   {
    "duration": -1294,
    "start_time": "2022-02-20T09:05:49.931Z"
   },
   {
    "duration": -1297,
    "start_time": "2022-02-20T09:05:49.935Z"
   },
   {
    "duration": -1302,
    "start_time": "2022-02-20T09:05:49.942Z"
   },
   {
    "duration": -1305,
    "start_time": "2022-02-20T09:05:49.946Z"
   },
   {
    "duration": -1309,
    "start_time": "2022-02-20T09:05:49.951Z"
   },
   {
    "duration": -1312,
    "start_time": "2022-02-20T09:05:49.955Z"
   },
   {
    "duration": -1315,
    "start_time": "2022-02-20T09:05:49.959Z"
   },
   {
    "duration": -1317,
    "start_time": "2022-02-20T09:05:49.962Z"
   },
   {
    "duration": -1321,
    "start_time": "2022-02-20T09:05:49.967Z"
   },
   {
    "duration": -1354,
    "start_time": "2022-02-20T09:05:50.001Z"
   },
   {
    "duration": -1359,
    "start_time": "2022-02-20T09:05:50.007Z"
   },
   {
    "duration": -1362,
    "start_time": "2022-02-20T09:05:50.011Z"
   },
   {
    "duration": -1366,
    "start_time": "2022-02-20T09:05:50.016Z"
   },
   {
    "duration": -1377,
    "start_time": "2022-02-20T09:05:50.028Z"
   },
   {
    "duration": -1383,
    "start_time": "2022-02-20T09:05:50.035Z"
   },
   {
    "duration": -1387,
    "start_time": "2022-02-20T09:05:50.040Z"
   },
   {
    "duration": -1390,
    "start_time": "2022-02-20T09:05:50.044Z"
   },
   {
    "duration": -1397,
    "start_time": "2022-02-20T09:05:50.051Z"
   },
   {
    "duration": 7,
    "start_time": "2022-02-20T09:06:06.635Z"
   },
   {
    "duration": 6,
    "start_time": "2022-02-20T09:06:07.746Z"
   },
   {
    "duration": 9,
    "start_time": "2022-02-20T09:06:43.371Z"
   },
   {
    "duration": 353,
    "start_time": "2022-02-20T09:12:18.835Z"
   },
   {
    "duration": 254,
    "start_time": "2022-02-20T09:12:25.297Z"
   },
   {
    "duration": 32,
    "start_time": "2022-02-20T09:12:31.425Z"
   },
   {
    "duration": 103,
    "start_time": "2022-02-20T09:18:13.993Z"
   },
   {
    "duration": 309,
    "start_time": "2022-02-20T09:21:17.990Z"
   },
   {
    "duration": 347,
    "start_time": "2022-02-20T09:30:06.428Z"
   },
   {
    "duration": 9,
    "start_time": "2022-02-20T12:33:14.949Z"
   },
   {
    "duration": 7,
    "start_time": "2022-02-20T12:40:08.426Z"
   },
   {
    "duration": 11,
    "start_time": "2022-02-20T12:44:15.847Z"
   },
   {
    "duration": 13,
    "start_time": "2022-02-20T12:44:29.340Z"
   },
   {
    "duration": -992,
    "start_time": "2022-02-20T12:47:53.524Z"
   },
   {
    "duration": 7418,
    "start_time": "2022-02-20T12:47:54.586Z"
   },
   {
    "duration": 6975,
    "start_time": "2022-02-20T12:48:11.171Z"
   },
   {
    "duration": 8,
    "start_time": "2022-02-20T12:48:27.494Z"
   },
   {
    "duration": 11,
    "start_time": "2022-02-20T12:48:38.267Z"
   },
   {
    "duration": 12,
    "start_time": "2022-02-20T12:49:14.563Z"
   },
   {
    "duration": 12,
    "start_time": "2022-02-20T12:49:15.604Z"
   },
   {
    "duration": 1214,
    "start_time": "2022-02-20T13:19:09.179Z"
   },
   {
    "duration": 3,
    "start_time": "2022-02-20T13:19:10.395Z"
   },
   {
    "duration": 77,
    "start_time": "2022-02-20T13:19:10.401Z"
   },
   {
    "duration": 37,
    "start_time": "2022-02-20T13:19:10.480Z"
   },
   {
    "duration": 22,
    "start_time": "2022-02-20T13:19:10.520Z"
   },
   {
    "duration": 95,
    "start_time": "2022-02-20T13:19:10.544Z"
   },
   {
    "duration": 13,
    "start_time": "2022-02-20T13:19:10.641Z"
   },
   {
    "duration": 73,
    "start_time": "2022-02-20T13:19:10.658Z"
   },
   {
    "duration": 14,
    "start_time": "2022-02-20T13:19:10.734Z"
   },
   {
    "duration": 28,
    "start_time": "2022-02-20T13:19:10.750Z"
   },
   {
    "duration": 6,
    "start_time": "2022-02-20T13:19:10.779Z"
   },
   {
    "duration": 173,
    "start_time": "2022-02-20T13:19:10.787Z"
   },
   {
    "duration": 12,
    "start_time": "2022-02-20T13:19:10.962Z"
   },
   {
    "duration": 16,
    "start_time": "2022-02-20T13:19:10.975Z"
   },
   {
    "duration": 158,
    "start_time": "2022-02-20T13:19:10.993Z"
   },
   {
    "duration": 10,
    "start_time": "2022-02-20T13:19:11.153Z"
   },
   {
    "duration": 27,
    "start_time": "2022-02-20T13:19:11.164Z"
   },
   {
    "duration": 25,
    "start_time": "2022-02-20T13:19:11.193Z"
   },
   {
    "duration": 13,
    "start_time": "2022-02-20T13:19:11.220Z"
   },
   {
    "duration": 37,
    "start_time": "2022-02-20T13:19:11.236Z"
   },
   {
    "duration": 10,
    "start_time": "2022-02-20T13:19:11.275Z"
   },
   {
    "duration": 8,
    "start_time": "2022-02-20T13:19:11.287Z"
   },
   {
    "duration": 33,
    "start_time": "2022-02-20T13:19:11.299Z"
   },
   {
    "duration": 19,
    "start_time": "2022-02-20T13:19:11.335Z"
   },
   {
    "duration": 23,
    "start_time": "2022-02-20T13:19:11.356Z"
   },
   {
    "duration": 16,
    "start_time": "2022-02-20T13:19:11.381Z"
   },
   {
    "duration": 24,
    "start_time": "2022-02-20T13:19:11.399Z"
   },
   {
    "duration": 11,
    "start_time": "2022-02-20T13:19:11.425Z"
   },
   {
    "duration": 8,
    "start_time": "2022-02-20T13:19:11.437Z"
   },
   {
    "duration": 13,
    "start_time": "2022-02-20T13:19:11.447Z"
   },
   {
    "duration": 61,
    "start_time": "2022-02-20T13:19:11.462Z"
   },
   {
    "duration": 11,
    "start_time": "2022-02-20T13:19:11.525Z"
   },
   {
    "duration": 923,
    "start_time": "2022-02-20T13:19:11.538Z"
   },
   {
    "duration": 17,
    "start_time": "2022-02-20T13:19:12.464Z"
   },
   {
    "duration": 225,
    "start_time": "2022-02-20T13:19:12.484Z"
   },
   {
    "duration": 108,
    "start_time": "2022-02-20T13:19:12.712Z"
   },
   {
    "duration": 180,
    "start_time": "2022-02-20T13:19:12.822Z"
   },
   {
    "duration": 24,
    "start_time": "2022-02-20T13:19:13.005Z"
   },
   {
    "duration": 387,
    "start_time": "2022-02-20T13:19:13.032Z"
   },
   {
    "duration": 215,
    "start_time": "2022-02-20T13:19:13.421Z"
   },
   {
    "duration": 277,
    "start_time": "2022-02-20T13:19:13.638Z"
   },
   {
    "duration": 203,
    "start_time": "2022-02-20T13:19:13.918Z"
   },
   {
    "duration": 9,
    "start_time": "2022-02-20T13:19:14.123Z"
   },
   {
    "duration": 325,
    "start_time": "2022-02-20T13:19:14.135Z"
   },
   {
    "duration": 29,
    "start_time": "2022-02-20T13:19:14.462Z"
   },
   {
    "duration": 25,
    "start_time": "2022-02-20T13:19:14.493Z"
   },
   {
    "duration": 10,
    "start_time": "2022-02-20T13:19:14.520Z"
   },
   {
    "duration": 258,
    "start_time": "2022-02-20T13:19:14.532Z"
   },
   {
    "duration": 29,
    "start_time": "2022-02-20T13:19:14.792Z"
   },
   {
    "duration": 330,
    "start_time": "2022-02-20T13:19:14.823Z"
   },
   {
    "duration": 416,
    "start_time": "2022-02-20T13:19:15.156Z"
   },
   {
    "duration": 291,
    "start_time": "2022-02-20T13:19:15.575Z"
   },
   {
    "duration": 13,
    "start_time": "2022-02-20T13:19:15.868Z"
   },
   {
    "duration": 8,
    "start_time": "2022-02-20T13:19:15.883Z"
   },
   {
    "duration": 32,
    "start_time": "2022-02-20T13:19:15.893Z"
   },
   {
    "duration": 428,
    "start_time": "2022-02-20T13:19:15.927Z"
   },
   {
    "duration": 347,
    "start_time": "2022-02-20T13:19:16.358Z"
   },
   {
    "duration": 492,
    "start_time": "2022-02-20T13:19:16.707Z"
   },
   {
    "duration": 357,
    "start_time": "2022-02-20T13:19:17.201Z"
   },
   {
    "duration": 20,
    "start_time": "2022-02-20T13:19:17.561Z"
   },
   {
    "duration": 36,
    "start_time": "2022-02-20T13:19:17.583Z"
   },
   {
    "duration": 20,
    "start_time": "2022-02-20T13:19:17.621Z"
   },
   {
    "duration": 24,
    "start_time": "2022-02-20T13:19:17.643Z"
   },
   {
    "duration": 68,
    "start_time": "2022-02-20T13:19:17.669Z"
   },
   {
    "duration": 229,
    "start_time": "2022-02-20T13:19:17.739Z"
   },
   {
    "duration": 1729,
    "start_time": "2022-02-20T13:20:39.424Z"
   },
   {
    "duration": 4,
    "start_time": "2022-02-20T13:20:41.156Z"
   },
   {
    "duration": 112,
    "start_time": "2022-02-20T13:20:41.163Z"
   },
   {
    "duration": 42,
    "start_time": "2022-02-20T13:20:41.278Z"
   },
   {
    "duration": 29,
    "start_time": "2022-02-20T13:20:41.322Z"
   },
   {
    "duration": 120,
    "start_time": "2022-02-20T13:20:41.354Z"
   },
   {
    "duration": 16,
    "start_time": "2022-02-20T13:20:41.477Z"
   },
   {
    "duration": 72,
    "start_time": "2022-02-20T13:20:41.497Z"
   },
   {
    "duration": 20,
    "start_time": "2022-02-20T13:20:41.572Z"
   },
   {
    "duration": 59,
    "start_time": "2022-02-20T13:20:41.593Z"
   },
   {
    "duration": 7,
    "start_time": "2022-02-20T13:20:41.654Z"
   },
   {
    "duration": 175,
    "start_time": "2022-02-20T13:20:41.663Z"
   },
   {
    "duration": 13,
    "start_time": "2022-02-20T13:20:41.840Z"
   },
   {
    "duration": 6,
    "start_time": "2022-02-20T13:20:41.855Z"
   },
   {
    "duration": 188,
    "start_time": "2022-02-20T13:20:41.863Z"
   },
   {
    "duration": 11,
    "start_time": "2022-02-20T13:20:42.053Z"
   },
   {
    "duration": 10,
    "start_time": "2022-02-20T13:20:42.066Z"
   },
   {
    "duration": 47,
    "start_time": "2022-02-20T13:20:42.078Z"
   },
   {
    "duration": 10,
    "start_time": "2022-02-20T13:20:42.127Z"
   },
   {
    "duration": 25,
    "start_time": "2022-02-20T13:20:42.139Z"
   },
   {
    "duration": 11,
    "start_time": "2022-02-20T13:20:42.167Z"
   },
   {
    "duration": 38,
    "start_time": "2022-02-20T13:20:42.180Z"
   },
   {
    "duration": 11,
    "start_time": "2022-02-20T13:20:42.224Z"
   },
   {
    "duration": 13,
    "start_time": "2022-02-20T13:20:42.239Z"
   },
   {
    "duration": 23,
    "start_time": "2022-02-20T13:20:42.254Z"
   },
   {
    "duration": 12,
    "start_time": "2022-02-20T13:20:42.319Z"
   },
   {
    "duration": 14,
    "start_time": "2022-02-20T13:20:42.334Z"
   },
   {
    "duration": 12,
    "start_time": "2022-02-20T13:20:42.350Z"
   },
   {
    "duration": 11,
    "start_time": "2022-02-20T13:20:42.364Z"
   },
   {
    "duration": 42,
    "start_time": "2022-02-20T13:20:42.378Z"
   },
   {
    "duration": 25,
    "start_time": "2022-02-20T13:20:42.423Z"
   },
   {
    "duration": 5,
    "start_time": "2022-02-20T13:20:42.451Z"
   },
   {
    "duration": 499,
    "start_time": "2022-02-20T13:20:42.458Z"
   },
   {
    "duration": 7,
    "start_time": "2022-02-20T13:20:42.960Z"
   },
   {
    "duration": 27,
    "start_time": "2022-02-20T13:20:42.969Z"
   },
   {
    "duration": 40,
    "start_time": "2022-02-20T13:20:42.998Z"
   },
   {
    "duration": 4,
    "start_time": "2022-02-20T13:20:43.040Z"
   },
   {
    "duration": 9,
    "start_time": "2022-02-20T13:20:43.046Z"
   },
   {
    "duration": 234,
    "start_time": "2022-02-20T13:20:43.057Z"
   },
   {
    "duration": 570,
    "start_time": "2022-02-20T13:20:43.293Z"
   },
   {
    "duration": 475,
    "start_time": "2022-02-20T13:20:43.865Z"
   },
   {
    "duration": 326,
    "start_time": "2022-02-20T13:20:44.342Z"
   },
   {
    "duration": 12,
    "start_time": "2022-02-20T13:20:44.671Z"
   },
   {
    "duration": 436,
    "start_time": "2022-02-20T13:20:44.686Z"
   },
   {
    "duration": 36,
    "start_time": "2022-02-20T13:20:45.124Z"
   },
   {
    "duration": 14,
    "start_time": "2022-02-20T13:20:45.162Z"
   },
   {
    "duration": 43,
    "start_time": "2022-02-20T13:20:45.179Z"
   },
   {
    "duration": 384,
    "start_time": "2022-02-20T13:20:45.225Z"
   },
   {
    "duration": 23,
    "start_time": "2022-02-20T13:20:45.619Z"
   },
   {
    "duration": 501,
    "start_time": "2022-02-20T13:20:45.644Z"
   },
   {
    "duration": 590,
    "start_time": "2022-02-20T13:20:46.148Z"
   },
   {
    "duration": 405,
    "start_time": "2022-02-20T13:20:46.740Z"
   },
   {
    "duration": 16,
    "start_time": "2022-02-20T13:20:47.150Z"
   },
   {
    "duration": 16,
    "start_time": "2022-02-20T13:20:47.168Z"
   },
   {
    "duration": 56,
    "start_time": "2022-02-20T13:20:47.187Z"
   },
   {
    "duration": 700,
    "start_time": "2022-02-20T13:20:47.246Z"
   },
   {
    "duration": 355,
    "start_time": "2022-02-20T13:20:47.948Z"
   },
   {
    "duration": 438,
    "start_time": "2022-02-20T13:20:48.306Z"
   },
   {
    "duration": 279,
    "start_time": "2022-02-20T13:20:48.747Z"
   },
   {
    "duration": 31,
    "start_time": "2022-02-20T13:20:49.028Z"
   },
   {
    "duration": 31,
    "start_time": "2022-02-20T13:20:49.062Z"
   },
   {
    "duration": 53,
    "start_time": "2022-02-20T13:20:49.096Z"
   },
   {
    "duration": 51,
    "start_time": "2022-02-20T13:20:49.151Z"
   },
   {
    "duration": 58,
    "start_time": "2022-02-20T13:20:49.205Z"
   },
   {
    "duration": 377,
    "start_time": "2022-02-20T13:20:49.266Z"
   },
   {
    "duration": 1312,
    "start_time": "2022-02-20T13:21:33.116Z"
   },
   {
    "duration": 2,
    "start_time": "2022-02-20T13:21:34.431Z"
   },
   {
    "duration": 79,
    "start_time": "2022-02-20T13:21:34.436Z"
   },
   {
    "duration": 24,
    "start_time": "2022-02-20T13:21:34.517Z"
   },
   {
    "duration": 22,
    "start_time": "2022-02-20T13:21:34.543Z"
   },
   {
    "duration": 94,
    "start_time": "2022-02-20T13:21:34.567Z"
   },
   {
    "duration": 13,
    "start_time": "2022-02-20T13:21:34.664Z"
   },
   {
    "duration": 72,
    "start_time": "2022-02-20T13:21:34.680Z"
   },
   {
    "duration": 17,
    "start_time": "2022-02-20T13:21:34.754Z"
   },
   {
    "duration": 50,
    "start_time": "2022-02-20T13:21:34.773Z"
   },
   {
    "duration": 6,
    "start_time": "2022-02-20T13:21:34.825Z"
   },
   {
    "duration": 154,
    "start_time": "2022-02-20T13:21:34.833Z"
   },
   {
    "duration": 12,
    "start_time": "2022-02-20T13:21:34.989Z"
   },
   {
    "duration": 26,
    "start_time": "2022-02-20T13:21:35.003Z"
   },
   {
    "duration": 7,
    "start_time": "2022-02-20T13:21:35.031Z"
   },
   {
    "duration": 18,
    "start_time": "2022-02-20T13:21:35.040Z"
   },
   {
    "duration": 209,
    "start_time": "2022-02-20T13:21:35.060Z"
   },
   {
    "duration": 11,
    "start_time": "2022-02-20T13:21:35.272Z"
   },
   {
    "duration": 13,
    "start_time": "2022-02-20T13:21:35.285Z"
   },
   {
    "duration": 36,
    "start_time": "2022-02-20T13:21:35.301Z"
   },
   {
    "duration": 14,
    "start_time": "2022-02-20T13:21:35.339Z"
   },
   {
    "duration": 23,
    "start_time": "2022-02-20T13:21:35.355Z"
   },
   {
    "duration": 14,
    "start_time": "2022-02-20T13:21:35.383Z"
   },
   {
    "duration": 10,
    "start_time": "2022-02-20T13:21:35.421Z"
   },
   {
    "duration": 10,
    "start_time": "2022-02-20T13:21:35.434Z"
   },
   {
    "duration": 11,
    "start_time": "2022-02-20T13:21:35.446Z"
   },
   {
    "duration": 26,
    "start_time": "2022-02-20T13:21:35.459Z"
   },
   {
    "duration": 50,
    "start_time": "2022-02-20T13:21:35.487Z"
   },
   {
    "duration": 13,
    "start_time": "2022-02-20T13:21:35.539Z"
   },
   {
    "duration": 22,
    "start_time": "2022-02-20T13:21:35.554Z"
   },
   {
    "duration": 7,
    "start_time": "2022-02-20T13:21:35.578Z"
   },
   {
    "duration": 9,
    "start_time": "2022-02-20T13:21:35.587Z"
   },
   {
    "duration": 35,
    "start_time": "2022-02-20T13:21:35.597Z"
   },
   {
    "duration": 15,
    "start_time": "2022-02-20T13:21:35.634Z"
   },
   {
    "duration": 369,
    "start_time": "2022-02-20T13:21:35.650Z"
   },
   {
    "duration": 7,
    "start_time": "2022-02-20T13:21:36.020Z"
   },
   {
    "duration": 36,
    "start_time": "2022-02-20T13:21:36.029Z"
   },
   {
    "duration": 24,
    "start_time": "2022-02-20T13:21:36.068Z"
   },
   {
    "duration": 4,
    "start_time": "2022-02-20T13:21:36.095Z"
   },
   {
    "duration": 21,
    "start_time": "2022-02-20T13:21:36.100Z"
   },
   {
    "duration": 215,
    "start_time": "2022-02-20T13:21:36.123Z"
   },
   {
    "duration": 213,
    "start_time": "2022-02-20T13:21:36.341Z"
   },
   {
    "duration": 290,
    "start_time": "2022-02-20T13:21:36.556Z"
   },
   {
    "duration": 320,
    "start_time": "2022-02-20T13:21:36.848Z"
   },
   {
    "duration": 12,
    "start_time": "2022-02-20T13:21:37.171Z"
   },
   {
    "duration": 336,
    "start_time": "2022-02-20T13:21:37.185Z"
   },
   {
    "duration": 29,
    "start_time": "2022-02-20T13:21:37.523Z"
   },
   {
    "duration": 13,
    "start_time": "2022-02-20T13:21:37.555Z"
   },
   {
    "duration": 24,
    "start_time": "2022-02-20T13:21:37.571Z"
   },
   {
    "duration": 367,
    "start_time": "2022-02-20T13:21:37.598Z"
   },
   {
    "duration": 23,
    "start_time": "2022-02-20T13:21:37.967Z"
   },
   {
    "duration": 340,
    "start_time": "2022-02-20T13:21:37.992Z"
   },
   {
    "duration": 408,
    "start_time": "2022-02-20T13:21:38.334Z"
   },
   {
    "duration": 294,
    "start_time": "2022-02-20T13:21:38.744Z"
   },
   {
    "duration": 13,
    "start_time": "2022-02-20T13:21:39.040Z"
   },
   {
    "duration": 9,
    "start_time": "2022-02-20T13:21:39.055Z"
   },
   {
    "duration": 16,
    "start_time": "2022-02-20T13:21:39.066Z"
   },
   {
    "duration": 454,
    "start_time": "2022-02-20T13:21:39.083Z"
   },
   {
    "duration": 239,
    "start_time": "2022-02-20T13:21:39.540Z"
   },
   {
    "duration": 355,
    "start_time": "2022-02-20T13:21:39.780Z"
   },
   {
    "duration": 268,
    "start_time": "2022-02-20T13:21:40.137Z"
   },
   {
    "duration": 28,
    "start_time": "2022-02-20T13:21:40.407Z"
   },
   {
    "duration": 19,
    "start_time": "2022-02-20T13:21:40.438Z"
   },
   {
    "duration": 22,
    "start_time": "2022-02-20T13:21:40.458Z"
   },
   {
    "duration": 55,
    "start_time": "2022-02-20T13:21:40.482Z"
   },
   {
    "duration": 63,
    "start_time": "2022-02-20T13:21:40.539Z"
   },
   {
    "duration": 264,
    "start_time": "2022-02-20T13:21:40.619Z"
   },
   {
    "duration": 3,
    "start_time": "2022-02-20T13:26:39.936Z"
   },
   {
    "duration": 11,
    "start_time": "2022-02-20T13:26:41.767Z"
   },
   {
    "duration": 1625,
    "start_time": "2022-02-20T13:27:37.193Z"
   },
   {
    "duration": 7,
    "start_time": "2022-02-20T13:27:38.822Z"
   },
   {
    "duration": 124,
    "start_time": "2022-02-20T13:27:38.832Z"
   },
   {
    "duration": 31,
    "start_time": "2022-02-20T13:27:38.959Z"
   },
   {
    "duration": 36,
    "start_time": "2022-02-20T13:27:38.993Z"
   },
   {
    "duration": 88,
    "start_time": "2022-02-20T13:27:39.031Z"
   },
   {
    "duration": 13,
    "start_time": "2022-02-20T13:27:39.122Z"
   },
   {
    "duration": 53,
    "start_time": "2022-02-20T13:27:39.137Z"
   },
   {
    "duration": 18,
    "start_time": "2022-02-20T13:27:39.218Z"
   },
   {
    "duration": 35,
    "start_time": "2022-02-20T13:27:39.238Z"
   },
   {
    "duration": 6,
    "start_time": "2022-02-20T13:27:39.275Z"
   },
   {
    "duration": 179,
    "start_time": "2022-02-20T13:27:39.283Z"
   },
   {
    "duration": 13,
    "start_time": "2022-02-20T13:27:39.464Z"
   },
   {
    "duration": 11,
    "start_time": "2022-02-20T13:27:39.479Z"
   },
   {
    "duration": 3,
    "start_time": "2022-02-20T13:27:39.493Z"
   },
   {
    "duration": 7,
    "start_time": "2022-02-20T13:27:39.519Z"
   },
   {
    "duration": 16,
    "start_time": "2022-02-20T13:27:39.528Z"
   },
   {
    "duration": 173,
    "start_time": "2022-02-20T13:27:39.546Z"
   },
   {
    "duration": 9,
    "start_time": "2022-02-20T13:27:39.721Z"
   },
   {
    "duration": 9,
    "start_time": "2022-02-20T13:27:39.733Z"
   },
   {
    "duration": 15,
    "start_time": "2022-02-20T13:27:39.744Z"
   },
   {
    "duration": 10,
    "start_time": "2022-02-20T13:27:39.761Z"
   },
   {
    "duration": 64,
    "start_time": "2022-02-20T13:27:39.774Z"
   },
   {
    "duration": 11,
    "start_time": "2022-02-20T13:27:39.841Z"
   },
   {
    "duration": 7,
    "start_time": "2022-02-20T13:27:39.855Z"
   },
   {
    "duration": 10,
    "start_time": "2022-02-20T13:27:39.864Z"
   },
   {
    "duration": 39,
    "start_time": "2022-02-20T13:27:39.879Z"
   },
   {
    "duration": 22,
    "start_time": "2022-02-20T13:27:39.921Z"
   },
   {
    "duration": 12,
    "start_time": "2022-02-20T13:27:39.945Z"
   },
   {
    "duration": 18,
    "start_time": "2022-02-20T13:27:39.960Z"
   },
   {
    "duration": 54,
    "start_time": "2022-02-20T13:27:39.980Z"
   },
   {
    "duration": 12,
    "start_time": "2022-02-20T13:27:40.037Z"
   },
   {
    "duration": 25,
    "start_time": "2022-02-20T13:27:40.052Z"
   },
   {
    "duration": 38,
    "start_time": "2022-02-20T13:27:40.080Z"
   },
   {
    "duration": 5,
    "start_time": "2022-02-20T13:27:40.123Z"
   },
   {
    "duration": 794,
    "start_time": "2022-02-20T13:27:40.130Z"
   },
   {
    "duration": 7,
    "start_time": "2022-02-20T13:27:40.927Z"
   },
   {
    "duration": 47,
    "start_time": "2022-02-20T13:27:40.936Z"
   },
   {
    "duration": 41,
    "start_time": "2022-02-20T13:27:40.986Z"
   },
   {
    "duration": 5,
    "start_time": "2022-02-20T13:27:41.029Z"
   },
   {
    "duration": 13,
    "start_time": "2022-02-20T13:27:41.036Z"
   },
   {
    "duration": 322,
    "start_time": "2022-02-20T13:27:41.052Z"
   },
   {
    "duration": 367,
    "start_time": "2022-02-20T13:27:41.376Z"
   },
   {
    "duration": 786,
    "start_time": "2022-02-20T13:27:41.746Z"
   },
   {
    "duration": 204,
    "start_time": "2022-02-20T13:27:42.535Z"
   },
   {
    "duration": 10,
    "start_time": "2022-02-20T13:27:42.742Z"
   },
   {
    "duration": 235,
    "start_time": "2022-02-20T13:27:42.753Z"
   },
   {
    "duration": 39,
    "start_time": "2022-02-20T13:27:42.991Z"
   },
   {
    "duration": 8,
    "start_time": "2022-02-20T13:27:43.032Z"
   },
   {
    "duration": 29,
    "start_time": "2022-02-20T13:27:43.042Z"
   },
   {
    "duration": 258,
    "start_time": "2022-02-20T13:27:43.073Z"
   },
   {
    "duration": 22,
    "start_time": "2022-02-20T13:27:43.334Z"
   },
   {
    "duration": 501,
    "start_time": "2022-02-20T13:27:43.358Z"
   },
   {
    "duration": 440,
    "start_time": "2022-02-20T13:27:43.862Z"
   },
   {
    "duration": 461,
    "start_time": "2022-02-20T13:27:44.304Z"
   },
   {
    "duration": 16,
    "start_time": "2022-02-20T13:27:44.767Z"
   },
   {
    "duration": 10,
    "start_time": "2022-02-20T13:27:44.785Z"
   },
   {
    "duration": 11,
    "start_time": "2022-02-20T13:27:44.820Z"
   },
   {
    "duration": 492,
    "start_time": "2022-02-20T13:27:44.834Z"
   },
   {
    "duration": 370,
    "start_time": "2022-02-20T13:27:45.329Z"
   },
   {
    "duration": 506,
    "start_time": "2022-02-20T13:27:45.701Z"
   },
   {
    "duration": 355,
    "start_time": "2022-02-20T13:27:46.210Z"
   },
   {
    "duration": 26,
    "start_time": "2022-02-20T13:27:46.568Z"
   },
   {
    "duration": 37,
    "start_time": "2022-02-20T13:27:46.596Z"
   },
   {
    "duration": 26,
    "start_time": "2022-02-20T13:27:46.635Z"
   },
   {
    "duration": 26,
    "start_time": "2022-02-20T13:27:46.663Z"
   },
   {
    "duration": 40,
    "start_time": "2022-02-20T13:27:46.719Z"
   },
   {
    "duration": 261,
    "start_time": "2022-02-20T13:27:46.761Z"
   },
   {
    "duration": 72,
    "start_time": "2022-02-20T13:38:09.517Z"
   },
   {
    "duration": 84,
    "start_time": "2022-02-20T13:47:39.330Z"
   },
   {
    "duration": 4,
    "start_time": "2022-02-20T13:52:50.237Z"
   },
   {
    "duration": 828,
    "start_time": "2022-02-20T13:52:50.827Z"
   },
   {
    "duration": 4,
    "start_time": "2022-02-20T13:53:35.683Z"
   },
   {
    "duration": 228,
    "start_time": "2022-02-20T13:53:36.275Z"
   },
   {
    "duration": 4,
    "start_time": "2022-02-20T13:53:47.970Z"
   },
   {
    "duration": 277,
    "start_time": "2022-02-20T13:53:48.523Z"
   },
   {
    "duration": 4,
    "start_time": "2022-02-20T13:54:04.579Z"
   },
   {
    "duration": 236,
    "start_time": "2022-02-20T13:54:05.075Z"
   },
   {
    "duration": 233,
    "start_time": "2022-02-20T13:54:42.811Z"
   },
   {
    "duration": 121,
    "start_time": "2022-02-20T13:57:44.860Z"
   },
   {
    "duration": 83,
    "start_time": "2022-02-20T14:03:37.777Z"
   },
   {
    "duration": 135,
    "start_time": "2022-02-20T14:21:29.241Z"
   },
   {
    "duration": 112,
    "start_time": "2022-02-20T14:22:30.720Z"
   },
   {
    "duration": 3,
    "start_time": "2022-02-20T14:22:36.560Z"
   },
   {
    "duration": 497,
    "start_time": "2022-02-20T14:23:37.338Z"
   },
   {
    "duration": 86,
    "start_time": "2022-02-20T14:23:50.575Z"
   },
   {
    "duration": 247,
    "start_time": "2022-02-20T14:23:52.512Z"
   },
   {
    "duration": 233,
    "start_time": "2022-02-20T14:28:02.889Z"
   },
   {
    "duration": 1712,
    "start_time": "2022-02-20T14:28:17.515Z"
   },
   {
    "duration": 3,
    "start_time": "2022-02-20T14:28:19.230Z"
   },
   {
    "duration": 71,
    "start_time": "2022-02-20T14:28:19.235Z"
   },
   {
    "duration": 33,
    "start_time": "2022-02-20T14:28:19.308Z"
   },
   {
    "duration": 19,
    "start_time": "2022-02-20T14:28:19.343Z"
   },
   {
    "duration": 91,
    "start_time": "2022-02-20T14:28:19.364Z"
   },
   {
    "duration": 12,
    "start_time": "2022-02-20T14:28:19.457Z"
   },
   {
    "duration": 64,
    "start_time": "2022-02-20T14:28:19.471Z"
   },
   {
    "duration": 17,
    "start_time": "2022-02-20T14:28:19.538Z"
   },
   {
    "duration": 59,
    "start_time": "2022-02-20T14:28:19.558Z"
   },
   {
    "duration": 8,
    "start_time": "2022-02-20T14:28:19.620Z"
   },
   {
    "duration": 222,
    "start_time": "2022-02-20T14:28:19.630Z"
   },
   {
    "duration": 12,
    "start_time": "2022-02-20T14:28:19.854Z"
   },
   {
    "duration": 91,
    "start_time": "2022-02-20T14:28:19.867Z"
   },
   {
    "duration": 236,
    "start_time": "2022-02-20T14:28:19.960Z"
   },
   {
    "duration": 2,
    "start_time": "2022-02-20T14:28:20.198Z"
   },
   {
    "duration": 89,
    "start_time": "2022-02-20T14:28:20.202Z"
   },
   {
    "duration": -1037,
    "start_time": "2022-02-20T14:28:21.333Z"
   },
   {
    "duration": -1041,
    "start_time": "2022-02-20T14:28:21.338Z"
   },
   {
    "duration": -1043,
    "start_time": "2022-02-20T14:28:21.342Z"
   },
   {
    "duration": -1046,
    "start_time": "2022-02-20T14:28:21.346Z"
   },
   {
    "duration": -1050,
    "start_time": "2022-02-20T14:28:21.351Z"
   },
   {
    "duration": -1053,
    "start_time": "2022-02-20T14:28:21.356Z"
   },
   {
    "duration": -1055,
    "start_time": "2022-02-20T14:28:21.359Z"
   },
   {
    "duration": -1059,
    "start_time": "2022-02-20T14:28:21.364Z"
   },
   {
    "duration": -1062,
    "start_time": "2022-02-20T14:28:21.369Z"
   },
   {
    "duration": -1066,
    "start_time": "2022-02-20T14:28:21.374Z"
   },
   {
    "duration": -1070,
    "start_time": "2022-02-20T14:28:21.379Z"
   },
   {
    "duration": -1075,
    "start_time": "2022-02-20T14:28:21.385Z"
   },
   {
    "duration": -1078,
    "start_time": "2022-02-20T14:28:21.389Z"
   },
   {
    "duration": -1082,
    "start_time": "2022-02-20T14:28:21.394Z"
   },
   {
    "duration": -1085,
    "start_time": "2022-02-20T14:28:21.398Z"
   },
   {
    "duration": -1089,
    "start_time": "2022-02-20T14:28:21.403Z"
   },
   {
    "duration": -1092,
    "start_time": "2022-02-20T14:28:21.407Z"
   },
   {
    "duration": -1095,
    "start_time": "2022-02-20T14:28:21.411Z"
   },
   {
    "duration": -1097,
    "start_time": "2022-02-20T14:28:21.414Z"
   },
   {
    "duration": -1102,
    "start_time": "2022-02-20T14:28:21.420Z"
   },
   {
    "duration": -1154,
    "start_time": "2022-02-20T14:28:21.472Z"
   },
   {
    "duration": -1160,
    "start_time": "2022-02-20T14:28:21.479Z"
   },
   {
    "duration": -1165,
    "start_time": "2022-02-20T14:28:21.485Z"
   },
   {
    "duration": -1171,
    "start_time": "2022-02-20T14:28:21.492Z"
   },
   {
    "duration": -1174,
    "start_time": "2022-02-20T14:28:21.496Z"
   },
   {
    "duration": -1179,
    "start_time": "2022-02-20T14:28:21.502Z"
   },
   {
    "duration": -1184,
    "start_time": "2022-02-20T14:28:21.508Z"
   },
   {
    "duration": -1189,
    "start_time": "2022-02-20T14:28:21.514Z"
   },
   {
    "duration": -1193,
    "start_time": "2022-02-20T14:28:21.519Z"
   },
   {
    "duration": -1196,
    "start_time": "2022-02-20T14:28:21.523Z"
   },
   {
    "duration": -1200,
    "start_time": "2022-02-20T14:28:21.527Z"
   },
   {
    "duration": -1204,
    "start_time": "2022-02-20T14:28:21.532Z"
   },
   {
    "duration": -1207,
    "start_time": "2022-02-20T14:28:21.537Z"
   },
   {
    "duration": -1211,
    "start_time": "2022-02-20T14:28:21.541Z"
   },
   {
    "duration": -1213,
    "start_time": "2022-02-20T14:28:21.544Z"
   },
   {
    "duration": -1217,
    "start_time": "2022-02-20T14:28:21.549Z"
   },
   {
    "duration": -1220,
    "start_time": "2022-02-20T14:28:21.553Z"
   },
   {
    "duration": -1222,
    "start_time": "2022-02-20T14:28:21.557Z"
   },
   {
    "duration": -1225,
    "start_time": "2022-02-20T14:28:21.561Z"
   },
   {
    "duration": -1228,
    "start_time": "2022-02-20T14:28:21.566Z"
   },
   {
    "duration": -1242,
    "start_time": "2022-02-20T14:28:21.581Z"
   },
   {
    "duration": -1247,
    "start_time": "2022-02-20T14:28:21.587Z"
   },
   {
    "duration": -1250,
    "start_time": "2022-02-20T14:28:21.591Z"
   },
   {
    "duration": -1253,
    "start_time": "2022-02-20T14:28:21.595Z"
   },
   {
    "duration": -1257,
    "start_time": "2022-02-20T14:28:21.600Z"
   },
   {
    "duration": -1263,
    "start_time": "2022-02-20T14:28:21.607Z"
   },
   {
    "duration": -1265,
    "start_time": "2022-02-20T14:28:21.610Z"
   },
   {
    "duration": -1269,
    "start_time": "2022-02-20T14:28:21.615Z"
   },
   {
    "duration": -1272,
    "start_time": "2022-02-20T14:28:21.619Z"
   },
   {
    "duration": -1275,
    "start_time": "2022-02-20T14:28:21.623Z"
   },
   {
    "duration": -1278,
    "start_time": "2022-02-20T14:28:21.627Z"
   },
   {
    "duration": -1282,
    "start_time": "2022-02-20T14:28:21.632Z"
   },
   {
    "duration": -1285,
    "start_time": "2022-02-20T14:28:21.636Z"
   },
   {
    "duration": -1288,
    "start_time": "2022-02-20T14:28:21.640Z"
   },
   {
    "duration": -1290,
    "start_time": "2022-02-20T14:28:21.644Z"
   },
   {
    "duration": 711,
    "start_time": "2022-02-20T14:28:32.979Z"
   },
   {
    "duration": 281,
    "start_time": "2022-02-20T14:28:37.371Z"
   },
   {
    "duration": 194,
    "start_time": "2022-02-20T14:29:06.075Z"
   },
   {
    "duration": 17,
    "start_time": "2022-02-20T14:29:57.771Z"
   },
   {
    "duration": 17,
    "start_time": "2022-02-20T14:30:15.898Z"
   },
   {
    "duration": 22,
    "start_time": "2022-02-20T14:31:02.904Z"
   },
   {
    "duration": 17,
    "start_time": "2022-02-20T14:31:24.014Z"
   },
   {
    "duration": 80,
    "start_time": "2022-02-20T14:32:41.977Z"
   },
   {
    "duration": 85,
    "start_time": "2022-02-20T14:34:42.866Z"
   },
   {
    "duration": 8,
    "start_time": "2022-02-20T14:34:49.841Z"
   },
   {
    "duration": 1239,
    "start_time": "2022-02-20T14:35:07.793Z"
   },
   {
    "duration": 4,
    "start_time": "2022-02-20T14:35:09.034Z"
   },
   {
    "duration": 78,
    "start_time": "2022-02-20T14:35:09.043Z"
   },
   {
    "duration": 23,
    "start_time": "2022-02-20T14:35:09.123Z"
   },
   {
    "duration": 19,
    "start_time": "2022-02-20T14:35:09.148Z"
   },
   {
    "duration": 95,
    "start_time": "2022-02-20T14:35:09.169Z"
   },
   {
    "duration": 11,
    "start_time": "2022-02-20T14:35:09.267Z"
   },
   {
    "duration": 81,
    "start_time": "2022-02-20T14:35:09.280Z"
   },
   {
    "duration": 15,
    "start_time": "2022-02-20T14:35:09.363Z"
   },
   {
    "duration": 54,
    "start_time": "2022-02-20T14:35:09.381Z"
   },
   {
    "duration": 8,
    "start_time": "2022-02-20T14:35:09.437Z"
   },
   {
    "duration": 159,
    "start_time": "2022-02-20T14:35:09.448Z"
   },
   {
    "duration": 16,
    "start_time": "2022-02-20T14:35:09.608Z"
   },
   {
    "duration": 70,
    "start_time": "2022-02-20T14:35:09.626Z"
   },
   {
    "duration": 36,
    "start_time": "2022-02-20T14:35:09.698Z"
   },
   {
    "duration": 6,
    "start_time": "2022-02-20T14:35:09.736Z"
   },
   {
    "duration": 8,
    "start_time": "2022-02-20T14:35:09.744Z"
   },
   {
    "duration": 11,
    "start_time": "2022-02-20T14:35:09.754Z"
   },
   {
    "duration": 12,
    "start_time": "2022-02-20T14:35:09.767Z"
   },
   {
    "duration": 148,
    "start_time": "2022-02-20T14:35:09.780Z"
   },
   {
    "duration": 9,
    "start_time": "2022-02-20T14:35:09.930Z"
   },
   {
    "duration": 10,
    "start_time": "2022-02-20T14:35:09.944Z"
   },
   {
    "duration": 22,
    "start_time": "2022-02-20T14:35:09.956Z"
   },
   {
    "duration": 11,
    "start_time": "2022-02-20T14:35:09.980Z"
   },
   {
    "duration": 56,
    "start_time": "2022-02-20T14:35:09.994Z"
   },
   {
    "duration": 13,
    "start_time": "2022-02-20T14:35:10.052Z"
   },
   {
    "duration": 8,
    "start_time": "2022-02-20T14:35:10.067Z"
   },
   {
    "duration": 13,
    "start_time": "2022-02-20T14:35:10.076Z"
   },
   {
    "duration": 37,
    "start_time": "2022-02-20T14:35:10.091Z"
   },
   {
    "duration": 20,
    "start_time": "2022-02-20T14:35:10.130Z"
   },
   {
    "duration": 19,
    "start_time": "2022-02-20T14:35:10.153Z"
   },
   {
    "duration": 17,
    "start_time": "2022-02-20T14:35:10.175Z"
   },
   {
    "duration": 17,
    "start_time": "2022-02-20T14:35:10.219Z"
   },
   {
    "duration": 11,
    "start_time": "2022-02-20T14:35:10.239Z"
   },
   {
    "duration": 14,
    "start_time": "2022-02-20T14:35:10.252Z"
   },
   {
    "duration": 19,
    "start_time": "2022-02-20T14:35:10.268Z"
   },
   {
    "duration": 5,
    "start_time": "2022-02-20T14:35:10.289Z"
   },
   {
    "duration": 722,
    "start_time": "2022-02-20T14:35:10.318Z"
   },
   {
    "duration": 7,
    "start_time": "2022-02-20T14:35:11.042Z"
   },
   {
    "duration": 79,
    "start_time": "2022-02-20T14:35:11.050Z"
   },
   {
    "duration": 23,
    "start_time": "2022-02-20T14:35:11.131Z"
   },
   {
    "duration": 3,
    "start_time": "2022-02-20T14:35:11.156Z"
   },
   {
    "duration": 59,
    "start_time": "2022-02-20T14:35:11.161Z"
   },
   {
    "duration": 412,
    "start_time": "2022-02-20T14:35:11.223Z"
   },
   {
    "duration": 266,
    "start_time": "2022-02-20T14:35:11.636Z"
   },
   {
    "duration": 329,
    "start_time": "2022-02-20T14:35:11.904Z"
   },
   {
    "duration": 251,
    "start_time": "2022-02-20T14:35:12.235Z"
   },
   {
    "duration": 9,
    "start_time": "2022-02-20T14:35:12.488Z"
   },
   {
    "duration": 259,
    "start_time": "2022-02-20T14:35:12.498Z"
   },
   {
    "duration": 24,
    "start_time": "2022-02-20T14:35:12.759Z"
   },
   {
    "duration": 8,
    "start_time": "2022-02-20T14:35:12.785Z"
   },
   {
    "duration": 30,
    "start_time": "2022-02-20T14:35:12.795Z"
   },
   {
    "duration": 244,
    "start_time": "2022-02-20T14:35:12.827Z"
   },
   {
    "duration": 15,
    "start_time": "2022-02-20T14:35:13.073Z"
   },
   {
    "duration": 323,
    "start_time": "2022-02-20T14:35:13.090Z"
   },
   {
    "duration": 84,
    "start_time": "2022-02-20T14:35:13.419Z"
   },
   {
    "duration": -1659,
    "start_time": "2022-02-20T14:35:15.164Z"
   },
   {
    "duration": -1663,
    "start_time": "2022-02-20T14:35:15.169Z"
   },
   {
    "duration": -1700,
    "start_time": "2022-02-20T14:35:15.208Z"
   },
   {
    "duration": -1704,
    "start_time": "2022-02-20T14:35:15.213Z"
   },
   {
    "duration": -1709,
    "start_time": "2022-02-20T14:35:15.219Z"
   },
   {
    "duration": -1715,
    "start_time": "2022-02-20T14:35:15.226Z"
   },
   {
    "duration": -1719,
    "start_time": "2022-02-20T14:35:15.231Z"
   },
   {
    "duration": -1723,
    "start_time": "2022-02-20T14:35:15.236Z"
   },
   {
    "duration": -1727,
    "start_time": "2022-02-20T14:35:15.241Z"
   },
   {
    "duration": -1732,
    "start_time": "2022-02-20T14:35:15.247Z"
   },
   {
    "duration": -1738,
    "start_time": "2022-02-20T14:35:15.254Z"
   },
   {
    "duration": -1742,
    "start_time": "2022-02-20T14:35:15.259Z"
   },
   {
    "duration": -1746,
    "start_time": "2022-02-20T14:35:15.264Z"
   },
   {
    "duration": -1750,
    "start_time": "2022-02-20T14:35:15.270Z"
   },
   {
    "duration": -1754,
    "start_time": "2022-02-20T14:35:15.275Z"
   },
   {
    "duration": -1757,
    "start_time": "2022-02-20T14:35:15.279Z"
   },
   {
    "duration": 19,
    "start_time": "2022-02-20T14:42:54.197Z"
   },
   {
    "duration": 1214,
    "start_time": "2022-02-20T14:43:03.893Z"
   },
   {
    "duration": 3,
    "start_time": "2022-02-20T14:43:05.109Z"
   },
   {
    "duration": 73,
    "start_time": "2022-02-20T14:43:05.119Z"
   },
   {
    "duration": 32,
    "start_time": "2022-02-20T14:43:05.195Z"
   },
   {
    "duration": 35,
    "start_time": "2022-02-20T14:43:05.230Z"
   },
   {
    "duration": 126,
    "start_time": "2022-02-20T14:43:05.268Z"
   },
   {
    "duration": 27,
    "start_time": "2022-02-20T14:43:05.396Z"
   },
   {
    "duration": 55,
    "start_time": "2022-02-20T14:43:05.425Z"
   },
   {
    "duration": 43,
    "start_time": "2022-02-20T14:43:05.484Z"
   },
   {
    "duration": 29,
    "start_time": "2022-02-20T14:43:05.529Z"
   },
   {
    "duration": 8,
    "start_time": "2022-02-20T14:43:05.560Z"
   },
   {
    "duration": 241,
    "start_time": "2022-02-20T14:43:05.570Z"
   },
   {
    "duration": 24,
    "start_time": "2022-02-20T14:43:05.813Z"
   },
   {
    "duration": 90,
    "start_time": "2022-02-20T14:43:05.839Z"
   },
   {
    "duration": 17,
    "start_time": "2022-02-20T14:43:05.931Z"
   },
   {
    "duration": 6,
    "start_time": "2022-02-20T14:43:05.950Z"
   },
   {
    "duration": 17,
    "start_time": "2022-02-20T14:43:05.958Z"
   },
   {
    "duration": 6,
    "start_time": "2022-02-20T14:43:05.977Z"
   },
   {
    "duration": 42,
    "start_time": "2022-02-20T14:43:05.985Z"
   },
   {
    "duration": 154,
    "start_time": "2022-02-20T14:43:06.029Z"
   },
   {
    "duration": 14,
    "start_time": "2022-02-20T14:43:06.187Z"
   },
   {
    "duration": 26,
    "start_time": "2022-02-20T14:43:06.203Z"
   },
   {
    "duration": 25,
    "start_time": "2022-02-20T14:43:06.232Z"
   },
   {
    "duration": 19,
    "start_time": "2022-02-20T14:43:06.259Z"
   },
   {
    "duration": 53,
    "start_time": "2022-02-20T14:43:06.280Z"
   },
   {
    "duration": 14,
    "start_time": "2022-02-20T14:43:06.335Z"
   },
   {
    "duration": 10,
    "start_time": "2022-02-20T14:43:06.356Z"
   },
   {
    "duration": 10,
    "start_time": "2022-02-20T14:43:06.370Z"
   },
   {
    "duration": 39,
    "start_time": "2022-02-20T14:43:06.383Z"
   },
   {
    "duration": 32,
    "start_time": "2022-02-20T14:43:06.424Z"
   },
   {
    "duration": 20,
    "start_time": "2022-02-20T14:43:06.459Z"
   },
   {
    "duration": 13,
    "start_time": "2022-02-20T14:43:06.482Z"
   },
   {
    "duration": 13,
    "start_time": "2022-02-20T14:43:06.519Z"
   },
   {
    "duration": 7,
    "start_time": "2022-02-20T14:43:06.534Z"
   },
   {
    "duration": 9,
    "start_time": "2022-02-20T14:43:06.543Z"
   },
   {
    "duration": 20,
    "start_time": "2022-02-20T14:43:06.554Z"
   },
   {
    "duration": 4,
    "start_time": "2022-02-20T14:43:06.576Z"
   },
   {
    "duration": 382,
    "start_time": "2022-02-20T14:43:06.581Z"
   },
   {
    "duration": 7,
    "start_time": "2022-02-20T14:43:06.966Z"
   },
   {
    "duration": 26,
    "start_time": "2022-02-20T14:43:06.975Z"
   },
   {
    "duration": 35,
    "start_time": "2022-02-20T14:43:07.003Z"
   },
   {
    "duration": 3,
    "start_time": "2022-02-20T14:43:07.040Z"
   },
   {
    "duration": 6,
    "start_time": "2022-02-20T14:43:07.045Z"
   },
   {
    "duration": 280,
    "start_time": "2022-02-20T14:43:07.053Z"
   },
   {
    "duration": 245,
    "start_time": "2022-02-20T14:43:07.335Z"
   },
   {
    "duration": 326,
    "start_time": "2022-02-20T14:43:07.582Z"
   },
   {
    "duration": 256,
    "start_time": "2022-02-20T14:43:07.910Z"
   },
   {
    "duration": 10,
    "start_time": "2022-02-20T14:43:08.169Z"
   },
   {
    "duration": 394,
    "start_time": "2022-02-20T14:43:08.181Z"
   },
   {
    "duration": 46,
    "start_time": "2022-02-20T14:43:08.578Z"
   },
   {
    "duration": 11,
    "start_time": "2022-02-20T14:43:08.626Z"
   },
   {
    "duration": 22,
    "start_time": "2022-02-20T14:43:08.639Z"
   },
   {
    "duration": 338,
    "start_time": "2022-02-20T14:43:08.663Z"
   },
   {
    "duration": 23,
    "start_time": "2022-02-20T14:43:09.004Z"
   },
   {
    "duration": 316,
    "start_time": "2022-02-20T14:43:09.029Z"
   },
   {
    "duration": 88,
    "start_time": "2022-02-20T14:43:09.347Z"
   },
   {
    "duration": -976,
    "start_time": "2022-02-20T14:43:10.413Z"
   },
   {
    "duration": -979,
    "start_time": "2022-02-20T14:43:10.417Z"
   },
   {
    "duration": -982,
    "start_time": "2022-02-20T14:43:10.421Z"
   },
   {
    "duration": -985,
    "start_time": "2022-02-20T14:43:10.426Z"
   },
   {
    "duration": -988,
    "start_time": "2022-02-20T14:43:10.430Z"
   },
   {
    "duration": -991,
    "start_time": "2022-02-20T14:43:10.434Z"
   },
   {
    "duration": -994,
    "start_time": "2022-02-20T14:43:10.438Z"
   },
   {
    "duration": -998,
    "start_time": "2022-02-20T14:43:10.443Z"
   },
   {
    "duration": -1001,
    "start_time": "2022-02-20T14:43:10.447Z"
   },
   {
    "duration": -1003,
    "start_time": "2022-02-20T14:43:10.451Z"
   },
   {
    "duration": -1006,
    "start_time": "2022-02-20T14:43:10.455Z"
   },
   {
    "duration": -1019,
    "start_time": "2022-02-20T14:43:10.469Z"
   },
   {
    "duration": -1023,
    "start_time": "2022-02-20T14:43:10.474Z"
   },
   {
    "duration": -1026,
    "start_time": "2022-02-20T14:43:10.478Z"
   },
   {
    "duration": -1027,
    "start_time": "2022-02-20T14:43:10.481Z"
   },
   {
    "duration": -1030,
    "start_time": "2022-02-20T14:43:10.485Z"
   },
   {
    "duration": 7,
    "start_time": "2022-02-20T14:44:25.479Z"
   },
   {
    "duration": 1452,
    "start_time": "2022-02-20T14:44:32.666Z"
   },
   {
    "duration": 2,
    "start_time": "2022-02-20T14:44:34.121Z"
   },
   {
    "duration": 76,
    "start_time": "2022-02-20T14:44:34.126Z"
   },
   {
    "duration": 45,
    "start_time": "2022-02-20T14:44:34.205Z"
   },
   {
    "duration": 20,
    "start_time": "2022-02-20T14:44:34.252Z"
   },
   {
    "duration": 105,
    "start_time": "2022-02-20T14:44:34.274Z"
   },
   {
    "duration": 14,
    "start_time": "2022-02-20T14:44:34.380Z"
   },
   {
    "duration": 71,
    "start_time": "2022-02-20T14:44:34.396Z"
   },
   {
    "duration": 12,
    "start_time": "2022-02-20T14:44:34.470Z"
   },
   {
    "duration": 54,
    "start_time": "2022-02-20T14:44:34.485Z"
   },
   {
    "duration": 7,
    "start_time": "2022-02-20T14:44:34.542Z"
   },
   {
    "duration": 165,
    "start_time": "2022-02-20T14:44:34.551Z"
   },
   {
    "duration": 12,
    "start_time": "2022-02-20T14:44:34.718Z"
   },
   {
    "duration": 105,
    "start_time": "2022-02-20T14:44:34.732Z"
   },
   {
    "duration": 83,
    "start_time": "2022-02-20T14:44:34.840Z"
   },
   {
    "duration": 2,
    "start_time": "2022-02-20T14:44:34.926Z"
   },
   {
    "duration": 20,
    "start_time": "2022-02-20T14:44:34.931Z"
   },
   {
    "duration": 5,
    "start_time": "2022-02-20T14:44:34.953Z"
   },
   {
    "duration": 64,
    "start_time": "2022-02-20T14:44:34.960Z"
   },
   {
    "duration": 391,
    "start_time": "2022-02-20T14:44:35.027Z"
   },
   {
    "duration": 13,
    "start_time": "2022-02-20T14:44:35.421Z"
   },
   {
    "duration": 14,
    "start_time": "2022-02-20T14:44:35.437Z"
   },
   {
    "duration": 25,
    "start_time": "2022-02-20T14:44:35.454Z"
   },
   {
    "duration": 38,
    "start_time": "2022-02-20T14:44:35.481Z"
   },
   {
    "duration": 28,
    "start_time": "2022-02-20T14:44:35.521Z"
   },
   {
    "duration": 11,
    "start_time": "2022-02-20T14:44:35.552Z"
   },
   {
    "duration": 9,
    "start_time": "2022-02-20T14:44:35.569Z"
   },
   {
    "duration": 38,
    "start_time": "2022-02-20T14:44:35.581Z"
   },
   {
    "duration": 14,
    "start_time": "2022-02-20T14:44:35.621Z"
   },
   {
    "duration": 21,
    "start_time": "2022-02-20T14:44:35.637Z"
   },
   {
    "duration": 16,
    "start_time": "2022-02-20T14:44:35.660Z"
   },
   {
    "duration": 46,
    "start_time": "2022-02-20T14:44:35.678Z"
   },
   {
    "duration": 14,
    "start_time": "2022-02-20T14:44:35.726Z"
   },
   {
    "duration": 9,
    "start_time": "2022-02-20T14:44:35.741Z"
   },
   {
    "duration": 11,
    "start_time": "2022-02-20T14:44:35.752Z"
   },
   {
    "duration": 23,
    "start_time": "2022-02-20T14:44:35.765Z"
   },
   {
    "duration": 28,
    "start_time": "2022-02-20T14:44:35.791Z"
   },
   {
    "duration": 561,
    "start_time": "2022-02-20T14:44:35.821Z"
   },
   {
    "duration": 7,
    "start_time": "2022-02-20T14:44:36.384Z"
   },
   {
    "duration": 40,
    "start_time": "2022-02-20T14:44:36.392Z"
   },
   {
    "duration": 23,
    "start_time": "2022-02-20T14:44:36.434Z"
   },
   {
    "duration": 3,
    "start_time": "2022-02-20T14:44:36.459Z"
   },
   {
    "duration": 10,
    "start_time": "2022-02-20T14:44:36.464Z"
   },
   {
    "duration": 285,
    "start_time": "2022-02-20T14:44:36.476Z"
   },
   {
    "duration": 335,
    "start_time": "2022-02-20T14:44:36.763Z"
   },
   {
    "duration": 252,
    "start_time": "2022-02-20T14:44:37.100Z"
   },
   {
    "duration": 267,
    "start_time": "2022-02-20T14:44:37.354Z"
   },
   {
    "duration": 10,
    "start_time": "2022-02-20T14:44:37.623Z"
   },
   {
    "duration": 377,
    "start_time": "2022-02-20T14:44:37.634Z"
   },
   {
    "duration": 29,
    "start_time": "2022-02-20T14:44:38.017Z"
   },
   {
    "duration": 10,
    "start_time": "2022-02-20T14:44:38.047Z"
   },
   {
    "duration": 11,
    "start_time": "2022-02-20T14:44:38.059Z"
   },
   {
    "duration": 267,
    "start_time": "2022-02-20T14:44:38.072Z"
   },
   {
    "duration": 15,
    "start_time": "2022-02-20T14:44:38.341Z"
   },
   {
    "duration": 323,
    "start_time": "2022-02-20T14:44:38.358Z"
   },
   {
    "duration": 88,
    "start_time": "2022-02-20T14:44:38.684Z"
   },
   {
    "duration": -943,
    "start_time": "2022-02-20T14:44:39.717Z"
   },
   {
    "duration": -946,
    "start_time": "2022-02-20T14:44:39.722Z"
   },
   {
    "duration": -948,
    "start_time": "2022-02-20T14:44:39.726Z"
   },
   {
    "duration": -985,
    "start_time": "2022-02-20T14:44:39.764Z"
   },
   {
    "duration": -987,
    "start_time": "2022-02-20T14:44:39.768Z"
   },
   {
    "duration": -990,
    "start_time": "2022-02-20T14:44:39.772Z"
   },
   {
    "duration": -992,
    "start_time": "2022-02-20T14:44:39.776Z"
   },
   {
    "duration": -995,
    "start_time": "2022-02-20T14:44:39.780Z"
   },
   {
    "duration": -997,
    "start_time": "2022-02-20T14:44:39.784Z"
   },
   {
    "duration": -999,
    "start_time": "2022-02-20T14:44:39.787Z"
   },
   {
    "duration": -1000,
    "start_time": "2022-02-20T14:44:39.790Z"
   },
   {
    "duration": -1003,
    "start_time": "2022-02-20T14:44:39.794Z"
   },
   {
    "duration": -1009,
    "start_time": "2022-02-20T14:44:39.802Z"
   },
   {
    "duration": -1012,
    "start_time": "2022-02-20T14:44:39.806Z"
   },
   {
    "duration": -1015,
    "start_time": "2022-02-20T14:44:39.811Z"
   },
   {
    "duration": -1017,
    "start_time": "2022-02-20T14:44:39.815Z"
   },
   {
    "duration": 1267,
    "start_time": "2022-02-20T14:47:13.690Z"
   },
   {
    "duration": 3,
    "start_time": "2022-02-20T14:47:14.960Z"
   },
   {
    "duration": 88,
    "start_time": "2022-02-20T14:47:14.965Z"
   },
   {
    "duration": 31,
    "start_time": "2022-02-20T14:47:15.055Z"
   },
   {
    "duration": 40,
    "start_time": "2022-02-20T14:47:15.089Z"
   },
   {
    "duration": 89,
    "start_time": "2022-02-20T14:47:15.132Z"
   },
   {
    "duration": 16,
    "start_time": "2022-02-20T14:47:15.223Z"
   },
   {
    "duration": 49,
    "start_time": "2022-02-20T14:47:15.241Z"
   },
   {
    "duration": 12,
    "start_time": "2022-02-20T14:47:15.318Z"
   },
   {
    "duration": 37,
    "start_time": "2022-02-20T14:47:15.333Z"
   },
   {
    "duration": 7,
    "start_time": "2022-02-20T14:47:15.372Z"
   },
   {
    "duration": 187,
    "start_time": "2022-02-20T14:47:15.381Z"
   },
   {
    "duration": 12,
    "start_time": "2022-02-20T14:47:15.570Z"
   },
   {
    "duration": 81,
    "start_time": "2022-02-20T14:47:15.584Z"
   },
   {
    "duration": 17,
    "start_time": "2022-02-20T14:47:15.668Z"
   },
   {
    "duration": 3,
    "start_time": "2022-02-20T14:47:15.686Z"
   },
   {
    "duration": 13,
    "start_time": "2022-02-20T14:47:15.691Z"
   },
   {
    "duration": 10,
    "start_time": "2022-02-20T14:47:15.718Z"
   },
   {
    "duration": 147,
    "start_time": "2022-02-20T14:47:15.730Z"
   },
   {
    "duration": 10,
    "start_time": "2022-02-20T14:47:15.879Z"
   },
   {
    "duration": 13,
    "start_time": "2022-02-20T14:47:15.890Z"
   },
   {
    "duration": 22,
    "start_time": "2022-02-20T14:47:15.918Z"
   },
   {
    "duration": 31,
    "start_time": "2022-02-20T14:47:15.941Z"
   },
   {
    "duration": 40,
    "start_time": "2022-02-20T14:47:15.974Z"
   },
   {
    "duration": 11,
    "start_time": "2022-02-20T14:47:16.015Z"
   },
   {
    "duration": 19,
    "start_time": "2022-02-20T14:47:16.028Z"
   },
   {
    "duration": 19,
    "start_time": "2022-02-20T14:47:16.052Z"
   },
   {
    "duration": 25,
    "start_time": "2022-02-20T14:47:16.073Z"
   },
   {
    "duration": 23,
    "start_time": "2022-02-20T14:47:16.099Z"
   },
   {
    "duration": 23,
    "start_time": "2022-02-20T14:47:16.124Z"
   },
   {
    "duration": 16,
    "start_time": "2022-02-20T14:47:16.149Z"
   },
   {
    "duration": 34,
    "start_time": "2022-02-20T14:47:16.167Z"
   },
   {
    "duration": 21,
    "start_time": "2022-02-20T14:47:16.203Z"
   },
   {
    "duration": 17,
    "start_time": "2022-02-20T14:47:16.226Z"
   },
   {
    "duration": 83,
    "start_time": "2022-02-20T14:47:16.245Z"
   },
   {
    "duration": 3,
    "start_time": "2022-02-20T14:47:16.330Z"
   },
   {
    "duration": 867,
    "start_time": "2022-02-20T14:47:16.336Z"
   },
   {
    "duration": 13,
    "start_time": "2022-02-20T14:47:17.205Z"
   },
   {
    "duration": 45,
    "start_time": "2022-02-20T14:47:17.221Z"
   },
   {
    "duration": 27,
    "start_time": "2022-02-20T14:47:17.268Z"
   },
   {
    "duration": 22,
    "start_time": "2022-02-20T14:47:17.296Z"
   },
   {
    "duration": 4,
    "start_time": "2022-02-20T14:47:17.320Z"
   },
   {
    "duration": 250,
    "start_time": "2022-02-20T14:47:17.326Z"
   },
   {
    "duration": 303,
    "start_time": "2022-02-20T14:47:17.577Z"
   },
   {
    "duration": 231,
    "start_time": "2022-02-20T14:47:17.882Z"
   },
   {
    "duration": 269,
    "start_time": "2022-02-20T14:47:18.118Z"
   },
   {
    "duration": 13,
    "start_time": "2022-02-20T14:47:18.389Z"
   },
   {
    "duration": 385,
    "start_time": "2022-02-20T14:47:18.404Z"
   },
   {
    "duration": 56,
    "start_time": "2022-02-20T14:47:18.792Z"
   },
   {
    "duration": 13,
    "start_time": "2022-02-20T14:47:18.851Z"
   },
   {
    "duration": 12,
    "start_time": "2022-02-20T14:47:18.866Z"
   },
   {
    "duration": 260,
    "start_time": "2022-02-20T14:47:18.880Z"
   },
   {
    "duration": 15,
    "start_time": "2022-02-20T14:47:19.142Z"
   },
   {
    "duration": 316,
    "start_time": "2022-02-20T14:47:19.158Z"
   },
   {
    "duration": 79,
    "start_time": "2022-02-20T14:47:19.476Z"
   },
   {
    "duration": -971,
    "start_time": "2022-02-20T14:47:20.528Z"
   },
   {
    "duration": -974,
    "start_time": "2022-02-20T14:47:20.532Z"
   },
   {
    "duration": -976,
    "start_time": "2022-02-20T14:47:20.536Z"
   },
   {
    "duration": -979,
    "start_time": "2022-02-20T14:47:20.540Z"
   },
   {
    "duration": -984,
    "start_time": "2022-02-20T14:47:20.546Z"
   },
   {
    "duration": -988,
    "start_time": "2022-02-20T14:47:20.551Z"
   },
   {
    "duration": -993,
    "start_time": "2022-02-20T14:47:20.557Z"
   },
   {
    "duration": -994,
    "start_time": "2022-02-20T14:47:20.560Z"
   },
   {
    "duration": -997,
    "start_time": "2022-02-20T14:47:20.564Z"
   },
   {
    "duration": -1000,
    "start_time": "2022-02-20T14:47:20.568Z"
   },
   {
    "duration": -1003,
    "start_time": "2022-02-20T14:47:20.572Z"
   },
   {
    "duration": -1005,
    "start_time": "2022-02-20T14:47:20.575Z"
   },
   {
    "duration": -1007,
    "start_time": "2022-02-20T14:47:20.578Z"
   },
   {
    "duration": -1010,
    "start_time": "2022-02-20T14:47:20.582Z"
   },
   {
    "duration": -1013,
    "start_time": "2022-02-20T14:47:20.586Z"
   },
   {
    "duration": -1016,
    "start_time": "2022-02-20T14:47:20.590Z"
   },
   {
    "duration": 1224,
    "start_time": "2022-02-20T14:50:18.259Z"
   },
   {
    "duration": 3,
    "start_time": "2022-02-20T14:50:19.485Z"
   },
   {
    "duration": 78,
    "start_time": "2022-02-20T14:50:19.491Z"
   },
   {
    "duration": 23,
    "start_time": "2022-02-20T14:50:19.571Z"
   },
   {
    "duration": 36,
    "start_time": "2022-02-20T14:50:19.597Z"
   },
   {
    "duration": 109,
    "start_time": "2022-02-20T14:50:19.635Z"
   },
   {
    "duration": 17,
    "start_time": "2022-02-20T14:50:19.746Z"
   },
   {
    "duration": 83,
    "start_time": "2022-02-20T14:50:19.767Z"
   },
   {
    "duration": 12,
    "start_time": "2022-02-20T14:50:19.853Z"
   },
   {
    "duration": 28,
    "start_time": "2022-02-20T14:50:19.867Z"
   },
   {
    "duration": 29,
    "start_time": "2022-02-20T14:50:19.897Z"
   },
   {
    "duration": 157,
    "start_time": "2022-02-20T14:50:19.927Z"
   },
   {
    "duration": 12,
    "start_time": "2022-02-20T14:50:20.086Z"
   },
   {
    "duration": 226,
    "start_time": "2022-02-20T14:50:20.100Z"
   },
   {
    "duration": 17,
    "start_time": "2022-02-20T14:50:20.328Z"
   },
   {
    "duration": 514,
    "start_time": "2022-02-20T14:50:20.347Z"
   },
   {
    "duration": 15,
    "start_time": "2022-02-20T14:50:20.863Z"
   },
   {
    "duration": 43,
    "start_time": "2022-02-20T14:50:20.881Z"
   },
   {
    "duration": 35,
    "start_time": "2022-02-20T14:50:20.927Z"
   },
   {
    "duration": 9,
    "start_time": "2022-02-20T14:50:20.964Z"
   },
   {
    "duration": 48,
    "start_time": "2022-02-20T14:50:20.976Z"
   },
   {
    "duration": 14,
    "start_time": "2022-02-20T14:50:21.026Z"
   },
   {
    "duration": 11,
    "start_time": "2022-02-20T14:50:21.046Z"
   },
   {
    "duration": 15,
    "start_time": "2022-02-20T14:50:21.061Z"
   },
   {
    "duration": 48,
    "start_time": "2022-02-20T14:50:21.078Z"
   },
   {
    "duration": 29,
    "start_time": "2022-02-20T14:50:21.128Z"
   },
   {
    "duration": 11,
    "start_time": "2022-02-20T14:50:21.159Z"
   },
   {
    "duration": 16,
    "start_time": "2022-02-20T14:50:21.172Z"
   },
   {
    "duration": 38,
    "start_time": "2022-02-20T14:50:21.190Z"
   },
   {
    "duration": 9,
    "start_time": "2022-02-20T14:50:21.231Z"
   },
   {
    "duration": 13,
    "start_time": "2022-02-20T14:50:21.242Z"
   },
   {
    "duration": 31,
    "start_time": "2022-02-20T14:50:21.257Z"
   },
   {
    "duration": 4,
    "start_time": "2022-02-20T14:50:21.289Z"
   },
   {
    "duration": 561,
    "start_time": "2022-02-20T14:50:21.295Z"
   },
   {
    "duration": 6,
    "start_time": "2022-02-20T14:50:21.858Z"
   },
   {
    "duration": 31,
    "start_time": "2022-02-20T14:50:21.865Z"
   },
   {
    "duration": 38,
    "start_time": "2022-02-20T14:50:21.898Z"
   },
   {
    "duration": 4,
    "start_time": "2022-02-20T14:50:21.938Z"
   },
   {
    "duration": 10,
    "start_time": "2022-02-20T14:50:21.943Z"
   },
   {
    "duration": 347,
    "start_time": "2022-02-20T14:50:21.954Z"
   },
   {
    "duration": 253,
    "start_time": "2022-02-20T14:50:22.303Z"
   },
   {
    "duration": 268,
    "start_time": "2022-02-20T14:50:22.559Z"
   },
   {
    "duration": 278,
    "start_time": "2022-02-20T14:50:22.829Z"
   },
   {
    "duration": 16,
    "start_time": "2022-02-20T14:50:23.109Z"
   },
   {
    "duration": 251,
    "start_time": "2022-02-20T14:50:23.127Z"
   },
   {
    "duration": 38,
    "start_time": "2022-02-20T14:50:23.380Z"
   },
   {
    "duration": 10,
    "start_time": "2022-02-20T14:50:23.420Z"
   },
   {
    "duration": 15,
    "start_time": "2022-02-20T14:50:23.432Z"
   },
   {
    "duration": 269,
    "start_time": "2022-02-20T14:50:23.449Z"
   },
   {
    "duration": 16,
    "start_time": "2022-02-20T14:50:23.720Z"
   },
   {
    "duration": 337,
    "start_time": "2022-02-20T14:50:23.739Z"
   },
   {
    "duration": 119,
    "start_time": "2022-02-20T14:50:24.078Z"
   },
   {
    "duration": -1199,
    "start_time": "2022-02-20T14:50:25.398Z"
   },
   {
    "duration": -1202,
    "start_time": "2022-02-20T14:50:25.403Z"
   },
   {
    "duration": -1206,
    "start_time": "2022-02-20T14:50:25.408Z"
   },
   {
    "duration": -1209,
    "start_time": "2022-02-20T14:50:25.413Z"
   },
   {
    "duration": -1212,
    "start_time": "2022-02-20T14:50:25.417Z"
   },
   {
    "duration": -1219,
    "start_time": "2022-02-20T14:50:25.425Z"
   },
   {
    "duration": -1223,
    "start_time": "2022-02-20T14:50:25.430Z"
   },
   {
    "duration": -1226,
    "start_time": "2022-02-20T14:50:25.434Z"
   },
   {
    "duration": -1229,
    "start_time": "2022-02-20T14:50:25.438Z"
   },
   {
    "duration": -1233,
    "start_time": "2022-02-20T14:50:25.443Z"
   },
   {
    "duration": -1247,
    "start_time": "2022-02-20T14:50:25.459Z"
   },
   {
    "duration": -1250,
    "start_time": "2022-02-20T14:50:25.463Z"
   },
   {
    "duration": -1254,
    "start_time": "2022-02-20T14:50:25.468Z"
   },
   {
    "duration": -1257,
    "start_time": "2022-02-20T14:50:25.472Z"
   },
   {
    "duration": -1262,
    "start_time": "2022-02-20T14:50:25.478Z"
   },
   {
    "duration": -1266,
    "start_time": "2022-02-20T14:50:25.483Z"
   },
   {
    "duration": 116,
    "start_time": "2022-02-20T14:52:58.536Z"
   },
   {
    "duration": 4,
    "start_time": "2022-02-20T14:53:35.832Z"
   },
   {
    "duration": 212,
    "start_time": "2022-02-20T14:53:36.440Z"
   },
   {
    "duration": 205,
    "start_time": "2022-02-20T14:53:38.635Z"
   },
   {
    "duration": 219,
    "start_time": "2022-02-20T14:53:40.688Z"
   },
   {
    "duration": 284,
    "start_time": "2022-02-20T14:53:45.025Z"
   },
   {
    "duration": 87,
    "start_time": "2022-02-20T15:22:41.054Z"
   },
   {
    "duration": 86,
    "start_time": "2022-02-20T15:22:53.868Z"
   },
   {
    "duration": 6867,
    "start_time": "2022-02-20T15:22:56.212Z"
   },
   {
    "duration": 6645,
    "start_time": "2022-02-20T15:24:30.836Z"
   },
   {
    "duration": 94,
    "start_time": "2022-02-20T15:31:02.653Z"
   },
   {
    "duration": -972,
    "start_time": "2022-02-20T15:31:57.745Z"
   },
   {
    "duration": 7272,
    "start_time": "2022-02-20T15:32:00.663Z"
   },
   {
    "duration": 1064,
    "start_time": "2022-02-20T15:32:24.677Z"
   },
   {
    "duration": 85,
    "start_time": "2022-02-20T15:32:50.379Z"
   },
   {
    "duration": 2828,
    "start_time": "2022-02-20T15:32:54.902Z"
   },
   {
    "duration": 258,
    "start_time": "2022-02-20T15:33:13.452Z"
   },
   {
    "duration": 292,
    "start_time": "2022-02-20T15:33:18.131Z"
   },
   {
    "duration": 245,
    "start_time": "2022-02-20T15:33:43.180Z"
   },
   {
    "duration": 2828,
    "start_time": "2022-02-20T15:34:13.107Z"
   },
   {
    "duration": 4580,
    "start_time": "2022-02-20T15:34:20.460Z"
   },
   {
    "duration": 10,
    "start_time": "2022-02-20T15:34:59.219Z"
   },
   {
    "duration": 278,
    "start_time": "2022-02-20T15:35:14.035Z"
   },
   {
    "duration": 82,
    "start_time": "2022-02-20T15:35:26.155Z"
   },
   {
    "duration": 259,
    "start_time": "2022-02-20T15:36:26.155Z"
   },
   {
    "duration": 11,
    "start_time": "2022-02-20T15:36:45.858Z"
   },
   {
    "duration": 106,
    "start_time": "2022-02-20T15:37:00.595Z"
   },
   {
    "duration": 87,
    "start_time": "2022-02-20T15:37:05.355Z"
   },
   {
    "duration": 350,
    "start_time": "2022-02-20T15:37:12.114Z"
   },
   {
    "duration": 114,
    "start_time": "2022-02-20T15:37:37.557Z"
   },
   {
    "duration": 81,
    "start_time": "2022-02-20T15:37:51.354Z"
   },
   {
    "duration": 3550,
    "start_time": "2022-02-20T15:37:53.671Z"
   },
   {
    "duration": 3337,
    "start_time": "2022-02-20T15:38:09.470Z"
   },
   {
    "duration": 91,
    "start_time": "2022-02-20T15:38:37.202Z"
   },
   {
    "duration": 84,
    "start_time": "2022-02-20T15:38:50.834Z"
   },
   {
    "duration": 78,
    "start_time": "2022-02-20T15:38:57.035Z"
   },
   {
    "duration": 117,
    "start_time": "2022-02-20T15:39:03.186Z"
   },
   {
    "duration": 2739,
    "start_time": "2022-02-20T15:39:06.663Z"
   },
   {
    "duration": 1708,
    "start_time": "2022-02-20T15:41:30.844Z"
   },
   {
    "duration": 3,
    "start_time": "2022-02-20T15:41:32.555Z"
   },
   {
    "duration": 78,
    "start_time": "2022-02-20T15:41:32.560Z"
   },
   {
    "duration": 22,
    "start_time": "2022-02-20T15:41:32.640Z"
   },
   {
    "duration": 21,
    "start_time": "2022-02-20T15:41:32.664Z"
   },
   {
    "duration": 95,
    "start_time": "2022-02-20T15:41:32.687Z"
   },
   {
    "duration": 34,
    "start_time": "2022-02-20T15:41:32.784Z"
   },
   {
    "duration": 65,
    "start_time": "2022-02-20T15:41:32.823Z"
   },
   {
    "duration": 40,
    "start_time": "2022-02-20T15:41:32.892Z"
   },
   {
    "duration": 38,
    "start_time": "2022-02-20T15:41:32.934Z"
   },
   {
    "duration": 10,
    "start_time": "2022-02-20T15:41:32.974Z"
   },
   {
    "duration": 233,
    "start_time": "2022-02-20T15:41:32.987Z"
   },
   {
    "duration": 11,
    "start_time": "2022-02-20T15:41:33.222Z"
   },
   {
    "duration": 202,
    "start_time": "2022-02-20T15:41:33.236Z"
   },
   {
    "duration": 17,
    "start_time": "2022-02-20T15:41:33.440Z"
   },
   {
    "duration": 212,
    "start_time": "2022-02-20T15:41:33.459Z"
   },
   {
    "duration": 11,
    "start_time": "2022-02-20T15:41:33.673Z"
   },
   {
    "duration": 32,
    "start_time": "2022-02-20T15:41:33.686Z"
   },
   {
    "duration": 34,
    "start_time": "2022-02-20T15:41:33.721Z"
   },
   {
    "duration": 9,
    "start_time": "2022-02-20T15:41:33.757Z"
   },
   {
    "duration": 57,
    "start_time": "2022-02-20T15:41:33.768Z"
   },
   {
    "duration": 12,
    "start_time": "2022-02-20T15:41:33.827Z"
   },
   {
    "duration": 9,
    "start_time": "2022-02-20T15:41:33.843Z"
   },
   {
    "duration": 11,
    "start_time": "2022-02-20T15:41:33.856Z"
   },
   {
    "duration": 16,
    "start_time": "2022-02-20T15:41:33.869Z"
   },
   {
    "duration": 23,
    "start_time": "2022-02-20T15:41:33.919Z"
   },
   {
    "duration": 11,
    "start_time": "2022-02-20T15:41:33.944Z"
   },
   {
    "duration": 18,
    "start_time": "2022-02-20T15:41:33.957Z"
   },
   {
    "duration": 43,
    "start_time": "2022-02-20T15:41:33.977Z"
   },
   {
    "duration": 11,
    "start_time": "2022-02-20T15:41:34.022Z"
   },
   {
    "duration": 8,
    "start_time": "2022-02-20T15:41:34.035Z"
   },
   {
    "duration": 25,
    "start_time": "2022-02-20T15:41:34.045Z"
   },
   {
    "duration": 4,
    "start_time": "2022-02-20T15:41:34.072Z"
   },
   {
    "duration": 977,
    "start_time": "2022-02-20T15:41:34.078Z"
   },
   {
    "duration": 8,
    "start_time": "2022-02-20T15:41:35.057Z"
   },
   {
    "duration": 41,
    "start_time": "2022-02-20T15:41:35.067Z"
   },
   {
    "duration": 29,
    "start_time": "2022-02-20T15:41:35.110Z"
   },
   {
    "duration": 3,
    "start_time": "2022-02-20T15:41:35.141Z"
   },
   {
    "duration": 8,
    "start_time": "2022-02-20T15:41:35.146Z"
   },
   {
    "duration": 305,
    "start_time": "2022-02-20T15:41:35.156Z"
   },
   {
    "duration": 227,
    "start_time": "2022-02-20T15:41:35.464Z"
   },
   {
    "duration": 225,
    "start_time": "2022-02-20T15:41:35.693Z"
   },
   {
    "duration": 235,
    "start_time": "2022-02-20T15:41:35.921Z"
   },
   {
    "duration": 10,
    "start_time": "2022-02-20T15:41:36.158Z"
   },
   {
    "duration": 218,
    "start_time": "2022-02-20T15:41:36.170Z"
   },
   {
    "duration": 43,
    "start_time": "2022-02-20T15:41:36.390Z"
   },
   {
    "duration": 10,
    "start_time": "2022-02-20T15:41:36.435Z"
   },
   {
    "duration": 12,
    "start_time": "2022-02-20T15:41:36.447Z"
   },
   {
    "duration": 3862,
    "start_time": "2022-02-20T15:41:36.461Z"
   },
   {
    "duration": 347,
    "start_time": "2022-02-20T15:41:40.325Z"
   },
   {
    "duration": 16,
    "start_time": "2022-02-20T15:41:40.674Z"
   },
   {
    "duration": 494,
    "start_time": "2022-02-20T15:41:40.692Z"
   },
   {
    "duration": 513,
    "start_time": "2022-02-20T15:41:41.188Z"
   },
   {
    "duration": 300,
    "start_time": "2022-02-20T15:41:41.703Z"
   },
   {
    "duration": 23,
    "start_time": "2022-02-20T15:41:42.006Z"
   },
   {
    "duration": 126,
    "start_time": "2022-02-20T15:41:42.031Z"
   },
   {
    "duration": -1060,
    "start_time": "2022-02-20T15:41:43.219Z"
   },
   {
    "duration": -1064,
    "start_time": "2022-02-20T15:41:43.224Z"
   },
   {
    "duration": -1068,
    "start_time": "2022-02-20T15:41:43.229Z"
   },
   {
    "duration": -1070,
    "start_time": "2022-02-20T15:41:43.232Z"
   },
   {
    "duration": -1075,
    "start_time": "2022-02-20T15:41:43.238Z"
   },
   {
    "duration": -1078,
    "start_time": "2022-02-20T15:41:43.242Z"
   },
   {
    "duration": -1081,
    "start_time": "2022-02-20T15:41:43.246Z"
   },
   {
    "duration": -1090,
    "start_time": "2022-02-20T15:41:43.256Z"
   },
   {
    "duration": -1092,
    "start_time": "2022-02-20T15:41:43.259Z"
   },
   {
    "duration": -1095,
    "start_time": "2022-02-20T15:41:43.263Z"
   },
   {
    "duration": -1098,
    "start_time": "2022-02-20T15:41:43.267Z"
   },
   {
    "duration": -1102,
    "start_time": "2022-02-20T15:41:43.272Z"
   },
   {
    "duration": 1259,
    "start_time": "2022-02-20T15:41:57.430Z"
   },
   {
    "duration": 3,
    "start_time": "2022-02-20T15:41:58.692Z"
   },
   {
    "duration": 76,
    "start_time": "2022-02-20T15:41:58.698Z"
   },
   {
    "duration": 26,
    "start_time": "2022-02-20T15:41:58.776Z"
   },
   {
    "duration": 30,
    "start_time": "2022-02-20T15:41:58.804Z"
   },
   {
    "duration": 89,
    "start_time": "2022-02-20T15:41:58.836Z"
   },
   {
    "duration": 13,
    "start_time": "2022-02-20T15:41:58.927Z"
   },
   {
    "duration": 77,
    "start_time": "2022-02-20T15:41:58.943Z"
   },
   {
    "duration": 11,
    "start_time": "2022-02-20T15:41:59.023Z"
   },
   {
    "duration": 38,
    "start_time": "2022-02-20T15:41:59.037Z"
   },
   {
    "duration": 10,
    "start_time": "2022-02-20T15:41:59.078Z"
   },
   {
    "duration": 246,
    "start_time": "2022-02-20T15:41:59.090Z"
   },
   {
    "duration": 16,
    "start_time": "2022-02-20T15:41:59.338Z"
   },
   {
    "duration": 248,
    "start_time": "2022-02-20T15:41:59.357Z"
   },
   {
    "duration": 20,
    "start_time": "2022-02-20T15:41:59.607Z"
   },
   {
    "duration": 164,
    "start_time": "2022-02-20T15:41:59.629Z"
   },
   {
    "duration": 12,
    "start_time": "2022-02-20T15:41:59.794Z"
   },
   {
    "duration": 32,
    "start_time": "2022-02-20T15:41:59.808Z"
   },
   {
    "duration": 29,
    "start_time": "2022-02-20T15:41:59.843Z"
   },
   {
    "duration": 23,
    "start_time": "2022-02-20T15:41:59.875Z"
   },
   {
    "duration": 47,
    "start_time": "2022-02-20T15:41:59.900Z"
   },
   {
    "duration": 15,
    "start_time": "2022-02-20T15:41:59.949Z"
   },
   {
    "duration": 12,
    "start_time": "2022-02-20T15:41:59.970Z"
   },
   {
    "duration": 33,
    "start_time": "2022-02-20T15:41:59.985Z"
   },
   {
    "duration": 30,
    "start_time": "2022-02-20T15:42:00.021Z"
   },
   {
    "duration": 36,
    "start_time": "2022-02-20T15:42:00.054Z"
   },
   {
    "duration": 30,
    "start_time": "2022-02-20T15:42:00.092Z"
   },
   {
    "duration": 33,
    "start_time": "2022-02-20T15:42:00.125Z"
   },
   {
    "duration": 26,
    "start_time": "2022-02-20T15:42:00.161Z"
   },
   {
    "duration": 21,
    "start_time": "2022-02-20T15:42:00.190Z"
   },
   {
    "duration": 29,
    "start_time": "2022-02-20T15:42:00.214Z"
   },
   {
    "duration": 27,
    "start_time": "2022-02-20T15:42:00.245Z"
   },
   {
    "duration": 18,
    "start_time": "2022-02-20T15:42:00.274Z"
   },
   {
    "duration": 552,
    "start_time": "2022-02-20T15:42:00.294Z"
   },
   {
    "duration": 6,
    "start_time": "2022-02-20T15:42:00.848Z"
   },
   {
    "duration": 57,
    "start_time": "2022-02-20T15:42:00.856Z"
   },
   {
    "duration": 29,
    "start_time": "2022-02-20T15:42:00.915Z"
   },
   {
    "duration": 8,
    "start_time": "2022-02-20T15:42:00.947Z"
   },
   {
    "duration": 16,
    "start_time": "2022-02-20T15:42:00.957Z"
   },
   {
    "duration": 298,
    "start_time": "2022-02-20T15:42:00.975Z"
   },
   {
    "duration": 215,
    "start_time": "2022-02-20T15:42:01.276Z"
   },
   {
    "duration": 227,
    "start_time": "2022-02-20T15:42:01.494Z"
   },
   {
    "duration": 344,
    "start_time": "2022-02-20T15:42:01.724Z"
   },
   {
    "duration": 9,
    "start_time": "2022-02-20T15:42:02.071Z"
   },
   {
    "duration": 218,
    "start_time": "2022-02-20T15:42:02.082Z"
   },
   {
    "duration": 52,
    "start_time": "2022-02-20T15:42:02.302Z"
   },
   {
    "duration": 14,
    "start_time": "2022-02-20T15:42:02.356Z"
   },
   {
    "duration": 20,
    "start_time": "2022-02-20T15:42:02.372Z"
   },
   {
    "duration": 3161,
    "start_time": "2022-02-20T15:42:02.395Z"
   },
   {
    "duration": 491,
    "start_time": "2022-02-20T15:42:05.558Z"
   },
   {
    "duration": 16,
    "start_time": "2022-02-20T15:42:06.051Z"
   },
   {
    "duration": 320,
    "start_time": "2022-02-20T15:42:06.069Z"
   },
   {
    "duration": 500,
    "start_time": "2022-02-20T15:42:06.391Z"
   },
   {
    "duration": 306,
    "start_time": "2022-02-20T15:42:06.893Z"
   },
   {
    "duration": 21,
    "start_time": "2022-02-20T15:42:07.202Z"
   },
   {
    "duration": 12,
    "start_time": "2022-02-20T15:42:07.225Z"
   },
   {
    "duration": 21,
    "start_time": "2022-02-20T15:42:07.239Z"
   },
   {
    "duration": 434,
    "start_time": "2022-02-20T15:42:07.262Z"
   },
   {
    "duration": 292,
    "start_time": "2022-02-20T15:42:07.698Z"
   },
   {
    "duration": 252,
    "start_time": "2022-02-20T15:42:07.992Z"
   },
   {
    "duration": 231,
    "start_time": "2022-02-20T15:42:08.246Z"
   },
   {
    "duration": 42,
    "start_time": "2022-02-20T15:42:08.479Z"
   },
   {
    "duration": 19,
    "start_time": "2022-02-20T15:42:08.523Z"
   },
   {
    "duration": 21,
    "start_time": "2022-02-20T15:42:08.544Z"
   },
   {
    "duration": 55,
    "start_time": "2022-02-20T15:42:08.567Z"
   },
   {
    "duration": 47,
    "start_time": "2022-02-20T15:42:08.624Z"
   },
   {
    "duration": 248,
    "start_time": "2022-02-20T15:42:08.673Z"
   },
   {
    "duration": 401,
    "start_time": "2022-02-20T15:44:51.530Z"
   },
   {
    "duration": 1010,
    "start_time": "2022-02-20T15:46:56.692Z"
   },
   {
    "duration": 394,
    "start_time": "2022-02-20T15:47:11.276Z"
   },
   {
    "duration": 91,
    "start_time": "2022-02-20T15:50:22.876Z"
   },
   {
    "duration": 3,
    "start_time": "2022-02-20T15:51:59.132Z"
   },
   {
    "duration": 11,
    "start_time": "2022-02-20T15:52:53.403Z"
   },
   {
    "duration": 89,
    "start_time": "2022-02-20T15:58:34.137Z"
   },
   {
    "duration": 1549,
    "start_time": "2022-02-20T16:02:35.375Z"
   },
   {
    "duration": 4,
    "start_time": "2022-02-20T16:02:36.926Z"
   },
   {
    "duration": 119,
    "start_time": "2022-02-20T16:02:36.935Z"
   },
   {
    "duration": 26,
    "start_time": "2022-02-20T16:02:37.057Z"
   },
   {
    "duration": 36,
    "start_time": "2022-02-20T16:02:37.086Z"
   },
   {
    "duration": 77,
    "start_time": "2022-02-20T16:02:37.130Z"
   },
   {
    "duration": 22,
    "start_time": "2022-02-20T16:02:37.209Z"
   },
   {
    "duration": 89,
    "start_time": "2022-02-20T16:02:37.235Z"
   },
   {
    "duration": 32,
    "start_time": "2022-02-20T16:02:37.327Z"
   },
   {
    "duration": 30,
    "start_time": "2022-02-20T16:02:37.361Z"
   },
   {
    "duration": 9,
    "start_time": "2022-02-20T16:02:37.394Z"
   },
   {
    "duration": 199,
    "start_time": "2022-02-20T16:02:37.405Z"
   },
   {
    "duration": 18,
    "start_time": "2022-02-20T16:02:37.606Z"
   },
   {
    "duration": 200,
    "start_time": "2022-02-20T16:02:37.626Z"
   },
   {
    "duration": 15,
    "start_time": "2022-02-20T16:02:37.829Z"
   },
   {
    "duration": 210,
    "start_time": "2022-02-20T16:02:37.846Z"
   },
   {
    "duration": 11,
    "start_time": "2022-02-20T16:02:38.058Z"
   },
   {
    "duration": 17,
    "start_time": "2022-02-20T16:02:38.071Z"
   },
   {
    "duration": 63,
    "start_time": "2022-02-20T16:02:38.090Z"
   },
   {
    "duration": 7,
    "start_time": "2022-02-20T16:02:38.156Z"
   },
   {
    "duration": 30,
    "start_time": "2022-02-20T16:02:38.165Z"
   },
   {
    "duration": 17,
    "start_time": "2022-02-20T16:02:38.221Z"
   },
   {
    "duration": 12,
    "start_time": "2022-02-20T16:02:38.244Z"
   },
   {
    "duration": 10,
    "start_time": "2022-02-20T16:02:38.259Z"
   },
   {
    "duration": 15,
    "start_time": "2022-02-20T16:02:38.271Z"
   },
   {
    "duration": 56,
    "start_time": "2022-02-20T16:02:38.288Z"
   },
   {
    "duration": 31,
    "start_time": "2022-02-20T16:02:38.347Z"
   },
   {
    "duration": 20,
    "start_time": "2022-02-20T16:02:38.381Z"
   },
   {
    "duration": 30,
    "start_time": "2022-02-20T16:02:38.403Z"
   },
   {
    "duration": 15,
    "start_time": "2022-02-20T16:02:38.440Z"
   },
   {
    "duration": 7,
    "start_time": "2022-02-20T16:02:38.458Z"
   },
   {
    "duration": 37,
    "start_time": "2022-02-20T16:02:38.467Z"
   },
   {
    "duration": 4,
    "start_time": "2022-02-20T16:02:38.519Z"
   },
   {
    "duration": 721,
    "start_time": "2022-02-20T16:02:38.525Z"
   },
   {
    "duration": 7,
    "start_time": "2022-02-20T16:02:39.248Z"
   },
   {
    "duration": 95,
    "start_time": "2022-02-20T16:02:39.257Z"
   },
   {
    "duration": 64,
    "start_time": "2022-02-20T16:02:39.354Z"
   },
   {
    "duration": 5,
    "start_time": "2022-02-20T16:02:39.421Z"
   },
   {
    "duration": 18,
    "start_time": "2022-02-20T16:02:39.427Z"
   },
   {
    "duration": 540,
    "start_time": "2022-02-20T16:02:39.447Z"
   },
   {
    "duration": 261,
    "start_time": "2022-02-20T16:02:39.990Z"
   },
   {
    "duration": 255,
    "start_time": "2022-02-20T16:02:40.253Z"
   },
   {
    "duration": 313,
    "start_time": "2022-02-20T16:02:40.510Z"
   },
   {
    "duration": 11,
    "start_time": "2022-02-20T16:02:40.826Z"
   },
   {
    "duration": 282,
    "start_time": "2022-02-20T16:02:40.839Z"
   },
   {
    "duration": 46,
    "start_time": "2022-02-20T16:02:41.123Z"
   },
   {
    "duration": 11,
    "start_time": "2022-02-20T16:02:41.171Z"
   },
   {
    "duration": 11,
    "start_time": "2022-02-20T16:02:41.184Z"
   },
   {
    "duration": 3182,
    "start_time": "2022-02-20T16:02:41.198Z"
   },
   {
    "duration": 269,
    "start_time": "2022-02-20T16:02:44.382Z"
   },
   {
    "duration": 17,
    "start_time": "2022-02-20T16:02:44.653Z"
   },
   {
    "duration": 353,
    "start_time": "2022-02-20T16:02:44.672Z"
   },
   {
    "duration": 565,
    "start_time": "2022-02-20T16:02:45.027Z"
   },
   {
    "duration": 418,
    "start_time": "2022-02-20T16:02:45.594Z"
   },
   {
    "duration": 18,
    "start_time": "2022-02-20T16:02:46.019Z"
   },
   {
    "duration": 17,
    "start_time": "2022-02-20T16:02:46.039Z"
   },
   {
    "duration": 12,
    "start_time": "2022-02-20T16:02:46.058Z"
   },
   {
    "duration": 472,
    "start_time": "2022-02-20T16:02:46.073Z"
   },
   {
    "duration": 99,
    "start_time": "2022-02-20T16:02:46.547Z"
   },
   {
    "duration": -909,
    "start_time": "2022-02-20T16:02:47.557Z"
   },
   {
    "duration": -914,
    "start_time": "2022-02-20T16:02:47.563Z"
   },
   {
    "duration": -953,
    "start_time": "2022-02-20T16:02:47.603Z"
   },
   {
    "duration": -958,
    "start_time": "2022-02-20T16:02:47.609Z"
   },
   {
    "duration": -963,
    "start_time": "2022-02-20T16:02:47.615Z"
   },
   {
    "duration": -966,
    "start_time": "2022-02-20T16:02:47.619Z"
   },
   {
    "duration": -969,
    "start_time": "2022-02-20T16:02:47.623Z"
   },
   {
    "duration": -973,
    "start_time": "2022-02-20T16:02:47.628Z"
   },
   {
    "duration": -978,
    "start_time": "2022-02-20T16:02:47.633Z"
   },
   {
    "duration": 11,
    "start_time": "2022-02-20T16:04:41.854Z"
   },
   {
    "duration": 1324,
    "start_time": "2022-02-20T16:04:49.093Z"
   },
   {
    "duration": 10,
    "start_time": "2022-02-20T16:04:50.420Z"
   },
   {
    "duration": 94,
    "start_time": "2022-02-20T16:04:50.433Z"
   },
   {
    "duration": 28,
    "start_time": "2022-02-20T16:04:50.530Z"
   },
   {
    "duration": 22,
    "start_time": "2022-02-20T16:04:50.560Z"
   },
   {
    "duration": 111,
    "start_time": "2022-02-20T16:04:50.585Z"
   },
   {
    "duration": 30,
    "start_time": "2022-02-20T16:04:50.699Z"
   },
   {
    "duration": 56,
    "start_time": "2022-02-20T16:04:50.734Z"
   },
   {
    "duration": 36,
    "start_time": "2022-02-20T16:04:50.793Z"
   },
   {
    "duration": 31,
    "start_time": "2022-02-20T16:04:50.832Z"
   },
   {
    "duration": 8,
    "start_time": "2022-02-20T16:04:50.865Z"
   },
   {
    "duration": 254,
    "start_time": "2022-02-20T16:04:50.875Z"
   },
   {
    "duration": 19,
    "start_time": "2022-02-20T16:04:51.132Z"
   },
   {
    "duration": 252,
    "start_time": "2022-02-20T16:04:51.153Z"
   },
   {
    "duration": 18,
    "start_time": "2022-02-20T16:04:51.406Z"
   },
   {
    "duration": 26,
    "start_time": "2022-02-20T16:04:51.427Z"
   },
   {
    "duration": 29,
    "start_time": "2022-02-20T16:04:51.456Z"
   },
   {
    "duration": 31,
    "start_time": "2022-02-20T16:04:51.487Z"
   },
   {
    "duration": 40,
    "start_time": "2022-02-20T16:04:51.523Z"
   },
   {
    "duration": 17,
    "start_time": "2022-02-20T16:04:51.566Z"
   },
   {
    "duration": 14,
    "start_time": "2022-02-20T16:04:51.586Z"
   },
   {
    "duration": 13,
    "start_time": "2022-02-20T16:04:51.621Z"
   },
   {
    "duration": 18,
    "start_time": "2022-02-20T16:04:51.641Z"
   },
   {
    "duration": 32,
    "start_time": "2022-02-20T16:04:51.663Z"
   },
   {
    "duration": 16,
    "start_time": "2022-02-20T16:04:51.720Z"
   },
   {
    "duration": 28,
    "start_time": "2022-02-20T16:04:51.739Z"
   },
   {
    "duration": 17,
    "start_time": "2022-02-20T16:04:51.770Z"
   },
   {
    "duration": 39,
    "start_time": "2022-02-20T16:04:51.790Z"
   },
   {
    "duration": 14,
    "start_time": "2022-02-20T16:04:51.832Z"
   },
   {
    "duration": 26,
    "start_time": "2022-02-20T16:04:51.848Z"
   },
   {
    "duration": 4,
    "start_time": "2022-02-20T16:04:51.877Z"
   },
   {
    "duration": 855,
    "start_time": "2022-02-20T16:04:51.884Z"
   },
   {
    "duration": 8,
    "start_time": "2022-02-20T16:04:52.743Z"
   },
   {
    "duration": 35,
    "start_time": "2022-02-20T16:04:52.752Z"
   },
   {
    "duration": 53,
    "start_time": "2022-02-20T16:04:52.789Z"
   },
   {
    "duration": 5,
    "start_time": "2022-02-20T16:04:52.844Z"
   },
   {
    "duration": 8,
    "start_time": "2022-02-20T16:04:52.851Z"
   },
   {
    "duration": 241,
    "start_time": "2022-02-20T16:04:52.861Z"
   },
   {
    "duration": 318,
    "start_time": "2022-02-20T16:04:53.103Z"
   },
   {
    "duration": 251,
    "start_time": "2022-02-20T16:04:53.424Z"
   },
   {
    "duration": 246,
    "start_time": "2022-02-20T16:04:53.677Z"
   },
   {
    "duration": 13,
    "start_time": "2022-02-20T16:04:53.925Z"
   },
   {
    "duration": 240,
    "start_time": "2022-02-20T16:04:53.941Z"
   },
   {
    "duration": 42,
    "start_time": "2022-02-20T16:04:54.184Z"
   },
   {
    "duration": 14,
    "start_time": "2022-02-20T16:04:54.228Z"
   },
   {
    "duration": 13,
    "start_time": "2022-02-20T16:04:54.246Z"
   },
   {
    "duration": 3343,
    "start_time": "2022-02-20T16:04:54.261Z"
   },
   {
    "duration": 362,
    "start_time": "2022-02-20T16:04:57.607Z"
   },
   {
    "duration": 23,
    "start_time": "2022-02-20T16:04:57.971Z"
   },
   {
    "duration": 477,
    "start_time": "2022-02-20T16:04:57.997Z"
   },
   {
    "duration": 629,
    "start_time": "2022-02-20T16:04:58.477Z"
   },
   {
    "duration": 606,
    "start_time": "2022-02-20T16:04:59.108Z"
   },
   {
    "duration": 21,
    "start_time": "2022-02-20T16:04:59.719Z"
   },
   {
    "duration": 14,
    "start_time": "2022-02-20T16:04:59.743Z"
   },
   {
    "duration": 12,
    "start_time": "2022-02-20T16:04:59.759Z"
   },
   {
    "duration": 527,
    "start_time": "2022-02-20T16:04:59.773Z"
   },
   {
    "duration": 362,
    "start_time": "2022-02-20T16:05:00.303Z"
   },
   {
    "duration": 355,
    "start_time": "2022-02-20T16:05:00.667Z"
   },
   {
    "duration": 375,
    "start_time": "2022-02-20T16:05:01.026Z"
   },
   {
    "duration": 36,
    "start_time": "2022-02-20T16:05:01.403Z"
   },
   {
    "duration": 42,
    "start_time": "2022-02-20T16:05:01.443Z"
   },
   {
    "duration": 46,
    "start_time": "2022-02-20T16:05:01.487Z"
   },
   {
    "duration": 27,
    "start_time": "2022-02-20T16:05:01.535Z"
   },
   {
    "duration": 77,
    "start_time": "2022-02-20T16:05:01.564Z"
   },
   {
    "duration": 356,
    "start_time": "2022-02-20T16:05:01.644Z"
   },
   {
    "duration": 86,
    "start_time": "2022-02-20T16:11:13.904Z"
   },
   {
    "duration": 61,
    "start_time": "2022-02-20T16:11:50.536Z"
   },
   {
    "duration": 20,
    "start_time": "2022-02-20T16:12:09.903Z"
   },
   {
    "duration": 30,
    "start_time": "2022-02-20T16:12:12.055Z"
   },
   {
    "duration": 28,
    "start_time": "2022-02-20T16:12:12.719Z"
   },
   {
    "duration": 30,
    "start_time": "2022-02-20T16:12:22.152Z"
   },
   {
    "duration": 324,
    "start_time": "2022-02-20T16:15:34.133Z"
   },
   {
    "duration": 88,
    "start_time": "2022-02-20T16:16:46.509Z"
   },
   {
    "duration": 64,
    "start_time": "2022-02-20T16:17:55.378Z"
   },
   {
    "duration": 364,
    "start_time": "2022-02-20T16:20:04.115Z"
   },
   {
    "duration": 321,
    "start_time": "2022-02-20T16:20:23.012Z"
   },
   {
    "duration": 20,
    "start_time": "2022-02-20T16:22:54.570Z"
   },
   {
    "duration": 17,
    "start_time": "2022-02-20T16:23:09.162Z"
   },
   {
    "duration": 105,
    "start_time": "2022-02-20T16:27:04.073Z"
   },
   {
    "duration": 100,
    "start_time": "2022-02-20T16:28:53.321Z"
   },
   {
    "duration": 8805,
    "start_time": "2022-02-20T17:47:45.581Z"
   },
   {
    "duration": 559,
    "start_time": "2022-02-20T17:48:14.367Z"
   },
   {
    "duration": 581,
    "start_time": "2022-02-20T17:48:26.390Z"
   },
   {
    "duration": 1025,
    "start_time": "2022-02-20T17:48:41.918Z"
   },
   {
    "duration": 1222,
    "start_time": "2022-02-20T17:48:47.967Z"
   },
   {
    "duration": 1193,
    "start_time": "2022-02-20T17:49:09.134Z"
   },
   {
    "duration": 321,
    "start_time": "2022-02-20T17:49:16.949Z"
   },
   {
    "duration": 247,
    "start_time": "2022-02-20T17:49:25.652Z"
   },
   {
    "duration": 1107,
    "start_time": "2022-02-20T17:49:33.646Z"
   },
   {
    "duration": 7725,
    "start_time": "2022-02-20T17:52:19.948Z"
   },
   {
    "duration": 1128,
    "start_time": "2022-02-20T17:52:33.332Z"
   },
   {
    "duration": 254,
    "start_time": "2022-02-20T17:52:40.900Z"
   },
   {
    "duration": 26585,
    "start_time": "2022-02-20T17:54:09.091Z"
   },
   {
    "duration": 17,
    "start_time": "2022-02-20T17:57:22.139Z"
   },
   {
    "duration": 1615,
    "start_time": "2022-02-20T19:47:23.334Z"
   },
   {
    "duration": 4,
    "start_time": "2022-02-20T19:47:24.952Z"
   },
   {
    "duration": 117,
    "start_time": "2022-02-20T19:47:24.959Z"
   },
   {
    "duration": 45,
    "start_time": "2022-02-20T19:47:25.079Z"
   },
   {
    "duration": 27,
    "start_time": "2022-02-20T19:47:25.127Z"
   },
   {
    "duration": 107,
    "start_time": "2022-02-20T19:47:25.157Z"
   },
   {
    "duration": 15,
    "start_time": "2022-02-20T19:47:25.266Z"
   },
   {
    "duration": 65,
    "start_time": "2022-02-20T19:47:25.285Z"
   },
   {
    "duration": 12,
    "start_time": "2022-02-20T19:47:25.353Z"
   },
   {
    "duration": 54,
    "start_time": "2022-02-20T19:47:25.367Z"
   },
   {
    "duration": 12,
    "start_time": "2022-02-20T19:47:25.423Z"
   },
   {
    "duration": 230,
    "start_time": "2022-02-20T19:47:25.437Z"
   },
   {
    "duration": 12,
    "start_time": "2022-02-20T19:47:25.670Z"
   },
   {
    "duration": 168,
    "start_time": "2022-02-20T19:47:25.684Z"
   },
   {
    "duration": 10,
    "start_time": "2022-02-20T19:47:25.854Z"
   },
   {
    "duration": 17,
    "start_time": "2022-02-20T19:47:25.866Z"
   },
   {
    "duration": 41,
    "start_time": "2022-02-20T19:47:25.885Z"
   },
   {
    "duration": 8,
    "start_time": "2022-02-20T19:47:25.929Z"
   },
   {
    "duration": 27,
    "start_time": "2022-02-20T19:47:25.939Z"
   },
   {
    "duration": 12,
    "start_time": "2022-02-20T19:47:25.968Z"
   },
   {
    "duration": 39,
    "start_time": "2022-02-20T19:47:25.982Z"
   },
   {
    "duration": 11,
    "start_time": "2022-02-20T19:47:26.023Z"
   },
   {
    "duration": 11,
    "start_time": "2022-02-20T19:47:26.039Z"
   },
   {
    "duration": 21,
    "start_time": "2022-02-20T19:47:26.054Z"
   },
   {
    "duration": 45,
    "start_time": "2022-02-20T19:47:26.077Z"
   },
   {
    "duration": 20,
    "start_time": "2022-02-20T19:47:26.124Z"
   },
   {
    "duration": 17,
    "start_time": "2022-02-20T19:47:26.147Z"
   },
   {
    "duration": 13,
    "start_time": "2022-02-20T19:47:26.167Z"
   },
   {
    "duration": 36,
    "start_time": "2022-02-20T19:47:26.182Z"
   },
   {
    "duration": 32,
    "start_time": "2022-02-20T19:47:26.221Z"
   },
   {
    "duration": 4,
    "start_time": "2022-02-20T19:47:26.256Z"
   },
   {
    "duration": 890,
    "start_time": "2022-02-20T19:47:26.262Z"
   },
   {
    "duration": 7,
    "start_time": "2022-02-20T19:47:27.155Z"
   },
   {
    "duration": 56,
    "start_time": "2022-02-20T19:47:27.164Z"
   },
   {
    "duration": 36,
    "start_time": "2022-02-20T19:47:27.222Z"
   },
   {
    "duration": 3,
    "start_time": "2022-02-20T19:47:27.260Z"
   },
   {
    "duration": 25413,
    "start_time": "2022-02-20T19:47:27.265Z"
   },
   {
    "duration": 4,
    "start_time": "2022-02-20T19:47:52.680Z"
   },
   {
    "duration": 220,
    "start_time": "2022-02-20T19:47:52.685Z"
   },
   {
    "duration": 215,
    "start_time": "2022-02-20T19:47:52.906Z"
   },
   {
    "duration": 226,
    "start_time": "2022-02-20T19:47:53.122Z"
   },
   {
    "duration": 230,
    "start_time": "2022-02-20T19:47:53.350Z"
   },
   {
    "duration": 15,
    "start_time": "2022-02-20T19:47:53.582Z"
   },
   {
    "duration": 249,
    "start_time": "2022-02-20T19:47:53.600Z"
   },
   {
    "duration": 42,
    "start_time": "2022-02-20T19:47:53.851Z"
   },
   {
    "duration": 95,
    "start_time": "2022-02-20T19:47:53.895Z"
   },
   {
    "duration": 23934,
    "start_time": "2022-02-20T19:47:53.993Z"
   },
   {
    "duration": 12,
    "start_time": "2022-02-20T19:48:17.929Z"
   },
   {
    "duration": 10,
    "start_time": "2022-02-20T19:48:17.943Z"
   },
   {
    "duration": 3096,
    "start_time": "2022-02-20T19:48:17.955Z"
   },
   {
    "duration": 254,
    "start_time": "2022-02-20T19:48:21.053Z"
   },
   {
    "duration": 23,
    "start_time": "2022-02-20T19:48:21.309Z"
   },
   {
    "duration": 328,
    "start_time": "2022-02-20T19:48:21.334Z"
   },
   {
    "duration": 396,
    "start_time": "2022-02-20T19:48:21.664Z"
   },
   {
    "duration": 402,
    "start_time": "2022-02-20T19:48:22.062Z"
   },
   {
    "duration": 13,
    "start_time": "2022-02-20T19:48:22.466Z"
   },
   {
    "duration": 8,
    "start_time": "2022-02-20T19:48:22.481Z"
   },
   {
    "duration": 34,
    "start_time": "2022-02-20T19:48:22.491Z"
   },
   {
    "duration": 434,
    "start_time": "2022-02-20T19:48:22.527Z"
   },
   {
    "duration": 347,
    "start_time": "2022-02-20T19:48:22.963Z"
   },
   {
    "duration": 227,
    "start_time": "2022-02-20T19:48:23.312Z"
   },
   {
    "duration": 259,
    "start_time": "2022-02-20T19:48:23.541Z"
   },
   {
    "duration": 255,
    "start_time": "2022-02-20T19:48:23.802Z"
   },
   {
    "duration": 20,
    "start_time": "2022-02-20T19:48:24.059Z"
   },
   {
    "duration": 46,
    "start_time": "2022-02-20T19:48:24.081Z"
   },
   {
    "duration": 26,
    "start_time": "2022-02-20T19:48:24.129Z"
   },
   {
    "duration": 70,
    "start_time": "2022-02-20T19:48:24.157Z"
   },
   {
    "duration": 254,
    "start_time": "2022-02-20T19:48:24.233Z"
   },
   {
    "duration": 80,
    "start_time": "2022-02-20T19:51:25.259Z"
   },
   {
    "duration": 1289,
    "start_time": "2022-02-20T19:51:31.121Z"
   },
   {
    "duration": 3,
    "start_time": "2022-02-20T19:51:32.412Z"
   },
   {
    "duration": 82,
    "start_time": "2022-02-20T19:51:32.418Z"
   },
   {
    "duration": 25,
    "start_time": "2022-02-20T19:51:32.502Z"
   },
   {
    "duration": 23,
    "start_time": "2022-02-20T19:51:32.530Z"
   },
   {
    "duration": 104,
    "start_time": "2022-02-20T19:51:32.556Z"
   },
   {
    "duration": 14,
    "start_time": "2022-02-20T19:51:32.662Z"
   },
   {
    "duration": 59,
    "start_time": "2022-02-20T19:51:32.678Z"
   },
   {
    "duration": 11,
    "start_time": "2022-02-20T19:51:32.740Z"
   },
   {
    "duration": 40,
    "start_time": "2022-02-20T19:51:32.753Z"
   },
   {
    "duration": 23,
    "start_time": "2022-02-20T19:51:32.795Z"
   },
   {
    "duration": 149,
    "start_time": "2022-02-20T19:51:32.820Z"
   },
   {
    "duration": 11,
    "start_time": "2022-02-20T19:51:32.972Z"
   },
   {
    "duration": 175,
    "start_time": "2022-02-20T19:51:32.985Z"
   },
   {
    "duration": 11,
    "start_time": "2022-02-20T19:51:33.162Z"
   },
   {
    "duration": 35,
    "start_time": "2022-02-20T19:51:33.175Z"
   },
   {
    "duration": 33,
    "start_time": "2022-02-20T19:51:33.213Z"
   },
   {
    "duration": 31,
    "start_time": "2022-02-20T19:51:33.248Z"
   },
   {
    "duration": 32,
    "start_time": "2022-02-20T19:51:33.281Z"
   },
   {
    "duration": 13,
    "start_time": "2022-02-20T19:51:33.315Z"
   },
   {
    "duration": 38,
    "start_time": "2022-02-20T19:51:33.330Z"
   },
   {
    "duration": 38,
    "start_time": "2022-02-20T19:51:33.371Z"
   },
   {
    "duration": 32,
    "start_time": "2022-02-20T19:51:33.411Z"
   },
   {
    "duration": 33,
    "start_time": "2022-02-20T19:51:33.445Z"
   },
   {
    "duration": 23,
    "start_time": "2022-02-20T19:51:33.480Z"
   },
   {
    "duration": 24,
    "start_time": "2022-02-20T19:51:33.505Z"
   },
   {
    "duration": 21,
    "start_time": "2022-02-20T19:51:33.533Z"
   },
   {
    "duration": 10,
    "start_time": "2022-02-20T19:51:33.557Z"
   },
   {
    "duration": 14,
    "start_time": "2022-02-20T19:51:33.569Z"
   },
   {
    "duration": 42,
    "start_time": "2022-02-20T19:51:33.585Z"
   },
   {
    "duration": 4,
    "start_time": "2022-02-20T19:51:33.629Z"
   },
   {
    "duration": 612,
    "start_time": "2022-02-20T19:51:33.635Z"
   },
   {
    "duration": 5,
    "start_time": "2022-02-20T19:51:34.249Z"
   },
   {
    "duration": 83,
    "start_time": "2022-02-20T19:51:34.256Z"
   },
   {
    "duration": 90,
    "start_time": "2022-02-20T19:51:34.341Z"
   },
   {
    "duration": 3,
    "start_time": "2022-02-20T19:51:34.433Z"
   },
   {
    "duration": 186,
    "start_time": "2022-02-20T19:51:34.438Z"
   },
   {
    "duration": 100766,
    "start_time": "2022-02-20T19:51:34.626Z"
   },
   {
    "duration": 84,
    "start_time": "2022-02-20T19:53:15.394Z"
   },
   {
    "duration": 5,
    "start_time": "2022-02-20T19:53:15.481Z"
   },
   {
    "duration": 347,
    "start_time": "2022-02-20T19:53:15.488Z"
   },
   {
    "duration": 328,
    "start_time": "2022-02-20T19:53:15.837Z"
   },
   {
    "duration": 341,
    "start_time": "2022-02-20T19:53:16.168Z"
   },
   {
    "duration": 352,
    "start_time": "2022-02-20T19:53:16.519Z"
   },
   {
    "duration": 27,
    "start_time": "2022-02-20T19:53:16.874Z"
   },
   {
    "duration": 344,
    "start_time": "2022-02-20T19:53:16.903Z"
   },
   {
    "duration": 48,
    "start_time": "2022-02-20T19:53:17.250Z"
   },
   {
    "duration": 94,
    "start_time": "2022-02-20T19:53:17.300Z"
   },
   {
    "duration": 24585,
    "start_time": "2022-02-20T19:53:17.396Z"
   },
   {
    "duration": 12,
    "start_time": "2022-02-20T19:53:41.983Z"
   },
   {
    "duration": 23,
    "start_time": "2022-02-20T19:53:41.997Z"
   },
   {
    "duration": 2811,
    "start_time": "2022-02-20T19:53:42.022Z"
   },
   {
    "duration": 272,
    "start_time": "2022-02-20T19:53:44.835Z"
   },
   {
    "duration": 21,
    "start_time": "2022-02-20T19:53:45.109Z"
   },
   {
    "duration": 548,
    "start_time": "2022-02-20T19:53:45.132Z"
   },
   {
    "duration": 668,
    "start_time": "2022-02-20T19:53:45.683Z"
   },
   {
    "duration": 481,
    "start_time": "2022-02-20T19:53:46.355Z"
   },
   {
    "duration": 21,
    "start_time": "2022-02-20T19:53:46.839Z"
   },
   {
    "duration": 16,
    "start_time": "2022-02-20T19:53:46.863Z"
   },
   {
    "duration": 38,
    "start_time": "2022-02-20T19:53:46.881Z"
   },
   {
    "duration": 800,
    "start_time": "2022-02-20T19:53:46.922Z"
   },
   {
    "duration": 540,
    "start_time": "2022-02-20T19:53:47.725Z"
   },
   {
    "duration": 368,
    "start_time": "2022-02-20T19:53:48.268Z"
   },
   {
    "duration": 254,
    "start_time": "2022-02-20T19:53:48.638Z"
   },
   {
    "duration": 265,
    "start_time": "2022-02-20T19:53:48.894Z"
   },
   {
    "duration": 18,
    "start_time": "2022-02-20T19:53:49.161Z"
   },
   {
    "duration": 45,
    "start_time": "2022-02-20T19:53:49.181Z"
   },
   {
    "duration": 25,
    "start_time": "2022-02-20T19:53:49.228Z"
   },
   {
    "duration": 68,
    "start_time": "2022-02-20T19:53:49.256Z"
   },
   {
    "duration": 261,
    "start_time": "2022-02-20T19:53:49.327Z"
   },
   {
    "duration": 98692,
    "start_time": "2022-02-20T19:54:16.047Z"
   },
   {
    "duration": 171,
    "start_time": "2022-02-20T19:56:05.656Z"
   },
   {
    "duration": 1325,
    "start_time": "2022-02-20T19:56:35.484Z"
   },
   {
    "duration": 3,
    "start_time": "2022-02-20T19:56:36.811Z"
   },
   {
    "duration": 80,
    "start_time": "2022-02-20T19:56:36.817Z"
   },
   {
    "duration": 27,
    "start_time": "2022-02-20T19:56:36.900Z"
   },
   {
    "duration": 23,
    "start_time": "2022-02-20T19:56:36.929Z"
   },
   {
    "duration": 88,
    "start_time": "2022-02-20T19:56:36.954Z"
   },
   {
    "duration": 12,
    "start_time": "2022-02-20T19:56:37.044Z"
   },
   {
    "duration": 74,
    "start_time": "2022-02-20T19:56:37.058Z"
   },
   {
    "duration": 12,
    "start_time": "2022-02-20T19:56:37.135Z"
   },
   {
    "duration": 30,
    "start_time": "2022-02-20T19:56:37.150Z"
   },
   {
    "duration": 7,
    "start_time": "2022-02-20T19:56:37.182Z"
   },
   {
    "duration": 144,
    "start_time": "2022-02-20T19:56:37.218Z"
   },
   {
    "duration": 11,
    "start_time": "2022-02-20T19:56:37.364Z"
   },
   {
    "duration": 180,
    "start_time": "2022-02-20T19:56:37.377Z"
   },
   {
    "duration": 13,
    "start_time": "2022-02-20T19:56:37.559Z"
   },
   {
    "duration": 15,
    "start_time": "2022-02-20T19:56:37.574Z"
   },
   {
    "duration": 46,
    "start_time": "2022-02-20T19:56:37.591Z"
   },
   {
    "duration": 9,
    "start_time": "2022-02-20T19:56:37.640Z"
   },
   {
    "duration": 48,
    "start_time": "2022-02-20T19:56:37.652Z"
   },
   {
    "duration": 21,
    "start_time": "2022-02-20T19:56:37.703Z"
   },
   {
    "duration": 10,
    "start_time": "2022-02-20T19:56:37.726Z"
   },
   {
    "duration": 9,
    "start_time": "2022-02-20T19:56:37.738Z"
   },
   {
    "duration": 16,
    "start_time": "2022-02-20T19:56:37.749Z"
   },
   {
    "duration": 60,
    "start_time": "2022-02-20T19:56:37.767Z"
   },
   {
    "duration": 11,
    "start_time": "2022-02-20T19:56:37.829Z"
   },
   {
    "duration": 26,
    "start_time": "2022-02-20T19:56:37.842Z"
   },
   {
    "duration": 18,
    "start_time": "2022-02-20T19:56:37.875Z"
   },
   {
    "duration": 14,
    "start_time": "2022-02-20T19:56:37.920Z"
   },
   {
    "duration": 6,
    "start_time": "2022-02-20T19:56:37.937Z"
   },
   {
    "duration": 32,
    "start_time": "2022-02-20T19:56:37.945Z"
   },
   {
    "duration": 5,
    "start_time": "2022-02-20T19:56:37.979Z"
   },
   {
    "duration": 950,
    "start_time": "2022-02-20T19:56:37.986Z"
   },
   {
    "duration": 8,
    "start_time": "2022-02-20T19:56:38.939Z"
   },
   {
    "duration": 30,
    "start_time": "2022-02-20T19:56:38.949Z"
   },
   {
    "duration": 51,
    "start_time": "2022-02-20T19:56:38.982Z"
   },
   {
    "duration": 6,
    "start_time": "2022-02-20T19:56:39.035Z"
   },
   {
    "duration": 88,
    "start_time": "2022-02-20T19:56:39.043Z"
   },
   {
    "duration": 101641,
    "start_time": "2022-02-20T19:56:39.133Z"
   },
   {
    "duration": 157,
    "start_time": "2022-02-20T19:58:20.776Z"
   },
   {
    "duration": 3,
    "start_time": "2022-02-20T19:58:20.935Z"
   },
   {
    "duration": 268,
    "start_time": "2022-02-20T19:58:20.941Z"
   },
   {
    "duration": 234,
    "start_time": "2022-02-20T19:58:21.219Z"
   },
   {
    "duration": 257,
    "start_time": "2022-02-20T19:58:21.455Z"
   },
   {
    "duration": 238,
    "start_time": "2022-02-20T19:58:21.718Z"
   },
   {
    "duration": 38,
    "start_time": "2022-02-20T19:58:21.958Z"
   },
   {
    "duration": 250,
    "start_time": "2022-02-20T19:58:21.998Z"
   },
   {
    "duration": 377,
    "start_time": "2022-02-20T19:58:22.251Z"
   },
   {
    "duration": -982,
    "start_time": "2022-02-20T19:58:23.613Z"
   },
   {
    "duration": -990,
    "start_time": "2022-02-20T19:58:23.623Z"
   },
   {
    "duration": -997,
    "start_time": "2022-02-20T19:58:23.631Z"
   },
   {
    "duration": -1002,
    "start_time": "2022-02-20T19:58:23.638Z"
   },
   {
    "duration": -1007,
    "start_time": "2022-02-20T19:58:23.645Z"
   },
   {
    "duration": -1015,
    "start_time": "2022-02-20T19:58:23.654Z"
   },
   {
    "duration": -1022,
    "start_time": "2022-02-20T19:58:23.663Z"
   },
   {
    "duration": -1025,
    "start_time": "2022-02-20T19:58:23.668Z"
   },
   {
    "duration": -1030,
    "start_time": "2022-02-20T19:58:23.675Z"
   },
   {
    "duration": -1037,
    "start_time": "2022-02-20T19:58:23.683Z"
   },
   {
    "duration": -1045,
    "start_time": "2022-02-20T19:58:23.692Z"
   },
   {
    "duration": -1066,
    "start_time": "2022-02-20T19:58:23.714Z"
   },
   {
    "duration": -1073,
    "start_time": "2022-02-20T19:58:23.722Z"
   },
   {
    "duration": -1079,
    "start_time": "2022-02-20T19:58:23.729Z"
   },
   {
    "duration": -1088,
    "start_time": "2022-02-20T19:58:23.738Z"
   },
   {
    "duration": -1095,
    "start_time": "2022-02-20T19:58:23.746Z"
   },
   {
    "duration": -1101,
    "start_time": "2022-02-20T19:58:23.753Z"
   },
   {
    "duration": -1107,
    "start_time": "2022-02-20T19:58:23.760Z"
   },
   {
    "duration": -1110,
    "start_time": "2022-02-20T19:58:23.764Z"
   },
   {
    "duration": -1115,
    "start_time": "2022-02-20T19:58:23.769Z"
   },
   {
    "duration": -1120,
    "start_time": "2022-02-20T19:58:23.775Z"
   },
   {
    "duration": -1124,
    "start_time": "2022-02-20T19:58:23.780Z"
   },
   {
    "duration": -1127,
    "start_time": "2022-02-20T19:58:23.784Z"
   },
   {
    "duration": 1260,
    "start_time": "2022-02-20T19:59:11.190Z"
   },
   {
    "duration": 3,
    "start_time": "2022-02-20T19:59:12.453Z"
   },
   {
    "duration": 76,
    "start_time": "2022-02-20T19:59:12.458Z"
   },
   {
    "duration": 38,
    "start_time": "2022-02-20T19:59:12.537Z"
   },
   {
    "duration": 47,
    "start_time": "2022-02-20T19:59:12.578Z"
   },
   {
    "duration": 75,
    "start_time": "2022-02-20T19:59:12.627Z"
   },
   {
    "duration": 13,
    "start_time": "2022-02-20T19:59:12.719Z"
   },
   {
    "duration": 46,
    "start_time": "2022-02-20T19:59:12.734Z"
   },
   {
    "duration": 42,
    "start_time": "2022-02-20T19:59:12.784Z"
   },
   {
    "duration": 30,
    "start_time": "2022-02-20T19:59:12.829Z"
   },
   {
    "duration": 8,
    "start_time": "2022-02-20T19:59:12.861Z"
   },
   {
    "duration": 257,
    "start_time": "2022-02-20T19:59:12.871Z"
   },
   {
    "duration": 12,
    "start_time": "2022-02-20T19:59:13.130Z"
   },
   {
    "duration": 170,
    "start_time": "2022-02-20T19:59:13.144Z"
   },
   {
    "duration": 11,
    "start_time": "2022-02-20T19:59:13.318Z"
   },
   {
    "duration": 18,
    "start_time": "2022-02-20T19:59:13.332Z"
   },
   {
    "duration": 33,
    "start_time": "2022-02-20T19:59:13.352Z"
   },
   {
    "duration": 32,
    "start_time": "2022-02-20T19:59:13.388Z"
   },
   {
    "duration": 36,
    "start_time": "2022-02-20T19:59:13.423Z"
   },
   {
    "duration": 13,
    "start_time": "2022-02-20T19:59:13.462Z"
   },
   {
    "duration": 45,
    "start_time": "2022-02-20T19:59:13.477Z"
   },
   {
    "duration": 10,
    "start_time": "2022-02-20T19:59:13.524Z"
   },
   {
    "duration": 11,
    "start_time": "2022-02-20T19:59:13.535Z"
   },
   {
    "duration": 21,
    "start_time": "2022-02-20T19:59:13.548Z"
   },
   {
    "duration": 11,
    "start_time": "2022-02-20T19:59:13.571Z"
   },
   {
    "duration": 54,
    "start_time": "2022-02-20T19:59:13.585Z"
   },
   {
    "duration": 20,
    "start_time": "2022-02-20T19:59:13.645Z"
   },
   {
    "duration": 13,
    "start_time": "2022-02-20T19:59:13.668Z"
   },
   {
    "duration": 10,
    "start_time": "2022-02-20T19:59:13.683Z"
   },
   {
    "duration": 25,
    "start_time": "2022-02-20T19:59:13.719Z"
   },
   {
    "duration": 3,
    "start_time": "2022-02-20T19:59:13.746Z"
   },
   {
    "duration": 851,
    "start_time": "2022-02-20T19:59:13.751Z"
   },
   {
    "duration": 16,
    "start_time": "2022-02-20T19:59:14.604Z"
   },
   {
    "duration": 36,
    "start_time": "2022-02-20T19:59:14.623Z"
   },
   {
    "duration": 23,
    "start_time": "2022-02-20T19:59:14.661Z"
   },
   {
    "duration": 3,
    "start_time": "2022-02-20T19:59:14.686Z"
   },
   {
    "duration": 108,
    "start_time": "2022-02-20T19:59:14.691Z"
   },
   {
    "duration": 106417,
    "start_time": "2022-02-20T19:59:14.801Z"
   },
   {
    "duration": 184,
    "start_time": "2022-02-20T20:01:01.220Z"
   },
   {
    "duration": 13,
    "start_time": "2022-02-20T20:01:01.407Z"
   },
   {
    "duration": 291,
    "start_time": "2022-02-20T20:01:01.423Z"
   },
   {
    "duration": 356,
    "start_time": "2022-02-20T20:01:01.718Z"
   },
   {
    "duration": 258,
    "start_time": "2022-02-20T20:01:02.076Z"
   },
   {
    "duration": 250,
    "start_time": "2022-02-20T20:01:02.336Z"
   },
   {
    "duration": 52,
    "start_time": "2022-02-20T20:01:02.588Z"
   },
   {
    "duration": 250,
    "start_time": "2022-02-20T20:01:02.642Z"
   },
   {
    "duration": 648,
    "start_time": "2022-02-20T20:01:02.894Z"
   },
   {
    "duration": -979,
    "start_time": "2022-02-20T20:01:04.524Z"
   },
   {
    "duration": -985,
    "start_time": "2022-02-20T20:01:04.532Z"
   },
   {
    "duration": -990,
    "start_time": "2022-02-20T20:01:04.538Z"
   },
   {
    "duration": -995,
    "start_time": "2022-02-20T20:01:04.545Z"
   },
   {
    "duration": -1006,
    "start_time": "2022-02-20T20:01:04.557Z"
   },
   {
    "duration": -1016,
    "start_time": "2022-02-20T20:01:04.568Z"
   },
   {
    "duration": -1022,
    "start_time": "2022-02-20T20:01:04.576Z"
   },
   {
    "duration": -1030,
    "start_time": "2022-02-20T20:01:04.585Z"
   },
   {
    "duration": -1036,
    "start_time": "2022-02-20T20:01:04.592Z"
   },
   {
    "duration": -1043,
    "start_time": "2022-02-20T20:01:04.600Z"
   },
   {
    "duration": -1067,
    "start_time": "2022-02-20T20:01:04.625Z"
   },
   {
    "duration": -1073,
    "start_time": "2022-02-20T20:01:04.632Z"
   },
   {
    "duration": -1079,
    "start_time": "2022-02-20T20:01:04.639Z"
   },
   {
    "duration": -1086,
    "start_time": "2022-02-20T20:01:04.647Z"
   },
   {
    "duration": -1094,
    "start_time": "2022-02-20T20:01:04.656Z"
   },
   {
    "duration": -1103,
    "start_time": "2022-02-20T20:01:04.666Z"
   },
   {
    "duration": -1112,
    "start_time": "2022-02-20T20:01:04.676Z"
   },
   {
    "duration": -1118,
    "start_time": "2022-02-20T20:01:04.683Z"
   },
   {
    "duration": -1127,
    "start_time": "2022-02-20T20:01:04.693Z"
   },
   {
    "duration": -1134,
    "start_time": "2022-02-20T20:01:04.701Z"
   },
   {
    "duration": -1147,
    "start_time": "2022-02-20T20:01:04.715Z"
   },
   {
    "duration": -1166,
    "start_time": "2022-02-20T20:01:04.735Z"
   },
   {
    "duration": -1199,
    "start_time": "2022-02-20T20:01:04.769Z"
   },
   {
    "duration": 1310,
    "start_time": "2022-02-20T20:02:14.141Z"
   },
   {
    "duration": 3,
    "start_time": "2022-02-20T20:02:15.454Z"
   },
   {
    "duration": 104,
    "start_time": "2022-02-20T20:02:15.459Z"
   },
   {
    "duration": 23,
    "start_time": "2022-02-20T20:02:15.565Z"
   },
   {
    "duration": 33,
    "start_time": "2022-02-20T20:02:15.591Z"
   },
   {
    "duration": 76,
    "start_time": "2022-02-20T20:02:15.626Z"
   },
   {
    "duration": 26,
    "start_time": "2022-02-20T20:02:15.704Z"
   },
   {
    "duration": 48,
    "start_time": "2022-02-20T20:02:15.733Z"
   },
   {
    "duration": 37,
    "start_time": "2022-02-20T20:02:15.784Z"
   },
   {
    "duration": 28,
    "start_time": "2022-02-20T20:02:15.823Z"
   },
   {
    "duration": 10,
    "start_time": "2022-02-20T20:02:15.854Z"
   },
   {
    "duration": 256,
    "start_time": "2022-02-20T20:02:15.867Z"
   },
   {
    "duration": 12,
    "start_time": "2022-02-20T20:02:16.125Z"
   },
   {
    "duration": 162,
    "start_time": "2022-02-20T20:02:16.139Z"
   },
   {
    "duration": 19,
    "start_time": "2022-02-20T20:02:16.303Z"
   },
   {
    "duration": 14,
    "start_time": "2022-02-20T20:02:16.324Z"
   },
   {
    "duration": 29,
    "start_time": "2022-02-20T20:02:16.340Z"
   },
   {
    "duration": 24,
    "start_time": "2022-02-20T20:02:16.371Z"
   },
   {
    "duration": 34,
    "start_time": "2022-02-20T20:02:16.398Z"
   },
   {
    "duration": 11,
    "start_time": "2022-02-20T20:02:16.434Z"
   },
   {
    "duration": 13,
    "start_time": "2022-02-20T20:02:16.447Z"
   },
   {
    "duration": 8,
    "start_time": "2022-02-20T20:02:16.463Z"
   },
   {
    "duration": 15,
    "start_time": "2022-02-20T20:02:16.476Z"
   },
   {
    "duration": 58,
    "start_time": "2022-02-20T20:02:16.494Z"
   },
   {
    "duration": 31,
    "start_time": "2022-02-20T20:02:16.554Z"
   },
   {
    "duration": 30,
    "start_time": "2022-02-20T20:02:16.587Z"
   },
   {
    "duration": 19,
    "start_time": "2022-02-20T20:02:16.620Z"
   },
   {
    "duration": 13,
    "start_time": "2022-02-20T20:02:16.641Z"
   },
   {
    "duration": 27,
    "start_time": "2022-02-20T20:02:16.657Z"
   },
   {
    "duration": 49,
    "start_time": "2022-02-20T20:02:16.686Z"
   },
   {
    "duration": 4,
    "start_time": "2022-02-20T20:02:16.738Z"
   },
   {
    "duration": 550,
    "start_time": "2022-02-20T20:02:16.744Z"
   },
   {
    "duration": 6,
    "start_time": "2022-02-20T20:02:17.295Z"
   },
   {
    "duration": 43,
    "start_time": "2022-02-20T20:02:17.303Z"
   },
   {
    "duration": 24,
    "start_time": "2022-02-20T20:02:17.348Z"
   },
   {
    "duration": 3,
    "start_time": "2022-02-20T20:02:17.374Z"
   },
   {
    "duration": 85,
    "start_time": "2022-02-20T20:02:17.380Z"
   },
   {
    "duration": 395,
    "start_time": "2022-02-20T20:02:17.467Z"
   },
   {
    "duration": -1254,
    "start_time": "2022-02-20T20:02:19.118Z"
   },
   {
    "duration": -1258,
    "start_time": "2022-02-20T20:02:19.123Z"
   },
   {
    "duration": -1340,
    "start_time": "2022-02-20T20:02:19.206Z"
   },
   {
    "duration": -1346,
    "start_time": "2022-02-20T20:02:19.213Z"
   },
   {
    "duration": -1353,
    "start_time": "2022-02-20T20:02:19.221Z"
   },
   {
    "duration": -1357,
    "start_time": "2022-02-20T20:02:19.226Z"
   },
   {
    "duration": -1362,
    "start_time": "2022-02-20T20:02:19.233Z"
   },
   {
    "duration": -1367,
    "start_time": "2022-02-20T20:02:19.239Z"
   },
   {
    "duration": -1371,
    "start_time": "2022-02-20T20:02:19.245Z"
   },
   {
    "duration": -1377,
    "start_time": "2022-02-20T20:02:19.252Z"
   },
   {
    "duration": -1383,
    "start_time": "2022-02-20T20:02:19.259Z"
   },
   {
    "duration": -1388,
    "start_time": "2022-02-20T20:02:19.265Z"
   },
   {
    "duration": -1394,
    "start_time": "2022-02-20T20:02:19.272Z"
   },
   {
    "duration": -1398,
    "start_time": "2022-02-20T20:02:19.277Z"
   },
   {
    "duration": -1403,
    "start_time": "2022-02-20T20:02:19.283Z"
   },
   {
    "duration": -1407,
    "start_time": "2022-02-20T20:02:19.288Z"
   },
   {
    "duration": -1412,
    "start_time": "2022-02-20T20:02:19.294Z"
   },
   {
    "duration": -1416,
    "start_time": "2022-02-20T20:02:19.299Z"
   },
   {
    "duration": -1433,
    "start_time": "2022-02-20T20:02:19.317Z"
   },
   {
    "duration": -1437,
    "start_time": "2022-02-20T20:02:19.322Z"
   },
   {
    "duration": -1445,
    "start_time": "2022-02-20T20:02:19.331Z"
   },
   {
    "duration": -1449,
    "start_time": "2022-02-20T20:02:19.337Z"
   },
   {
    "duration": -1453,
    "start_time": "2022-02-20T20:02:19.342Z"
   },
   {
    "duration": -1457,
    "start_time": "2022-02-20T20:02:19.347Z"
   },
   {
    "duration": -1460,
    "start_time": "2022-02-20T20:02:19.352Z"
   },
   {
    "duration": -1463,
    "start_time": "2022-02-20T20:02:19.357Z"
   },
   {
    "duration": -1467,
    "start_time": "2022-02-20T20:02:19.362Z"
   },
   {
    "duration": -1469,
    "start_time": "2022-02-20T20:02:19.366Z"
   },
   {
    "duration": -1476,
    "start_time": "2022-02-20T20:02:19.374Z"
   },
   {
    "duration": -1479,
    "start_time": "2022-02-20T20:02:19.378Z"
   },
   {
    "duration": -1465,
    "start_time": "2022-02-20T20:02:19.384Z"
   },
   {
    "duration": -1469,
    "start_time": "2022-02-20T20:02:19.389Z"
   },
   {
    "duration": 1280,
    "start_time": "2022-02-20T20:03:27.235Z"
   },
   {
    "duration": 3,
    "start_time": "2022-02-20T20:03:28.518Z"
   },
   {
    "duration": 116,
    "start_time": "2022-02-20T20:03:28.523Z"
   },
   {
    "duration": 42,
    "start_time": "2022-02-20T20:03:28.642Z"
   },
   {
    "duration": 54,
    "start_time": "2022-02-20T20:03:28.686Z"
   },
   {
    "duration": 125,
    "start_time": "2022-02-20T20:03:28.742Z"
   },
   {
    "duration": 17,
    "start_time": "2022-02-20T20:03:28.870Z"
   },
   {
    "duration": 91,
    "start_time": "2022-02-20T20:03:28.892Z"
   },
   {
    "duration": 32,
    "start_time": "2022-02-20T20:03:28.987Z"
   },
   {
    "duration": 42,
    "start_time": "2022-02-20T20:03:29.022Z"
   },
   {
    "duration": 11,
    "start_time": "2022-02-20T20:03:29.067Z"
   },
   {
    "duration": 169,
    "start_time": "2022-02-20T20:03:29.080Z"
   },
   {
    "duration": 12,
    "start_time": "2022-02-20T20:03:29.251Z"
   },
   {
    "duration": 175,
    "start_time": "2022-02-20T20:03:29.265Z"
   },
   {
    "duration": 10,
    "start_time": "2022-02-20T20:03:29.442Z"
   },
   {
    "duration": 14,
    "start_time": "2022-02-20T20:03:29.454Z"
   },
   {
    "duration": 22,
    "start_time": "2022-02-20T20:03:29.469Z"
   },
   {
    "duration": 30,
    "start_time": "2022-02-20T20:03:29.493Z"
   },
   {
    "duration": 29,
    "start_time": "2022-02-20T20:03:29.526Z"
   },
   {
    "duration": 11,
    "start_time": "2022-02-20T20:03:29.557Z"
   },
   {
    "duration": 9,
    "start_time": "2022-02-20T20:03:29.570Z"
   },
   {
    "duration": 45,
    "start_time": "2022-02-20T20:03:29.581Z"
   },
   {
    "duration": 11,
    "start_time": "2022-02-20T20:03:29.630Z"
   },
   {
    "duration": 20,
    "start_time": "2022-02-20T20:03:29.644Z"
   },
   {
    "duration": 12,
    "start_time": "2022-02-20T20:03:29.666Z"
   },
   {
    "duration": 55,
    "start_time": "2022-02-20T20:03:29.679Z"
   },
   {
    "duration": 13,
    "start_time": "2022-02-20T20:03:29.736Z"
   },
   {
    "duration": 8,
    "start_time": "2022-02-20T20:03:29.751Z"
   },
   {
    "duration": 9,
    "start_time": "2022-02-20T20:03:29.761Z"
   },
   {
    "duration": 61,
    "start_time": "2022-02-20T20:03:29.771Z"
   },
   {
    "duration": 3,
    "start_time": "2022-02-20T20:03:29.834Z"
   },
   {
    "duration": 617,
    "start_time": "2022-02-20T20:03:29.839Z"
   },
   {
    "duration": 60,
    "start_time": "2022-02-20T20:03:30.458Z"
   },
   {
    "duration": 26,
    "start_time": "2022-02-20T20:03:30.521Z"
   },
   {
    "duration": 75,
    "start_time": "2022-02-20T20:03:30.549Z"
   },
   {
    "duration": 4,
    "start_time": "2022-02-20T20:03:30.625Z"
   },
   {
    "duration": 10,
    "start_time": "2022-02-20T20:03:30.631Z"
   },
   {
    "duration": 477,
    "start_time": "2022-02-20T20:03:30.643Z"
   },
   {
    "duration": 520,
    "start_time": "2022-02-20T20:03:31.122Z"
   },
   {
    "duration": 386,
    "start_time": "2022-02-20T20:03:31.643Z"
   },
   {
    "duration": 689,
    "start_time": "2022-02-20T20:03:32.032Z"
   },
   {
    "duration": 18,
    "start_time": "2022-02-20T20:03:32.723Z"
   },
   {
    "duration": 406,
    "start_time": "2022-02-20T20:03:32.743Z"
   },
   {
    "duration": 86,
    "start_time": "2022-02-20T20:03:33.151Z"
   },
   {
    "duration": 217,
    "start_time": "2022-02-20T20:03:33.239Z"
   },
   {
    "duration": 23937,
    "start_time": "2022-02-20T20:03:33.458Z"
   },
   {
    "duration": 10,
    "start_time": "2022-02-20T20:03:57.397Z"
   },
   {
    "duration": 9,
    "start_time": "2022-02-20T20:03:57.419Z"
   },
   {
    "duration": 3035,
    "start_time": "2022-02-20T20:03:57.430Z"
   },
   {
    "duration": 322,
    "start_time": "2022-02-20T20:04:00.467Z"
   },
   {
    "duration": 21,
    "start_time": "2022-02-20T20:04:00.819Z"
   },
   {
    "duration": 329,
    "start_time": "2022-02-20T20:04:00.842Z"
   },
   {
    "duration": 416,
    "start_time": "2022-02-20T20:04:01.173Z"
   },
   {
    "duration": 302,
    "start_time": "2022-02-20T20:04:01.591Z"
   },
   {
    "duration": 24,
    "start_time": "2022-02-20T20:04:01.895Z"
   },
   {
    "duration": 10,
    "start_time": "2022-02-20T20:04:01.921Z"
   },
   {
    "duration": 24,
    "start_time": "2022-02-20T20:04:01.934Z"
   },
   {
    "duration": 464,
    "start_time": "2022-02-20T20:04:01.959Z"
   },
   {
    "duration": 242,
    "start_time": "2022-02-20T20:04:02.424Z"
   },
   {
    "duration": 235,
    "start_time": "2022-02-20T20:04:02.668Z"
   },
   {
    "duration": 264,
    "start_time": "2022-02-20T20:04:02.905Z"
   },
   {
    "duration": 283,
    "start_time": "2022-02-20T20:04:03.171Z"
   },
   {
    "duration": 20,
    "start_time": "2022-02-20T20:04:03.456Z"
   },
   {
    "duration": 42,
    "start_time": "2022-02-20T20:04:03.478Z"
   },
   {
    "duration": 28,
    "start_time": "2022-02-20T20:04:03.522Z"
   },
   {
    "duration": 69,
    "start_time": "2022-02-20T20:04:03.551Z"
   },
   {
    "duration": 254,
    "start_time": "2022-02-20T20:04:03.622Z"
   },
   {
    "duration": 332,
    "start_time": "2022-02-20T20:04:33.442Z"
   },
   {
    "duration": 208,
    "start_time": "2022-02-20T20:04:38.577Z"
   },
   {
    "duration": 211,
    "start_time": "2022-02-20T20:04:39.224Z"
   },
   {
    "duration": 223,
    "start_time": "2022-02-20T20:04:39.680Z"
   },
   {
    "duration": 455,
    "start_time": "2022-02-20T20:04:41.624Z"
   },
   {
    "duration": 360,
    "start_time": "2022-02-20T20:05:38.033Z"
   },
   {
    "duration": 86,
    "start_time": "2022-02-20T20:08:07.690Z"
   },
   {
    "duration": 325,
    "start_time": "2022-02-20T20:15:08.846Z"
   },
   {
    "duration": 92,
    "start_time": "2022-02-20T20:15:26.679Z"
   },
   {
    "duration": 281,
    "start_time": "2022-02-20T20:19:50.846Z"
   },
   {
    "duration": 221,
    "start_time": "2022-02-20T20:20:39.460Z"
   },
   {
    "duration": 384,
    "start_time": "2022-02-20T20:21:30.663Z"
   },
   {
    "duration": 232,
    "start_time": "2022-02-20T20:22:11.740Z"
   },
   {
    "duration": 116,
    "start_time": "2022-02-20T20:25:58.293Z"
   },
   {
    "duration": -946,
    "start_time": "2022-02-20T20:25:59.357Z"
   },
   {
    "duration": 242,
    "start_time": "2022-02-20T20:26:15.626Z"
   },
   {
    "duration": 100,
    "start_time": "2022-02-20T20:27:00.762Z"
   },
   {
    "duration": 27,
    "start_time": "2022-02-20T20:47:25.349Z"
   },
   {
    "duration": 3,
    "start_time": "2022-02-20T20:50:50.084Z"
   },
   {
    "duration": 1287,
    "start_time": "2022-02-20T21:00:32.361Z"
   },
   {
    "duration": 3,
    "start_time": "2022-02-20T21:00:33.650Z"
   },
   {
    "duration": 80,
    "start_time": "2022-02-20T21:00:33.655Z"
   },
   {
    "duration": 22,
    "start_time": "2022-02-20T21:00:33.737Z"
   },
   {
    "duration": 20,
    "start_time": "2022-02-20T21:00:33.761Z"
   },
   {
    "duration": 105,
    "start_time": "2022-02-20T21:00:33.783Z"
   },
   {
    "duration": 12,
    "start_time": "2022-02-20T21:00:33.890Z"
   },
   {
    "duration": 56,
    "start_time": "2022-02-20T21:00:33.917Z"
   },
   {
    "duration": 12,
    "start_time": "2022-02-20T21:00:33.975Z"
   },
   {
    "duration": 60,
    "start_time": "2022-02-20T21:00:33.989Z"
   },
   {
    "duration": 8,
    "start_time": "2022-02-20T21:00:34.051Z"
   },
   {
    "duration": 190,
    "start_time": "2022-02-20T21:00:34.061Z"
   },
   {
    "duration": 12,
    "start_time": "2022-02-20T21:00:34.252Z"
   },
   {
    "duration": 179,
    "start_time": "2022-02-20T21:00:34.266Z"
   },
   {
    "duration": 10,
    "start_time": "2022-02-20T21:00:34.447Z"
   },
   {
    "duration": 13,
    "start_time": "2022-02-20T21:00:34.459Z"
   },
   {
    "duration": 56,
    "start_time": "2022-02-20T21:00:34.474Z"
   },
   {
    "duration": 12,
    "start_time": "2022-02-20T21:00:34.533Z"
   },
   {
    "duration": 31,
    "start_time": "2022-02-20T21:00:34.547Z"
   },
   {
    "duration": 10,
    "start_time": "2022-02-20T21:00:34.580Z"
   },
   {
    "duration": 33,
    "start_time": "2022-02-20T21:00:34.592Z"
   },
   {
    "duration": 11,
    "start_time": "2022-02-20T21:00:34.628Z"
   },
   {
    "duration": 12,
    "start_time": "2022-02-20T21:00:34.644Z"
   },
   {
    "duration": 21,
    "start_time": "2022-02-20T21:00:34.659Z"
   },
   {
    "duration": 50,
    "start_time": "2022-02-20T21:00:34.682Z"
   },
   {
    "duration": 18,
    "start_time": "2022-02-20T21:00:34.734Z"
   },
   {
    "duration": 14,
    "start_time": "2022-02-20T21:00:34.754Z"
   },
   {
    "duration": 9,
    "start_time": "2022-02-20T21:00:34.770Z"
   },
   {
    "duration": 12,
    "start_time": "2022-02-20T21:00:34.781Z"
   },
   {
    "duration": 50,
    "start_time": "2022-02-20T21:00:34.795Z"
   },
   {
    "duration": 3,
    "start_time": "2022-02-20T21:00:34.847Z"
   },
   {
    "duration": 746,
    "start_time": "2022-02-20T21:00:34.852Z"
   },
   {
    "duration": 18,
    "start_time": "2022-02-20T21:00:35.600Z"
   },
   {
    "duration": 34,
    "start_time": "2022-02-20T21:00:35.621Z"
   },
   {
    "duration": 23,
    "start_time": "2022-02-20T21:00:35.657Z"
   },
   {
    "duration": 4,
    "start_time": "2022-02-20T21:00:35.682Z"
   },
   {
    "duration": 46,
    "start_time": "2022-02-20T21:00:35.688Z"
   },
   {
    "duration": 240,
    "start_time": "2022-02-20T21:00:35.736Z"
   },
   {
    "duration": 317,
    "start_time": "2022-02-20T21:00:35.978Z"
   },
   {
    "duration": 250,
    "start_time": "2022-02-20T21:00:36.297Z"
   },
   {
    "duration": 492,
    "start_time": "2022-02-20T21:00:36.549Z"
   },
   {
    "duration": 18,
    "start_time": "2022-02-20T21:00:37.043Z"
   },
   {
    "duration": 361,
    "start_time": "2022-02-20T21:00:37.063Z"
   },
   {
    "duration": 33,
    "start_time": "2022-02-20T21:00:37.427Z"
   },
   {
    "duration": 99,
    "start_time": "2022-02-20T21:00:37.462Z"
   },
   {
    "duration": 9,
    "start_time": "2022-02-20T21:00:37.563Z"
   },
   {
    "duration": 15,
    "start_time": "2022-02-20T21:00:37.574Z"
   },
   {
    "duration": 3595,
    "start_time": "2022-02-20T21:00:37.591Z"
   },
   {
    "duration": 277,
    "start_time": "2022-02-20T21:00:41.188Z"
   },
   {
    "duration": 15,
    "start_time": "2022-02-20T21:00:41.467Z"
   },
   {
    "duration": 371,
    "start_time": "2022-02-20T21:00:41.484Z"
   },
   {
    "duration": 436,
    "start_time": "2022-02-20T21:00:41.856Z"
   },
   {
    "duration": 919,
    "start_time": "2022-02-20T21:00:42.294Z"
   },
   {
    "duration": 22,
    "start_time": "2022-02-20T21:00:43.215Z"
   },
   {
    "duration": 194,
    "start_time": "2022-02-20T21:00:43.239Z"
   },
   {
    "duration": 106,
    "start_time": "2022-02-20T21:00:43.436Z"
   },
   {
    "duration": 463,
    "start_time": "2022-02-20T21:00:43.545Z"
   },
   {
    "duration": 253,
    "start_time": "2022-02-20T21:00:44.012Z"
   },
   {
    "duration": 242,
    "start_time": "2022-02-20T21:00:44.267Z"
   },
   {
    "duration": 264,
    "start_time": "2022-02-20T21:00:44.511Z"
   },
   {
    "duration": 281,
    "start_time": "2022-02-20T21:00:44.776Z"
   },
   {
    "duration": 91,
    "start_time": "2022-02-20T21:00:45.059Z"
   },
   {
    "duration": -928,
    "start_time": "2022-02-20T21:00:46.080Z"
   },
   {
    "duration": -930,
    "start_time": "2022-02-20T21:00:46.084Z"
   },
   {
    "duration": -934,
    "start_time": "2022-02-20T21:00:46.088Z"
   },
   {
    "duration": -936,
    "start_time": "2022-02-20T21:00:46.092Z"
   },
   {
    "duration": -945,
    "start_time": "2022-02-20T21:00:46.102Z"
   },
   {
    "duration": 630,
    "start_time": "2022-02-20T21:04:45.484Z"
   },
   {
    "duration": 539,
    "start_time": "2022-02-20T21:04:53.244Z"
   },
   {
    "duration": 92,
    "start_time": "2022-02-20T21:05:20.526Z"
   },
   {
    "duration": 4,
    "start_time": "2022-02-20T21:08:28.076Z"
   },
   {
    "duration": 88,
    "start_time": "2022-02-20T21:08:28.916Z"
   },
   {
    "duration": 92,
    "start_time": "2022-02-20T21:08:33.635Z"
   },
   {
    "duration": 12,
    "start_time": "2022-02-20T21:09:10.812Z"
   },
   {
    "duration": 13,
    "start_time": "2022-02-20T21:09:20.635Z"
   },
   {
    "duration": 15,
    "start_time": "2022-02-20T21:09:30.076Z"
   },
   {
    "duration": 7412,
    "start_time": "2022-02-20T21:10:08.754Z"
   },
   {
    "duration": -946,
    "start_time": "2022-02-20T21:10:17.115Z"
   },
   {
    "duration": 12,
    "start_time": "2022-02-20T21:10:19.804Z"
   },
   {
    "duration": 20,
    "start_time": "2022-02-20T21:10:21.523Z"
   },
   {
    "duration": 13,
    "start_time": "2022-02-20T21:10:24.043Z"
   },
   {
    "duration": 3,
    "start_time": "2022-02-20T21:13:15.658Z"
   },
   {
    "duration": 111,
    "start_time": "2022-02-20T21:13:56.458Z"
   },
   {
    "duration": 81,
    "start_time": "2022-02-20T21:20:18.135Z"
   },
   {
    "duration": 11,
    "start_time": "2022-02-20T21:21:01.929Z"
   },
   {
    "duration": 7186,
    "start_time": "2022-02-20T21:21:28.063Z"
   },
   {
    "duration": -929,
    "start_time": "2022-02-20T21:21:57.079Z"
   },
   {
    "duration": 17,
    "start_time": "2022-02-20T21:22:00.772Z"
   },
   {
    "duration": 5,
    "start_time": "2022-02-20T21:24:41.751Z"
   },
   {
    "duration": 16,
    "start_time": "2022-02-20T21:24:44.894Z"
   },
   {
    "duration": 90,
    "start_time": "2022-02-20T21:25:48.591Z"
   },
   {
    "duration": 85,
    "start_time": "2022-02-20T21:26:12.599Z"
   },
   {
    "duration": 8,
    "start_time": "2022-02-20T21:29:36.973Z"
   },
   {
    "duration": 84,
    "start_time": "2022-02-20T21:30:04.834Z"
   },
   {
    "duration": 8,
    "start_time": "2022-02-20T21:30:08.605Z"
   },
   {
    "duration": 329,
    "start_time": "2022-02-20T21:30:30.966Z"
   },
   {
    "duration": 274,
    "start_time": "2022-02-20T21:30:35.781Z"
   },
   {
    "duration": 401,
    "start_time": "2022-02-20T21:30:40.085Z"
   },
   {
    "duration": 299,
    "start_time": "2022-02-20T21:30:58.460Z"
   },
   {
    "duration": 8,
    "start_time": "2022-02-20T21:31:02.573Z"
   },
   {
    "duration": 4,
    "start_time": "2022-02-20T21:32:20.037Z"
   },
   {
    "duration": 5,
    "start_time": "2022-02-20T21:32:29.908Z"
   },
   {
    "duration": 245,
    "start_time": "2022-02-20T21:32:48.940Z"
   },
   {
    "duration": 87,
    "start_time": "2022-02-20T21:32:58.676Z"
   },
   {
    "duration": 297,
    "start_time": "2022-02-20T21:33:07.691Z"
   },
   {
    "duration": 95,
    "start_time": "2022-02-20T21:33:14.940Z"
   },
   {
    "duration": 4,
    "start_time": "2022-02-20T21:33:21.564Z"
   },
   {
    "duration": 84,
    "start_time": "2022-02-20T21:34:37.555Z"
   },
   {
    "duration": 84,
    "start_time": "2022-02-20T21:34:41.675Z"
   },
   {
    "duration": 3,
    "start_time": "2022-02-20T21:34:47.029Z"
   },
   {
    "duration": 302,
    "start_time": "2022-02-20T21:35:37.924Z"
   },
   {
    "duration": 88,
    "start_time": "2022-02-20T21:35:53.595Z"
   },
   {
    "duration": 283,
    "start_time": "2022-02-20T21:36:10.082Z"
   },
   {
    "duration": 249,
    "start_time": "2022-02-20T21:36:25.827Z"
   },
   {
    "duration": 351,
    "start_time": "2022-02-20T21:36:30.970Z"
   },
   {
    "duration": 279,
    "start_time": "2022-02-20T21:36:36.674Z"
   },
   {
    "duration": 241,
    "start_time": "2022-02-20T21:37:05.772Z"
   },
   {
    "duration": 412,
    "start_time": "2022-02-20T21:37:09.411Z"
   },
   {
    "duration": 260,
    "start_time": "2022-02-20T21:37:30.404Z"
   },
   {
    "duration": 249,
    "start_time": "2022-02-20T21:38:29.314Z"
   },
   {
    "duration": 277,
    "start_time": "2022-02-20T21:38:33.842Z"
   },
   {
    "duration": 249,
    "start_time": "2022-02-20T21:38:37.963Z"
   },
   {
    "duration": 262,
    "start_time": "2022-02-20T21:38:45.138Z"
   },
   {
    "duration": 324,
    "start_time": "2022-02-20T21:39:02.322Z"
   },
   {
    "duration": 86,
    "start_time": "2022-02-20T21:39:14.890Z"
   },
   {
    "duration": 248,
    "start_time": "2022-02-20T21:39:17.562Z"
   },
   {
    "duration": 249,
    "start_time": "2022-02-20T21:39:23.218Z"
   },
   {
    "duration": 87,
    "start_time": "2022-02-20T21:41:34.845Z"
   },
   {
    "duration": 251,
    "start_time": "2022-02-20T21:41:43.394Z"
   },
   {
    "duration": 269,
    "start_time": "2022-02-20T21:41:48.678Z"
   },
   {
    "duration": 1264,
    "start_time": "2022-02-20T21:42:01.240Z"
   },
   {
    "duration": 3,
    "start_time": "2022-02-20T21:42:02.506Z"
   },
   {
    "duration": 79,
    "start_time": "2022-02-20T21:42:02.511Z"
   },
   {
    "duration": 34,
    "start_time": "2022-02-20T21:42:02.592Z"
   },
   {
    "duration": 21,
    "start_time": "2022-02-20T21:42:02.629Z"
   },
   {
    "duration": 93,
    "start_time": "2022-02-20T21:42:02.652Z"
   },
   {
    "duration": 13,
    "start_time": "2022-02-20T21:42:02.747Z"
   },
   {
    "duration": 69,
    "start_time": "2022-02-20T21:42:02.763Z"
   },
   {
    "duration": 13,
    "start_time": "2022-02-20T21:42:02.835Z"
   },
   {
    "duration": 29,
    "start_time": "2022-02-20T21:42:02.850Z"
   },
   {
    "duration": 8,
    "start_time": "2022-02-20T21:42:02.880Z"
   },
   {
    "duration": 154,
    "start_time": "2022-02-20T21:42:02.919Z"
   },
   {
    "duration": 11,
    "start_time": "2022-02-20T21:42:03.075Z"
   },
   {
    "duration": 174,
    "start_time": "2022-02-20T21:42:03.089Z"
   },
   {
    "duration": 11,
    "start_time": "2022-02-20T21:42:03.265Z"
   },
   {
    "duration": 16,
    "start_time": "2022-02-20T21:42:03.278Z"
   },
   {
    "duration": 41,
    "start_time": "2022-02-20T21:42:03.296Z"
   },
   {
    "duration": 10,
    "start_time": "2022-02-20T21:42:03.339Z"
   },
   {
    "duration": 36,
    "start_time": "2022-02-20T21:42:03.350Z"
   },
   {
    "duration": 32,
    "start_time": "2022-02-20T21:42:03.387Z"
   },
   {
    "duration": 9,
    "start_time": "2022-02-20T21:42:03.421Z"
   },
   {
    "duration": 8,
    "start_time": "2022-02-20T21:42:03.432Z"
   },
   {
    "duration": 11,
    "start_time": "2022-02-20T21:42:03.445Z"
   },
   {
    "duration": 61,
    "start_time": "2022-02-20T21:42:03.459Z"
   },
   {
    "duration": 11,
    "start_time": "2022-02-20T21:42:03.522Z"
   },
   {
    "duration": 18,
    "start_time": "2022-02-20T21:42:03.534Z"
   },
   {
    "duration": 13,
    "start_time": "2022-02-20T21:42:03.553Z"
   },
   {
    "duration": 8,
    "start_time": "2022-02-20T21:42:03.568Z"
   },
   {
    "duration": 6,
    "start_time": "2022-02-20T21:42:03.577Z"
   },
   {
    "duration": 50,
    "start_time": "2022-02-20T21:42:03.585Z"
   },
   {
    "duration": 6,
    "start_time": "2022-02-20T21:42:03.637Z"
   },
   {
    "duration": 527,
    "start_time": "2022-02-20T21:42:03.645Z"
   },
   {
    "duration": 6,
    "start_time": "2022-02-20T21:42:04.174Z"
   },
   {
    "duration": 25,
    "start_time": "2022-02-20T21:42:04.182Z"
   },
   {
    "duration": 24,
    "start_time": "2022-02-20T21:42:04.218Z"
   },
   {
    "duration": 3,
    "start_time": "2022-02-20T21:42:04.244Z"
   },
   {
    "duration": 23,
    "start_time": "2022-02-20T21:42:04.249Z"
   },
   {
    "duration": 218,
    "start_time": "2022-02-20T21:42:04.273Z"
   },
   {
    "duration": 283,
    "start_time": "2022-02-20T21:42:04.492Z"
   },
   {
    "duration": 231,
    "start_time": "2022-02-20T21:42:04.777Z"
   },
   {
    "duration": 289,
    "start_time": "2022-02-20T21:42:05.009Z"
   },
   {
    "duration": 28,
    "start_time": "2022-02-20T21:42:05.300Z"
   },
   {
    "duration": 206,
    "start_time": "2022-02-20T21:42:05.330Z"
   },
   {
    "duration": 30,
    "start_time": "2022-02-20T21:42:05.539Z"
   },
   {
    "duration": 3,
    "start_time": "2022-02-20T21:42:05.572Z"
   },
   {
    "duration": 15,
    "start_time": "2022-02-20T21:42:05.577Z"
   },
   {
    "duration": 36,
    "start_time": "2022-02-20T21:42:05.595Z"
   },
   {
    "duration": 87,
    "start_time": "2022-02-20T21:42:05.634Z"
   },
   {
    "duration": -964,
    "start_time": "2022-02-20T21:42:06.687Z"
   },
   {
    "duration": -967,
    "start_time": "2022-02-20T21:42:06.691Z"
   },
   {
    "duration": -972,
    "start_time": "2022-02-20T21:42:06.697Z"
   },
   {
    "duration": -975,
    "start_time": "2022-02-20T21:42:06.701Z"
   },
   {
    "duration": -977,
    "start_time": "2022-02-20T21:42:06.705Z"
   },
   {
    "duration": -980,
    "start_time": "2022-02-20T21:42:06.709Z"
   },
   {
    "duration": -983,
    "start_time": "2022-02-20T21:42:06.714Z"
   },
   {
    "duration": -986,
    "start_time": "2022-02-20T21:42:06.718Z"
   },
   {
    "duration": -990,
    "start_time": "2022-02-20T21:42:06.722Z"
   },
   {
    "duration": -993,
    "start_time": "2022-02-20T21:42:06.727Z"
   },
   {
    "duration": -996,
    "start_time": "2022-02-20T21:42:06.731Z"
   },
   {
    "duration": -999,
    "start_time": "2022-02-20T21:42:06.735Z"
   },
   {
    "duration": -1003,
    "start_time": "2022-02-20T21:42:06.740Z"
   },
   {
    "duration": -1006,
    "start_time": "2022-02-20T21:42:06.744Z"
   },
   {
    "duration": -1010,
    "start_time": "2022-02-20T21:42:06.749Z"
   },
   {
    "duration": -1013,
    "start_time": "2022-02-20T21:42:06.753Z"
   },
   {
    "duration": -1015,
    "start_time": "2022-02-20T21:42:06.757Z"
   },
   {
    "duration": -1066,
    "start_time": "2022-02-20T21:42:06.809Z"
   },
   {
    "duration": -1073,
    "start_time": "2022-02-20T21:42:06.817Z"
   },
   {
    "duration": -1076,
    "start_time": "2022-02-20T21:42:06.822Z"
   },
   {
    "duration": -1081,
    "start_time": "2022-02-20T21:42:06.828Z"
   },
   {
    "duration": 4,
    "start_time": "2022-02-20T21:44:19.870Z"
   },
   {
    "duration": 98,
    "start_time": "2022-02-20T21:44:28.781Z"
   },
   {
    "duration": 5,
    "start_time": "2022-02-20T21:44:33.628Z"
   },
   {
    "duration": 92,
    "start_time": "2022-02-20T21:45:00.406Z"
   },
   {
    "duration": 13,
    "start_time": "2022-02-20T21:45:06.461Z"
   },
   {
    "duration": 14,
    "start_time": "2022-02-20T21:50:14.316Z"
   },
   {
    "duration": 7092,
    "start_time": "2022-02-20T21:53:04.578Z"
   },
   {
    "duration": 20,
    "start_time": "2022-02-20T21:53:20.924Z"
   },
   {
    "duration": 20,
    "start_time": "2022-02-20T21:53:37.426Z"
   },
   {
    "duration": 74,
    "start_time": "2022-02-20T21:58:43.250Z"
   },
   {
    "duration": 82,
    "start_time": "2022-02-20T21:59:41.946Z"
   },
   {
    "duration": 1290,
    "start_time": "2022-02-20T21:59:49.441Z"
   },
   {
    "duration": 4,
    "start_time": "2022-02-20T21:59:50.736Z"
   },
   {
    "duration": 98,
    "start_time": "2022-02-20T21:59:50.742Z"
   },
   {
    "duration": 25,
    "start_time": "2022-02-20T21:59:50.842Z"
   },
   {
    "duration": 20,
    "start_time": "2022-02-20T21:59:50.868Z"
   },
   {
    "duration": 94,
    "start_time": "2022-02-20T21:59:50.890Z"
   },
   {
    "duration": 11,
    "start_time": "2022-02-20T21:59:50.987Z"
   },
   {
    "duration": 65,
    "start_time": "2022-02-20T21:59:51.000Z"
   },
   {
    "duration": 13,
    "start_time": "2022-02-20T21:59:51.067Z"
   },
   {
    "duration": 62,
    "start_time": "2022-02-20T21:59:51.082Z"
   },
   {
    "duration": 10,
    "start_time": "2022-02-20T21:59:51.146Z"
   },
   {
    "duration": 169,
    "start_time": "2022-02-20T21:59:51.158Z"
   },
   {
    "duration": 13,
    "start_time": "2022-02-20T21:59:51.329Z"
   },
   {
    "duration": 176,
    "start_time": "2022-02-20T21:59:51.344Z"
   },
   {
    "duration": 13,
    "start_time": "2022-02-20T21:59:51.522Z"
   },
   {
    "duration": 18,
    "start_time": "2022-02-20T21:59:51.536Z"
   },
   {
    "duration": 25,
    "start_time": "2022-02-20T21:59:51.556Z"
   },
   {
    "duration": 38,
    "start_time": "2022-02-20T21:59:51.583Z"
   },
   {
    "duration": 57,
    "start_time": "2022-02-20T21:59:51.623Z"
   },
   {
    "duration": 18,
    "start_time": "2022-02-20T21:59:51.682Z"
   },
   {
    "duration": 31,
    "start_time": "2022-02-20T21:59:51.702Z"
   },
   {
    "duration": 17,
    "start_time": "2022-02-20T21:59:51.737Z"
   },
   {
    "duration": 14,
    "start_time": "2022-02-20T21:59:51.757Z"
   },
   {
    "duration": 44,
    "start_time": "2022-02-20T21:59:51.773Z"
   },
   {
    "duration": 38,
    "start_time": "2022-02-20T21:59:51.819Z"
   },
   {
    "duration": 34,
    "start_time": "2022-02-20T21:59:51.859Z"
   },
   {
    "duration": 20,
    "start_time": "2022-02-20T21:59:51.895Z"
   },
   {
    "duration": 22,
    "start_time": "2022-02-20T21:59:51.917Z"
   },
   {
    "duration": 28,
    "start_time": "2022-02-20T21:59:51.941Z"
   },
   {
    "duration": 53,
    "start_time": "2022-02-20T21:59:51.971Z"
   },
   {
    "duration": 16,
    "start_time": "2022-02-20T21:59:52.026Z"
   },
   {
    "duration": 601,
    "start_time": "2022-02-20T21:59:52.044Z"
   },
   {
    "duration": 6,
    "start_time": "2022-02-20T21:59:52.647Z"
   },
   {
    "duration": 54,
    "start_time": "2022-02-20T21:59:52.654Z"
   },
   {
    "duration": 29,
    "start_time": "2022-02-20T21:59:52.710Z"
   },
   {
    "duration": 14,
    "start_time": "2022-02-20T21:59:52.741Z"
   },
   {
    "duration": 22,
    "start_time": "2022-02-20T21:59:52.757Z"
   },
   {
    "duration": 223,
    "start_time": "2022-02-20T21:59:52.781Z"
   },
   {
    "duration": 291,
    "start_time": "2022-02-20T21:59:53.006Z"
   },
   {
    "duration": 232,
    "start_time": "2022-02-20T21:59:53.299Z"
   },
   {
    "duration": 230,
    "start_time": "2022-02-20T21:59:53.533Z"
   },
   {
    "duration": 16,
    "start_time": "2022-02-20T21:59:53.765Z"
   },
   {
    "duration": 217,
    "start_time": "2022-02-20T21:59:53.783Z"
   },
   {
    "duration": 40,
    "start_time": "2022-02-20T21:59:54.001Z"
   },
   {
    "duration": 82,
    "start_time": "2022-02-20T21:59:54.043Z"
   },
   {
    "duration": 20,
    "start_time": "2022-02-20T21:59:54.127Z"
   },
   {
    "duration": 9,
    "start_time": "2022-02-20T21:59:54.149Z"
   },
   {
    "duration": 17,
    "start_time": "2022-02-20T21:59:54.160Z"
   },
   {
    "duration": 3168,
    "start_time": "2022-02-20T21:59:54.180Z"
   },
   {
    "duration": 248,
    "start_time": "2022-02-20T21:59:57.350Z"
   },
   {
    "duration": 20,
    "start_time": "2022-02-20T21:59:57.600Z"
   },
   {
    "duration": 329,
    "start_time": "2022-02-20T21:59:57.621Z"
   },
   {
    "duration": 398,
    "start_time": "2022-02-20T21:59:57.952Z"
   },
   {
    "duration": 432,
    "start_time": "2022-02-20T21:59:58.352Z"
   },
   {
    "duration": 12,
    "start_time": "2022-02-20T21:59:58.786Z"
   },
   {
    "duration": 22,
    "start_time": "2022-02-20T21:59:58.800Z"
   },
   {
    "duration": 9,
    "start_time": "2022-02-20T21:59:58.824Z"
   },
   {
    "duration": 505,
    "start_time": "2022-02-20T21:59:58.835Z"
   },
   {
    "duration": 234,
    "start_time": "2022-02-20T21:59:59.342Z"
   },
   {
    "duration": 227,
    "start_time": "2022-02-20T21:59:59.578Z"
   },
   {
    "duration": 253,
    "start_time": "2022-02-20T21:59:59.807Z"
   },
   {
    "duration": 605,
    "start_time": "2022-02-20T22:00:00.063Z"
   },
   {
    "duration": 51,
    "start_time": "2022-02-20T22:00:00.670Z"
   },
   {
    "duration": 37,
    "start_time": "2022-02-20T22:00:00.723Z"
   },
   {
    "duration": 74,
    "start_time": "2022-02-20T22:00:00.762Z"
   },
   {
    "duration": 272,
    "start_time": "2022-02-20T22:00:00.838Z"
   },
   {
    "duration": 76,
    "start_time": "2022-02-21T19:10:28.780Z"
   },
   {
    "duration": 1201,
    "start_time": "2022-02-21T19:14:00.107Z"
   },
   {
    "duration": 3,
    "start_time": "2022-02-21T19:14:01.311Z"
   },
   {
    "duration": 85,
    "start_time": "2022-02-21T19:14:01.316Z"
   },
   {
    "duration": 25,
    "start_time": "2022-02-21T19:14:01.407Z"
   },
   {
    "duration": 22,
    "start_time": "2022-02-21T19:14:01.433Z"
   },
   {
    "duration": 104,
    "start_time": "2022-02-21T19:14:01.457Z"
   },
   {
    "duration": 13,
    "start_time": "2022-02-21T19:14:01.564Z"
   },
   {
    "duration": 76,
    "start_time": "2022-02-21T19:14:01.579Z"
   },
   {
    "duration": 13,
    "start_time": "2022-02-21T19:14:01.659Z"
   },
   {
    "duration": 54,
    "start_time": "2022-02-21T19:14:01.676Z"
   },
   {
    "duration": 9,
    "start_time": "2022-02-21T19:14:01.732Z"
   },
   {
    "duration": 166,
    "start_time": "2022-02-21T19:14:01.743Z"
   },
   {
    "duration": 12,
    "start_time": "2022-02-21T19:14:01.912Z"
   },
   {
    "duration": 195,
    "start_time": "2022-02-21T19:14:01.926Z"
   },
   {
    "duration": 12,
    "start_time": "2022-02-21T19:14:02.123Z"
   },
   {
    "duration": 14,
    "start_time": "2022-02-21T19:14:02.138Z"
   },
   {
    "duration": 34,
    "start_time": "2022-02-21T19:14:02.154Z"
   },
   {
    "duration": 23,
    "start_time": "2022-02-21T19:14:02.190Z"
   },
   {
    "duration": 46,
    "start_time": "2022-02-21T19:14:02.216Z"
   },
   {
    "duration": 12,
    "start_time": "2022-02-21T19:14:02.264Z"
   },
   {
    "duration": 17,
    "start_time": "2022-02-21T19:14:02.278Z"
   },
   {
    "duration": 14,
    "start_time": "2022-02-21T19:14:02.298Z"
   },
   {
    "duration": 20,
    "start_time": "2022-02-21T19:14:02.314Z"
   },
   {
    "duration": 27,
    "start_time": "2022-02-21T19:14:02.336Z"
   },
   {
    "duration": 12,
    "start_time": "2022-02-21T19:14:02.366Z"
   },
   {
    "duration": 44,
    "start_time": "2022-02-21T19:14:02.381Z"
   },
   {
    "duration": 15,
    "start_time": "2022-02-21T19:14:02.431Z"
   },
   {
    "duration": 28,
    "start_time": "2022-02-21T19:14:02.450Z"
   },
   {
    "duration": 13,
    "start_time": "2022-02-21T19:14:02.480Z"
   },
   {
    "duration": 35,
    "start_time": "2022-02-21T19:14:02.495Z"
   },
   {
    "duration": 14,
    "start_time": "2022-02-21T19:14:02.532Z"
   },
   {
    "duration": 569,
    "start_time": "2022-02-21T19:14:02.548Z"
   },
   {
    "duration": 7,
    "start_time": "2022-02-21T19:14:03.119Z"
   },
   {
    "duration": 32,
    "start_time": "2022-02-21T19:14:03.129Z"
   },
   {
    "duration": 23,
    "start_time": "2022-02-21T19:14:03.163Z"
   },
   {
    "duration": 29,
    "start_time": "2022-02-21T19:14:03.188Z"
   },
   {
    "duration": 25,
    "start_time": "2022-02-21T19:14:03.219Z"
   },
   {
    "duration": 217,
    "start_time": "2022-02-21T19:14:03.246Z"
   },
   {
    "duration": 304,
    "start_time": "2022-02-21T19:14:03.465Z"
   },
   {
    "duration": 241,
    "start_time": "2022-02-21T19:14:03.771Z"
   },
   {
    "duration": 220,
    "start_time": "2022-02-21T19:14:04.015Z"
   },
   {
    "duration": 17,
    "start_time": "2022-02-21T19:14:04.237Z"
   },
   {
    "duration": 305,
    "start_time": "2022-02-21T19:14:04.257Z"
   },
   {
    "duration": 29,
    "start_time": "2022-02-21T19:14:04.563Z"
   },
   {
    "duration": 89,
    "start_time": "2022-02-21T19:14:04.595Z"
   },
   {
    "duration": 39,
    "start_time": "2022-02-21T19:14:04.686Z"
   },
   {
    "duration": 12,
    "start_time": "2022-02-21T19:14:04.727Z"
   },
   {
    "duration": 10,
    "start_time": "2022-02-21T19:14:04.741Z"
   },
   {
    "duration": 2853,
    "start_time": "2022-02-21T19:14:04.754Z"
   },
   {
    "duration": 268,
    "start_time": "2022-02-21T19:14:07.609Z"
   },
   {
    "duration": 28,
    "start_time": "2022-02-21T19:14:07.880Z"
   },
   {
    "duration": 330,
    "start_time": "2022-02-21T19:14:07.911Z"
   },
   {
    "duration": 421,
    "start_time": "2022-02-21T19:14:08.244Z"
   },
   {
    "duration": 409,
    "start_time": "2022-02-21T19:14:08.668Z"
   },
   {
    "duration": 12,
    "start_time": "2022-02-21T19:14:09.079Z"
   },
   {
    "duration": 10,
    "start_time": "2022-02-21T19:14:09.107Z"
   },
   {
    "duration": 12,
    "start_time": "2022-02-21T19:14:09.119Z"
   },
   {
    "duration": 466,
    "start_time": "2022-02-21T19:14:09.134Z"
   },
   {
    "duration": 254,
    "start_time": "2022-02-21T19:14:09.602Z"
   },
   {
    "duration": 255,
    "start_time": "2022-02-21T19:14:09.858Z"
   },
   {
    "duration": 269,
    "start_time": "2022-02-21T19:14:10.115Z"
   },
   {
    "duration": 284,
    "start_time": "2022-02-21T19:14:10.386Z"
   },
   {
    "duration": 18,
    "start_time": "2022-02-21T19:14:10.672Z"
   },
   {
    "duration": 27,
    "start_time": "2022-02-21T19:14:10.708Z"
   },
   {
    "duration": 48,
    "start_time": "2022-02-21T19:14:10.737Z"
   },
   {
    "duration": 272,
    "start_time": "2022-02-21T19:14:10.808Z"
   }
  ],
  "kernelspec": {
   "display_name": "Python 3 (ipykernel)",
   "language": "python",
   "name": "python3"
  },
  "language_info": {
   "codemirror_mode": {
    "name": "ipython",
    "version": 3
   },
   "file_extension": ".py",
   "mimetype": "text/x-python",
   "name": "python",
   "nbconvert_exporter": "python",
   "pygments_lexer": "ipython3",
   "version": "3.9.12"
  },
  "toc": {
   "base_numbering": 1,
   "nav_menu": {},
   "number_sections": true,
   "sideBar": true,
   "skip_h1_title": true,
   "title_cell": "Содержание",
   "title_sidebar": "Contents",
   "toc_cell": true,
   "toc_position": {
    "height": "calc(100% - 180px)",
    "left": "10px",
    "top": "150px",
    "width": "164.991px"
   },
   "toc_section_display": true,
   "toc_window_display": true
  }
 },
 "nbformat": 4,
 "nbformat_minor": 2
}
